{
 "cells": [
  {
   "cell_type": "code",
   "execution_count": null,
   "metadata": {},
   "outputs": [],
   "source": [
    "# The Cournot Model\n"
   ]
  },
  {
   "cell_type": "code",
   "execution_count": null,
   "metadata": {},
   "outputs": [],
   "source": [
    "In this project we will analyze the traditionel Cournot model, known from lectures at the Micro 1,2 and 3. In a Cournot the firms competes in quantities thereby choosing the quantites taken into account the best response of the other firms to that quantity. Firstly, we will present the settings of the model followed by a analytic solution. Then we will simplify the settings and analyze a numerical case and examine how the numerical case is affected by the number of firms."
   ]
  },
  {
   "cell_type": "code",
   "execution_count": 43,
   "metadata": {},
   "outputs": [],
   "source": [
    "# autoreload modules when code is run\n",
    "%reload_ext autoreload\n",
    "%autoreload 2\n",
    "\n",
    "# Importing useful packages e\n",
    "import numpy as np\n",
    "import scipy as sp\n",
    "import sympy as sm\n",
    "import matplotlib.pyplot as plt\n",
    "import ipywidgets as widgets\n",
    "import pylab\n",
    "\n",
    "from ipywidgets import interact, interactive, fixed, interact_manual\n",
    "\n",
    "import modelproject_B as mpy\n",
    "\n",
    "# Er nedenstående nødvendige?\n",
    "from numpy import array\n",
    "from scipy import linalg\n",
    "from scipy import optimize\n",
    "\n",
    "# Sympy package helps writing  \n",
    "\n",
    "sm.init_printing(use_unicode=True)\n",
    "\n",
    "from sympy import *"
   ]
  },
  {
   "cell_type": "code",
   "execution_count": null,
   "metadata": {},
   "outputs": [],
   "source": [
    "## The setting of the model:\n",
    "\n",
    "We examine a market with $N$ firms, whom produce the same homogenous good. Furthermore we assume that the aggregate demand of the good $x$ is linearly given by:\n",
    "$$p(x)=c-x$$\n",
    "Every firm $i$ has a costfunction given by:\n",
    "$$C(x_i)=k*x_i^2$$ where the aggregate quantity in the market is given as:\n",
    "$$x=\\sum_{j=0}^N(x_j)$$\n",
    "\n",
    "We then have that firm $i$ wish to maximize his profitfunction given by:\n",
    "$$\\underset{x_i}{max}: p(\\sum_{j=0}^Nx_j)x_i)-C(x_i) =p(x)x_i-C(x_i)$$\n",
    "\n",
    "So we have that firm $i$ is going to choose how much to produce given what the other firms in the market produces. It is intuitively that for  $N \\rightarrow \\infty$ \n",
    "this modelsetup describes the setting of perfect competition. Futhermore it is intuitive to imagine that for $N\\rightarrow 1$ \n",
    "the setting describes a monopolistic competition situation. These two outer cases will be examized later in the project."
   ]
  },
  {
   "cell_type": "markdown",
   "metadata": {},
   "source": [
    "## Analytical Solution for 2 firms\n",
    "\n",
    "We will now examine the analytical solution for only 2 firms  (A and B) competiting. We assume that firm a has a cost function given by: $C_A=\\frac{k}{2}*x_a^3$. The cost function of firm b: $C_B=k*x_b^2$. "
   ]
  },
  {
   "cell_type": "code",
   "execution_count": 44,
   "metadata": {},
   "outputs": [],
   "source": [
    "# Defining the elements in the firms choice\n",
    "\n",
    "a = sm.symbols('a')\n",
    "b = sm.symbols('b')\n",
    "qa, qb = sm.symbols('q_a q_b') \n",
    "k = sm.symbols('k')"
   ]
  },
  {
   "cell_type": "code",
   "execution_count": 45,
   "metadata": {},
   "outputs": [],
   "source": [
    "# We start by defining the linear demand function:\n",
    "def p_total(qa,qb,a,b):\n",
    "    return (a-b*(qa+qb))\n",
    "\n",
    "#Defining the cost function of firm A:\n",
    "def c_A(qa,k):\n",
    "    return (k*qa**2)\n",
    "\n",
    "#Defining the cost function of firm B:\n",
    "def c_B(qb,k):\n",
    "    return (k*qb**2)\n",
    "\n",
    "#The profitfunction of firm A:\n",
    "def profit_A(qa,qb,a,b,k):\n",
    "    return (p_total(qa,qb,a,b) * qa - c_A(qa,k))\n",
    "    \n",
    "#The profitfunction of firm B:\n",
    "def profit_B(qa,qb,a,b,k):\n",
    "    return (p_total(qa,qb,a,b) * qb - c_B(qb,k))"
   ]
  },
  {
   "cell_type": "code",
   "execution_count": 46,
   "metadata": {},
   "outputs": [
    {
     "output_type": "display_data",
     "data": {
      "text/plain": "a - b⋅qₐ - b⋅(qₐ + q_b) - 2⋅k⋅qₐ",
      "image/png": "[encoded data removed]",
      "text/latex": "$\\displaystyle a - b q_{a} - b \\left(q_{a} + q_{b}\\right) - 2 k q_{a}$"
     },
     "metadata": {}
    },
    {
     "output_type": "display_data",
     "data": {
      "text/plain": "a - b⋅q_b - b⋅(qₐ + q_b) - 2⋅k⋅q_b",
      "image/png": "[encoded data removed]",
      "text/latex": "$\\displaystyle a - b q_{b} - b \\left(q_{a} + q_{b}\\right) - 2 k q_{b}$"
     },
     "metadata": {}
    }
   ],
   "source": [
    "#We will now find the derivative, for which we will use to find the best response functions\n",
    "\n",
    "foc_a = diff(profit_A(qa,qb,a,b,k),qa)\n",
    "foc_b = diff(profit_B(qa,qb,a,b,k),qb)\n",
    "display(foc_a,foc_b)"
   ]
  },
  {
   "cell_type": "code",
   "execution_count": 47,
   "metadata": {},
   "outputs": [
    {
     "output_type": "stream",
     "name": "stdout",
     "text": "\n Firm A's best response is given by: q_a = (a - b*q_b)/(2*(b + k)) and firm B's best response is given by: q_b =(a - b*q_a)/(2*(b + k))\n"
    }
   ],
   "source": [
    "#We find the best responsefunctions by isolating respectively qa and qb in the above found derivatives\n",
    "sola = sm.solve(sm.Eq(foc_a,0),qa)[0]\n",
    "solb = sm.solve(sm.Eq(foc_b,0),qb)[0]\n",
    "#solb\n",
    "print(\"\\n Firm A's best response is given by: q_a = \" + str(sola) + \" and firm B's best response is given by: q_b =\" + str(solb) )"
   ]
  },
  {
   "cell_type": "code",
   "execution_count": 90,
   "metadata": {},
   "outputs": [
    {
     "output_type": "display_data",
     "data": {
      "text/plain": "⎡    a    ⎤\n⎢─────────⎥\n⎣3⋅b + 2⋅k⎦",
      "image/png": "[encoded data removed]",
      "text/latex": "$\\displaystyle \\left[ \\frac{a}{3 b + 2 k}\\right]$"
     },
     "metadata": {}
    },
    {
     "output_type": "display_data",
     "data": {
      "text/plain": "⎡    a    ⎤\n⎢─────────⎥\n⎣3⋅b + 2⋅k⎦",
      "image/png": "[encoded data removed]",
      "text/latex": "$\\displaystyle \\left[ \\frac{a}{3 b + 2 k}\\right]$"
     },
     "metadata": {}
    }
   ],
   "source": [
    "#To find the quantity firm A wants to produce we substitute firm B's best response function into firm A's best reponse and then solve for q_a \n",
    "sola_subs = foc_a.subs(qb,solb) #substituting the best response function of firm B into the FOC of firm A\n",
    "sola_subs\n",
    "q_astar = solve(sola_subs,qa) #Solving for q_a\n",
    "solb_subs = foc_b.subs(qa,sola) #substituting the best response function of firm A into the FOC of firm B\n",
    "q_bstar = solve(solb_subs,qb) #Solving for q_b\n",
    "display ( q_astar, q_bstar) #Showing the optimal quantities"
   ]
  },
  {
   "cell_type": "code",
   "execution_count": 91,
   "metadata": {},
   "outputs": [
    {
     "output_type": "execute_result",
     "data": {
      "text/plain": "⎧        a               a    ⎫\n⎨qₐ: ─────────, q_b: ─────────⎬\n⎩    3⋅b + 2⋅k       3⋅b + 2⋅k⎭",
      "image/png": "[encoded data removed]",
      "text/latex": "$\\displaystyle \\left\\{ q_{a} : \\frac{a}{3 b + 2 k}, \\  q_{b} : \\frac{a}{3 b + 2 k}\\right\\}$"
     },
     "metadata": {},
     "execution_count": 91
    }
   ],
   "source": [
    "#Here we find the optimal quantities for both firms with another code. The result is identical with the result above. Here we just use that we can solve 2 equation with 2 unknowns.\n",
    "\n",
    "solve([foc_a, foc_b], [qa, qb]) #solving 2 equations with 2 unknowns "
   ]
  },
  {
   "cell_type": "code",
   "execution_count": 51,
   "metadata": {},
   "outputs": [
    {
     "output_type": "stream",
     "name": "stdout",
     "text": "\n The price of the good: -2*a*b/(3*b + 2*k) + a\n\n The profit of A: a**2*(b + k)/(3*b + 2*k)**2\n\n The profit of B: a**2*(b + k)/(3*b + 2*k)**2\n"
    }
   ],
   "source": [
    "#We are now able to find the prices the firms will take for the good and the profit each firm get:\n",
    "\n",
    "#As the above quantities is given as lists we start by defining/converting the list into a float:\n",
    "type(q_astar)\n",
    "qqa=q_astar[0]\n",
    "qqb=q_bstar[0]\n",
    "#We can now find the price of the good:\n",
    "print(\"\\n The price of the good: \" + str(p_total(qqa,qqb,a,b)) ) \n",
    "\n",
    "#We can now find the profit of each firm:\n",
    "print(\"\\n The profit of A: \" + str(simplify(profit_A(qqa,qqb,a,b,k))))\n",
    "print(\"\\n The profit of B: \" + str(simplify(profit_B(qqa,qqb,a,b,k))))"
   ]
  },
  {
   "cell_type": "markdown",
   "metadata": {},
   "source": [
    "## Numerical Solution \n",
    "\n",
    "We will now show the numerical solution for two firms using the functions from modelproject.py. The functions are based on the analytical solution. We will simplyfy the settings by assuming same cost function: cost = k*qi .  "
   ]
  },
  {
   "cell_type": "code",
   "execution_count": 76,
   "metadata": {},
   "outputs": [
    {
     "output_type": "stream",
     "name": "stdout",
     "text": "(a**2 - 2*a*k + k**2)/(b*(n**2 + 2*n + 1))\n"
    }
   ],
   "source": [
    "#We start by setting the values:\n",
    "k = sm.symbols('k')\n",
    "a = sm.symbols('a')\n",
    "b = sm.symbols('b')\n",
    "N= sm.symbols('n') # Number of firms \n",
    "qi = sm.symbols('q_i') #quantity of the N firm \n",
    "\n",
    "Solution = mpy.solution_cournot(N,a,b,k)\n",
    "print(Solution[4])\n"
   ]
  },
  {
   "cell_type": "code",
   "execution_count": 89,
   "metadata": {},
   "outputs": [
    {
     "output_type": "stream",
     "name": "stdout",
     "text": "\n The total quantity is: 12.67\n\n The price is: 7.33\n\n The quantity for firm i is: 6.33\n\n The the profit for firm i is: 40.11\n\n The quantity for perfect competition: 19\n"
    },
    {
     "output_type": "display_data",
     "data": {
      "text/plain": "interactive(children=(IntSlider(value=1, description='$Number of firms$', min=1), IntSlider(value=20, descript…",
      "application/vnd.jupyter.widget-view+json": {
       "version_major": 2,
       "version_minor": 0,
       "model_id": "ade5001ac10f4ddf99c18961eaea80f6"
      }
     },
     "metadata": {}
    },
    {
     "output_type": "execute_result",
     "data": {
      "text/plain": "<function modelproject_B.plot_deadweight_loss(N, a, b, k)>"
     },
     "metadata": {},
     "execution_count": 89
    }
   ],
   "source": [
    "#We start by setting the values:\n",
    "a = 20\n",
    "b = 1\n",
    "k = 1\n",
    "\n",
    "N = 2 # Number of firms \n",
    "\n",
    "#qi = sm.symbols('q_i') #quantity of the i firm \n",
    "\n",
    "\n",
    "Solution = mpy.solution_cournot(N,a,b,k)\n",
    "print('\\n The total quantity is: ' + str(round(Solution[0],2)))\n",
    "print('\\n The price is: ' + str(round(Solution[1],2)))\n",
    "print('\\n The quantity for firm i is: ' + str(round(Solution[2],2)))\n",
    "print('\\n The the profit for firm i is: ' + str(round(Solution[3],2)))  \n",
    "\n",
    "pcquantity = mpy.perfect_com(qi,N,a,b,k)\n",
    "print('\\n The quantity for perfect competition: ' + str(round(pcquantity[0])))\n",
    "#loss = mpy.plot_deadweight_loss(N,a,b,k)\n",
    "\n",
    "widgets.interact(mpy.plot_deadweight_loss,\n",
    "    N = widgets.IntSlider(description=\"$Number of firms$\",min=1,max=100),\n",
    "    a = a,\n",
    "    b = b,\n",
    "    k = k\n",
    ") \n",
    "\n"
   ]
  },
  {
   "cell_type": "markdown",
   "metadata": {},
   "source": [
    "# Forsøg på at lave interaktive plots over både symmetriske og asymmetriske cost functions\n"
   ]
  },
  {
   "cell_type": "code",
   "execution_count": 66,
   "metadata": {},
   "outputs": [],
   "source": [
    "# We start by defining the linear demand function:\n",
    "def invd(q1,q2,d):\n",
    "    return d - (q1+q2) \n",
    "\n",
    "# Defining cost function with symmetric and constant marginal costs \n",
    "def scost(q,c):\n",
    "    return q * c\n",
    "\n",
    "# Defining the cost functions with assymetric costs\n",
    "\n",
    "#Disse kunne evt defineres som en, ved at lade konstanten være en parameter\n",
    "\n",
    "#Defining the cost function of firm A:\n",
    "def acost_1(qa,c):\n",
    "    return (c/2) * qa ** 2\n",
    "\n",
    "#Defining the cost function of firm B:\n",
    "def acost_2(qb,c):\n",
    "    return c * qb ** 2\n",
    "\n",
    "# Profit functions with symmetric costs\n",
    "#The profitfunction of firm A:\n",
    "def sprofit_1(q1,q2,d,c):\n",
    "    return invd(q1,q2,d) * q1 - scost(q1,c)\n",
    "    \n",
    "#The profitfunction of firm B:\n",
    "def sprofit_2(q1,q2,d,c):\n",
    "    return invd(q1,q2,d) * q2 - scost(q2,c)\n",
    "\n",
    "# Profit functions with assymetric costs\n",
    "#The profitfunction of firm A:\n",
    "def aprofit_1(q1,q2,d,c):\n",
    "    return invd(q1,q2,d) * q1 - acost_1(q1,c)\n",
    "    \n",
    "#The profitfunction of firm B:\n",
    "def aprofit_2(q1,q2,d,c):\n",
    "    return invd(q1,q2,d) * q2 - acost_2(q2,c)"
   ]
  },
  {
   "cell_type": "code",
   "execution_count": 67,
   "metadata": {},
   "outputs": [],
   "source": [
    "sq0 = [1]\n",
    "\n",
    "def sbest_response1(q2,d,c):\n",
    "    q1opt = optimize.minimize(lambda sq0: -sprofit_1(sq0,q2,d,c), q0).x[0]\n",
    "    return q1opt\n",
    "\n",
    "def sbest_response2(q1,d,c):\n",
    "    q2opt = optimize.minimize(lambda sq0: -sprofit_2(q1,sq0,d,c), q0).x[0]\n",
    "    return q2opt\n",
    "\n",
    "aq0 = [1]\n",
    "\n",
    "def abest_response1(q2,d,c):\n",
    "    q1opt = optimize.minimize(lambda aq0: -aprofit_1(aq0,q2,d,c), q0).x[0]\n",
    "    return q1opt\n",
    "\n",
    "def abest_response2(q1,d,c):\n",
    "    q2opt = optimize.minimize(lambda aq0: -aprofit_2(q1,aq0,d,c), q0).x[0]\n",
    "    return q2opt"
   ]
  },
  {
   "cell_type": "code",
   "execution_count": 68,
   "metadata": {},
   "outputs": [],
   "source": [
    "def sconditions(q,parameters):\n",
    "    u = q[0] - sbest_response1(q[1],parameters[0],parameters[1])\n",
    "    y = q[1] - sbest_response2(q[0],parameters[0],parameters[2])\n",
    "    return [u,y]"
   ]
  },
  {
   "cell_type": "code",
   "execution_count": 69,
   "metadata": {},
   "outputs": [],
   "source": [
    "def aconditions(q,parameters):\n",
    "    u = q[0] - abest_response1(q[1],parameters[0],parameters[1])\n",
    "    y = q[1] - abest_response2(q[0],parameters[0],parameters[2])\n",
    "    return [u,y]"
   ]
  },
  {
   "cell_type": "code",
   "execution_count": 70,
   "metadata": {},
   "outputs": [
    {
     "output_type": "display_data",
     "data": {
      "text/plain": "interactive(children=(FloatSlider(value=0.0, description='$c_1$', max=5.0), FloatSlider(value=0.0, description…",
      "application/vnd.jupyter.widget-view+json": {
       "version_major": 2,
       "version_minor": 0,
       "model_id": "ac0ac3ecd96e490db6cdfce4fc624130"
      }
     },
     "metadata": {}
    },
    {
     "output_type": "execute_result",
     "data": {
      "text/plain": "<function __main__.f(c1, c2, d)>"
     },
     "metadata": {},
     "execution_count": 70
    }
   ],
   "source": [
    "# Production vector, initial values:\n",
    "\n",
    "q = [1,1]\n",
    "d = 20\n",
    "\n",
    "# Here we define the function, f, which contains a solver that solves the Nash equilibrium,\n",
    "# given the parameters that are chosen in the sliders below.\n",
    "\n",
    "def f(c1,c2,d):\n",
    "    parameters = [d,c1,c2]\n",
    "    solver = optimize.fsolve(aconditions,q,args=(parameters))\n",
    "    if solver[0] < 0:\n",
    "        solver[0] = 0\n",
    "    if solver[1] < 0:\n",
    "        solver[1] = 0\n",
    "        \n",
    "    print(\"\\n Nash Equilibrium: \\n The Nash equilibrium, firm 1 produces \" + str(round(solver[0],2)) + \" units and firm 2 produces \" + str(round(solver[1],2)) + \" units.\")\n",
    "\n",
    "# Here three sliders are created:\n",
    "    \n",
    "widgets.interact(f,\n",
    "    c1 = widgets.FloatSlider(description=\"$c_1$\",min=0,max=5),\n",
    "    c2 = widgets.FloatSlider(description=\"$c_2$\",min=0,max=5),\n",
    "    d = d\n",
    " )"
   ]
  },
  {
   "cell_type": "code",
   "execution_count": 74,
   "metadata": {},
   "outputs": [
    {
     "output_type": "display_data",
     "data": {
      "text/plain": "interactive(children=(FloatSlider(value=0.0, description='$c$', max=5.0), IntSlider(value=6, description='d', …",
      "application/vnd.jupyter.widget-view+json": {
       "version_major": 2,
       "version_minor": 0,
       "model_id": "c9b6fec0d63749dca2072fddf93a2ab0"
      }
     },
     "metadata": {}
    },
    {
     "output_type": "execute_result",
     "data": {
      "text/plain": "<function __main__.g(c, d=6)>"
     },
     "metadata": {},
     "execution_count": 74
    }
   ],
   "source": [
    "def g(c,d=6):\n",
    "    \n",
    "# Creating empty box:\n",
    "    aprod2 = np.arange(0,10,0.1)\n",
    "    aprod1 = []\n",
    "\n",
    "    for q2 in aprod2:\n",
    "        q1 = round(abest_response1(q2,d,c),3)\n",
    "\n",
    "    # Adding the best response production to the empty box:\n",
    "        aprod1.append(q1)\n",
    "\n",
    "    plt.title(\"Figure 1: Best response for firm 1 (blue) and production level\\n for firm 2 (orange), given production level for firm 2\")\n",
    "    plt.ylabel(\"q\")\n",
    "    plt.xlabel(\"$q_2$\")\n",
    "    plt.plot(aprod2, aprod1)\n",
    "    plt.plot(aprod2, aprod2)\n",
    "\n",
    "widgets.interact(g,\n",
    "    c = widgets.FloatSlider(description=\"$c$\",min=0,max=5)\n",
    " )"
   ]
  },
  {
   "cell_type": "code",
   "execution_count": 7,
   "metadata": {},
   "outputs": [],
   "source": [
    "# Here we define different marginal costs and production for firm 1 and 2:\n",
    "\n",
    "costs = np.arange(0,5,0.1)\n",
    "prod1 = np.arange(0,5,0.1)\n",
    "prod2 = np.arange(0,5,0.1)\n",
    "\n",
    "# Creating empty boxes:\n",
    "\n",
    "x = []\n",
    "y = []\n",
    "\n",
    "for q2 in prod2:\n",
    "    q1 = round(best_response1(q2,10,0),3)\n",
    "    x.append(q1)\n",
    "    \n",
    "for c, q1 in zip(costs,prod1):\n",
    "    q2 = round(best_response2(q1,10,c),3)\n",
    "    y.append(q2)"
   ]
  },
  {
   "cell_type": "code",
   "execution_count": 8,
   "metadata": {},
   "outputs": [
    {
     "output_type": "execute_result",
     "data": {
      "text/plain": "[<matplotlib.lines.Line2D at 0x101766e350>]"
     },
     "metadata": {},
     "execution_count": 8
    },
    {
     "output_type": "display_data",
     "data": {
      "text/plain": "<Figure size 432x288 with 1 Axes>",
      "image/svg+xml": "<?xml version=\"1.0\" encoding=\"utf-8\" standalone=\"no\"?>\n<!DOCTYPE svg PUBLIC \"-//W3C//DTD SVG 1.1//EN\"\n  \"http://www.w3.org/Graphics/SVG/1.1/DTD/svg11.dtd\">\n<!-- Created with matplotlib (https://matplotlib.org/) -->\n<svg height=\"290.778pt\" version=\"1.1\" viewBox=\"0 0 567.48 290.778\" width=\"567.48pt\" xmlns=\"http://www.w3.org/2000/svg\" xmlns:xlink=\"http://www.w3.org/1999/xlink\">\n <defs>\n  <style type=\"text/css\">\n*{stroke-linecap:butt;stroke-linejoin:round;}\n  </style>\n </defs>\n <g id=\"figure_1\">\n  <g id=\"patch_1\">\n   <path d=\"M 0 290.778 \nL 567.48 290.778 \nL 567.48 0 \nL 0 0 \nz\n\" style=\"fill:none;\"/>\n  </g>\n  <g id=\"axes_1\">\n   <g id=\"patch_2\">\n    <path d=\"M 116.34 253.22175 \nL 451.14 253.22175 \nL 451.14 35.78175 \nL 116.34 35.78175 \nz\n\" style=\"fill:#ffffff;\"/>\n   </g>\n   <g id=\"matplotlib.axis_1\">\n    <g id=\"xtick_1\">\n     <g id=\"line2d_1\">\n      <defs>\n       <path d=\"M 0 0 \nL 0 3.5 \n\" id=\"m3b5cda67e9\" style=\"stroke:#000000;stroke-width:0.8;\"/>\n      </defs>\n      <g>\n       <use style=\"stroke:#000000;stroke-width:0.8;\" x=\"131.558182\" xlink:href=\"#m3b5cda67e9\" y=\"253.22175\"/>\n      </g>\n     </g>\n     <g id=\"text_1\">\n      <!-- 0 -->\n      <defs>\n       <path d=\"M 31.78125 66.40625 \nQ 24.171875 66.40625 20.328125 58.90625 \nQ 16.5 51.421875 16.5 36.375 \nQ 16.5 21.390625 20.328125 13.890625 \nQ 24.171875 6.390625 31.78125 6.390625 \nQ 39.453125 6.390625 43.28125 13.890625 \nQ 47.125 21.390625 47.125 36.375 \nQ 47.125 51.421875 43.28125 58.90625 \nQ 39.453125 66.40625 31.78125 66.40625 \nz\nM 31.78125 74.21875 \nQ 44.046875 74.21875 50.515625 64.515625 \nQ 56.984375 54.828125 56.984375 36.375 \nQ 56.984375 17.96875 50.515625 8.265625 \nQ 44.046875 -1.421875 31.78125 -1.421875 \nQ 19.53125 -1.421875 13.0625 8.265625 \nQ 6.59375 17.96875 6.59375 36.375 \nQ 6.59375 54.828125 13.0625 64.515625 \nQ 19.53125 74.21875 31.78125 74.21875 \nz\n\" id=\"DejaVuSans-48\"/>\n      </defs>\n      <g transform=\"translate(128.376932 267.820187)scale(0.1 -0.1)\">\n       <use xlink:href=\"#DejaVuSans-48\"/>\n      </g>\n     </g>\n    </g>\n    <g id=\"xtick_2\">\n     <g id=\"line2d_2\">\n      <g>\n       <use style=\"stroke:#000000;stroke-width:0.8;\" x=\"193.67321\" xlink:href=\"#m3b5cda67e9\" y=\"253.22175\"/>\n      </g>\n     </g>\n     <g id=\"text_2\">\n      <!-- 1 -->\n      <defs>\n       <path d=\"M 12.40625 8.296875 \nL 28.515625 8.296875 \nL 28.515625 63.921875 \nL 10.984375 60.40625 \nL 10.984375 69.390625 \nL 28.421875 72.90625 \nL 38.28125 72.90625 \nL 38.28125 8.296875 \nL 54.390625 8.296875 \nL 54.390625 0 \nL 12.40625 0 \nz\n\" id=\"DejaVuSans-49\"/>\n      </defs>\n      <g transform=\"translate(190.49196 267.820187)scale(0.1 -0.1)\">\n       <use xlink:href=\"#DejaVuSans-49\"/>\n      </g>\n     </g>\n    </g>\n    <g id=\"xtick_3\">\n     <g id=\"line2d_3\">\n      <g>\n       <use style=\"stroke:#000000;stroke-width:0.8;\" x=\"255.788237\" xlink:href=\"#m3b5cda67e9\" y=\"253.22175\"/>\n      </g>\n     </g>\n     <g id=\"text_3\">\n      <!-- 2 -->\n      <defs>\n       <path d=\"M 19.1875 8.296875 \nL 53.609375 8.296875 \nL 53.609375 0 \nL 7.328125 0 \nL 7.328125 8.296875 \nQ 12.9375 14.109375 22.625 23.890625 \nQ 32.328125 33.6875 34.8125 36.53125 \nQ 39.546875 41.84375 41.421875 45.53125 \nQ 43.3125 49.21875 43.3125 52.78125 \nQ 43.3125 58.59375 39.234375 62.25 \nQ 35.15625 65.921875 28.609375 65.921875 \nQ 23.96875 65.921875 18.8125 64.3125 \nQ 13.671875 62.703125 7.8125 59.421875 \nL 7.8125 69.390625 \nQ 13.765625 71.78125 18.9375 73 \nQ 24.125 74.21875 28.421875 74.21875 \nQ 39.75 74.21875 46.484375 68.546875 \nQ 53.21875 62.890625 53.21875 53.421875 \nQ 53.21875 48.921875 51.53125 44.890625 \nQ 49.859375 40.875 45.40625 35.40625 \nQ 44.1875 33.984375 37.640625 27.21875 \nQ 31.109375 20.453125 19.1875 8.296875 \nz\n\" id=\"DejaVuSans-50\"/>\n      </defs>\n      <g transform=\"translate(252.606987 267.820187)scale(0.1 -0.1)\">\n       <use xlink:href=\"#DejaVuSans-50\"/>\n      </g>\n     </g>\n    </g>\n    <g id=\"xtick_4\">\n     <g id=\"line2d_4\">\n      <g>\n       <use style=\"stroke:#000000;stroke-width:0.8;\" x=\"317.903265\" xlink:href=\"#m3b5cda67e9\" y=\"253.22175\"/>\n      </g>\n     </g>\n     <g id=\"text_4\">\n      <!-- 3 -->\n      <defs>\n       <path d=\"M 40.578125 39.3125 \nQ 47.65625 37.796875 51.625 33 \nQ 55.609375 28.21875 55.609375 21.1875 \nQ 55.609375 10.40625 48.1875 4.484375 \nQ 40.765625 -1.421875 27.09375 -1.421875 \nQ 22.515625 -1.421875 17.65625 -0.515625 \nQ 12.796875 0.390625 7.625 2.203125 \nL 7.625 11.71875 \nQ 11.71875 9.328125 16.59375 8.109375 \nQ 21.484375 6.890625 26.8125 6.890625 \nQ 36.078125 6.890625 40.9375 10.546875 \nQ 45.796875 14.203125 45.796875 21.1875 \nQ 45.796875 27.640625 41.28125 31.265625 \nQ 36.765625 34.90625 28.71875 34.90625 \nL 20.21875 34.90625 \nL 20.21875 43.015625 \nL 29.109375 43.015625 \nQ 36.375 43.015625 40.234375 45.921875 \nQ 44.09375 48.828125 44.09375 54.296875 \nQ 44.09375 59.90625 40.109375 62.90625 \nQ 36.140625 65.921875 28.71875 65.921875 \nQ 24.65625 65.921875 20.015625 65.03125 \nQ 15.375 64.15625 9.8125 62.3125 \nL 9.8125 71.09375 \nQ 15.4375 72.65625 20.34375 73.4375 \nQ 25.25 74.21875 29.59375 74.21875 \nQ 40.828125 74.21875 47.359375 69.109375 \nQ 53.90625 64.015625 53.90625 55.328125 \nQ 53.90625 49.265625 50.4375 45.09375 \nQ 46.96875 40.921875 40.578125 39.3125 \nz\n\" id=\"DejaVuSans-51\"/>\n      </defs>\n      <g transform=\"translate(314.722015 267.820187)scale(0.1 -0.1)\">\n       <use xlink:href=\"#DejaVuSans-51\"/>\n      </g>\n     </g>\n    </g>\n    <g id=\"xtick_5\">\n     <g id=\"line2d_5\">\n      <g>\n       <use style=\"stroke:#000000;stroke-width:0.8;\" x=\"380.018293\" xlink:href=\"#m3b5cda67e9\" y=\"253.22175\"/>\n      </g>\n     </g>\n     <g id=\"text_5\">\n      <!-- 4 -->\n      <defs>\n       <path d=\"M 37.796875 64.3125 \nL 12.890625 25.390625 \nL 37.796875 25.390625 \nz\nM 35.203125 72.90625 \nL 47.609375 72.90625 \nL 47.609375 25.390625 \nL 58.015625 25.390625 \nL 58.015625 17.1875 \nL 47.609375 17.1875 \nL 47.609375 0 \nL 37.796875 0 \nL 37.796875 17.1875 \nL 4.890625 17.1875 \nL 4.890625 26.703125 \nz\n\" id=\"DejaVuSans-52\"/>\n      </defs>\n      <g transform=\"translate(376.837043 267.820187)scale(0.1 -0.1)\">\n       <use xlink:href=\"#DejaVuSans-52\"/>\n      </g>\n     </g>\n    </g>\n    <g id=\"xtick_6\">\n     <g id=\"line2d_6\">\n      <g>\n       <use style=\"stroke:#000000;stroke-width:0.8;\" x=\"442.133321\" xlink:href=\"#m3b5cda67e9\" y=\"253.22175\"/>\n      </g>\n     </g>\n     <g id=\"text_6\">\n      <!-- 5 -->\n      <defs>\n       <path d=\"M 10.796875 72.90625 \nL 49.515625 72.90625 \nL 49.515625 64.59375 \nL 19.828125 64.59375 \nL 19.828125 46.734375 \nQ 21.96875 47.46875 24.109375 47.828125 \nQ 26.265625 48.1875 28.421875 48.1875 \nQ 40.625 48.1875 47.75 41.5 \nQ 54.890625 34.8125 54.890625 23.390625 \nQ 54.890625 11.625 47.5625 5.09375 \nQ 40.234375 -1.421875 26.90625 -1.421875 \nQ 22.3125 -1.421875 17.546875 -0.640625 \nQ 12.796875 0.140625 7.71875 1.703125 \nL 7.71875 11.625 \nQ 12.109375 9.234375 16.796875 8.0625 \nQ 21.484375 6.890625 26.703125 6.890625 \nQ 35.15625 6.890625 40.078125 11.328125 \nQ 45.015625 15.765625 45.015625 23.390625 \nQ 45.015625 31 40.078125 35.4375 \nQ 35.15625 39.890625 26.703125 39.890625 \nQ 22.75 39.890625 18.8125 39.015625 \nQ 14.890625 38.140625 10.796875 36.28125 \nz\n\" id=\"DejaVuSans-53\"/>\n      </defs>\n      <g transform=\"translate(438.952071 267.820187)scale(0.1 -0.1)\">\n       <use xlink:href=\"#DejaVuSans-53\"/>\n      </g>\n     </g>\n    </g>\n    <g id=\"text_7\">\n     <!-- q other firm -->\n     <defs>\n      <path d=\"M 14.796875 27.296875 \nQ 14.796875 17.390625 18.875 11.75 \nQ 22.953125 6.109375 30.078125 6.109375 \nQ 37.203125 6.109375 41.296875 11.75 \nQ 45.40625 17.390625 45.40625 27.296875 \nQ 45.40625 37.203125 41.296875 42.84375 \nQ 37.203125 48.484375 30.078125 48.484375 \nQ 22.953125 48.484375 18.875 42.84375 \nQ 14.796875 37.203125 14.796875 27.296875 \nz\nM 45.40625 8.203125 \nQ 42.578125 3.328125 38.25 0.953125 \nQ 33.9375 -1.421875 27.875 -1.421875 \nQ 17.96875 -1.421875 11.734375 6.484375 \nQ 5.515625 14.40625 5.515625 27.296875 \nQ 5.515625 40.1875 11.734375 48.09375 \nQ 17.96875 56 27.875 56 \nQ 33.9375 56 38.25 53.625 \nQ 42.578125 51.265625 45.40625 46.390625 \nL 45.40625 54.6875 \nL 54.390625 54.6875 \nL 54.390625 -20.796875 \nL 45.40625 -20.796875 \nz\n\" id=\"DejaVuSans-113\"/>\n      <path id=\"DejaVuSans-32\"/>\n      <path d=\"M 30.609375 48.390625 \nQ 23.390625 48.390625 19.1875 42.75 \nQ 14.984375 37.109375 14.984375 27.296875 \nQ 14.984375 17.484375 19.15625 11.84375 \nQ 23.34375 6.203125 30.609375 6.203125 \nQ 37.796875 6.203125 41.984375 11.859375 \nQ 46.1875 17.53125 46.1875 27.296875 \nQ 46.1875 37.015625 41.984375 42.703125 \nQ 37.796875 48.390625 30.609375 48.390625 \nz\nM 30.609375 56 \nQ 42.328125 56 49.015625 48.375 \nQ 55.71875 40.765625 55.71875 27.296875 \nQ 55.71875 13.875 49.015625 6.21875 \nQ 42.328125 -1.421875 30.609375 -1.421875 \nQ 18.84375 -1.421875 12.171875 6.21875 \nQ 5.515625 13.875 5.515625 27.296875 \nQ 5.515625 40.765625 12.171875 48.375 \nQ 18.84375 56 30.609375 56 \nz\n\" id=\"DejaVuSans-111\"/>\n      <path d=\"M 18.3125 70.21875 \nL 18.3125 54.6875 \nL 36.8125 54.6875 \nL 36.8125 47.703125 \nL 18.3125 47.703125 \nL 18.3125 18.015625 \nQ 18.3125 11.328125 20.140625 9.421875 \nQ 21.96875 7.515625 27.59375 7.515625 \nL 36.8125 7.515625 \nL 36.8125 0 \nL 27.59375 0 \nQ 17.1875 0 13.234375 3.875 \nQ 9.28125 7.765625 9.28125 18.015625 \nL 9.28125 47.703125 \nL 2.6875 47.703125 \nL 2.6875 54.6875 \nL 9.28125 54.6875 \nL 9.28125 70.21875 \nz\n\" id=\"DejaVuSans-116\"/>\n      <path d=\"M 54.890625 33.015625 \nL 54.890625 0 \nL 45.90625 0 \nL 45.90625 32.71875 \nQ 45.90625 40.484375 42.875 44.328125 \nQ 39.84375 48.1875 33.796875 48.1875 \nQ 26.515625 48.1875 22.3125 43.546875 \nQ 18.109375 38.921875 18.109375 30.90625 \nL 18.109375 0 \nL 9.078125 0 \nL 9.078125 75.984375 \nL 18.109375 75.984375 \nL 18.109375 46.1875 \nQ 21.34375 51.125 25.703125 53.5625 \nQ 30.078125 56 35.796875 56 \nQ 45.21875 56 50.046875 50.171875 \nQ 54.890625 44.34375 54.890625 33.015625 \nz\n\" id=\"DejaVuSans-104\"/>\n      <path d=\"M 56.203125 29.59375 \nL 56.203125 25.203125 \nL 14.890625 25.203125 \nQ 15.484375 15.921875 20.484375 11.0625 \nQ 25.484375 6.203125 34.421875 6.203125 \nQ 39.59375 6.203125 44.453125 7.46875 \nQ 49.3125 8.734375 54.109375 11.28125 \nL 54.109375 2.78125 \nQ 49.265625 0.734375 44.1875 -0.34375 \nQ 39.109375 -1.421875 33.890625 -1.421875 \nQ 20.796875 -1.421875 13.15625 6.1875 \nQ 5.515625 13.8125 5.515625 26.8125 \nQ 5.515625 40.234375 12.765625 48.109375 \nQ 20.015625 56 32.328125 56 \nQ 43.359375 56 49.78125 48.890625 \nQ 56.203125 41.796875 56.203125 29.59375 \nz\nM 47.21875 32.234375 \nQ 47.125 39.59375 43.09375 43.984375 \nQ 39.0625 48.390625 32.421875 48.390625 \nQ 24.90625 48.390625 20.390625 44.140625 \nQ 15.875 39.890625 15.1875 32.171875 \nz\n\" id=\"DejaVuSans-101\"/>\n      <path d=\"M 41.109375 46.296875 \nQ 39.59375 47.171875 37.8125 47.578125 \nQ 36.03125 48 33.890625 48 \nQ 26.265625 48 22.1875 43.046875 \nQ 18.109375 38.09375 18.109375 28.8125 \nL 18.109375 0 \nL 9.078125 0 \nL 9.078125 54.6875 \nL 18.109375 54.6875 \nL 18.109375 46.1875 \nQ 20.953125 51.171875 25.484375 53.578125 \nQ 30.03125 56 36.53125 56 \nQ 37.453125 56 38.578125 55.875 \nQ 39.703125 55.765625 41.0625 55.515625 \nz\n\" id=\"DejaVuSans-114\"/>\n      <path d=\"M 37.109375 75.984375 \nL 37.109375 68.5 \nL 28.515625 68.5 \nQ 23.6875 68.5 21.796875 66.546875 \nQ 19.921875 64.59375 19.921875 59.515625 \nL 19.921875 54.6875 \nL 34.71875 54.6875 \nL 34.71875 47.703125 \nL 19.921875 47.703125 \nL 19.921875 0 \nL 10.890625 0 \nL 10.890625 47.703125 \nL 2.296875 47.703125 \nL 2.296875 54.6875 \nL 10.890625 54.6875 \nL 10.890625 58.5 \nQ 10.890625 67.625 15.140625 71.796875 \nQ 19.390625 75.984375 28.609375 75.984375 \nz\n\" id=\"DejaVuSans-102\"/>\n      <path d=\"M 9.421875 54.6875 \nL 18.40625 54.6875 \nL 18.40625 0 \nL 9.421875 0 \nz\nM 9.421875 75.984375 \nL 18.40625 75.984375 \nL 18.40625 64.59375 \nL 9.421875 64.59375 \nz\n\" id=\"DejaVuSans-105\"/>\n      <path d=\"M 52 44.1875 \nQ 55.375 50.25 60.0625 53.125 \nQ 64.75 56 71.09375 56 \nQ 79.640625 56 84.28125 50.015625 \nQ 88.921875 44.046875 88.921875 33.015625 \nL 88.921875 0 \nL 79.890625 0 \nL 79.890625 32.71875 \nQ 79.890625 40.578125 77.09375 44.375 \nQ 74.3125 48.1875 68.609375 48.1875 \nQ 61.625 48.1875 57.5625 43.546875 \nQ 53.515625 38.921875 53.515625 30.90625 \nL 53.515625 0 \nL 44.484375 0 \nL 44.484375 32.71875 \nQ 44.484375 40.625 41.703125 44.40625 \nQ 38.921875 48.1875 33.109375 48.1875 \nQ 26.21875 48.1875 22.15625 43.53125 \nQ 18.109375 38.875 18.109375 30.90625 \nL 18.109375 0 \nL 9.078125 0 \nL 9.078125 54.6875 \nL 18.109375 54.6875 \nL 18.109375 46.1875 \nQ 21.1875 51.21875 25.484375 53.609375 \nQ 29.78125 56 35.6875 56 \nQ 41.65625 56 45.828125 52.96875 \nQ 50 49.953125 52 44.1875 \nz\n\" id=\"DejaVuSans-109\"/>\n     </defs>\n     <g transform=\"translate(253.993125 281.498312)scale(0.1 -0.1)\">\n      <use xlink:href=\"#DejaVuSans-113\"/>\n      <use x=\"63.476562\" xlink:href=\"#DejaVuSans-32\"/>\n      <use x=\"95.263672\" xlink:href=\"#DejaVuSans-111\"/>\n      <use x=\"156.445312\" xlink:href=\"#DejaVuSans-116\"/>\n      <use x=\"195.654297\" xlink:href=\"#DejaVuSans-104\"/>\n      <use x=\"259.033203\" xlink:href=\"#DejaVuSans-101\"/>\n      <use x=\"320.556641\" xlink:href=\"#DejaVuSans-114\"/>\n      <use x=\"361.669922\" xlink:href=\"#DejaVuSans-32\"/>\n      <use x=\"393.457031\" xlink:href=\"#DejaVuSans-102\"/>\n      <use x=\"428.662109\" xlink:href=\"#DejaVuSans-105\"/>\n      <use x=\"456.445312\" xlink:href=\"#DejaVuSans-114\"/>\n      <use x=\"497.542969\" xlink:href=\"#DejaVuSans-109\"/>\n     </g>\n    </g>\n   </g>\n   <g id=\"matplotlib.axis_2\">\n    <g id=\"ytick_1\">\n     <g id=\"line2d_7\">\n      <defs>\n       <path d=\"M 0 0 \nL -3.5 0 \n\" id=\"m2a9a48a571\" style=\"stroke:#000000;stroke-width:0.8;\"/>\n      </defs>\n      <g>\n       <use style=\"stroke:#000000;stroke-width:0.8;\" x=\"116.34\" xlink:href=\"#m2a9a48a571\" y=\"247.372251\"/>\n      </g>\n     </g>\n     <g id=\"text_8\">\n      <!-- 0 -->\n      <g transform=\"translate(102.9775 251.17147)scale(0.1 -0.1)\">\n       <use xlink:href=\"#DejaVuSans-48\"/>\n      </g>\n     </g>\n    </g>\n    <g id=\"ytick_2\">\n     <g id=\"line2d_8\">\n      <g>\n       <use style=\"stroke:#000000;stroke-width:0.8;\" x=\"116.34\" xlink:href=\"#m2a9a48a571\" y=\"207.030878\"/>\n      </g>\n     </g>\n     <g id=\"text_9\">\n      <!-- 1 -->\n      <g transform=\"translate(102.9775 210.830097)scale(0.1 -0.1)\">\n       <use xlink:href=\"#DejaVuSans-49\"/>\n      </g>\n     </g>\n    </g>\n    <g id=\"ytick_3\">\n     <g id=\"line2d_9\">\n      <g>\n       <use style=\"stroke:#000000;stroke-width:0.8;\" x=\"116.34\" xlink:href=\"#m2a9a48a571\" y=\"166.689505\"/>\n      </g>\n     </g>\n     <g id=\"text_10\">\n      <!-- 2 -->\n      <g transform=\"translate(102.9775 170.488724)scale(0.1 -0.1)\">\n       <use xlink:href=\"#DejaVuSans-50\"/>\n      </g>\n     </g>\n    </g>\n    <g id=\"ytick_4\">\n     <g id=\"line2d_10\">\n      <g>\n       <use style=\"stroke:#000000;stroke-width:0.8;\" x=\"116.34\" xlink:href=\"#m2a9a48a571\" y=\"126.348132\"/>\n      </g>\n     </g>\n     <g id=\"text_11\">\n      <!-- 3 -->\n      <g transform=\"translate(102.9775 130.147351)scale(0.1 -0.1)\">\n       <use xlink:href=\"#DejaVuSans-51\"/>\n      </g>\n     </g>\n    </g>\n    <g id=\"ytick_5\">\n     <g id=\"line2d_11\">\n      <g>\n       <use style=\"stroke:#000000;stroke-width:0.8;\" x=\"116.34\" xlink:href=\"#m2a9a48a571\" y=\"86.006759\"/>\n      </g>\n     </g>\n     <g id=\"text_12\">\n      <!-- 4 -->\n      <g transform=\"translate(102.9775 89.805978)scale(0.1 -0.1)\">\n       <use xlink:href=\"#DejaVuSans-52\"/>\n      </g>\n     </g>\n    </g>\n    <g id=\"ytick_6\">\n     <g id=\"line2d_12\">\n      <g>\n       <use style=\"stroke:#000000;stroke-width:0.8;\" x=\"116.34\" xlink:href=\"#m2a9a48a571\" y=\"45.665386\"/>\n      </g>\n     </g>\n     <g id=\"text_13\">\n      <!-- 5 -->\n      <g transform=\"translate(102.9775 49.464605)scale(0.1 -0.1)\">\n       <use xlink:href=\"#DejaVuSans-53\"/>\n      </g>\n     </g>\n    </g>\n    <g id=\"text_14\">\n     <!-- q best response -->\n     <defs>\n      <path d=\"M 48.6875 27.296875 \nQ 48.6875 37.203125 44.609375 42.84375 \nQ 40.53125 48.484375 33.40625 48.484375 \nQ 26.265625 48.484375 22.1875 42.84375 \nQ 18.109375 37.203125 18.109375 27.296875 \nQ 18.109375 17.390625 22.1875 11.75 \nQ 26.265625 6.109375 33.40625 6.109375 \nQ 40.53125 6.109375 44.609375 11.75 \nQ 48.6875 17.390625 48.6875 27.296875 \nz\nM 18.109375 46.390625 \nQ 20.953125 51.265625 25.265625 53.625 \nQ 29.59375 56 35.59375 56 \nQ 45.5625 56 51.78125 48.09375 \nQ 58.015625 40.1875 58.015625 27.296875 \nQ 58.015625 14.40625 51.78125 6.484375 \nQ 45.5625 -1.421875 35.59375 -1.421875 \nQ 29.59375 -1.421875 25.265625 0.953125 \nQ 20.953125 3.328125 18.109375 8.203125 \nL 18.109375 0 \nL 9.078125 0 \nL 9.078125 75.984375 \nL 18.109375 75.984375 \nz\n\" id=\"DejaVuSans-98\"/>\n      <path d=\"M 44.28125 53.078125 \nL 44.28125 44.578125 \nQ 40.484375 46.53125 36.375 47.5 \nQ 32.28125 48.484375 27.875 48.484375 \nQ 21.1875 48.484375 17.84375 46.4375 \nQ 14.5 44.390625 14.5 40.28125 \nQ 14.5 37.15625 16.890625 35.375 \nQ 19.28125 33.59375 26.515625 31.984375 \nL 29.59375 31.296875 \nQ 39.15625 29.25 43.1875 25.515625 \nQ 47.21875 21.78125 47.21875 15.09375 \nQ 47.21875 7.46875 41.1875 3.015625 \nQ 35.15625 -1.421875 24.609375 -1.421875 \nQ 20.21875 -1.421875 15.453125 -0.5625 \nQ 10.6875 0.296875 5.421875 2 \nL 5.421875 11.28125 \nQ 10.40625 8.6875 15.234375 7.390625 \nQ 20.0625 6.109375 24.8125 6.109375 \nQ 31.15625 6.109375 34.5625 8.28125 \nQ 37.984375 10.453125 37.984375 14.40625 \nQ 37.984375 18.0625 35.515625 20.015625 \nQ 33.0625 21.96875 24.703125 23.78125 \nL 21.578125 24.515625 \nQ 13.234375 26.265625 9.515625 29.90625 \nQ 5.8125 33.546875 5.8125 39.890625 \nQ 5.8125 47.609375 11.28125 51.796875 \nQ 16.75 56 26.8125 56 \nQ 31.78125 56 36.171875 55.265625 \nQ 40.578125 54.546875 44.28125 53.078125 \nz\n\" id=\"DejaVuSans-115\"/>\n      <path d=\"M 18.109375 8.203125 \nL 18.109375 -20.796875 \nL 9.078125 -20.796875 \nL 9.078125 54.6875 \nL 18.109375 54.6875 \nL 18.109375 46.390625 \nQ 20.953125 51.265625 25.265625 53.625 \nQ 29.59375 56 35.59375 56 \nQ 45.5625 56 51.78125 48.09375 \nQ 58.015625 40.1875 58.015625 27.296875 \nQ 58.015625 14.40625 51.78125 6.484375 \nQ 45.5625 -1.421875 35.59375 -1.421875 \nQ 29.59375 -1.421875 25.265625 0.953125 \nQ 20.953125 3.328125 18.109375 8.203125 \nz\nM 48.6875 27.296875 \nQ 48.6875 37.203125 44.609375 42.84375 \nQ 40.53125 48.484375 33.40625 48.484375 \nQ 26.265625 48.484375 22.1875 42.84375 \nQ 18.109375 37.203125 18.109375 27.296875 \nQ 18.109375 17.390625 22.1875 11.75 \nQ 26.265625 6.109375 33.40625 6.109375 \nQ 40.53125 6.109375 44.609375 11.75 \nQ 48.6875 17.390625 48.6875 27.296875 \nz\n\" id=\"DejaVuSans-112\"/>\n      <path d=\"M 54.890625 33.015625 \nL 54.890625 0 \nL 45.90625 0 \nL 45.90625 32.71875 \nQ 45.90625 40.484375 42.875 44.328125 \nQ 39.84375 48.1875 33.796875 48.1875 \nQ 26.515625 48.1875 22.3125 43.546875 \nQ 18.109375 38.921875 18.109375 30.90625 \nL 18.109375 0 \nL 9.078125 0 \nL 9.078125 54.6875 \nL 18.109375 54.6875 \nL 18.109375 46.1875 \nQ 21.34375 51.125 25.703125 53.5625 \nQ 30.078125 56 35.796875 56 \nQ 45.21875 56 50.046875 50.171875 \nQ 54.890625 44.34375 54.890625 33.015625 \nz\n\" id=\"DejaVuSans-110\"/>\n     </defs>\n     <g transform=\"translate(96.897812 184.488469)rotate(-90)scale(0.1 -0.1)\">\n      <use xlink:href=\"#DejaVuSans-113\"/>\n      <use x=\"63.476562\" xlink:href=\"#DejaVuSans-32\"/>\n      <use x=\"95.263672\" xlink:href=\"#DejaVuSans-98\"/>\n      <use x=\"158.740234\" xlink:href=\"#DejaVuSans-101\"/>\n      <use x=\"220.263672\" xlink:href=\"#DejaVuSans-115\"/>\n      <use x=\"272.363281\" xlink:href=\"#DejaVuSans-116\"/>\n      <use x=\"311.572266\" xlink:href=\"#DejaVuSans-32\"/>\n      <use x=\"343.359375\" xlink:href=\"#DejaVuSans-114\"/>\n      <use x=\"384.441406\" xlink:href=\"#DejaVuSans-101\"/>\n      <use x=\"445.964844\" xlink:href=\"#DejaVuSans-115\"/>\n      <use x=\"498.064453\" xlink:href=\"#DejaVuSans-112\"/>\n      <use x=\"561.541016\" xlink:href=\"#DejaVuSans-111\"/>\n      <use x=\"622.722656\" xlink:href=\"#DejaVuSans-110\"/>\n      <use x=\"686.101562\" xlink:href=\"#DejaVuSans-115\"/>\n      <use x=\"738.201172\" xlink:href=\"#DejaVuSans-101\"/>\n     </g>\n    </g>\n   </g>\n   <g id=\"line2d_13\">\n    <path clip-path=\"url(#p965aa8536a)\" d=\"M 131.558182 45.665386 \nL 137.769685 47.682455 \nL 143.981187 49.699524 \nL 150.19269 51.716592 \nL 156.404193 53.733661 \nL 162.615696 55.75073 \nL 168.827199 57.767798 \nL 175.038701 59.784867 \nL 181.250204 61.801936 \nL 187.461707 63.819004 \nL 193.67321 65.836073 \nL 199.884712 67.853141 \nL 206.096215 69.87021 \nL 212.307718 71.887279 \nL 218.519221 73.904347 \nL 224.730724 75.921416 \nL 230.942226 77.938485 \nL 237.153729 79.955553 \nL 243.365232 81.972622 \nL 249.576735 83.989691 \nL 255.788237 86.006759 \nL 261.99974 88.023828 \nL 268.211243 90.040897 \nL 274.422746 92.057965 \nL 280.634249 94.075034 \nL 286.845751 96.092103 \nL 293.057254 98.109171 \nL 299.268757 100.12624 \nL 305.48026 102.143308 \nL 311.691763 104.160377 \nL 317.903265 106.177446 \nL 324.114768 108.194514 \nL 330.326271 110.211583 \nL 336.537774 112.228652 \nL 342.749276 114.24572 \nL 348.960779 116.262789 \nL 355.172282 118.279858 \nL 361.383785 120.296926 \nL 367.595288 122.313995 \nL 373.80679 124.331064 \nL 380.018293 126.348132 \nL 386.229796 128.365201 \nL 392.441299 130.382269 \nL 398.652801 132.399338 \nL 404.864304 134.416407 \nL 411.075807 136.433475 \nL 417.28731 138.450544 \nL 423.498813 140.467613 \nL 429.710315 142.484681 \nL 435.921818 144.50175 \n\" style=\"fill:none;stroke:#1f77b4;stroke-linecap:square;stroke-width:1.5;\"/>\n   </g>\n   <g id=\"line2d_14\">\n    <path clip-path=\"url(#p965aa8536a)\" d=\"M 131.558182 45.665386 \nL 137.769685 49.699524 \nL 143.981187 53.733661 \nL 150.19269 57.767798 \nL 156.404193 61.801936 \nL 162.615696 65.836073 \nL 168.827199 69.87021 \nL 175.038701 73.904347 \nL 181.250204 77.938485 \nL 187.461707 81.972622 \nL 193.67321 86.006759 \nL 199.884712 90.040897 \nL 206.096215 94.075034 \nL 212.307718 98.109171 \nL 218.519221 102.143308 \nL 224.730724 106.177446 \nL 230.942226 110.211583 \nL 237.153729 114.24572 \nL 243.365232 118.279858 \nL 249.576735 122.313995 \nL 255.788237 126.348132 \nL 261.99974 130.382269 \nL 268.211243 134.416407 \nL 274.422746 138.450544 \nL 280.634249 142.484681 \nL 286.845751 146.518819 \nL 293.057254 150.552956 \nL 299.268757 154.587093 \nL 305.48026 158.621231 \nL 311.691763 162.655368 \nL 317.903265 166.689505 \nL 324.114768 170.723642 \nL 330.326271 174.75778 \nL 336.537774 178.791917 \nL 342.749276 182.826054 \nL 348.960779 186.860192 \nL 355.172282 190.894329 \nL 361.383785 194.928466 \nL 367.595288 198.962603 \nL 373.80679 202.996741 \nL 380.018293 207.030878 \nL 386.229796 211.065015 \nL 392.441299 215.099153 \nL 398.652801 219.13329 \nL 404.864304 223.167427 \nL 411.075807 227.201564 \nL 417.28731 231.235702 \nL 423.498813 235.269839 \nL 429.710315 239.303976 \nL 435.921818 243.338114 \n\" style=\"fill:none;stroke:#ff7f0e;stroke-linecap:square;stroke-width:1.5;\"/>\n   </g>\n   <g id=\"patch_3\">\n    <path d=\"M 116.34 253.22175 \nL 116.34 35.78175 \n\" style=\"fill:none;stroke:#000000;stroke-linecap:square;stroke-linejoin:miter;stroke-width:0.8;\"/>\n   </g>\n   <g id=\"patch_4\">\n    <path d=\"M 451.14 253.22175 \nL 451.14 35.78175 \n\" style=\"fill:none;stroke:#000000;stroke-linecap:square;stroke-linejoin:miter;stroke-width:0.8;\"/>\n   </g>\n   <g id=\"patch_5\">\n    <path d=\"M 116.34 253.22175 \nL 451.14 253.22175 \n\" style=\"fill:none;stroke:#000000;stroke-linecap:square;stroke-linejoin:miter;stroke-width:0.8;\"/>\n   </g>\n   <g id=\"patch_6\">\n    <path d=\"M 116.34 35.78175 \nL 451.14 35.78175 \n\" style=\"fill:none;stroke:#000000;stroke-linecap:square;stroke-linejoin:miter;stroke-width:0.8;\"/>\n   </g>\n   <g id=\"text_15\">\n    <!-- Figure 2: Best response for firms with marginal cost $c = 0$ (blue) and best response for firms -->\n    <defs>\n     <path d=\"M 9.8125 72.90625 \nL 51.703125 72.90625 \nL 51.703125 64.59375 \nL 19.671875 64.59375 \nL 19.671875 43.109375 \nL 48.578125 43.109375 \nL 48.578125 34.8125 \nL 19.671875 34.8125 \nL 19.671875 0 \nL 9.8125 0 \nz\n\" id=\"DejaVuSans-70\"/>\n     <path d=\"M 45.40625 27.984375 \nQ 45.40625 37.75 41.375 43.109375 \nQ 37.359375 48.484375 30.078125 48.484375 \nQ 22.859375 48.484375 18.828125 43.109375 \nQ 14.796875 37.75 14.796875 27.984375 \nQ 14.796875 18.265625 18.828125 12.890625 \nQ 22.859375 7.515625 30.078125 7.515625 \nQ 37.359375 7.515625 41.375 12.890625 \nQ 45.40625 18.265625 45.40625 27.984375 \nz\nM 54.390625 6.78125 \nQ 54.390625 -7.171875 48.1875 -13.984375 \nQ 42 -20.796875 29.203125 -20.796875 \nQ 24.46875 -20.796875 20.265625 -20.09375 \nQ 16.0625 -19.390625 12.109375 -17.921875 \nL 12.109375 -9.1875 \nQ 16.0625 -11.328125 19.921875 -12.34375 \nQ 23.78125 -13.375 27.78125 -13.375 \nQ 36.625 -13.375 41.015625 -8.765625 \nQ 45.40625 -4.15625 45.40625 5.171875 \nL 45.40625 9.625 \nQ 42.625 4.78125 38.28125 2.390625 \nQ 33.9375 0 27.875 0 \nQ 17.828125 0 11.671875 7.65625 \nQ 5.515625 15.328125 5.515625 27.984375 \nQ 5.515625 40.671875 11.671875 48.328125 \nQ 17.828125 56 27.875 56 \nQ 33.9375 56 38.28125 53.609375 \nQ 42.625 51.21875 45.40625 46.390625 \nL 45.40625 54.6875 \nL 54.390625 54.6875 \nz\n\" id=\"DejaVuSans-103\"/>\n     <path d=\"M 8.5 21.578125 \nL 8.5 54.6875 \nL 17.484375 54.6875 \nL 17.484375 21.921875 \nQ 17.484375 14.15625 20.5 10.265625 \nQ 23.53125 6.390625 29.59375 6.390625 \nQ 36.859375 6.390625 41.078125 11.03125 \nQ 45.3125 15.671875 45.3125 23.6875 \nL 45.3125 54.6875 \nL 54.296875 54.6875 \nL 54.296875 0 \nL 45.3125 0 \nL 45.3125 8.40625 \nQ 42.046875 3.421875 37.71875 1 \nQ 33.40625 -1.421875 27.6875 -1.421875 \nQ 18.265625 -1.421875 13.375 4.4375 \nQ 8.5 10.296875 8.5 21.578125 \nz\nM 31.109375 56 \nz\n\" id=\"DejaVuSans-117\"/>\n     <path d=\"M 11.71875 12.40625 \nL 22.015625 12.40625 \nL 22.015625 0 \nL 11.71875 0 \nz\nM 11.71875 51.703125 \nL 22.015625 51.703125 \nL 22.015625 39.3125 \nL 11.71875 39.3125 \nz\n\" id=\"DejaVuSans-58\"/>\n     <path d=\"M 19.671875 34.8125 \nL 19.671875 8.109375 \nL 35.5 8.109375 \nQ 43.453125 8.109375 47.28125 11.40625 \nQ 51.125 14.703125 51.125 21.484375 \nQ 51.125 28.328125 47.28125 31.5625 \nQ 43.453125 34.8125 35.5 34.8125 \nz\nM 19.671875 64.796875 \nL 19.671875 42.828125 \nL 34.28125 42.828125 \nQ 41.5 42.828125 45.03125 45.53125 \nQ 48.578125 48.25 48.578125 53.8125 \nQ 48.578125 59.328125 45.03125 62.0625 \nQ 41.5 64.796875 34.28125 64.796875 \nz\nM 9.8125 72.90625 \nL 35.015625 72.90625 \nQ 46.296875 72.90625 52.390625 68.21875 \nQ 58.5 63.53125 58.5 54.890625 \nQ 58.5 48.1875 55.375 44.234375 \nQ 52.25 40.28125 46.1875 39.3125 \nQ 53.46875 37.75 57.5 32.78125 \nQ 61.53125 27.828125 61.53125 20.40625 \nQ 61.53125 10.640625 54.890625 5.3125 \nQ 48.25 0 35.984375 0 \nL 9.8125 0 \nz\n\" id=\"DejaVuSans-66\"/>\n     <path d=\"M 4.203125 54.6875 \nL 13.1875 54.6875 \nL 24.421875 12.015625 \nL 35.59375 54.6875 \nL 46.1875 54.6875 \nL 57.421875 12.015625 \nL 68.609375 54.6875 \nL 77.59375 54.6875 \nL 63.28125 0 \nL 52.6875 0 \nL 40.921875 44.828125 \nL 29.109375 0 \nL 18.5 0 \nz\n\" id=\"DejaVuSans-119\"/>\n     <path d=\"M 34.28125 27.484375 \nQ 23.390625 27.484375 19.1875 25 \nQ 14.984375 22.515625 14.984375 16.5 \nQ 14.984375 11.71875 18.140625 8.90625 \nQ 21.296875 6.109375 26.703125 6.109375 \nQ 34.1875 6.109375 38.703125 11.40625 \nQ 43.21875 16.703125 43.21875 25.484375 \nL 43.21875 27.484375 \nz\nM 52.203125 31.203125 \nL 52.203125 0 \nL 43.21875 0 \nL 43.21875 8.296875 \nQ 40.140625 3.328125 35.546875 0.953125 \nQ 30.953125 -1.421875 24.3125 -1.421875 \nQ 15.921875 -1.421875 10.953125 3.296875 \nQ 6 8.015625 6 15.921875 \nQ 6 25.140625 12.171875 29.828125 \nQ 18.359375 34.515625 30.609375 34.515625 \nL 43.21875 34.515625 \nL 43.21875 35.40625 \nQ 43.21875 41.609375 39.140625 45 \nQ 35.0625 48.390625 27.6875 48.390625 \nQ 23 48.390625 18.546875 47.265625 \nQ 14.109375 46.140625 10.015625 43.890625 \nL 10.015625 52.203125 \nQ 14.9375 54.109375 19.578125 55.046875 \nQ 24.21875 56 28.609375 56 \nQ 40.484375 56 46.34375 49.84375 \nQ 52.203125 43.703125 52.203125 31.203125 \nz\n\" id=\"DejaVuSans-97\"/>\n     <path d=\"M 9.421875 75.984375 \nL 18.40625 75.984375 \nL 18.40625 0 \nL 9.421875 0 \nz\n\" id=\"DejaVuSans-108\"/>\n     <path d=\"M 48.78125 52.59375 \nL 48.78125 44.1875 \nQ 44.96875 46.296875 41.140625 47.34375 \nQ 37.3125 48.390625 33.40625 48.390625 \nQ 24.65625 48.390625 19.8125 42.84375 \nQ 14.984375 37.3125 14.984375 27.296875 \nQ 14.984375 17.28125 19.8125 11.734375 \nQ 24.65625 6.203125 33.40625 6.203125 \nQ 37.3125 6.203125 41.140625 7.25 \nQ 44.96875 8.296875 48.78125 10.40625 \nL 48.78125 2.09375 \nQ 45.015625 0.34375 40.984375 -0.53125 \nQ 36.96875 -1.421875 32.421875 -1.421875 \nQ 20.0625 -1.421875 12.78125 6.34375 \nQ 5.515625 14.109375 5.515625 27.296875 \nQ 5.515625 40.671875 12.859375 48.328125 \nQ 20.21875 56 33.015625 56 \nQ 37.15625 56 41.109375 55.140625 \nQ 45.0625 54.296875 48.78125 52.59375 \nz\n\" id=\"DejaVuSans-99\"/>\n     <path d=\"M 53.609375 52.59375 \nL 51.8125 43.703125 \nQ 48.578125 46.046875 44.9375 47.21875 \nQ 41.3125 48.390625 37.40625 48.390625 \nQ 33.109375 48.390625 29.21875 46.875 \nQ 25.34375 45.359375 22.703125 42.578125 \nQ 18.5 38.328125 16.203125 32.609375 \nQ 13.921875 26.90625 13.921875 20.796875 \nQ 13.921875 13.421875 17.609375 9.8125 \nQ 21.296875 6.203125 28.8125 6.203125 \nQ 32.515625 6.203125 36.6875 7.328125 \nQ 40.875 8.453125 45.40625 10.6875 \nL 43.703125 1.8125 \nQ 39.796875 0.203125 35.671875 -0.609375 \nQ 31.546875 -1.421875 27.203125 -1.421875 \nQ 16.3125 -1.421875 10.453125 4.015625 \nQ 4.59375 9.46875 4.59375 19.578125 \nQ 4.59375 28.078125 7.640625 35.234375 \nQ 10.6875 42.390625 16.703125 48.09375 \nQ 20.796875 52 26.3125 54 \nQ 31.84375 56 38.375 56 \nQ 42.1875 56 45.9375 55.140625 \nQ 49.703125 54.296875 53.609375 52.59375 \nz\n\" id=\"DejaVuSans-Oblique-99\"/>\n     <path d=\"M 10.59375 45.40625 \nL 73.1875 45.40625 \nL 73.1875 37.203125 \nL 10.59375 37.203125 \nz\nM 10.59375 25.484375 \nL 73.1875 25.484375 \nL 73.1875 17.1875 \nL 10.59375 17.1875 \nz\n\" id=\"DejaVuSans-61\"/>\n     <path d=\"M 31 75.875 \nQ 24.46875 64.65625 21.28125 53.65625 \nQ 18.109375 42.671875 18.109375 31.390625 \nQ 18.109375 20.125 21.3125 9.0625 \nQ 24.515625 -2 31 -13.1875 \nL 23.1875 -13.1875 \nQ 15.875 -1.703125 12.234375 9.375 \nQ 8.59375 20.453125 8.59375 31.390625 \nQ 8.59375 42.28125 12.203125 53.3125 \nQ 15.828125 64.359375 23.1875 75.875 \nz\n\" id=\"DejaVuSans-40\"/>\n     <path d=\"M 8.015625 75.875 \nL 15.828125 75.875 \nQ 23.140625 64.359375 26.78125 53.3125 \nQ 30.421875 42.28125 30.421875 31.390625 \nQ 30.421875 20.453125 26.78125 9.375 \nQ 23.140625 -1.703125 15.828125 -13.1875 \nL 8.015625 -13.1875 \nQ 14.5 -2 17.703125 9.0625 \nQ 20.90625 20.125 20.90625 31.390625 \nQ 20.90625 42.671875 17.703125 53.65625 \nQ 14.5 64.65625 8.015625 75.875 \nz\n\" id=\"DejaVuSans-41\"/>\n     <path d=\"M 45.40625 46.390625 \nL 45.40625 75.984375 \nL 54.390625 75.984375 \nL 54.390625 0 \nL 45.40625 0 \nL 45.40625 8.203125 \nQ 42.578125 3.328125 38.25 0.953125 \nQ 33.9375 -1.421875 27.875 -1.421875 \nQ 17.96875 -1.421875 11.734375 6.484375 \nQ 5.515625 14.40625 5.515625 27.296875 \nQ 5.515625 40.1875 11.734375 48.09375 \nQ 17.96875 56 27.875 56 \nQ 33.9375 56 38.25 53.625 \nQ 42.578125 51.265625 45.40625 46.390625 \nz\nM 14.796875 27.296875 \nQ 14.796875 17.390625 18.875 11.75 \nQ 22.953125 6.109375 30.078125 6.109375 \nQ 37.203125 6.109375 41.296875 11.75 \nQ 45.40625 17.390625 45.40625 27.296875 \nQ 45.40625 37.203125 41.296875 42.84375 \nQ 37.203125 48.484375 30.078125 48.484375 \nQ 22.953125 48.484375 18.875 42.84375 \nQ 14.796875 37.203125 14.796875 27.296875 \nz\n\" id=\"DejaVuSans-100\"/>\n    </defs>\n    <g transform=\"translate(7.2 16.32)scale(0.12 -0.12)\">\n     <use transform=\"translate(0 0.015625)\" xlink:href=\"#DejaVuSans-70\"/>\n     <use transform=\"translate(57.519531 0.015625)\" xlink:href=\"#DejaVuSans-105\"/>\n     <use transform=\"translate(85.302734 0.015625)\" xlink:href=\"#DejaVuSans-103\"/>\n     <use transform=\"translate(148.779297 0.015625)\" xlink:href=\"#DejaVuSans-117\"/>\n     <use transform=\"translate(212.158203 0.015625)\" xlink:href=\"#DejaVuSans-114\"/>\n     <use transform=\"translate(253.271484 0.015625)\" xlink:href=\"#DejaVuSans-101\"/>\n     <use transform=\"translate(314.794922 0.015625)\" xlink:href=\"#DejaVuSans-32\"/>\n     <use transform=\"translate(346.582031 0.015625)\" xlink:href=\"#DejaVuSans-50\"/>\n     <use transform=\"translate(410.205078 0.015625)\" xlink:href=\"#DejaVuSans-58\"/>\n     <use transform=\"translate(443.896484 0.015625)\" xlink:href=\"#DejaVuSans-32\"/>\n     <use transform=\"translate(475.683594 0.015625)\" xlink:href=\"#DejaVuSans-66\"/>\n     <use transform=\"translate(544.287109 0.015625)\" xlink:href=\"#DejaVuSans-101\"/>\n     <use transform=\"translate(605.810547 0.015625)\" xlink:href=\"#DejaVuSans-115\"/>\n     <use transform=\"translate(657.910156 0.015625)\" xlink:href=\"#DejaVuSans-116\"/>\n     <use transform=\"translate(697.119141 0.015625)\" xlink:href=\"#DejaVuSans-32\"/>\n     <use transform=\"translate(728.90625 0.015625)\" xlink:href=\"#DejaVuSans-114\"/>\n     <use transform=\"translate(770.019531 0.015625)\" xlink:href=\"#DejaVuSans-101\"/>\n     <use transform=\"translate(831.542969 0.015625)\" xlink:href=\"#DejaVuSans-115\"/>\n     <use transform=\"translate(883.642578 0.015625)\" xlink:href=\"#DejaVuSans-112\"/>\n     <use transform=\"translate(947.119141 0.015625)\" xlink:href=\"#DejaVuSans-111\"/>\n     <use transform=\"translate(1008.300781 0.015625)\" xlink:href=\"#DejaVuSans-110\"/>\n     <use transform=\"translate(1071.679688 0.015625)\" xlink:href=\"#DejaVuSans-115\"/>\n     <use transform=\"translate(1123.779297 0.015625)\" xlink:href=\"#DejaVuSans-101\"/>\n     <use transform=\"translate(1185.302734 0.015625)\" xlink:href=\"#DejaVuSans-32\"/>\n     <use transform=\"translate(1217.089844 0.015625)\" xlink:href=\"#DejaVuSans-102\"/>\n     <use transform=\"translate(1252.294922 0.015625)\" xlink:href=\"#DejaVuSans-111\"/>\n     <use transform=\"translate(1313.476562 0.015625)\" xlink:href=\"#DejaVuSans-114\"/>\n     <use transform=\"translate(1354.589844 0.015625)\" xlink:href=\"#DejaVuSans-32\"/>\n     <use transform=\"translate(1386.376953 0.015625)\" xlink:href=\"#DejaVuSans-102\"/>\n     <use transform=\"translate(1421.582031 0.015625)\" xlink:href=\"#DejaVuSans-105\"/>\n     <use transform=\"translate(1449.365234 0.015625)\" xlink:href=\"#DejaVuSans-114\"/>\n     <use transform=\"translate(1490.478516 0.015625)\" xlink:href=\"#DejaVuSans-109\"/>\n     <use transform=\"translate(1587.890625 0.015625)\" xlink:href=\"#DejaVuSans-115\"/>\n     <use transform=\"translate(1639.990234 0.015625)\" xlink:href=\"#DejaVuSans-32\"/>\n     <use transform=\"translate(1671.777344 0.015625)\" xlink:href=\"#DejaVuSans-119\"/>\n     <use transform=\"translate(1753.564453 0.015625)\" xlink:href=\"#DejaVuSans-105\"/>\n     <use transform=\"translate(1781.347656 0.015625)\" xlink:href=\"#DejaVuSans-116\"/>\n     <use transform=\"translate(1820.556641 0.015625)\" xlink:href=\"#DejaVuSans-104\"/>\n     <use transform=\"translate(1883.935547 0.015625)\" xlink:href=\"#DejaVuSans-32\"/>\n     <use transform=\"translate(1915.722656 0.015625)\" xlink:href=\"#DejaVuSans-109\"/>\n     <use transform=\"translate(2013.134766 0.015625)\" xlink:href=\"#DejaVuSans-97\"/>\n     <use transform=\"translate(2074.414062 0.015625)\" xlink:href=\"#DejaVuSans-114\"/>\n     <use transform=\"translate(2115.527344 0.015625)\" xlink:href=\"#DejaVuSans-103\"/>\n     <use transform=\"translate(2179.003906 0.015625)\" xlink:href=\"#DejaVuSans-105\"/>\n     <use transform=\"translate(2206.787109 0.015625)\" xlink:href=\"#DejaVuSans-110\"/>\n     <use transform=\"translate(2270.166016 0.015625)\" xlink:href=\"#DejaVuSans-97\"/>\n     <use transform=\"translate(2331.445312 0.015625)\" xlink:href=\"#DejaVuSans-108\"/>\n     <use transform=\"translate(2359.228516 0.015625)\" xlink:href=\"#DejaVuSans-32\"/>\n     <use transform=\"translate(2391.015625 0.015625)\" xlink:href=\"#DejaVuSans-99\"/>\n     <use transform=\"translate(2445.996094 0.015625)\" xlink:href=\"#DejaVuSans-111\"/>\n     <use transform=\"translate(2507.177734 0.015625)\" xlink:href=\"#DejaVuSans-115\"/>\n     <use transform=\"translate(2559.277344 0.015625)\" xlink:href=\"#DejaVuSans-116\"/>\n     <use transform=\"translate(2598.486328 0.015625)\" xlink:href=\"#DejaVuSans-32\"/>\n     <use transform=\"translate(2630.273438 0.015625)\" xlink:href=\"#DejaVuSans-Oblique-99\"/>\n     <use transform=\"translate(2704.736328 0.015625)\" xlink:href=\"#DejaVuSans-61\"/>\n     <use transform=\"translate(2808.007812 0.015625)\" xlink:href=\"#DejaVuSans-48\"/>\n     <use transform=\"translate(2871.630859 0.015625)\" xlink:href=\"#DejaVuSans-32\"/>\n     <use transform=\"translate(2903.417969 0.015625)\" xlink:href=\"#DejaVuSans-40\"/>\n     <use transform=\"translate(2942.431641 0.015625)\" xlink:href=\"#DejaVuSans-98\"/>\n     <use transform=\"translate(3005.908203 0.015625)\" xlink:href=\"#DejaVuSans-108\"/>\n     <use transform=\"translate(3033.691406 0.015625)\" xlink:href=\"#DejaVuSans-117\"/>\n     <use transform=\"translate(3097.070312 0.015625)\" xlink:href=\"#DejaVuSans-101\"/>\n     <use transform=\"translate(3158.59375 0.015625)\" xlink:href=\"#DejaVuSans-41\"/>\n     <use transform=\"translate(3197.607422 0.015625)\" xlink:href=\"#DejaVuSans-32\"/>\n     <use transform=\"translate(3229.394531 0.015625)\" xlink:href=\"#DejaVuSans-97\"/>\n     <use transform=\"translate(3290.673828 0.015625)\" xlink:href=\"#DejaVuSans-110\"/>\n     <use transform=\"translate(3354.052734 0.015625)\" xlink:href=\"#DejaVuSans-100\"/>\n     <use transform=\"translate(3417.529297 0.015625)\" xlink:href=\"#DejaVuSans-32\"/>\n     <use transform=\"translate(3449.316406 0.015625)\" xlink:href=\"#DejaVuSans-98\"/>\n     <use transform=\"translate(3512.792969 0.015625)\" xlink:href=\"#DejaVuSans-101\"/>\n     <use transform=\"translate(3574.316406 0.015625)\" xlink:href=\"#DejaVuSans-115\"/>\n     <use transform=\"translate(3626.416016 0.015625)\" xlink:href=\"#DejaVuSans-116\"/>\n     <use transform=\"translate(3665.625 0.015625)\" xlink:href=\"#DejaVuSans-32\"/>\n     <use transform=\"translate(3697.412109 0.015625)\" xlink:href=\"#DejaVuSans-114\"/>\n     <use transform=\"translate(3738.525391 0.015625)\" xlink:href=\"#DejaVuSans-101\"/>\n     <use transform=\"translate(3800.048828 0.015625)\" xlink:href=\"#DejaVuSans-115\"/>\n     <use transform=\"translate(3852.148438 0.015625)\" xlink:href=\"#DejaVuSans-112\"/>\n     <use transform=\"translate(3915.625 0.015625)\" xlink:href=\"#DejaVuSans-111\"/>\n     <use transform=\"translate(3976.806641 0.015625)\" xlink:href=\"#DejaVuSans-110\"/>\n     <use transform=\"translate(4040.185547 0.015625)\" xlink:href=\"#DejaVuSans-115\"/>\n     <use transform=\"translate(4092.285156 0.015625)\" xlink:href=\"#DejaVuSans-101\"/>\n     <use transform=\"translate(4153.808594 0.015625)\" xlink:href=\"#DejaVuSans-32\"/>\n     <use transform=\"translate(4185.595703 0.015625)\" xlink:href=\"#DejaVuSans-102\"/>\n     <use transform=\"translate(4220.800781 0.015625)\" xlink:href=\"#DejaVuSans-111\"/>\n     <use transform=\"translate(4281.982422 0.015625)\" xlink:href=\"#DejaVuSans-114\"/>\n     <use transform=\"translate(4323.095703 0.015625)\" xlink:href=\"#DejaVuSans-32\"/>\n     <use transform=\"translate(4354.882812 0.015625)\" xlink:href=\"#DejaVuSans-102\"/>\n     <use transform=\"translate(4390.087891 0.015625)\" xlink:href=\"#DejaVuSans-105\"/>\n     <use transform=\"translate(4417.871094 0.015625)\" xlink:href=\"#DejaVuSans-114\"/>\n     <use transform=\"translate(4458.984375 0.015625)\" xlink:href=\"#DejaVuSans-109\"/>\n     <use transform=\"translate(4556.396484 0.015625)\" xlink:href=\"#DejaVuSans-115\"/>\n    </g>\n    <!-- with increasing marginal cost (orange) given produciton level of the other firm -->\n    <defs>\n     <path d=\"M 2.984375 54.6875 \nL 12.5 54.6875 \nL 29.59375 8.796875 \nL 46.6875 54.6875 \nL 56.203125 54.6875 \nL 35.6875 0 \nL 23.484375 0 \nz\n\" id=\"DejaVuSans-118\"/>\n    </defs>\n    <g transform=\"translate(47.330625 29.78175)scale(0.12 -0.12)\">\n     <use xlink:href=\"#DejaVuSans-119\"/>\n     <use x=\"81.787109\" xlink:href=\"#DejaVuSans-105\"/>\n     <use x=\"109.570312\" xlink:href=\"#DejaVuSans-116\"/>\n     <use x=\"148.779297\" xlink:href=\"#DejaVuSans-104\"/>\n     <use x=\"212.158203\" xlink:href=\"#DejaVuSans-32\"/>\n     <use x=\"243.945312\" xlink:href=\"#DejaVuSans-105\"/>\n     <use x=\"271.728516\" xlink:href=\"#DejaVuSans-110\"/>\n     <use x=\"335.107422\" xlink:href=\"#DejaVuSans-99\"/>\n     <use x=\"390.087891\" xlink:href=\"#DejaVuSans-114\"/>\n     <use x=\"431.169922\" xlink:href=\"#DejaVuSans-101\"/>\n     <use x=\"492.693359\" xlink:href=\"#DejaVuSans-97\"/>\n     <use x=\"553.972656\" xlink:href=\"#DejaVuSans-115\"/>\n     <use x=\"606.072266\" xlink:href=\"#DejaVuSans-105\"/>\n     <use x=\"633.855469\" xlink:href=\"#DejaVuSans-110\"/>\n     <use x=\"697.234375\" xlink:href=\"#DejaVuSans-103\"/>\n     <use x=\"760.710938\" xlink:href=\"#DejaVuSans-32\"/>\n     <use x=\"792.498047\" xlink:href=\"#DejaVuSans-109\"/>\n     <use x=\"889.910156\" xlink:href=\"#DejaVuSans-97\"/>\n     <use x=\"951.189453\" xlink:href=\"#DejaVuSans-114\"/>\n     <use x=\"992.287109\" xlink:href=\"#DejaVuSans-103\"/>\n     <use x=\"1055.763672\" xlink:href=\"#DejaVuSans-105\"/>\n     <use x=\"1083.546875\" xlink:href=\"#DejaVuSans-110\"/>\n     <use x=\"1146.925781\" xlink:href=\"#DejaVuSans-97\"/>\n     <use x=\"1208.205078\" xlink:href=\"#DejaVuSans-108\"/>\n     <use x=\"1235.988281\" xlink:href=\"#DejaVuSans-32\"/>\n     <use x=\"1267.775391\" xlink:href=\"#DejaVuSans-99\"/>\n     <use x=\"1322.755859\" xlink:href=\"#DejaVuSans-111\"/>\n     <use x=\"1383.9375\" xlink:href=\"#DejaVuSans-115\"/>\n     <use x=\"1436.037109\" xlink:href=\"#DejaVuSans-116\"/>\n     <use x=\"1475.246094\" xlink:href=\"#DejaVuSans-32\"/>\n     <use x=\"1507.033203\" xlink:href=\"#DejaVuSans-40\"/>\n     <use x=\"1546.046875\" xlink:href=\"#DejaVuSans-111\"/>\n     <use x=\"1607.228516\" xlink:href=\"#DejaVuSans-114\"/>\n     <use x=\"1648.341797\" xlink:href=\"#DejaVuSans-97\"/>\n     <use x=\"1709.621094\" xlink:href=\"#DejaVuSans-110\"/>\n     <use x=\"1773\" xlink:href=\"#DejaVuSans-103\"/>\n     <use x=\"1836.476562\" xlink:href=\"#DejaVuSans-101\"/>\n     <use x=\"1898\" xlink:href=\"#DejaVuSans-41\"/>\n     <use x=\"1937.013672\" xlink:href=\"#DejaVuSans-32\"/>\n     <use x=\"1968.800781\" xlink:href=\"#DejaVuSans-103\"/>\n     <use x=\"2032.277344\" xlink:href=\"#DejaVuSans-105\"/>\n     <use x=\"2060.060547\" xlink:href=\"#DejaVuSans-118\"/>\n     <use x=\"2119.240234\" xlink:href=\"#DejaVuSans-101\"/>\n     <use x=\"2180.763672\" xlink:href=\"#DejaVuSans-110\"/>\n     <use x=\"2244.142578\" xlink:href=\"#DejaVuSans-32\"/>\n     <use x=\"2275.929688\" xlink:href=\"#DejaVuSans-112\"/>\n     <use x=\"2339.40625\" xlink:href=\"#DejaVuSans-114\"/>\n     <use x=\"2380.488281\" xlink:href=\"#DejaVuSans-111\"/>\n     <use x=\"2441.669922\" xlink:href=\"#DejaVuSans-100\"/>\n     <use x=\"2505.146484\" xlink:href=\"#DejaVuSans-117\"/>\n     <use x=\"2568.525391\" xlink:href=\"#DejaVuSans-99\"/>\n     <use x=\"2623.505859\" xlink:href=\"#DejaVuSans-105\"/>\n     <use x=\"2651.289062\" xlink:href=\"#DejaVuSans-116\"/>\n     <use x=\"2690.498047\" xlink:href=\"#DejaVuSans-111\"/>\n     <use x=\"2751.679688\" xlink:href=\"#DejaVuSans-110\"/>\n     <use x=\"2815.058594\" xlink:href=\"#DejaVuSans-32\"/>\n     <use x=\"2846.845703\" xlink:href=\"#DejaVuSans-108\"/>\n     <use x=\"2874.628906\" xlink:href=\"#DejaVuSans-101\"/>\n     <use x=\"2936.152344\" xlink:href=\"#DejaVuSans-118\"/>\n     <use x=\"2995.332031\" xlink:href=\"#DejaVuSans-101\"/>\n     <use x=\"3056.855469\" xlink:href=\"#DejaVuSans-108\"/>\n     <use x=\"3084.638672\" xlink:href=\"#DejaVuSans-32\"/>\n     <use x=\"3116.425781\" xlink:href=\"#DejaVuSans-111\"/>\n     <use x=\"3177.607422\" xlink:href=\"#DejaVuSans-102\"/>\n     <use x=\"3212.8125\" xlink:href=\"#DejaVuSans-32\"/>\n     <use x=\"3244.599609\" xlink:href=\"#DejaVuSans-116\"/>\n     <use x=\"3283.808594\" xlink:href=\"#DejaVuSans-104\"/>\n     <use x=\"3347.1875\" xlink:href=\"#DejaVuSans-101\"/>\n     <use x=\"3408.710938\" xlink:href=\"#DejaVuSans-32\"/>\n     <use x=\"3440.498047\" xlink:href=\"#DejaVuSans-111\"/>\n     <use x=\"3501.679688\" xlink:href=\"#DejaVuSans-116\"/>\n     <use x=\"3540.888672\" xlink:href=\"#DejaVuSans-104\"/>\n     <use x=\"3604.267578\" xlink:href=\"#DejaVuSans-101\"/>\n     <use x=\"3665.791016\" xlink:href=\"#DejaVuSans-114\"/>\n     <use x=\"3706.904297\" xlink:href=\"#DejaVuSans-32\"/>\n     <use x=\"3738.691406\" xlink:href=\"#DejaVuSans-102\"/>\n     <use x=\"3773.896484\" xlink:href=\"#DejaVuSans-105\"/>\n     <use x=\"3801.679688\" xlink:href=\"#DejaVuSans-114\"/>\n     <use x=\"3842.777344\" xlink:href=\"#DejaVuSans-109\"/>\n    </g>\n   </g>\n  </g>\n </g>\n <defs>\n  <clipPath id=\"p965aa8536a\">\n   <rect height=\"217.44\" width=\"334.8\" x=\"116.34\" y=\"35.78175\"/>\n  </clipPath>\n </defs>\n</svg>\n",
      "image/png": "[encoded data removed]"
     },
     "metadata": {
      "needs_background": "light"
     }
    }
   ],
   "source": [
    "plt.title(\"Figure 2: Best response for firms with marginal cost $c = 0$ (blue) and best response for firms\\nwith increasing marginal cost (orange) given produciton level of the other firm\")\n",
    "plt.ylabel(\"q best response\")\n",
    "plt.xlabel(\"q other firm\")\n",
    "plt.plot(costs, x)\n",
    "plt.plot(costs, y)"
   ]
  },
  {
   "cell_type": "code",
   "execution_count": 9,
   "metadata": {},
   "outputs": [
    {
     "output_type": "display_data",
     "data": {
      "text/plain": "interactive(children=(FloatSlider(value=0.0, description='$c_1$', max=5.0), FloatSlider(value=0.0, description…",
      "application/vnd.jupyter.widget-view+json": {
       "version_major": 2,
       "version_minor": 0,
       "model_id": "602e6a01b23e49ddbd022681e91807f8"
      }
     },
     "metadata": {}
    },
    {
     "output_type": "execute_result",
     "data": {
      "text/plain": "<function __main__.f(c1, c2)>"
     },
     "metadata": {},
     "execution_count": 9
    }
   ],
   "source": [
    "\n",
    "prod1 = np.arange(0,5,0.1)\n",
    "prod2 = np.arange(0,5,0.1)\n",
    "\n",
    "def f(c1,c2):\n",
    "#Create empty lists:\n",
    "    x = []\n",
    "    y = []\n",
    "\n",
    "    for q2 in prod2:\n",
    "        q1 = round(best_response1(q2,10,c1),3)\n",
    "        x.append(q1) #Adding data to the x-list\n",
    "\n",
    "    for q1 in prod1:\n",
    "        q2 = round(best_response2(q1,10,c2),3)\n",
    "        y.append(q2) #Adding data to the y-list\n",
    "        \n",
    "    #Creating figure 3:\n",
    "    plt.title(\"Figure 3: Best response for firm 1 with marginal cost $c_1$ (blue) and best response for\\nfirm 2 with marginal cost $c_2$ (orange) given produciton level of the other firm\")\n",
    "    plt.ylabel(\"q best response\")\n",
    "    plt.xlabel(\"q other firm\")\n",
    "    plt.plot(prod2,x)\n",
    "    plt.plot(prod1,y)\n",
    "\n",
    "widgets.interact(f,\n",
    "    c1 = widgets.FloatSlider(description=\"$c_1$\",min=0,max=5),\n",
    "    c2 = widgets.FloatSlider(description=\"$c_2$\",min=0,max=5),\n",
    " )"
   ]
  },
  {
   "cell_type": "markdown",
   "metadata": {},
   "source": [
    "# Further analysis"
   ]
  },
  {
   "cell_type": "markdown",
   "metadata": {},
   "source": [
    "We extend the analysis by looking at firms with assymetric cost functions. We will look at a situation with 2 firms\n",
    "\n"
   ]
  },
  {
   "cell_type": "code",
   "execution_count": null,
   "metadata": {},
   "outputs": [],
   "source": []
  },
  {
   "cell_type": "code",
   "execution_count": null,
   "metadata": {},
   "outputs": [],
   "source": []
  },
  {
   "cell_type": "code",
   "execution_count": null,
   "metadata": {},
   "outputs": [],
   "source": []
  },
  {
   "cell_type": "code",
   "execution_count": null,
   "metadata": {},
   "outputs": [],
   "source": [
    "# We start by defining the linear demand function:\n",
    "def p_total(qa,qb,c):\n",
    "    return (c-(qa+qb))\n",
    "\n",
    "#Defining the cost function of firm A:\n",
    "def c_A(qa,k):\n",
    "    return ((k/2)*qa**2)\n",
    "\n",
    "#Defining the cost function of firm B:\n",
    "def c_B(qb,k):\n",
    "    return (k*qb**2)\n",
    "\n",
    "#The profitfunction of firm A:\n",
    "def profit_A(qa,qb,c,k):\n",
    "    return (p_total(qa,qb,c) * qa - c_A(qa,k))\n",
    "    \n",
    "#The profitfunction of firm B:\n",
    "def profit_B(qa,qb,c,k):\n",
    "    return (p_total(qa,qb,c) * qb - c_B(qb,k))"
   ]
  },
  {
   "cell_type": "code",
   "execution_count": null,
   "metadata": {},
   "outputs": [],
   "source": [
    "#We start by setting the values:\n",
    "c=50\n",
    "k=3\n",
    "\n",
    "#The derivative:\n",
    "foc_a = diff(profit_A(qa,qb,c,k),qa)\n",
    "foc_b = diff(profit_B(qa,qb,c,k),qb)\n",
    "display(foc_a,foc_b)\n",
    "\n",
    "#The best responsefunctions \n",
    "sola= sm.solve(sm.Eq(foc_a,0),qa)[0]\n",
    "solb= sm.solve(sm.Eq(foc_b,0),qb)[0]\n",
    "print(\"\\n Firm A's best response is given by: q_a = \" + str(sola) + \" and firm B's best response is given by: q_b =\" + str(solb) )\n",
    "\n",
    "solve([foc_a, foc_b], [qa, qb])"
   ]
  },
  {
   "cell_type": "code",
   "execution_count": null,
   "metadata": {},
   "outputs": [],
   "source": [
    "# Conclusion"
   ]
  },
  {
   "cell_type": "code",
   "execution_count": null,
   "metadata": {},
   "outputs": [],
   "source": []
  },
  {
   "cell_type": "code",
   "execution_count": null,
   "metadata": {},
   "outputs": [],
   "source": []
  }
 ],
 "metadata": {
  "kernelspec": {
   "display_name": "Python 3",
   "language": "python",
   "name": "python3"
  },
  "language_info": {
   "codemirror_mode": {
    "name": "ipython",
    "version": 3
   },
   "file_extension": ".py",
   "mimetype": "text/x-python",
   "name": "python",
   "nbconvert_exporter": "python",
   "pygments_lexer": "ipython3",
   "version": "3.7.4-final"
  }
 },
 "nbformat": 4,
 "nbformat_minor": 2
}