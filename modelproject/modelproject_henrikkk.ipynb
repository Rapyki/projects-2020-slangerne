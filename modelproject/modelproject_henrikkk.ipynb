{
 "cells": [
  {
   "cell_type": "markdown",
   "metadata": {},
   "source": [
    "# The Cournot Model"
   ]
  },
  {
   "cell_type": "markdown",
   "metadata": {},
   "source": [
    "In this project we will analyze the traditionel Cournot model, known from lectures at the Micro 1,2 and 3. In a Cournot the firms competes in quantities thereby choosing the quantites taken into account the best response of the other firms to that quantity. Firstly, we set up a general case for N competeting firms. Then we will simplify the setting and analyze a case firm case. "
   ]
  },
  {
   "cell_type": "code",
   "execution_count": 78,
   "metadata": {},
   "outputs": [],
   "source": [
    "# Importing useful packages e\n",
    "import numpy as np\n",
    "import scipy as sp\n",
    "import sympy as sm\n",
    "import matplotlib.pyplot as plt\n",
    "import ipywidgets as widgets\n",
    "import pylab\n",
    "\n",
    "from numpy import array\n",
    "from scipy import linalg\n",
    "from scipy import optimize\n",
    "\n",
    "\n",
    "\n",
    "# Sympy package helps writting  \n",
    "\n",
    "sm.init_printing(use_unicode=True)\n",
    "\n",
    "from sympy import *"
   ]
  },
  {
   "cell_type": "markdown",
   "metadata": {},
   "source": [
    "## The setting og the model:\n",
    "\n",
    "We examine a market with $N$ firms, whom produce the same homogenous good. Furthermore we assume that the aggregate demand of the good x is linearly given by:\n",
    "$$p(x)=c-x$$\n",
    "Every firm $i$ has a costfunction given by:\n",
    "$$C(x_i)=k*x_i^2$$ where the aggregate guantity in the market is given as $x=\\sum_{j=0}^N(x_j)$\n",
    "\n",
    "We then have that firm $i$ wish to maximize his profitfunction given by:\n",
    "$$\\underset{x_i}{max}: p(\\sum_{j=0}^Nx_j)x_i)-C(x_i) =p(x)x_i-C(x_i)$$\n",
    "\n",
    "So we have that firm $i$ is going to choose how much to produce given what the other firms in the market produces. It is intuitively that for $N\\rightarrow \\infty$ this modelsetup describes the setting of perfect competition. Futhermore it is intuitive to imagine that for $N\\rightarrow 1$ the setting describes a monopolistic competition situation. These two outer cases will be examized later in the project.\n",
    "\n",
    "We will now examine the more interessting case when there is only 2 firms  (A and B) competiting. We assume that firm a has a costfunction given by: $C_A=\\frac{k}{2}*x_a^3$. The costfunction of firm b: $C_B=k*x_b^2$. \n"
   ]
  },
  {
   "cell_type": "code",
   "execution_count": 79,
   "metadata": {},
   "outputs": [],
   "source": [
    "\n",
    "# Defining the elements in the firms choice\n",
    "\n",
    "c = sm.symbols('c')\n",
    "qa, qb = sm.symbols('q_a q_b') \n",
    "k = sm.symbols('k')"
   ]
  },
  {
   "cell_type": "code",
   "execution_count": 80,
   "metadata": {},
   "outputs": [],
   "source": [
    "# We start by defining the linear demand function:\n",
    "def p_total(qa,qb,c):\n",
    "    return (c-(qa+qb))\n",
    "\n",
    "#Defining the cost function of firm A:\n",
    "def c_A(qa,k):\n",
    "    return (k/2*qa**2)\n",
    "\n",
    "#Defining the cost function of firm B:\n",
    "def c_B(qb,k):\n",
    "    return (k*qb**2)\n",
    "\n",
    "#The profitfunction of firm A:\n",
    "def profit_A(qa,qb,c,k):\n",
    "    return (p_total(qa,qb,c) * qa - c_A(qa,k))\n",
    "    \n",
    "#The profitfunction of firm B:\n",
    "def profit_B(qa,qb,c,k):\n",
    "    return (p_total(qa,qb,c) * qb - c_B(qb,k))"
   ]
  },
  {
   "cell_type": "code",
   "execution_count": 81,
   "metadata": {},
   "outputs": [
    {
     "output_type": "display_data",
     "data": {
      "text/plain": "c - k⋅qₐ - 2⋅qₐ - q_b",
      "image/png": "[encoded data removed]",
      "text/latex": "$\\displaystyle c - k q_{a} - 2 q_{a} - q_{b}$"
     },
     "metadata": {}
    },
    {
     "output_type": "display_data",
     "data": {
      "text/plain": "c - 2⋅k⋅q_b - qₐ - 2⋅q_b",
      "image/png": "[encoded data removed]",
      "text/latex": "$\\displaystyle c - 2 k q_{b} - q_{a} - 2 q_{b}$"
     },
     "metadata": {}
    }
   ],
   "source": [
    "#We will now find the derivative, for which we will use to find the best response functions\n",
    "\n",
    "foc_a = diff(profit_A(qa,qb,c,k),qa)\n",
    "foc_b = diff(profit_B(qa,qb,c,k),qb)\n",
    "display(foc_a,foc_b)\n"
   ]
  },
  {
   "cell_type": "code",
   "execution_count": 82,
   "metadata": {},
   "outputs": [
    {
     "output_type": "stream",
     "name": "stdout",
     "text": "\n Firm A's best response is given by: q_a = (c - q_b)/(k + 2) and firm B's best response is given by: q_b =(c - q_a)/(2*(k + 1))\n"
    }
   ],
   "source": [
    "#We find the best responsefunctions by isolating respectively qa and qb in the above found derivatives\n",
    "sola= sm.solve(sm.Eq(foc_a,0),qa)[0]\n",
    "solb= sm.solve(sm.Eq(foc_b,0),qb)[0]\n",
    "solb\n",
    "print(\"\\n Firm A's best response is given by: q_a = \" + str(sola) + \" and firm B's best response is given by: q_b =\" + str(solb) )"
   ]
  },
  {
   "cell_type": "code",
   "execution_count": 83,
   "metadata": {},
   "outputs": [
    {
     "output_type": "display_data",
     "data": {
      "text/plain": "⎡ c⋅(2⋅k + 1)  ⎤\n⎢──────────────⎥\n⎢   2          ⎥\n⎣2⋅k  + 6⋅k + 3⎦",
      "image/png": "[encoded data removed]",
      "text/latex": "$\\displaystyle \\left[ \\frac{c \\left(2 k + 1\\right)}{2 k^{2} + 6 k + 3}\\right]$"
     },
     "metadata": {}
    },
    {
     "output_type": "display_data",
     "data": {
      "text/plain": "⎡  c⋅(k + 1)   ⎤\n⎢──────────────⎥\n⎢   2          ⎥\n⎣2⋅k  + 6⋅k + 3⎦",
      "image/png": "[encoded data removed]",
      "text/latex": "$\\displaystyle \\left[ \\frac{c \\left(k + 1\\right)}{2 k^{2} + 6 k + 3}\\right]$"
     },
     "metadata": {}
    }
   ],
   "source": [
    "#To find the quantity firm A wants to produce we substitute firm B's best response function into firm A's bestreponse and then solving for q_a \n",
    "sola_subs = foc_a.subs(qb,solb) #substituting the best response into the FOC of firm A\n",
    "sola_subs\n",
    "q_astar = solve(sola_subs,qa) #Solving for q_a\n",
    "solb_subs = foc_b.subs(qa,sola) #substituting the best response into the FOC of firm A\n",
    "q_bstar = solve(solb_subs,qb)\n",
    "display (q_astar, q_bstar)"
   ]
  },
  {
   "cell_type": "code",
   "execution_count": 84,
   "metadata": {},
   "outputs": [
    {
     "output_type": "execute_result",
     "data": {
      "text/plain": "⎧     c⋅(2⋅k + 1)               c⋅(k + 1)      ⎫\n⎪qₐ: ──────────────, q_b: ─────────────────────⎪\n⎨       2                 2⋅(k + 1)⋅(k + 2) - 1⎬\n⎪    2⋅k  + 6⋅k + 3                            ⎪\n⎩                                              ⎭",
      "image/png": "[encoded data removed]",
      "text/latex": "$\\displaystyle \\left\\{ q_{a} : \\frac{c \\left(2 k + 1\\right)}{2 k^{2} + 6 k + 3}, \\  q_{b} : \\frac{c \\left(k + 1\\right)}{2 \\left(k + 1\\right) \\left(k + 2\\right) - 1}\\right\\}$"
     },
     "metadata": {},
     "execution_count": 84
    }
   ],
   "source": [
    "#Here we find the optimal quantities for both firms, where the firms take into account the best response of the other firm.\n",
    "\n",
    "solve([foc_a, foc_b], [qa, qb]) #solving 2 equations with 2 unknowns "
   ]
  },
  {
   "cell_type": "code",
   "execution_count": 85,
   "metadata": {},
   "outputs": [
    {
     "output_type": "display_data",
     "data": {
      "text/plain": "[c*(2*k + 1)/(2*k**2 + 6*k + 3)]"
     },
     "metadata": {}
    },
    {
     "output_type": "display_data",
     "data": {
      "text/plain": "[c*(k + 1)/(2*k**2 + 6*k + 3)]"
     },
     "metadata": {}
    },
    {
     "output_type": "execute_result",
     "data": {
      "text/plain": "c - q_a - q_b"
     },
     "metadata": {},
     "execution_count": 85
    }
   ],
   "source": [
    "#We are now able of finding the prices the firms will take for the good and the profit each firm get:\n",
    "\n",
    "#(virker ikke - men her skulle vi gerne have beregning profit og priserne)\n",
    "sm.init_printing(pretty_print=False)\n",
    "display(q_astar,q_bstar)\n",
    "p_total(4,5,6)\n",
    "p_total(qa,qb,c)\n",
    "\n",
    "\n"
   ]
  },
  {
   "cell_type": "code",
   "execution_count": 86,
   "metadata": {},
   "outputs": [
    {
     "output_type": "error",
     "ename": "SyntaxError",
     "evalue": "invalid syntax (<ipython-input-86-2a430b0b3bf8>, line 1)",
     "traceback": [
      "\u001b[1;36m  File \u001b[1;32m\"<ipython-input-86-2a430b0b3bf8>\"\u001b[1;36m, line \u001b[1;32m1\u001b[0m\n\u001b[1;33m    Ved ikke helt hvad denne gør\u001b[0m\n\u001b[1;37m           ^\u001b[0m\n\u001b[1;31mSyntaxError\u001b[0m\u001b[1;31m:\u001b[0m invalid syntax\n"
     ]
    }
   ],
   "source": [
    "Ved ikke helt hvad denne gør\n",
    "#def reaction(qb,c,k):\n",
    "    qa = optimize.brute(lambda x: -profit(qa,qb,c,k), ((0,1,),)) # brute minimizes the function;\n",
    "                                                                 # when we minimize -profits, we maximize profits\n",
    "    return x1[0]"
   ]
  },
  {
   "cell_type": "markdown",
   "metadata": {},
   "source": [
    "# Numerical example"
   ]
  },
  {
   "cell_type": "markdown",
   "metadata": {},
   "source": [
    "We will now examine the above 2 firm case, where we assume that $c=50$. Furthermore we assume that $k=3$"
   ]
  },
  {
   "cell_type": "code",
   "execution_count": 89,
   "metadata": {},
   "outputs": [
    {
     "output_type": "display_data",
     "data": {
      "text/plain": "-5.0*q_a - q_b + 50"
     },
     "metadata": {}
    },
    {
     "output_type": "display_data",
     "data": {
      "text/plain": "-q_a - 8*q_b + 50"
     },
     "metadata": {}
    },
    {
     "output_type": "stream",
     "name": "stdout",
     "text": "\n Firm A's best response is given by: q_a = 10.0 - 0.2*q_b and firm B's best response is given by: q_b =25/4 - q_a/8\n"
    }
   ],
   "source": [
    "#We start by setting the values:\n",
    "c=50\n",
    "k=3\n",
    "\n",
    "#The derivative:\n",
    "foc_a = diff(profit_A(qa,qb,c,k),qa)\n",
    "foc_b = diff(profit_B(qa,qb,c,k),qb)\n",
    "display(foc_a,foc_b)\n",
    "\n",
    "#The best responsefunctions \n",
    "sola= sm.solve(sm.Eq(foc_a,0),qa)[0]\n",
    "solb= sm.solve(sm.Eq(foc_b,0),qb)[0]\n",
    "print(\"\\n Firm A's best response is given by: q_a = \" + str(sola) + \" and firm B's best response is given by: q_b =\" + str(solb) )\n",
    "\n"
   ]
  },
  {
   "cell_type": "code",
   "execution_count": 90,
   "metadata": {},
   "outputs": [
    {
     "output_type": "display_data",
     "data": {
      "text/plain": "[8.97435897435897]"
     },
     "metadata": {}
    },
    {
     "output_type": "display_data",
     "data": {
      "text/plain": "[5.12820512820513]"
     },
     "metadata": {}
    }
   ],
   "source": [
    "#We can now calculate the quantity firm A wants to produce, using the best response function of firm b \n",
    "sola_subs = foc_a.subs(qb,solb) #substituting the best response into the FOC of firm A\n",
    "q_astar = solve(sola_subs,qa) #Solving for q_a\n",
    "solb_subs = foc_b.subs(qa,sola) #substituting the best response into the FOC of firm A\n",
    "q_bstar = solve(solb_subs,qb)\n",
    "display (q_astar, q_bstar)"
   ]
  },
  {
   "cell_type": "code",
   "execution_count": 119,
   "metadata": {},
   "outputs": [
    {
     "output_type": "stream",
     "name": "stdout",
     "text": "\n The price of the good:35.8974358974359\n"
    }
   ],
   "source": [
    "#As the above quantities os given as lists we start by defining/converting the list into a float:\n",
    "type(q_astar)\n",
    "qqa=q_astar[0]\n",
    "qqb=q_bstar[0]\n",
    "#We can now find the price of the good:\n",
    "print(\"\\n The price of the good: \" + str(p_total(qqa,qqb,c)) ) \n"
   ]
  },
  {
   "cell_type": "code",
   "execution_count": 109,
   "metadata": {},
   "outputs": [
    {
     "output_type": "stream",
     "name": "stdout",
     "text": "\n The profit of firm A: $\\Pi$ = 201.347797501644 and firm B's best response is given by: q_b =105.193951347798\n"
    },
    {
     "output_type": "display_data",
     "data": {
      "text/plain": "201.347797501644"
     },
     "metadata": {}
    }
   ],
   "source": [
    "#We can now find the profit of each firm:\n",
    "print(\"\\n The profit of firm A: $\\Pi$ = \" + str(profit_A(qqa,qqb,c,k)) + \" and firm B's best response is given by: q_b =\" + str(profit_B(qqa,qqb,c,k)) )\n"
   ]
  },
  {
   "cell_type": "code",
   "execution_count": 70,
   "metadata": {},
   "outputs": [
    {
     "output_type": "execute_result",
     "data": {
      "text/plain": "c - k*q_a - 2*q_a - (c - q_a)/(2*(k + 1))"
     },
     "metadata": {},
     "execution_count": 70
    }
   ],
   "source": [
    "\n",
    "# Best response of q1, substituting the q2 in equation 1\n",
    "\n",
    "sol1_subs = foc_a.subs(qb,solb)\n",
    "sol1_subs"
   ]
  },
  {
   "cell_type": "code",
   "execution_count": null,
   "metadata": {},
   "outputs": [],
   "source": []
  },
  {
   "cell_type": "code",
   "execution_count": 72,
   "metadata": {},
   "outputs": [],
   "source": [
    "q_guess = [1] #randomly set\n",
    "\n",
    "def best_responseA(qb,c,k):\n",
    "    qa_opt = optimize.minimize(lambda x0: -profitA(q_guess,qb,c,d,k), q_guess).x[0]\n",
    "    return qa_opt\n",
    "\n",
    "def best_responseB(qa,c,k):\n",
    "    qb_opt = optimize.minimize(lambda x0: -profitB(q_guess,qa,c,d,o), q_guess).x[0]\n",
    "    return qb_opt\n"
   ]
  },
  {
   "cell_type": "code",
   "execution_count": 73,
   "metadata": {},
   "outputs": [],
   "source": [
    "\n",
    "def conditions(q,parameters):\n",
    "    u = q[0] - best_responseA(q[1],parameters[0],parameters[1])\n",
    "    y = q[1] - best_responseB(q[0],parameters[0],parameters[2])\n",
    "    return [u,y]"
   ]
  },
  {
   "cell_type": "code",
   "execution_count": 74,
   "metadata": {},
   "outputs": [
    {
     "output_type": "display_data",
     "data": {
      "text/plain": "interactive(children=(FloatSlider(value=0.0, description='$c_1$', max=5.0), FloatSlider(value=0.0, description…",
      "application/vnd.jupyter.widget-view+json": {
       "version_major": 2,
       "version_minor": 0,
       "model_id": "bd99d5e428ff4410a77b2289e3ea1eff"
      }
     },
     "metadata": {}
    },
    {
     "output_type": "execute_result",
     "data": {
      "text/plain": "<function __main__.f(c, d, a, k)>"
     },
     "metadata": {},
     "execution_count": 74
    }
   ],
   "source": [
    "\n",
    "q = [2,2]\n",
    "\n",
    "# Here we define the function, f, which contains a solver that solves the Nash equilibrium,\n",
    "# given the parameters that are chosen in the sliders below.\n",
    "\n",
    "def f(c,d,a,k):\n",
    "    parameters = [a,c,d,k]\n",
    "    solver = optimize.fsolve(conditions,q,args=(parameters))\n",
    "    if solver[0] < 0:\n",
    "        solver[0] = 0\n",
    "    if solver[1] < 0:\n",
    "        solver[1] = 0\n",
    "        \n",
    "    print(\"\\n Nash Equilibrium: \\n The Nash equilibrium, firm 1 produces \" + str(round(solver[0],2)) + \" units and firm 2 produces \" + str(round(solver[1],2)) + \" units.\")\n",
    "\n",
    "# Here three sliders are created:\n",
    "    \n",
    "widgets.interact(f,\n",
    "    c = widgets.FloatSlider(description=\"$c_1$\",min=0,max=5),\n",
    "    d = widgets.FloatSlider(description=\"$c_2$\",min=0,max=5),\n",
    "    a = widgets.FloatSlider(description=\"$a$\", min=5,max=10),\n",
    "    k = widgets.FloatSlider(description=\"$k$\", min=5,max=10),\n",
    "    o = widgets.FloatSlider(description=\"$o$\", min=5,max=10),\n",
    " )"
   ]
  },
  {
   "cell_type": "code",
   "execution_count": 75,
   "metadata": {},
   "outputs": [
    {
     "output_type": "error",
     "ename": "NameError",
     "evalue": "name 'd' is not defined",
     "traceback": [
      "\u001b[1;31m---------------------------------------------------------------------------\u001b[0m",
      "\u001b[1;31mNameError\u001b[0m                                 Traceback (most recent call last)",
      "\u001b[1;32m<ipython-input-75-e7546003a66a>\u001b[0m in \u001b[0;36m<module>\u001b[1;34m\u001b[0m\n\u001b[1;32m----> 1\u001b[1;33m \u001b[0mfoc1\u001b[0m \u001b[1;33m=\u001b[0m \u001b[0mdiff\u001b[0m\u001b[1;33m(\u001b[0m\u001b[0mprofit_A\u001b[0m\u001b[1;33m(\u001b[0m\u001b[0mqa\u001b[0m\u001b[1;33m,\u001b[0m\u001b[0mqb\u001b[0m\u001b[1;33m,\u001b[0m\u001b[0mc\u001b[0m\u001b[1;33m,\u001b[0m\u001b[0md\u001b[0m\u001b[1;33m,\u001b[0m\u001b[0mk\u001b[0m\u001b[1;33m)\u001b[0m\u001b[1;33m,\u001b[0m\u001b[0mqa\u001b[0m\u001b[1;33m)\u001b[0m\u001b[1;33m\u001b[0m\u001b[1;33m\u001b[0m\u001b[0m\n\u001b[0m\u001b[0;32m      2\u001b[0m \u001b[0mfoc2\u001b[0m \u001b[1;33m=\u001b[0m \u001b[0mdiff\u001b[0m\u001b[1;33m(\u001b[0m\u001b[0mprofit_B\u001b[0m\u001b[1;33m(\u001b[0m\u001b[0mqa\u001b[0m\u001b[1;33m,\u001b[0m\u001b[0mqb\u001b[0m\u001b[1;33m,\u001b[0m\u001b[0md\u001b[0m\u001b[1;33m,\u001b[0m\u001b[0mc\u001b[0m\u001b[1;33m,\u001b[0m\u001b[0mk\u001b[0m\u001b[1;33m,\u001b[0m\u001b[0mw\u001b[0m\u001b[1;33m)\u001b[0m\u001b[1;33m,\u001b[0m\u001b[0mqb\u001b[0m\u001b[1;33m)\u001b[0m\u001b[1;33m\u001b[0m\u001b[1;33m\u001b[0m\u001b[0m\n",
      "\u001b[1;31mNameError\u001b[0m: name 'd' is not defined"
     ]
    }
   ],
   "source": [
    "foc1 = diff(profit_A(qa,qb,c,d,k),qa)\n",
    "foc2 = diff(profit_B(qa,qb,d,c,k,w),qb)"
   ]
  },
  {
   "cell_type": "code",
   "execution_count": 76,
   "metadata": {},
   "outputs": [],
   "source": [
    "def conditions(q,parameters):\n",
    "    u = q[0] - best_response1(q[1],parameters[0],parameters[1])\n",
    "    y = q[1] - best_response2(q[0],parameters[0],parameters[2])\n",
    "    return [u,y]"
   ]
  }
 ],
 "metadata": {
  "language_info": {
   "codemirror_mode": {
    "name": "ipython",
    "version": 3
   },
   "file_extension": ".py",
   "mimetype": "text/x-python",
   "name": "python",
   "nbconvert_exporter": "python",
   "pygments_lexer": "ipython3",
   "version": "3.7.4-final"
  },
  "orig_nbformat": 2,
  "kernelspec": {
   "name": "python3",
   "display_name": "Python 3"
  }
 },
 "nbformat": 4,
 "nbformat_minor": 2
}