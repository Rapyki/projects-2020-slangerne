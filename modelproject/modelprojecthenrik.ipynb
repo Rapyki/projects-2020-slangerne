{
 "cells": [
  {
   "cell_type": "markdown",
   "metadata": {},
   "source": [
    "# The Cournot Model"
   ]
  },
  {
   "cell_type": "markdown",
   "metadata": {},
   "source": [
    "In this project we will analyze the traditionel Cournot model, known from lectures at the Micro 1,2 and 3. In a Cournot the firms competes in quantities thereby choosing the quantites taken into account the best response of the other firms to that quantity. Firstly, we will present the settings of the model. This is followed by an analytic and numerical solution of a setting where the firms have asymmetric cost functions. Then we will simplify the settings and analyze an analytical and numerical for a case with symmetric cost functions. Further we test how this simplified case is affected by the number of firms."
   ]
  },
  {
   "cell_type": "code",
   "execution_count": 31,
   "metadata": {},
   "outputs": [
    {
     "output_type": "execute_result",
     "data": {
      "text/plain": "'\\n# autoreload modules when code is run\\n%reload_ext autoreload\\n%autoreload 2\\n\\n# Importing useful packages\\nimport numpy as np\\nimport scipy as sp\\nimport sympy as sm\\nimport matplotlib.pyplot as plt\\nimport ipywidgets as widgets\\nimport pylab\\n\\nfrom ipywidgets import interact, interactive, fixed, interact_manual\\n\\nimport modelproject as mpy\\n\\n# Er nedenstående nødvendige?\\nfrom numpy import array\\nfrom scipy import linalg\\nfrom scipy import optimize\\n\\n# Sympy package helps writing  \\nsm.init_printing(use_unicode=True)\\n\\nfrom sympy import *\\n'"
     },
     "metadata": {},
     "execution_count": 31
    }
   ],
   "source": [
    "\"\"\"\n",
    "# autoreload modules when code is run\n",
    "%reload_ext autoreload\n",
    "%autoreload 2\n",
    "\n",
    "# Importing useful packages\n",
    "import numpy as np\n",
    "import scipy as sp\n",
    "import sympy as sm\n",
    "import matplotlib.pyplot as plt\n",
    "import ipywidgets as widgets\n",
    "import pylab\n",
    "\n",
    "from ipywidgets import interact, interactive, fixed, interact_manual\n",
    "\n",
    "import modelproject as mpy\n",
    "\n",
    "# Er nedenstående nødvendige?\n",
    "from numpy import array\n",
    "from scipy import linalg\n",
    "from scipy import optimize\n",
    "\n",
    "# Sympy package helps writing  \n",
    "sm.init_printing(use_unicode=True)\n",
    "\n",
    "from sympy import *\n",
    "\"\"\""
   ]
  },
  {
   "cell_type": "code",
   "execution_count": 32,
   "metadata": {},
   "outputs": [],
   "source": [
    "# Importing packages\n",
    "from __future__ import print_function\n",
    "import numpy as np\n",
    "import scipy as sp\n",
    "import sympy as sm\n",
    "import matplotlib.pyplot as plt\n",
    "import ipywidgets as widgets\n",
    "from ipywidgets import interact, interactive, fixed, interact_manual\n",
    "from IPython.display import display\n",
    "from sympy import simplify\n",
    "import modelproject as mpy"
   ]
  },
  {
   "cell_type": "markdown",
   "metadata": {},
   "source": [
    "## The setting of the model:\n",
    "\n",
    "We examine a market with $N$ firms, whom produce the same homogenous good. Thereby the good produced of firm $i$ is a perfect substitute for a good produced og firm $j$. Furthermore we assume that the aggregate demand of the good $x$ is linearly given by:\n",
    "$$p(x)=a-b*x$$\n",
    "Every firm $i$ has a costfunction given by:\n",
    "$$C(x_i)=k*x_i^2$$ where the aggregate quantity in the market is given as:\n",
    "$$x=\\sum_{j=0}^N(x_j)$$\n",
    "\n",
    "We then have that firm $i$ wish to maximize his profitfunction given by:\n",
    "$$\\underset{x_i}{max}: p(\\sum_{j=0}^Nx_j)x_i)-C(x_i) =p(x)x_i-C(x_i)$$\n",
    "\n",
    "So we have that firm $i$ is going to choose how much to produce given what the other firms in the market produces. It is intuitively that for  $N \\rightarrow \\infty$ \n",
    "this modelsetup describes the setting of perfect competition. Futhermore it is intuitive to imagine that for $N\\rightarrow 1$ \n",
    "the setting describes a monopolistic competition situation. These two outer cases will be examized later in the project."
   ]
  },
  {
   "cell_type": "markdown",
   "metadata": {},
   "source": [
    "## Analytical Solution for 2 firms\n",
    "\n",
    "We will now examine the analytical solution for only 2 firms  (A and B) competiting with assymetric cost functions. We assume that firm A has a cost function given by: $C_A=\\frac{k}{2}*x_a^2$. The cost function of firm B is given by: $C_B=k*x_b^2$. "
   ]
  },
  {
   "cell_type": "code",
   "execution_count": 33,
   "metadata": {},
   "outputs": [],
   "source": [
    "# Defining the elements in the firms choice\n",
    "\n",
    "a = sm.symbols('a')\n",
    "b = sm.symbols('b')\n",
    "qa, qb = sm.symbols('q_a q_b') \n",
    "k = sm.symbols('k')\n",
    "Q = sm.symbols('Q')"
   ]
  },
  {
   "cell_type": "code",
   "execution_count": 34,
   "metadata": {},
   "outputs": [],
   "source": [
    "# We start by defining the linear demand function:\n",
    "def p_total(qa,qb,a,b):\n",
    "    return (a-b*(qa+qb))\n",
    "\n",
    "#Defining the cost function of firm A:\n",
    "def c_A(qa,k):\n",
    "    return ((k/2)*qa**2)\n",
    "\n",
    "#Defining the cost function of firm B:\n",
    "def c_B(qb,k):\n",
    "    return (k*qb**2)\n",
    "\n",
    "#The profitfunction of firm A:\n",
    "def profit_A(qa,qb,a,b,k):\n",
    "    return (p_total(qa,qb,a,b) * qa - c_A(qa,k))\n",
    "    \n",
    "#The profitfunction of firm B:\n",
    "def profit_B(qa,qb,a,b,k):\n",
    "    return (p_total(qa,qb,a,b) * qb - c_B(qb,k))"
   ]
  },
  {
   "cell_type": "code",
   "execution_count": 35,
   "metadata": {},
   "outputs": [
    {
     "output_type": "stream",
     "name": "stdout",
     "text": "First order conditions for firm A and B  are given by:\n"
    },
    {
     "output_type": "display_data",
     "data": {
      "text/plain": "a - b*q_a - b*(q_a + q_b) - k*q_a",
      "text/latex": "$\\displaystyle a - b q_{a} - b \\left(q_{a} + q_{b}\\right) - k q_{a}$"
     },
     "metadata": {}
    },
    {
     "output_type": "display_data",
     "data": {
      "text/plain": "a - b*q_b - b*(q_a + q_b) - 2*k*q_b",
      "text/latex": "$\\displaystyle a - b q_{b} - b \\left(q_{a} + q_{b}\\right) - 2 k q_{b}$"
     },
     "metadata": {}
    }
   ],
   "source": [
    "#We will now find the derivative, which we will use to find the best response functions\n",
    "\n",
    "foc_a = sm.diff(profit_A(qa,qb,a,b,k),qa)\n",
    "foc_b = sm.diff(profit_B(qa,qb,a,b,k),qb)\n",
    "print('First order conditions for firm A and B  are given by:')\n",
    "display(foc_a,foc_b)"
   ]
  },
  {
   "cell_type": "code",
   "execution_count": 36,
   "metadata": {},
   "outputs": [
    {
     "output_type": "stream",
     "name": "stdout",
     "text": "The best repsonse functions for firm A and B respectively are given by:\n"
    },
    {
     "output_type": "display_data",
     "data": {
      "text/plain": "(a - b*q_b)/(2*b + k)",
      "text/latex": "$\\displaystyle \\frac{a - b q_{b}}{2 b + k}$"
     },
     "metadata": {}
    },
    {
     "output_type": "display_data",
     "data": {
      "text/plain": "(a - b*q_a)/(2*(b + k))",
      "text/latex": "$\\displaystyle \\frac{a - b q_{a}}{2 \\left(b + k\\right)}$"
     },
     "metadata": {}
    }
   ],
   "source": [
    "#We find the best response functions by isolating respectively qa and qb in the above found derivatives\n",
    "sola = sm.solve(sm.Eq(foc_a,0),qa)[0]\n",
    "solb = sm.solve(sm.Eq(foc_b,0),qb)[0]\n",
    "\n",
    "print('The best repsonse functions for firm A and B respectively are given by:')\n",
    "display(sola,solb)"
   ]
  },
  {
   "cell_type": "code",
   "execution_count": 37,
   "metadata": {},
   "outputs": [
    {
     "output_type": "stream",
     "name": "stdout",
     "text": "The optimal quantities for firm A and B respectively are given by:\n"
    },
    {
     "output_type": "display_data",
     "data": {
      "text/plain": "a*(b + 2*k)/(3*b**2 + 6*b*k + 2*k**2)",
      "text/latex": "$\\displaystyle \\frac{a \\left(b + 2 k\\right)}{3 b^{2} + 6 b k + 2 k^{2}}$"
     },
     "metadata": {}
    },
    {
     "output_type": "display_data",
     "data": {
      "text/plain": "a*(b + k)/(3*b**2 + 6*b*k + 2*k**2)",
      "text/latex": "$\\displaystyle \\frac{a \\left(b + k\\right)}{3 b^{2} + 6 b k + 2 k^{2}}$"
     },
     "metadata": {}
    }
   ],
   "source": [
    "#To find the quantity firm A wants to produce we substitute firm B's best response function into firm A's best reponse and then solve for q_a \n",
    "sola_subs = foc_a.subs(qb,solb) #substituting the best response function of firm B into the FOC of firm A\n",
    "q_astar = sm.solve(sola_subs,qa) #Solving for q_a\n",
    "\n",
    "solb_subs = foc_b.subs(qa,sola) #substituting the best response function of firm A into the FOC of firm B\n",
    "q_bstar = sm.solve(solb_subs,qb) #Solving for q_b\n",
    "\n",
    "print('The optimal quantities for firm A and B respectively are given by:')\n",
    "display(q_astar[0], q_bstar[0]) #Showing the optimal quantities\n"
   ]
  },
  {
   "cell_type": "code",
   "execution_count": 38,
   "metadata": {},
   "outputs": [
    {
     "output_type": "execute_result",
     "data": {
      "text/plain": "{q_a: -a*(b + 2*k)/(b**2 - 2*(b + k)*(2*b + k)),\n q_b: -a*(b + k)/(b**2 - 2*(b + k)*(2*b + k))}"
     },
     "metadata": {},
     "execution_count": 38
    }
   ],
   "source": [
    "#Here we find the optimal quantities for both firms with another code. The result is identical with the result above. Here we just use that we can solve 2 equation with 2 unknowns.\n",
    "\n",
    "sm.solve([foc_a, foc_b], [qa, qb]) #solving 2 equations with 2 unknowns "
   ]
  },
  {
   "cell_type": "code",
   "execution_count": 39,
   "metadata": {},
   "outputs": [
    {
     "output_type": "stream",
     "name": "stdout",
     "text": "The price of the good is given by:\n"
    },
    {
     "output_type": "display_data",
     "data": {
      "text/plain": "a*(b**2 + 3*b*k + 2*k**2)/(3*b**2 + 6*b*k + 2*k**2)",
      "text/latex": "$\\displaystyle \\frac{a \\left(b^{2} + 3 b k + 2 k^{2}\\right)}{3 b^{2} + 6 b k + 2 k^{2}}$"
     },
     "metadata": {}
    },
    {
     "output_type": "stream",
     "name": "stdout",
     "text": "The profits of firm A and B respectively are given by:\n"
    },
    {
     "output_type": "display_data",
     "data": {
      "text/plain": "a**2*(b + 2*k)*(6*b**2 + 12*b*k - 2*b*(2*b + 3*k) + 4*k**2 - k*(b + 2*k))/(2*(3*b**2 + 6*b*k + 2*k**2)**2)",
      "text/latex": "$\\displaystyle \\frac{a^{2} \\left(b + 2 k\\right) \\left(6 b^{2} + 12 b k - 2 b \\left(2 b + 3 k\\right) + 4 k^{2} - k \\left(b + 2 k\\right)\\right)}{2 \\left(3 b^{2} + 6 b k + 2 k^{2}\\right)^{2}}$"
     },
     "metadata": {}
    },
    {
     "output_type": "display_data",
     "data": {
      "text/plain": "a**2*(b + k)*(3*b**2 + 6*b*k - b*(2*b + 3*k) + 2*k**2 - k*(b + k))/(3*b**2 + 6*b*k + 2*k**2)**2",
      "text/latex": "$\\displaystyle \\frac{a^{2} \\left(b + k\\right) \\left(3 b^{2} + 6 b k - b \\left(2 b + 3 k\\right) + 2 k^{2} - k \\left(b + k\\right)\\right)}{\\left(3 b^{2} + 6 b k + 2 k^{2}\\right)^{2}}$"
     },
     "metadata": {}
    }
   ],
   "source": [
    "#We are now able to find the prices the firms will take for the good and the profit each firm get:\n",
    "\n",
    "price = simplify(p_total(q_astar[0],q_bstar[0],a,b))\n",
    "profita = simplify(profit_A(q_astar[0],q_bstar[0],a,b,k))\n",
    "profitb = simplify(profit_B(q_astar[0],q_bstar[0],a,b,k))\n",
    "\n",
    "print(\"The price of the good is given by:\")\n",
    "display(price)\n",
    "\n",
    "print('The profits of firm A and B respectively are given by:')\n",
    "display(profita,profitb)\n"
   ]
  },
  {
   "cell_type": "markdown",
   "metadata": {},
   "source": [
    "## Numerical example\n",
    "\n",
    "We will now examine the above 2 firm case, where we assume that $a=50$. Furthermore we assume that $k=3$ and $b=1$."
   ]
  },
  {
   "cell_type": "code",
   "execution_count": 40,
   "metadata": {},
   "outputs": [
    {
     "output_type": "stream",
     "name": "stdout",
     "text": "The best repsonse functions for firm A and B respectively are given by:\n"
    },
    {
     "output_type": "display_data",
     "data": {
      "text/plain": "-5.0*q_a - q_b + 50",
      "text/latex": "$\\displaystyle - 5.0 q_{a} - q_{b} + 50$"
     },
     "metadata": {}
    },
    {
     "output_type": "display_data",
     "data": {
      "text/plain": "-q_a - 8*q_b + 50",
      "text/latex": "$\\displaystyle - q_{a} - 8 q_{b} + 50$"
     },
     "metadata": {}
    },
    {
     "output_type": "stream",
     "name": "stdout",
     "text": "The best repsonse functions for firm A and B respectively are given by:\n"
    },
    {
     "output_type": "display_data",
     "data": {
      "text/plain": "10.0 - 0.2*q_b",
      "text/latex": "$\\displaystyle 10.0 - 0.2 q_{b}$"
     },
     "metadata": {}
    },
    {
     "output_type": "display_data",
     "data": {
      "text/plain": "25/4 - q_a/8",
      "text/latex": "$\\displaystyle \\frac{25}{4} - \\frac{q_{a}}{8}$"
     },
     "metadata": {}
    },
    {
     "output_type": "stream",
     "name": "stdout",
     "text": "The optimal quantities for firm A and B respectively are given by:\n"
    },
    {
     "output_type": "display_data",
     "data": {
      "text/plain": "8.97435897435897",
      "text/latex": "$\\displaystyle 8.97435897435897$"
     },
     "metadata": {}
    },
    {
     "output_type": "display_data",
     "data": {
      "text/plain": "5.12820512820513",
      "text/latex": "$\\displaystyle 5.12820512820513$"
     },
     "metadata": {}
    },
    {
     "output_type": "stream",
     "name": "stdout",
     "text": "The price of the good is given by:\n"
    },
    {
     "output_type": "display_data",
     "data": {
      "text/plain": "35.8974358974359",
      "text/latex": "$\\displaystyle 35.8974358974359$"
     },
     "metadata": {}
    },
    {
     "output_type": "stream",
     "name": "stdout",
     "text": "The profits of firm A and B respectively are given by:\n"
    },
    {
     "output_type": "display_data",
     "data": {
      "text/plain": "201.35"
     },
     "metadata": {}
    },
    {
     "output_type": "display_data",
     "data": {
      "text/plain": "105.19"
     },
     "metadata": {}
    }
   ],
   "source": [
    "#We start by setting the values:\n",
    "a=50\n",
    "b=1\n",
    "k=3\n",
    "\n",
    "#The derivative:\n",
    "foc_a = sm.diff(profit_A(qa,qb,a,b,k),qa)\n",
    "foc_b = sm.diff(profit_B(qa,qb,a,b,k),qb)\n",
    "\n",
    "#The best responsefunctions \n",
    "sola= sm.solve(sm.Eq(foc_a,0),qa)[0]\n",
    "solb= sm.solve(sm.Eq(foc_b,0),qb)[0]\n",
    "\n",
    "#We can now calculate the quantity firm A and B wants to produce, using the best response functions. \n",
    "sola_subs = foc_a.subs(qb,solb) #substituting the best response into the FOC of firm A\n",
    "q_astar = sm.solve(sola_subs,qa) #Solving for q_a\n",
    "\n",
    "solb_subs = foc_b.subs(qa,sola) #substituting the best response into the FOC of firm A\n",
    "q_bstar = sm.solve(solb_subs,qb)\n",
    "\n",
    "#We are now able to find the prices the firms will take for the good and the profit each firm get:\n",
    "price = simplify(p_total(q_astar[0],q_bstar[0],a,b))\n",
    "profita = simplify(profit_A(q_astar[0],q_bstar[0],a,b,k))\n",
    "profitb = simplify(profit_B(q_astar[0],q_bstar[0],a,b,k))\n",
    "\n",
    "\n",
    "print('The best repsonse functions for firm A and B respectively are given by:')\n",
    "display(foc_a,foc_b)\n",
    "\n",
    "print('The best repsonse functions for firm A and B respectively are given by:')\n",
    "display(sola,solb)\n",
    "\n",
    "print('The optimal quantities for firm A and B respectively are given by:')\n",
    "display(q_astar[0], q_bstar[0]) #Showing the optimal quantities\n",
    "\n",
    "print(\"The price of the good is given by:\")\n",
    "display(price)\n",
    "\n",
    "print('The profits of firm A and B respectively are given by:')\n",
    "display(round(profita,2),round(profitb,2))"
   ]
  },
  {
   "cell_type": "markdown",
   "metadata": {},
   "source": [
    "Her kunne vi måske godt have en delkonklusion."
   ]
  },
  {
   "cell_type": "code",
   "execution_count": 41,
   "metadata": {},
   "outputs": [
    {
     "output_type": "stream",
     "name": "stdout",
     "text": "\n The kink point is the optimal quantities. For firm A: 8.97435897435897and for firm B:5.12820512820513\n"
    },
    {
     "output_type": "display_data",
     "data": {
      "text/plain": "<Figure size 640x480 with 1 Axes>",
      "image/svg+xml": "<?xml version=\"1.0\" encoding=\"utf-8\" standalone=\"no\"?>\r\n<!DOCTYPE svg PUBLIC \"-//W3C//DTD SVG 1.1//EN\"\r\n  \"http://www.w3.org/Graphics/SVG/1.1/DTD/svg11.dtd\">\r\n<!-- Created with matplotlib (https://matplotlib.org/) -->\r\n<svg height=\"325.986375pt\" version=\"1.1\" viewBox=\"0 0 404.923125 325.986375\" width=\"404.923125pt\" xmlns=\"http://www.w3.org/2000/svg\" xmlns:xlink=\"http://www.w3.org/1999/xlink\">\r\n <defs>\r\n  <style type=\"text/css\">\r\n*{stroke-linecap:butt;stroke-linejoin:round;}\r\n  </style>\r\n </defs>\r\n <g id=\"figure_1\">\r\n  <g id=\"patch_1\">\r\n   <path d=\"M 0 325.986375 \r\nL 404.923125 325.986375 \r\nL 404.923125 0 \r\nL 0 0 \r\nz\r\n\" style=\"fill:#ffffff;\"/>\r\n  </g>\r\n  <g id=\"axes_1\">\r\n   <g id=\"patch_2\">\r\n    <path d=\"M 40.603125 288.430125 \r\nL 397.723125 288.430125 \r\nL 397.723125 22.318125 \r\nL 40.603125 22.318125 \r\nz\r\n\" style=\"fill:#ffffff;\"/>\r\n   </g>\r\n   <g id=\"matplotlib.axis_1\">\r\n    <g id=\"xtick_1\">\r\n     <g id=\"line2d_1\">\r\n      <defs>\r\n       <path d=\"M 0 0 \r\nL 0 3.5 \r\n\" id=\"m6f381d3d8a\" style=\"stroke:#000000;stroke-width:0.8;\"/>\r\n      </defs>\r\n      <g>\r\n       <use style=\"stroke:#000000;stroke-width:0.8;\" x=\"56.835852\" xlink:href=\"#m6f381d3d8a\" y=\"288.430125\"/>\r\n      </g>\r\n     </g>\r\n     <g id=\"text_1\">\r\n      <!-- 0 -->\r\n      <defs>\r\n       <path d=\"M 31.78125 66.40625 \r\nQ 24.171875 66.40625 20.328125 58.90625 \r\nQ 16.5 51.421875 16.5 36.375 \r\nQ 16.5 21.390625 20.328125 13.890625 \r\nQ 24.171875 6.390625 31.78125 6.390625 \r\nQ 39.453125 6.390625 43.28125 13.890625 \r\nQ 47.125 21.390625 47.125 36.375 \r\nQ 47.125 51.421875 43.28125 58.90625 \r\nQ 39.453125 66.40625 31.78125 66.40625 \r\nz\r\nM 31.78125 74.21875 \r\nQ 44.046875 74.21875 50.515625 64.515625 \r\nQ 56.984375 54.828125 56.984375 36.375 \r\nQ 56.984375 17.96875 50.515625 8.265625 \r\nQ 44.046875 -1.421875 31.78125 -1.421875 \r\nQ 19.53125 -1.421875 13.0625 8.265625 \r\nQ 6.59375 17.96875 6.59375 36.375 \r\nQ 6.59375 54.828125 13.0625 64.515625 \r\nQ 19.53125 74.21875 31.78125 74.21875 \r\nz\r\n\" id=\"DejaVuSans-48\"/>\r\n      </defs>\r\n      <g transform=\"translate(53.654602 303.028562)scale(0.1 -0.1)\">\r\n       <use xlink:href=\"#DejaVuSans-48\"/>\r\n      </g>\r\n     </g>\r\n    </g>\r\n    <g id=\"xtick_2\">\r\n     <g id=\"line2d_2\">\r\n      <g>\r\n       <use style=\"stroke:#000000;stroke-width:0.8;\" x=\"121.766761\" xlink:href=\"#m6f381d3d8a\" y=\"288.430125\"/>\r\n      </g>\r\n     </g>\r\n     <g id=\"text_2\">\r\n      <!-- 10 -->\r\n      <defs>\r\n       <path d=\"M 12.40625 8.296875 \r\nL 28.515625 8.296875 \r\nL 28.515625 63.921875 \r\nL 10.984375 60.40625 \r\nL 10.984375 69.390625 \r\nL 28.421875 72.90625 \r\nL 38.28125 72.90625 \r\nL 38.28125 8.296875 \r\nL 54.390625 8.296875 \r\nL 54.390625 0 \r\nL 12.40625 0 \r\nz\r\n\" id=\"DejaVuSans-49\"/>\r\n      </defs>\r\n      <g transform=\"translate(115.404261 303.028562)scale(0.1 -0.1)\">\r\n       <use xlink:href=\"#DejaVuSans-49\"/>\r\n       <use x=\"63.623047\" xlink:href=\"#DejaVuSans-48\"/>\r\n      </g>\r\n     </g>\r\n    </g>\r\n    <g id=\"xtick_3\">\r\n     <g id=\"line2d_3\">\r\n      <g>\r\n       <use style=\"stroke:#000000;stroke-width:0.8;\" x=\"186.69767\" xlink:href=\"#m6f381d3d8a\" y=\"288.430125\"/>\r\n      </g>\r\n     </g>\r\n     <g id=\"text_3\">\r\n      <!-- 20 -->\r\n      <defs>\r\n       <path d=\"M 19.1875 8.296875 \r\nL 53.609375 8.296875 \r\nL 53.609375 0 \r\nL 7.328125 0 \r\nL 7.328125 8.296875 \r\nQ 12.9375 14.109375 22.625 23.890625 \r\nQ 32.328125 33.6875 34.8125 36.53125 \r\nQ 39.546875 41.84375 41.421875 45.53125 \r\nQ 43.3125 49.21875 43.3125 52.78125 \r\nQ 43.3125 58.59375 39.234375 62.25 \r\nQ 35.15625 65.921875 28.609375 65.921875 \r\nQ 23.96875 65.921875 18.8125 64.3125 \r\nQ 13.671875 62.703125 7.8125 59.421875 \r\nL 7.8125 69.390625 \r\nQ 13.765625 71.78125 18.9375 73 \r\nQ 24.125 74.21875 28.421875 74.21875 \r\nQ 39.75 74.21875 46.484375 68.546875 \r\nQ 53.21875 62.890625 53.21875 53.421875 \r\nQ 53.21875 48.921875 51.53125 44.890625 \r\nQ 49.859375 40.875 45.40625 35.40625 \r\nQ 44.1875 33.984375 37.640625 27.21875 \r\nQ 31.109375 20.453125 19.1875 8.296875 \r\nz\r\n\" id=\"DejaVuSans-50\"/>\r\n      </defs>\r\n      <g transform=\"translate(180.33517 303.028562)scale(0.1 -0.1)\">\r\n       <use xlink:href=\"#DejaVuSans-50\"/>\r\n       <use x=\"63.623047\" xlink:href=\"#DejaVuSans-48\"/>\r\n      </g>\r\n     </g>\r\n    </g>\r\n    <g id=\"xtick_4\">\r\n     <g id=\"line2d_4\">\r\n      <g>\r\n       <use style=\"stroke:#000000;stroke-width:0.8;\" x=\"251.62858\" xlink:href=\"#m6f381d3d8a\" y=\"288.430125\"/>\r\n      </g>\r\n     </g>\r\n     <g id=\"text_4\">\r\n      <!-- 30 -->\r\n      <defs>\r\n       <path d=\"M 40.578125 39.3125 \r\nQ 47.65625 37.796875 51.625 33 \r\nQ 55.609375 28.21875 55.609375 21.1875 \r\nQ 55.609375 10.40625 48.1875 4.484375 \r\nQ 40.765625 -1.421875 27.09375 -1.421875 \r\nQ 22.515625 -1.421875 17.65625 -0.515625 \r\nQ 12.796875 0.390625 7.625 2.203125 \r\nL 7.625 11.71875 \r\nQ 11.71875 9.328125 16.59375 8.109375 \r\nQ 21.484375 6.890625 26.8125 6.890625 \r\nQ 36.078125 6.890625 40.9375 10.546875 \r\nQ 45.796875 14.203125 45.796875 21.1875 \r\nQ 45.796875 27.640625 41.28125 31.265625 \r\nQ 36.765625 34.90625 28.71875 34.90625 \r\nL 20.21875 34.90625 \r\nL 20.21875 43.015625 \r\nL 29.109375 43.015625 \r\nQ 36.375 43.015625 40.234375 45.921875 \r\nQ 44.09375 48.828125 44.09375 54.296875 \r\nQ 44.09375 59.90625 40.109375 62.90625 \r\nQ 36.140625 65.921875 28.71875 65.921875 \r\nQ 24.65625 65.921875 20.015625 65.03125 \r\nQ 15.375 64.15625 9.8125 62.3125 \r\nL 9.8125 71.09375 \r\nQ 15.4375 72.65625 20.34375 73.4375 \r\nQ 25.25 74.21875 29.59375 74.21875 \r\nQ 40.828125 74.21875 47.359375 69.109375 \r\nQ 53.90625 64.015625 53.90625 55.328125 \r\nQ 53.90625 49.265625 50.4375 45.09375 \r\nQ 46.96875 40.921875 40.578125 39.3125 \r\nz\r\n\" id=\"DejaVuSans-51\"/>\r\n      </defs>\r\n      <g transform=\"translate(245.26608 303.028562)scale(0.1 -0.1)\">\r\n       <use xlink:href=\"#DejaVuSans-51\"/>\r\n       <use x=\"63.623047\" xlink:href=\"#DejaVuSans-48\"/>\r\n      </g>\r\n     </g>\r\n    </g>\r\n    <g id=\"xtick_5\">\r\n     <g id=\"line2d_5\">\r\n      <g>\r\n       <use style=\"stroke:#000000;stroke-width:0.8;\" x=\"316.559489\" xlink:href=\"#m6f381d3d8a\" y=\"288.430125\"/>\r\n      </g>\r\n     </g>\r\n     <g id=\"text_5\">\r\n      <!-- 40 -->\r\n      <defs>\r\n       <path d=\"M 37.796875 64.3125 \r\nL 12.890625 25.390625 \r\nL 37.796875 25.390625 \r\nz\r\nM 35.203125 72.90625 \r\nL 47.609375 72.90625 \r\nL 47.609375 25.390625 \r\nL 58.015625 25.390625 \r\nL 58.015625 17.1875 \r\nL 47.609375 17.1875 \r\nL 47.609375 0 \r\nL 37.796875 0 \r\nL 37.796875 17.1875 \r\nL 4.890625 17.1875 \r\nL 4.890625 26.703125 \r\nz\r\n\" id=\"DejaVuSans-52\"/>\r\n      </defs>\r\n      <g transform=\"translate(310.196989 303.028562)scale(0.1 -0.1)\">\r\n       <use xlink:href=\"#DejaVuSans-52\"/>\r\n       <use x=\"63.623047\" xlink:href=\"#DejaVuSans-48\"/>\r\n      </g>\r\n     </g>\r\n    </g>\r\n    <g id=\"xtick_6\">\r\n     <g id=\"line2d_6\">\r\n      <g>\r\n       <use style=\"stroke:#000000;stroke-width:0.8;\" x=\"381.490398\" xlink:href=\"#m6f381d3d8a\" y=\"288.430125\"/>\r\n      </g>\r\n     </g>\r\n     <g id=\"text_6\">\r\n      <!-- 50 -->\r\n      <defs>\r\n       <path d=\"M 10.796875 72.90625 \r\nL 49.515625 72.90625 \r\nL 49.515625 64.59375 \r\nL 19.828125 64.59375 \r\nL 19.828125 46.734375 \r\nQ 21.96875 47.46875 24.109375 47.828125 \r\nQ 26.265625 48.1875 28.421875 48.1875 \r\nQ 40.625 48.1875 47.75 41.5 \r\nQ 54.890625 34.8125 54.890625 23.390625 \r\nQ 54.890625 11.625 47.5625 5.09375 \r\nQ 40.234375 -1.421875 26.90625 -1.421875 \r\nQ 22.3125 -1.421875 17.546875 -0.640625 \r\nQ 12.796875 0.140625 7.71875 1.703125 \r\nL 7.71875 11.625 \r\nQ 12.109375 9.234375 16.796875 8.0625 \r\nQ 21.484375 6.890625 26.703125 6.890625 \r\nQ 35.15625 6.890625 40.078125 11.328125 \r\nQ 45.015625 15.765625 45.015625 23.390625 \r\nQ 45.015625 31 40.078125 35.4375 \r\nQ 35.15625 39.890625 26.703125 39.890625 \r\nQ 22.75 39.890625 18.8125 39.015625 \r\nQ 14.890625 38.140625 10.796875 36.28125 \r\nz\r\n\" id=\"DejaVuSans-53\"/>\r\n      </defs>\r\n      <g transform=\"translate(375.127898 303.028562)scale(0.1 -0.1)\">\r\n       <use xlink:href=\"#DejaVuSans-53\"/>\r\n       <use x=\"63.623047\" xlink:href=\"#DejaVuSans-48\"/>\r\n      </g>\r\n     </g>\r\n    </g>\r\n    <g id=\"text_7\">\r\n     <!-- qa -->\r\n     <defs>\r\n      <path d=\"M 14.796875 27.296875 \r\nQ 14.796875 17.390625 18.875 11.75 \r\nQ 22.953125 6.109375 30.078125 6.109375 \r\nQ 37.203125 6.109375 41.296875 11.75 \r\nQ 45.40625 17.390625 45.40625 27.296875 \r\nQ 45.40625 37.203125 41.296875 42.84375 \r\nQ 37.203125 48.484375 30.078125 48.484375 \r\nQ 22.953125 48.484375 18.875 42.84375 \r\nQ 14.796875 37.203125 14.796875 27.296875 \r\nz\r\nM 45.40625 8.203125 \r\nQ 42.578125 3.328125 38.25 0.953125 \r\nQ 33.9375 -1.421875 27.875 -1.421875 \r\nQ 17.96875 -1.421875 11.734375 6.484375 \r\nQ 5.515625 14.40625 5.515625 27.296875 \r\nQ 5.515625 40.1875 11.734375 48.09375 \r\nQ 17.96875 56 27.875 56 \r\nQ 33.9375 56 38.25 53.625 \r\nQ 42.578125 51.265625 45.40625 46.390625 \r\nL 45.40625 54.6875 \r\nL 54.390625 54.6875 \r\nL 54.390625 -20.796875 \r\nL 45.40625 -20.796875 \r\nz\r\n\" id=\"DejaVuSans-113\"/>\r\n      <path d=\"M 34.28125 27.484375 \r\nQ 23.390625 27.484375 19.1875 25 \r\nQ 14.984375 22.515625 14.984375 16.5 \r\nQ 14.984375 11.71875 18.140625 8.90625 \r\nQ 21.296875 6.109375 26.703125 6.109375 \r\nQ 34.1875 6.109375 38.703125 11.40625 \r\nQ 43.21875 16.703125 43.21875 25.484375 \r\nL 43.21875 27.484375 \r\nz\r\nM 52.203125 31.203125 \r\nL 52.203125 0 \r\nL 43.21875 0 \r\nL 43.21875 8.296875 \r\nQ 40.140625 3.328125 35.546875 0.953125 \r\nQ 30.953125 -1.421875 24.3125 -1.421875 \r\nQ 15.921875 -1.421875 10.953125 3.296875 \r\nQ 6 8.015625 6 15.921875 \r\nQ 6 25.140625 12.171875 29.828125 \r\nQ 18.359375 34.515625 30.609375 34.515625 \r\nL 43.21875 34.515625 \r\nL 43.21875 35.40625 \r\nQ 43.21875 41.609375 39.140625 45 \r\nQ 35.0625 48.390625 27.6875 48.390625 \r\nQ 23 48.390625 18.546875 47.265625 \r\nQ 14.109375 46.140625 10.015625 43.890625 \r\nL 10.015625 52.203125 \r\nQ 14.9375 54.109375 19.578125 55.046875 \r\nQ 24.21875 56 28.609375 56 \r\nQ 40.484375 56 46.34375 49.84375 \r\nQ 52.203125 43.703125 52.203125 31.203125 \r\nz\r\n\" id=\"DejaVuSans-97\"/>\r\n     </defs>\r\n     <g transform=\"translate(212.924844 316.706687)scale(0.1 -0.1)\">\r\n      <use xlink:href=\"#DejaVuSans-113\"/>\r\n      <use x=\"63.476562\" xlink:href=\"#DejaVuSans-97\"/>\r\n     </g>\r\n    </g>\r\n   </g>\r\n   <g id=\"matplotlib.axis_2\">\r\n    <g id=\"ytick_1\">\r\n     <g id=\"line2d_7\">\r\n      <defs>\r\n       <path d=\"M 0 0 \r\nL -3.5 0 \r\n\" id=\"me0373546f5\" style=\"stroke:#000000;stroke-width:0.8;\"/>\r\n      </defs>\r\n      <g>\r\n       <use style=\"stroke:#000000;stroke-width:0.8;\" x=\"40.603125\" xlink:href=\"#me0373546f5\" y=\"276.334125\"/>\r\n      </g>\r\n     </g>\r\n     <g id=\"text_8\">\r\n      <!-- 0 -->\r\n      <g transform=\"translate(27.240625 280.133344)scale(0.1 -0.1)\">\r\n       <use xlink:href=\"#DejaVuSans-48\"/>\r\n      </g>\r\n     </g>\r\n    </g>\r\n    <g id=\"ytick_2\">\r\n     <g id=\"line2d_8\">\r\n      <g>\r\n       <use style=\"stroke:#000000;stroke-width:0.8;\" x=\"40.603125\" xlink:href=\"#me0373546f5\" y=\"227.950125\"/>\r\n      </g>\r\n     </g>\r\n     <g id=\"text_9\">\r\n      <!-- 10 -->\r\n      <g transform=\"translate(20.878125 231.749344)scale(0.1 -0.1)\">\r\n       <use xlink:href=\"#DejaVuSans-49\"/>\r\n       <use x=\"63.623047\" xlink:href=\"#DejaVuSans-48\"/>\r\n      </g>\r\n     </g>\r\n    </g>\r\n    <g id=\"ytick_3\">\r\n     <g id=\"line2d_9\">\r\n      <g>\r\n       <use style=\"stroke:#000000;stroke-width:0.8;\" x=\"40.603125\" xlink:href=\"#me0373546f5\" y=\"179.566125\"/>\r\n      </g>\r\n     </g>\r\n     <g id=\"text_10\">\r\n      <!-- 20 -->\r\n      <g transform=\"translate(20.878125 183.365344)scale(0.1 -0.1)\">\r\n       <use xlink:href=\"#DejaVuSans-50\"/>\r\n       <use x=\"63.623047\" xlink:href=\"#DejaVuSans-48\"/>\r\n      </g>\r\n     </g>\r\n    </g>\r\n    <g id=\"ytick_4\">\r\n     <g id=\"line2d_10\">\r\n      <g>\r\n       <use style=\"stroke:#000000;stroke-width:0.8;\" x=\"40.603125\" xlink:href=\"#me0373546f5\" y=\"131.182125\"/>\r\n      </g>\r\n     </g>\r\n     <g id=\"text_11\">\r\n      <!-- 30 -->\r\n      <g transform=\"translate(20.878125 134.981344)scale(0.1 -0.1)\">\r\n       <use xlink:href=\"#DejaVuSans-51\"/>\r\n       <use x=\"63.623047\" xlink:href=\"#DejaVuSans-48\"/>\r\n      </g>\r\n     </g>\r\n    </g>\r\n    <g id=\"ytick_5\">\r\n     <g id=\"line2d_11\">\r\n      <g>\r\n       <use style=\"stroke:#000000;stroke-width:0.8;\" x=\"40.603125\" xlink:href=\"#me0373546f5\" y=\"82.798125\"/>\r\n      </g>\r\n     </g>\r\n     <g id=\"text_12\">\r\n      <!-- 40 -->\r\n      <g transform=\"translate(20.878125 86.597344)scale(0.1 -0.1)\">\r\n       <use xlink:href=\"#DejaVuSans-52\"/>\r\n       <use x=\"63.623047\" xlink:href=\"#DejaVuSans-48\"/>\r\n      </g>\r\n     </g>\r\n    </g>\r\n    <g id=\"ytick_6\">\r\n     <g id=\"line2d_12\">\r\n      <g>\r\n       <use style=\"stroke:#000000;stroke-width:0.8;\" x=\"40.603125\" xlink:href=\"#me0373546f5\" y=\"34.414125\"/>\r\n      </g>\r\n     </g>\r\n     <g id=\"text_13\">\r\n      <!-- 50 -->\r\n      <g transform=\"translate(20.878125 38.213344)scale(0.1 -0.1)\">\r\n       <use xlink:href=\"#DejaVuSans-53\"/>\r\n       <use x=\"63.623047\" xlink:href=\"#DejaVuSans-48\"/>\r\n      </g>\r\n     </g>\r\n    </g>\r\n    <g id=\"text_14\">\r\n     <!-- qb -->\r\n     <defs>\r\n      <path d=\"M 48.6875 27.296875 \r\nQ 48.6875 37.203125 44.609375 42.84375 \r\nQ 40.53125 48.484375 33.40625 48.484375 \r\nQ 26.265625 48.484375 22.1875 42.84375 \r\nQ 18.109375 37.203125 18.109375 27.296875 \r\nQ 18.109375 17.390625 22.1875 11.75 \r\nQ 26.265625 6.109375 33.40625 6.109375 \r\nQ 40.53125 6.109375 44.609375 11.75 \r\nQ 48.6875 17.390625 48.6875 27.296875 \r\nz\r\nM 18.109375 46.390625 \r\nQ 20.953125 51.265625 25.265625 53.625 \r\nQ 29.59375 56 35.59375 56 \r\nQ 45.5625 56 51.78125 48.09375 \r\nQ 58.015625 40.1875 58.015625 27.296875 \r\nQ 58.015625 14.40625 51.78125 6.484375 \r\nQ 45.5625 -1.421875 35.59375 -1.421875 \r\nQ 29.59375 -1.421875 25.265625 0.953125 \r\nQ 20.953125 3.328125 18.109375 8.203125 \r\nL 18.109375 0 \r\nL 9.078125 0 \r\nL 9.078125 75.984375 \r\nL 18.109375 75.984375 \r\nz\r\n\" id=\"DejaVuSans-98\"/>\r\n     </defs>\r\n     <g transform=\"translate(14.798438 161.722562)rotate(-90)scale(0.1 -0.1)\">\r\n      <use xlink:href=\"#DejaVuSans-113\"/>\r\n      <use x=\"63.476562\" xlink:href=\"#DejaVuSans-98\"/>\r\n     </g>\r\n    </g>\r\n   </g>\r\n   <g id=\"line2d_13\">\r\n    <path clip-path=\"url(#peafc189c82)\" d=\"M 56.835852 34.414125 \r\nL 95.794398 179.566125 \r\nL 121.766761 276.334125 \r\n\" style=\"fill:none;stroke:#1f77b4;stroke-linecap:square;stroke-width:1.5;\"/>\r\n   </g>\r\n   <g id=\"line2d_14\">\r\n    <path clip-path=\"url(#peafc189c82)\" d=\"M 56.835852 246.094125 \r\nL 121.766761 252.142125 \r\nL 381.490398 276.334125 \r\n\" style=\"fill:none;stroke:#ff7f0e;stroke-linecap:square;stroke-width:1.5;\"/>\r\n   </g>\r\n   <g id=\"patch_3\">\r\n    <path d=\"M 40.603125 288.430125 \r\nL 40.603125 22.318125 \r\n\" style=\"fill:none;stroke:#000000;stroke-linecap:square;stroke-linejoin:miter;stroke-width:0.8;\"/>\r\n   </g>\r\n   <g id=\"patch_4\">\r\n    <path d=\"M 397.723125 288.430125 \r\nL 397.723125 22.318125 \r\n\" style=\"fill:none;stroke:#000000;stroke-linecap:square;stroke-linejoin:miter;stroke-width:0.8;\"/>\r\n   </g>\r\n   <g id=\"patch_5\">\r\n    <path d=\"M 40.603125 288.430125 \r\nL 397.723125 288.430125 \r\n\" style=\"fill:none;stroke:#000000;stroke-linecap:square;stroke-linejoin:miter;stroke-width:0.8;\"/>\r\n   </g>\r\n   <g id=\"patch_6\">\r\n    <path d=\"M 40.603125 22.318125 \r\nL 397.723125 22.318125 \r\n\" style=\"fill:none;stroke:#000000;stroke-linecap:square;stroke-linejoin:miter;stroke-width:0.8;\"/>\r\n   </g>\r\n   <g id=\"text_15\">\r\n    <!-- Reaction functions -->\r\n    <defs>\r\n     <path d=\"M 44.390625 34.1875 \r\nQ 47.5625 33.109375 50.5625 29.59375 \r\nQ 53.5625 26.078125 56.59375 19.921875 \r\nL 66.609375 0 \r\nL 56 0 \r\nL 46.6875 18.703125 \r\nQ 43.0625 26.03125 39.671875 28.421875 \r\nQ 36.28125 30.8125 30.421875 30.8125 \r\nL 19.671875 30.8125 \r\nL 19.671875 0 \r\nL 9.8125 0 \r\nL 9.8125 72.90625 \r\nL 32.078125 72.90625 \r\nQ 44.578125 72.90625 50.734375 67.671875 \r\nQ 56.890625 62.453125 56.890625 51.90625 \r\nQ 56.890625 45.015625 53.6875 40.46875 \r\nQ 50.484375 35.9375 44.390625 34.1875 \r\nz\r\nM 19.671875 64.796875 \r\nL 19.671875 38.921875 \r\nL 32.078125 38.921875 \r\nQ 39.203125 38.921875 42.84375 42.21875 \r\nQ 46.484375 45.515625 46.484375 51.90625 \r\nQ 46.484375 58.296875 42.84375 61.546875 \r\nQ 39.203125 64.796875 32.078125 64.796875 \r\nz\r\n\" id=\"DejaVuSans-82\"/>\r\n     <path d=\"M 56.203125 29.59375 \r\nL 56.203125 25.203125 \r\nL 14.890625 25.203125 \r\nQ 15.484375 15.921875 20.484375 11.0625 \r\nQ 25.484375 6.203125 34.421875 6.203125 \r\nQ 39.59375 6.203125 44.453125 7.46875 \r\nQ 49.3125 8.734375 54.109375 11.28125 \r\nL 54.109375 2.78125 \r\nQ 49.265625 0.734375 44.1875 -0.34375 \r\nQ 39.109375 -1.421875 33.890625 -1.421875 \r\nQ 20.796875 -1.421875 13.15625 6.1875 \r\nQ 5.515625 13.8125 5.515625 26.8125 \r\nQ 5.515625 40.234375 12.765625 48.109375 \r\nQ 20.015625 56 32.328125 56 \r\nQ 43.359375 56 49.78125 48.890625 \r\nQ 56.203125 41.796875 56.203125 29.59375 \r\nz\r\nM 47.21875 32.234375 \r\nQ 47.125 39.59375 43.09375 43.984375 \r\nQ 39.0625 48.390625 32.421875 48.390625 \r\nQ 24.90625 48.390625 20.390625 44.140625 \r\nQ 15.875 39.890625 15.1875 32.171875 \r\nz\r\n\" id=\"DejaVuSans-101\"/>\r\n     <path d=\"M 48.78125 52.59375 \r\nL 48.78125 44.1875 \r\nQ 44.96875 46.296875 41.140625 47.34375 \r\nQ 37.3125 48.390625 33.40625 48.390625 \r\nQ 24.65625 48.390625 19.8125 42.84375 \r\nQ 14.984375 37.3125 14.984375 27.296875 \r\nQ 14.984375 17.28125 19.8125 11.734375 \r\nQ 24.65625 6.203125 33.40625 6.203125 \r\nQ 37.3125 6.203125 41.140625 7.25 \r\nQ 44.96875 8.296875 48.78125 10.40625 \r\nL 48.78125 2.09375 \r\nQ 45.015625 0.34375 40.984375 -0.53125 \r\nQ 36.96875 -1.421875 32.421875 -1.421875 \r\nQ 20.0625 -1.421875 12.78125 6.34375 \r\nQ 5.515625 14.109375 5.515625 27.296875 \r\nQ 5.515625 40.671875 12.859375 48.328125 \r\nQ 20.21875 56 33.015625 56 \r\nQ 37.15625 56 41.109375 55.140625 \r\nQ 45.0625 54.296875 48.78125 52.59375 \r\nz\r\n\" id=\"DejaVuSans-99\"/>\r\n     <path d=\"M 18.3125 70.21875 \r\nL 18.3125 54.6875 \r\nL 36.8125 54.6875 \r\nL 36.8125 47.703125 \r\nL 18.3125 47.703125 \r\nL 18.3125 18.015625 \r\nQ 18.3125 11.328125 20.140625 9.421875 \r\nQ 21.96875 7.515625 27.59375 7.515625 \r\nL 36.8125 7.515625 \r\nL 36.8125 0 \r\nL 27.59375 0 \r\nQ 17.1875 0 13.234375 3.875 \r\nQ 9.28125 7.765625 9.28125 18.015625 \r\nL 9.28125 47.703125 \r\nL 2.6875 47.703125 \r\nL 2.6875 54.6875 \r\nL 9.28125 54.6875 \r\nL 9.28125 70.21875 \r\nz\r\n\" id=\"DejaVuSans-116\"/>\r\n     <path d=\"M 9.421875 54.6875 \r\nL 18.40625 54.6875 \r\nL 18.40625 0 \r\nL 9.421875 0 \r\nz\r\nM 9.421875 75.984375 \r\nL 18.40625 75.984375 \r\nL 18.40625 64.59375 \r\nL 9.421875 64.59375 \r\nz\r\n\" id=\"DejaVuSans-105\"/>\r\n     <path d=\"M 30.609375 48.390625 \r\nQ 23.390625 48.390625 19.1875 42.75 \r\nQ 14.984375 37.109375 14.984375 27.296875 \r\nQ 14.984375 17.484375 19.15625 11.84375 \r\nQ 23.34375 6.203125 30.609375 6.203125 \r\nQ 37.796875 6.203125 41.984375 11.859375 \r\nQ 46.1875 17.53125 46.1875 27.296875 \r\nQ 46.1875 37.015625 41.984375 42.703125 \r\nQ 37.796875 48.390625 30.609375 48.390625 \r\nz\r\nM 30.609375 56 \r\nQ 42.328125 56 49.015625 48.375 \r\nQ 55.71875 40.765625 55.71875 27.296875 \r\nQ 55.71875 13.875 49.015625 6.21875 \r\nQ 42.328125 -1.421875 30.609375 -1.421875 \r\nQ 18.84375 -1.421875 12.171875 6.21875 \r\nQ 5.515625 13.875 5.515625 27.296875 \r\nQ 5.515625 40.765625 12.171875 48.375 \r\nQ 18.84375 56 30.609375 56 \r\nz\r\n\" id=\"DejaVuSans-111\"/>\r\n     <path d=\"M 54.890625 33.015625 \r\nL 54.890625 0 \r\nL 45.90625 0 \r\nL 45.90625 32.71875 \r\nQ 45.90625 40.484375 42.875 44.328125 \r\nQ 39.84375 48.1875 33.796875 48.1875 \r\nQ 26.515625 48.1875 22.3125 43.546875 \r\nQ 18.109375 38.921875 18.109375 30.90625 \r\nL 18.109375 0 \r\nL 9.078125 0 \r\nL 9.078125 54.6875 \r\nL 18.109375 54.6875 \r\nL 18.109375 46.1875 \r\nQ 21.34375 51.125 25.703125 53.5625 \r\nQ 30.078125 56 35.796875 56 \r\nQ 45.21875 56 50.046875 50.171875 \r\nQ 54.890625 44.34375 54.890625 33.015625 \r\nz\r\n\" id=\"DejaVuSans-110\"/>\r\n     <path id=\"DejaVuSans-32\"/>\r\n     <path d=\"M 37.109375 75.984375 \r\nL 37.109375 68.5 \r\nL 28.515625 68.5 \r\nQ 23.6875 68.5 21.796875 66.546875 \r\nQ 19.921875 64.59375 19.921875 59.515625 \r\nL 19.921875 54.6875 \r\nL 34.71875 54.6875 \r\nL 34.71875 47.703125 \r\nL 19.921875 47.703125 \r\nL 19.921875 0 \r\nL 10.890625 0 \r\nL 10.890625 47.703125 \r\nL 2.296875 47.703125 \r\nL 2.296875 54.6875 \r\nL 10.890625 54.6875 \r\nL 10.890625 58.5 \r\nQ 10.890625 67.625 15.140625 71.796875 \r\nQ 19.390625 75.984375 28.609375 75.984375 \r\nz\r\n\" id=\"DejaVuSans-102\"/>\r\n     <path d=\"M 8.5 21.578125 \r\nL 8.5 54.6875 \r\nL 17.484375 54.6875 \r\nL 17.484375 21.921875 \r\nQ 17.484375 14.15625 20.5 10.265625 \r\nQ 23.53125 6.390625 29.59375 6.390625 \r\nQ 36.859375 6.390625 41.078125 11.03125 \r\nQ 45.3125 15.671875 45.3125 23.6875 \r\nL 45.3125 54.6875 \r\nL 54.296875 54.6875 \r\nL 54.296875 0 \r\nL 45.3125 0 \r\nL 45.3125 8.40625 \r\nQ 42.046875 3.421875 37.71875 1 \r\nQ 33.40625 -1.421875 27.6875 -1.421875 \r\nQ 18.265625 -1.421875 13.375 4.4375 \r\nQ 8.5 10.296875 8.5 21.578125 \r\nz\r\nM 31.109375 56 \r\nz\r\n\" id=\"DejaVuSans-117\"/>\r\n     <path d=\"M 44.28125 53.078125 \r\nL 44.28125 44.578125 \r\nQ 40.484375 46.53125 36.375 47.5 \r\nQ 32.28125 48.484375 27.875 48.484375 \r\nQ 21.1875 48.484375 17.84375 46.4375 \r\nQ 14.5 44.390625 14.5 40.28125 \r\nQ 14.5 37.15625 16.890625 35.375 \r\nQ 19.28125 33.59375 26.515625 31.984375 \r\nL 29.59375 31.296875 \r\nQ 39.15625 29.25 43.1875 25.515625 \r\nQ 47.21875 21.78125 47.21875 15.09375 \r\nQ 47.21875 7.46875 41.1875 3.015625 \r\nQ 35.15625 -1.421875 24.609375 -1.421875 \r\nQ 20.21875 -1.421875 15.453125 -0.5625 \r\nQ 10.6875 0.296875 5.421875 2 \r\nL 5.421875 11.28125 \r\nQ 10.40625 8.6875 15.234375 7.390625 \r\nQ 20.0625 6.109375 24.8125 6.109375 \r\nQ 31.15625 6.109375 34.5625 8.28125 \r\nQ 37.984375 10.453125 37.984375 14.40625 \r\nQ 37.984375 18.0625 35.515625 20.015625 \r\nQ 33.0625 21.96875 24.703125 23.78125 \r\nL 21.578125 24.515625 \r\nQ 13.234375 26.265625 9.515625 29.90625 \r\nQ 5.8125 33.546875 5.8125 39.890625 \r\nQ 5.8125 47.609375 11.28125 51.796875 \r\nQ 16.75 56 26.8125 56 \r\nQ 31.78125 56 36.171875 55.265625 \r\nQ 40.578125 54.546875 44.28125 53.078125 \r\nz\r\n\" id=\"DejaVuSans-115\"/>\r\n    </defs>\r\n    <g transform=\"translate(163.295625 16.318125)scale(0.12 -0.12)\">\r\n     <use xlink:href=\"#DejaVuSans-82\"/>\r\n     <use x=\"69.419922\" xlink:href=\"#DejaVuSans-101\"/>\r\n     <use x=\"130.943359\" xlink:href=\"#DejaVuSans-97\"/>\r\n     <use x=\"192.222656\" xlink:href=\"#DejaVuSans-99\"/>\r\n     <use x=\"247.203125\" xlink:href=\"#DejaVuSans-116\"/>\r\n     <use x=\"286.412109\" xlink:href=\"#DejaVuSans-105\"/>\r\n     <use x=\"314.195312\" xlink:href=\"#DejaVuSans-111\"/>\r\n     <use x=\"375.376953\" xlink:href=\"#DejaVuSans-110\"/>\r\n     <use x=\"438.755859\" xlink:href=\"#DejaVuSans-32\"/>\r\n     <use x=\"470.542969\" xlink:href=\"#DejaVuSans-102\"/>\r\n     <use x=\"505.748047\" xlink:href=\"#DejaVuSans-117\"/>\r\n     <use x=\"569.126953\" xlink:href=\"#DejaVuSans-110\"/>\r\n     <use x=\"632.505859\" xlink:href=\"#DejaVuSans-99\"/>\r\n     <use x=\"687.486328\" xlink:href=\"#DejaVuSans-116\"/>\r\n     <use x=\"726.695312\" xlink:href=\"#DejaVuSans-105\"/>\r\n     <use x=\"754.478516\" xlink:href=\"#DejaVuSans-111\"/>\r\n     <use x=\"815.660156\" xlink:href=\"#DejaVuSans-110\"/>\r\n     <use x=\"879.039062\" xlink:href=\"#DejaVuSans-115\"/>\r\n    </g>\r\n   </g>\r\n   <g id=\"legend_1\">\r\n    <g id=\"patch_7\">\r\n     <path d=\"M 311.230937 59.674375 \r\nL 390.723125 59.674375 \r\nQ 392.723125 59.674375 392.723125 57.674375 \r\nL 392.723125 29.318125 \r\nQ 392.723125 27.318125 390.723125 27.318125 \r\nL 311.230937 27.318125 \r\nQ 309.230937 27.318125 309.230937 29.318125 \r\nL 309.230937 57.674375 \r\nQ 309.230937 59.674375 311.230937 59.674375 \r\nz\r\n\" style=\"fill:#ffffff;opacity:0.8;stroke:#cccccc;stroke-linejoin:miter;\"/>\r\n    </g>\r\n    <g id=\"line2d_15\">\r\n     <path d=\"M 313.230937 35.416562 \r\nL 333.230937 35.416562 \r\n\" style=\"fill:none;stroke:#1f77b4;stroke-linecap:square;stroke-width:1.5;\"/>\r\n    </g>\r\n    <g id=\"line2d_16\"/>\r\n    <g id=\"text_16\">\r\n     <!-- BRA(qqb) -->\r\n     <defs>\r\n      <path d=\"M 19.671875 34.8125 \r\nL 19.671875 8.109375 \r\nL 35.5 8.109375 \r\nQ 43.453125 8.109375 47.28125 11.40625 \r\nQ 51.125 14.703125 51.125 21.484375 \r\nQ 51.125 28.328125 47.28125 31.5625 \r\nQ 43.453125 34.8125 35.5 34.8125 \r\nz\r\nM 19.671875 64.796875 \r\nL 19.671875 42.828125 \r\nL 34.28125 42.828125 \r\nQ 41.5 42.828125 45.03125 45.53125 \r\nQ 48.578125 48.25 48.578125 53.8125 \r\nQ 48.578125 59.328125 45.03125 62.0625 \r\nQ 41.5 64.796875 34.28125 64.796875 \r\nz\r\nM 9.8125 72.90625 \r\nL 35.015625 72.90625 \r\nQ 46.296875 72.90625 52.390625 68.21875 \r\nQ 58.5 63.53125 58.5 54.890625 \r\nQ 58.5 48.1875 55.375 44.234375 \r\nQ 52.25 40.28125 46.1875 39.3125 \r\nQ 53.46875 37.75 57.5 32.78125 \r\nQ 61.53125 27.828125 61.53125 20.40625 \r\nQ 61.53125 10.640625 54.890625 5.3125 \r\nQ 48.25 0 35.984375 0 \r\nL 9.8125 0 \r\nz\r\n\" id=\"DejaVuSans-66\"/>\r\n      <path d=\"M 34.1875 63.1875 \r\nL 20.796875 26.90625 \r\nL 47.609375 26.90625 \r\nz\r\nM 28.609375 72.90625 \r\nL 39.796875 72.90625 \r\nL 67.578125 0 \r\nL 57.328125 0 \r\nL 50.6875 18.703125 \r\nL 17.828125 18.703125 \r\nL 11.1875 0 \r\nL 0.78125 0 \r\nz\r\n\" id=\"DejaVuSans-65\"/>\r\n      <path d=\"M 31 75.875 \r\nQ 24.46875 64.65625 21.28125 53.65625 \r\nQ 18.109375 42.671875 18.109375 31.390625 \r\nQ 18.109375 20.125 21.3125 9.0625 \r\nQ 24.515625 -2 31 -13.1875 \r\nL 23.1875 -13.1875 \r\nQ 15.875 -1.703125 12.234375 9.375 \r\nQ 8.59375 20.453125 8.59375 31.390625 \r\nQ 8.59375 42.28125 12.203125 53.3125 \r\nQ 15.828125 64.359375 23.1875 75.875 \r\nz\r\n\" id=\"DejaVuSans-40\"/>\r\n      <path d=\"M 8.015625 75.875 \r\nL 15.828125 75.875 \r\nQ 23.140625 64.359375 26.78125 53.3125 \r\nQ 30.421875 42.28125 30.421875 31.390625 \r\nQ 30.421875 20.453125 26.78125 9.375 \r\nQ 23.140625 -1.703125 15.828125 -13.1875 \r\nL 8.015625 -13.1875 \r\nQ 14.5 -2 17.703125 9.0625 \r\nQ 20.90625 20.125 20.90625 31.390625 \r\nQ 20.90625 42.671875 17.703125 53.65625 \r\nQ 14.5 64.65625 8.015625 75.875 \r\nz\r\n\" id=\"DejaVuSans-41\"/>\r\n     </defs>\r\n     <g transform=\"translate(341.230937 38.916562)scale(0.1 -0.1)\">\r\n      <use xlink:href=\"#DejaVuSans-66\"/>\r\n      <use x=\"68.603516\" xlink:href=\"#DejaVuSans-82\"/>\r\n      <use x=\"138.023438\" xlink:href=\"#DejaVuSans-65\"/>\r\n      <use x=\"206.431641\" xlink:href=\"#DejaVuSans-40\"/>\r\n      <use x=\"245.445312\" xlink:href=\"#DejaVuSans-113\"/>\r\n      <use x=\"308.921875\" xlink:href=\"#DejaVuSans-113\"/>\r\n      <use x=\"372.398438\" xlink:href=\"#DejaVuSans-98\"/>\r\n      <use x=\"435.875\" xlink:href=\"#DejaVuSans-41\"/>\r\n     </g>\r\n    </g>\r\n    <g id=\"line2d_17\">\r\n     <path d=\"M 313.230937 50.094687 \r\nL 333.230937 50.094687 \r\n\" style=\"fill:none;stroke:#ff7f0e;stroke-linecap:square;stroke-width:1.5;\"/>\r\n    </g>\r\n    <g id=\"line2d_18\"/>\r\n    <g id=\"text_17\">\r\n     <!-- BRB(qqa) -->\r\n     <g transform=\"translate(341.230937 53.594687)scale(0.1 -0.1)\">\r\n      <use xlink:href=\"#DejaVuSans-66\"/>\r\n      <use x=\"68.603516\" xlink:href=\"#DejaVuSans-82\"/>\r\n      <use x=\"138.085938\" xlink:href=\"#DejaVuSans-66\"/>\r\n      <use x=\"206.689453\" xlink:href=\"#DejaVuSans-40\"/>\r\n      <use x=\"245.703125\" xlink:href=\"#DejaVuSans-113\"/>\r\n      <use x=\"309.179688\" xlink:href=\"#DejaVuSans-113\"/>\r\n      <use x=\"372.65625\" xlink:href=\"#DejaVuSans-97\"/>\r\n      <use x=\"433.935547\" xlink:href=\"#DejaVuSans-41\"/>\r\n     </g>\r\n    </g>\r\n   </g>\r\n  </g>\r\n </g>\r\n <defs>\r\n  <clipPath id=\"peafc189c82\">\r\n   <rect height=\"266.112\" width=\"357.12\" x=\"40.603125\" y=\"22.318125\"/>\r\n  </clipPath>\r\n </defs>\r\n</svg>\r\n",
      "image/png": "[encoded data removed]"
     },
     "metadata": {}
    }
   ],
   "source": [
    "# Plot the two best response functions (bemærk det er egne beregninger. Kan ikke huske hvad der skal inverteres og sådan noget for at man kan lave det grafisk. Men de burde passe)\n",
    "\n",
    "plt.plot([0,6,10],[50,20,0], label = 'BRA(qqb)')\n",
    "plt.plot([0,10,50],[25/4,5,0], label = 'BRB(qqa)')\n",
    "plt.legend()\n",
    "plt.xlabel('qa')\n",
    "plt.ylabel('qb')\n",
    "plt.title('Reaction functions')\n",
    "\n",
    "print(\"\\n The kink point is the optimal quantities. For firm A: \" + str(q_astar[0]) + \"and for firm B:\" + str(q_bstar[0])) \n"
   ]
  },
  {
   "cell_type": "markdown",
   "metadata": {},
   "source": [
    "The best response functions for the firm A and B shows the general result that the quantity choosen by a firm (in this particular case firm A) is negatively affected by the quantity of the other firm (in this case firm B) and vice versa. The kink point indicates the optimal quantities for both firms."
   ]
  },
  {
   "cell_type": "code",
   "execution_count": 42,
   "metadata": {},
   "outputs": [
    {
     "output_type": "stream",
     "name": "stdout",
     "text": "\n The consumer surplus is: \n"
    },
    {
     "output_type": "display_data",
     "data": {
      "text/plain": "99.4411571334648",
      "text/latex": "$\\displaystyle 99.4411571334648$"
     },
     "metadata": {}
    },
    {
     "output_type": "stream",
     "name": "stdout",
     "text": "\n The total surplus: \n"
    },
    {
     "output_type": "display_data",
     "data": {
      "text/plain": "405.982905982906",
      "text/latex": "$\\displaystyle 405.982905982906$"
     },
     "metadata": {}
    }
   ],
   "source": [
    "#Starting by making a variable for the total produced quantity\n",
    "Q_combined = q_astar[0]+q_bstar[0]\n",
    "\n",
    "# Calculating consumer surplus as the triangel under the demand function down to the price.\n",
    "print('\\n The consumer surplus is: ')\n",
    "CS = Q_combined*(a-price)/2\n",
    "display(CS)\n",
    "# Calculate total surplus\n",
    "print('\\n The total surplus: ')\n",
    "TS = profita + profitb + CS\n",
    "display(TS)\n"
   ]
  },
  {
   "cell_type": "markdown",
   "metadata": {},
   "source": [
    "## Analytical Solution \n",
    "\n",
    "We will now show the numerical solution for two firms with symmetric cost functions. This is done by using the functions from modelproject.py. "
   ]
  },
  {
   "cell_type": "code",
   "execution_count": 43,
   "metadata": {},
   "outputs": [
    {
     "output_type": "stream",
     "name": "stdout",
     "text": "\n The total quantity is: \n"
    },
    {
     "output_type": "display_data",
     "data": {
      "text/plain": "n*(a - k)/(b*(n + 1))",
      "text/latex": "$\\displaystyle \\frac{n \\left(a - k\\right)}{b \\left(n + 1\\right)}$"
     },
     "metadata": {}
    },
    {
     "output_type": "stream",
     "name": "stdout",
     "text": "\n The price is: \n"
    },
    {
     "output_type": "display_data",
     "data": {
      "text/plain": "a - n*(a - k)/(n + 1)",
      "text/latex": "$\\displaystyle a - \\frac{n \\left(a - k\\right)}{n + 1}$"
     },
     "metadata": {}
    },
    {
     "output_type": "stream",
     "name": "stdout",
     "text": "\n The quantity for firm i is: \n"
    },
    {
     "output_type": "display_data",
     "data": {
      "text/plain": "(a - k)/(b*(n + 1))",
      "text/latex": "$\\displaystyle \\frac{a - k}{b \\left(n + 1\\right)}$"
     },
     "metadata": {}
    },
    {
     "output_type": "stream",
     "name": "stdout",
     "text": "\n The the profit for firm i is: \n"
    },
    {
     "output_type": "display_data",
     "data": {
      "text/plain": "(a**2 - 2*a*k + k**2)/(b*(n**2 + 2*n + 1))",
      "text/latex": "$\\displaystyle \\frac{a^{2} - 2 a k + k^{2}}{b \\left(n^{2} + 2 n + 1\\right)}$"
     },
     "metadata": {}
    }
   ],
   "source": [
    "#We start by finding the analytics solution for firm i under symmetric cost function\n",
    "k = sm.symbols('k')\n",
    "a = sm.symbols('a')\n",
    "b = sm.symbols('b')\n",
    "N= sm.symbols('n') # Number of firms \n",
    "qi = sm.symbols('q_i') #quantity of the N firm \n",
    "\n",
    "Solution = mpy.solution_cournot(N,a,b,k)\n",
    "print('\\n The total quantity is: ')\n",
    "display(Solution[0])\n",
    "print('\\n The price is: ')\n",
    "display(Solution[1])\n",
    "print('\\n The quantity for firm i is: ')\n",
    "display(Solution[2])\n",
    "print('\\n The the profit for firm i is: ')  \n",
    "display(Solution[3])"
   ]
  },
  {
   "cell_type": "markdown",
   "metadata": {},
   "source": [
    "## Numerical Solution \n",
    "\n",
    "We will now solve the above example numeric using the same functions defined in modelproject.py."
   ]
  },
  {
   "cell_type": "code",
   "execution_count": 44,
   "metadata": {},
   "outputs": [
    {
     "output_type": "display_data",
     "data": {
      "text/plain": "interactive(children=(FloatSlider(value=5.0, description='a', max=10.0), FloatSlider(value=0.5, description='b…",
      "application/vnd.jupyter.widget-view+json": {
       "version_major": 2,
       "version_minor": 0,
       "model_id": "624643e98f3f47bf8a0b70bcab7ea1d1"
      }
     },
     "metadata": {}
    }
   ],
   "source": [
    "#Interaktiv metode til at opskrive løsning\n",
    "def f(a, b, c1, c2):\n",
    "    display(f'Optimal quantity non-identical firm 1 is {(a-2*c1+c2)/(3*b)}')\n",
    "    display(f'Optimal quantity non-identical firm 2 is {(a-2*c2+c1)/(3*b)}')\n",
    "    display(f'The profit given parameter values for non-identical firm 1 is {(((a-2*c1+c2))**2)/(9*b)}')\n",
    "    display(f'The profit given parameter values for non-identical firm 2 is {(((a-2*c2+c1))**2)/(9*b)}')\n",
    "interact(f, a=(0.0,10.0), b=(0.0,1.0), c1=(0.0,5.0), c2=(0.0,5.0));\n"
   ]
  },
  {
   "cell_type": "code",
   "execution_count": 45,
   "metadata": {},
   "outputs": [
    {
     "output_type": "stream",
     "name": "stdout",
     "text": "\n The total quantity is: \n"
    },
    {
     "output_type": "display_data",
     "data": {
      "text/plain": "33"
     },
     "metadata": {}
    },
    {
     "output_type": "stream",
     "name": "stdout",
     "text": "\n The price is: \n"
    },
    {
     "output_type": "display_data",
     "data": {
      "text/plain": "17"
     },
     "metadata": {}
    },
    {
     "output_type": "stream",
     "name": "stdout",
     "text": "\n The quantity for firm i is: \n"
    },
    {
     "output_type": "display_data",
     "data": {
      "text/plain": "16"
     },
     "metadata": {}
    },
    {
     "output_type": "stream",
     "name": "stdout",
     "text": "\n The the profit for firm i is: \n"
    },
    {
     "output_type": "display_data",
     "data": {
      "text/plain": "267"
     },
     "metadata": {}
    },
    {
     "output_type": "stream",
     "name": "stdout",
     "text": "\n The quantity for perfect competition: \n"
    },
    {
     "output_type": "display_data",
     "data": {
      "text/plain": "49"
     },
     "metadata": {}
    },
    {
     "output_type": "display_data",
     "data": {
      "text/plain": "interactive(children=(IntSlider(value=1, description='$Number of firms$', min=1), IntSlider(value=50, descript…",
      "application/vnd.jupyter.widget-view+json": {
       "version_major": 2,
       "version_minor": 0,
       "model_id": "32cd35e7390741888d57cdd3c435c2c6"
      }
     },
     "metadata": {}
    },
    {
     "output_type": "execute_result",
     "data": {
      "text/plain": "<function modelproject.plot_deadweight_loss(N, a, b, k)>"
     },
     "metadata": {},
     "execution_count": 45
    }
   ],
   "source": [
    "#We start by setting the values:\n",
    "a = 50\n",
    "b = 1\n",
    "k = 1\n",
    "N = 2 # Number of firms \n",
    "\n",
    "Solution = mpy.solution_cournot(N,a,b,k)\n",
    "pcquantity = mpy.perfect_com(qi,N,a,b,k)\n",
    "print('\\n The total quantity is: ')\n",
    "display(round(Solution[0]))\n",
    "print('\\n The price is: ')\n",
    "display(round(Solution[1]))\n",
    "print('\\n The quantity for firm i is: ')\n",
    "display(round(Solution[2]))\n",
    "print('\\n The the profit for firm i is: ')  \n",
    "display(round(Solution[3]))\n",
    "print('\\n The quantity for perfect competition: ')\n",
    "display(round(pcquantity[0]))\n",
    "\n",
    "#print('\\n The total quantity is: ' + str(round(Solution[0],2)))\n",
    "#print('\\n The price is: ' + str(round(Solution[1],2)))\n",
    "#print('\\n The quantity for firm i is: ' + str(round(Solution[2],2)))\n",
    "#print('\\n The the profit for firm i is: ' + str(round(Solution[3],2)))  \n",
    "#print('\\n The quantity for perfect competition: ' + str(round(pcquantity[0])))\n",
    "\n",
    "\n",
    "widgets.interact(mpy.plot_deadweight_loss,\n",
    "    N = widgets.IntSlider(description=\"$Number of firms$\",min=1,max=100),\n",
    "    a = a,\n",
    "    b = b,\n",
    "    k = k\n",
    ") "
   ]
  },
  {
   "cell_type": "markdown",
   "metadata": {},
   "source": [
    "# Collusion"
   ]
  },
  {
   "cell_type": "markdown",
   "metadata": {},
   "source": [
    "We are now going to examine a situation where 2 firms are chooses to collude on the chosen quantities. \n",
    "\n",
    "To simplify the analysis we are again examing a case of 2 firms with symmetric costfunctions given by $C(q_i)=k*q_i$. When the firms have the same cost function we can derive the \"combined costfunction\":\n",
    "$$C(Q)=C(q_A)+C(q_B)\\Rightarrow k*q_A+k*q_B \\Rightarrow k*(q_A+q_B)\\Rightarrow k*Q$$\n",
    "\n",
    "When firms collude they can choose quantities as to maximize the total producer profit in the market. In other word when colluding the firms can act as an monopoly. After they have set the prices and choosen the quantities to produce, the firms can split the profit. When assuming the firms have the same costfunctions leading to a constant marginal cost function, then it does matter which firm there produce the quantity. In other words firm A can produce all the quantity to maximize the combined profit function or they can split the quantity in half or firm B can produce the quantity. The only thing that matters is that the colluding acting as a monopoly. In the example below we assume that they will split the quantity in half. \n",
    "\n"
   ]
  },
  {
   "cell_type": "code",
   "execution_count": 58,
   "metadata": {},
   "outputs": [],
   "source": [
    "#In the coding above we have set parameters as global specific numbers. Therefore we start by making them parameters again:\n",
    "a = sm.symbols('a')\n",
    "b = sm.symbols('b')\n",
    "k = sm.symbols('k')\n",
    "Q = sm.symbols('Q')\n",
    "\n",
    "#The demand function is still the same. The only difference is that now the :\n",
    "# We start by defining the linear demand function:\n",
    "def p_monototal(Q,a,b):\n",
    "    return (a-b*(Q))\n",
    "\n",
    "#The \"combined\" cost function:\n",
    "def cost_mono(Q,k):\n",
    "    return k*Q   \n",
    "\n",
    "#So the firms will now maximize the total profit in the market:\n",
    "def profit_mono(Q,a,b,k):\n",
    "    return (p_monototal(Q,a,b) * Q - cost_mono(Q,k))\n"
   ]
  },
  {
   "cell_type": "markdown",
   "metadata": {},
   "source": [
    "We are now able of solving the monopoly problem:"
   ]
  },
  {
   "cell_type": "code",
   "execution_count": 61,
   "metadata": {},
   "outputs": [
    {
     "output_type": "stream",
     "name": "stdout",
     "text": "\n The FOC for the monopoly : \n"
    },
    {
     "output_type": "display_data",
     "data": {
      "text/plain": "-2*Q*b + a - k",
      "text/latex": "$\\displaystyle - 2 Q b + a - k$"
     },
     "metadata": {}
    },
    {
     "output_type": "stream",
     "name": "stdout",
     "text": "\n The chosen quantity for the monopoly: \n"
    },
    {
     "output_type": "display_data",
     "data": {
      "text/plain": "(a - k)/(2*b)",
      "text/latex": "$\\displaystyle \\frac{a - k}{2 b}$"
     },
     "metadata": {}
    },
    {
     "output_type": "stream",
     "name": "stdout",
     "text": "\n The price for the given monopolistic quantity: \n"
    },
    {
     "output_type": "display_data",
     "data": {
      "text/plain": "a/2 + k/2",
      "text/latex": "$\\displaystyle \\frac{a}{2} + \\frac{k}{2}$"
     },
     "metadata": {}
    },
    {
     "output_type": "stream",
     "name": "stdout",
     "text": "\n The profit for the monopoly: \n"
    },
    {
     "output_type": "execute_result",
     "data": {
      "text/plain": "-k*(a - k)/(2*b) + (a/2 + k/2)*(a - k)/(2*b)",
      "text/latex": "$\\displaystyle - \\frac{k \\left(a - k\\right)}{2 b} + \\frac{\\left(\\frac{a}{2} + \\frac{k}{2}\\right) \\left(a - k\\right)}{2 b}$"
     },
     "metadata": {},
     "execution_count": 61
    }
   ],
   "source": [
    "#We start by finding the optimal quantity:\n",
    "\n",
    "foc_mono = sm.diff(profit_mono(Q,a,b,k),Q)\n",
    "print('\\n The FOC for the monopoly : ')\n",
    "display(foc_mono)\n",
    "\n",
    "Q_mono = sm.solve(sm.Eq(foc_mono,0),Q)[0]\n",
    "\n",
    "print('\\n The chosen quantity for the monopoly: ')\n",
    "display(Q_mono)\n",
    "\n",
    "print('\\n The price for the given monopolistic quantity: ')\n",
    "display(p_monototal(Q_mono,a,b))\n",
    "\n",
    "print('\\n The profit for the monopoly: ')\n",
    "profit_mono(Q_mono,a,b,k)"
   ]
  },
  {
   "cell_type": "markdown",
   "metadata": {},
   "source": [
    "# Numerical solution when colluding"
   ]
  },
  {
   "cell_type": "code",
   "execution_count": 64,
   "metadata": {},
   "outputs": [
    {
     "output_type": "stream",
     "name": "stdout",
     "text": "\n The FOC for the monopoly : \n"
    },
    {
     "output_type": "display_data",
     "data": {
      "text/plain": "48 - 2*Q",
      "text/latex": "$\\displaystyle 48 - 2 Q$"
     },
     "metadata": {}
    },
    {
     "output_type": "stream",
     "name": "stdout",
     "text": "\n The chosen quantity for the monopoly: \n"
    },
    {
     "output_type": "display_data",
     "data": {
      "text/plain": "24",
      "text/latex": "$\\displaystyle 24$"
     },
     "metadata": {}
    },
    {
     "output_type": "stream",
     "name": "stdout",
     "text": "\n The price for the given monopolistic quantity: \n"
    },
    {
     "output_type": "display_data",
     "data": {
      "text/plain": "26",
      "text/latex": "$\\displaystyle 26$"
     },
     "metadata": {}
    },
    {
     "output_type": "stream",
     "name": "stdout",
     "text": "\n The profit for the monopoly: \n"
    },
    {
     "output_type": "execute_result",
     "data": {
      "text/plain": "576",
      "text/latex": "$\\displaystyle 576$"
     },
     "metadata": {},
     "execution_count": 64
    }
   ],
   "source": [
    "a = 50\n",
    "b = 1\n",
    "k = 2\n",
    "\n",
    "foc_mono = sm.diff(profit_mono(Q,a,b,k),Q)\n",
    "print('\\n The FOC for the monopoly : ')\n",
    "display(foc_mono)\n",
    "\n",
    "Q_mono = sm.solve(sm.Eq(foc_mono,0),Q)[0]\n",
    "\n",
    "#We start by finding the optimal quantity:\n",
    "\n",
    "print('\\n The chosen quantity for the monopoly: ')\n",
    "display(Q_mono)\n",
    "\n",
    "print('\\n The price for the given monopolistic quantity: ')\n",
    "display(p_monototal(Q_mono,a,b))\n",
    "\n",
    "print('\\n The profit for the monopoly: ')\n",
    "profit_mono(Q_mono,a,b,k)\n"
   ]
  },
  {
   "cell_type": "markdown",
   "metadata": {},
   "source": [
    "We can now conclude that the total quantity produced is less that when competing under normal Cournot competition together with that the total profit split into 2 is higher than the profit of each firm under cournot competition. "
   ]
  },
  {
   "cell_type": "markdown",
   "metadata": {},
   "source": [
    "# Conclusion"
   ]
  },
  {
   "cell_type": "markdown",
   "metadata": {},
   "source": [
    "we are now able to make the concluding remarks. At first we have shown that higher marginal costs (firm A relative to firm B) leads to lower produced output for firm A relative to firm B. Thereby we show the genereal result that the firms need to take into account their cost functions because the cost functions will affect the quantities sold and therefore also the profits.\n",
    "Furthermore we have shown that when solving a cournot model it is necessary that the firms take the other firms quantity choices into account. \n",
    "\n",
    "In the Analytical solution section we have shown that when the firms have symmetric cost functions the firms will produce the same quantity - this is also a general result.\n",
    "\n",
    "It could have been interresting to analyze what have happened to the quantities if the firms had been competiting in prices instead of quantities (also known as Bertrand competetion), this is left as perspective for the interested reader.\n",
    "\n",
    "At last we looked at the simplified case of symmetric cost functions and apply an interactive figure where N can go from 1 to 100. Here we saw that as N increases the total produced quantity goes toward the equilibrium of perfect competition and the deadweight loss decreases. This supports the introductary statement that for $N\\rightarrow 1$ \n",
    "the setting describes a monopolistic competition situation and for $N \\rightarrow \\infty$ the \n",
    "model describes the setting of perfect competition. \n",
    "\n",
    "BEMÆRK:: mangler konklusion på colluding"
   ]
  }
 ],
 "metadata": {
  "language_info": {
   "codemirror_mode": {
    "name": "ipython",
    "version": 3
   },
   "file_extension": ".py",
   "mimetype": "text/x-python",
   "name": "python",
   "nbconvert_exporter": "python",
   "pygments_lexer": "ipython3",
   "version": "3.7.4-final"
  },
  "orig_nbformat": 2,
  "kernelspec": {
   "name": "python3",
   "display_name": "Python 3"
  }
 },
 "nbformat": 4,
 "nbformat_minor": 2
}