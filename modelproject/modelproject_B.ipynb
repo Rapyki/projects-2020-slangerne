{
 "cells": [
  {
   "cell_type": "markdown",
   "metadata": {},
   "source": [
    "# The Cournot Model\n"
   ]
  },
  {
   "cell_type": "markdown",
   "metadata": {},
   "source": [
    "In this project we will analyze the traditionel Cournot model, known from lectures at the Micro 1,2 and 3. In a Cournot the firms competes in quantities thereby choosing the quantites taken into account the best response of the other firms to that quantity. Firstly, we will present the settings of the model followed by a analytic solution. Then we will simplify the settings and analyze a numerical case and examine how the numerical case is affected by the number of firms."
   ]
  },
  {
   "cell_type": "code",
   "execution_count": 10,
   "metadata": {},
   "outputs": [],
   "source": [
    "# autoreload modules when code is run\n",
    "%reload_ext autoreload\n",
    "%autoreload 2\n",
    "\n",
    "# Importing useful packages e\n",
    "import numpy as np\n",
    "import scipy as sp\n",
    "import sympy as sm\n",
    "import matplotlib.pyplot as plt\n",
    "import ipywidgets as widgets\n",
    "import pylab\n",
    "\n",
    "\n",
    "from ipywidgets import interact, interactive, fixed, interact_manual\n",
    "\n",
    "\n",
    "import modelproject_B as mpy\n",
    "\n",
    "\n",
    "# Er nedenstående nødvendige?\n",
    "from numpy import array\n",
    "from scipy import linalg\n",
    "from scipy import optimize\n",
    "\n",
    "# Sympy package helps writing  \n",
    "\n",
    "sm.init_printing(use_unicode=True)\n",
    "\n",
    "from sympy import *"
   ]
  },
  {
   "cell_type": "markdown",
   "metadata": {},
   "source": [
    "## The setting of the model:\n",
    "\n",
    "We examine a market with $N$ firms, whom produce the same homogenous good. Furthermore we assume that the aggregate demand of the good $x$ is linearly given by:\n",
    "$$p(x)=c-x$$\n",
    "Every firm $i$ has a costfunction given by:\n",
    "$$C(x_i)=k*x_i^2$$ where the aggregate quantity in the market is given as:\n",
    "$$x=\\sum_{j=0}^N(x_j)$$\n",
    "\n",
    "We then have that firm $i$ wish to maximize his profitfunction given by:\n",
    "$$\\underset{x_i}{max}: p(\\sum_{j=0}^Nx_j)x_i)-C(x_i) =p(x)x_i-C(x_i)$$\n",
    "\n",
    "So we have that firm $i$ is going to choose how much to produce given what the other firms in the market produces. It is intuitively that for  $N \\rightarrow \\infty$ \n",
    "this modelsetup describes the setting of perfect competition. Futhermore it is intuitive to imagine that for $N\\rightarrow 1$ \n",
    "the setting describes a monopolistic competition situation. These two outer cases will be examized later in the project."
   ]
  },
  {
   "cell_type": "markdown",
   "metadata": {},
   "source": [
    "## Analytical Solution for 2 firms\n",
    "\n",
    "We will now examine the analytical solution for only 2 firms  (A and B) competiting. We assume that firm a has a cost function given by: $C_A=\\frac{k}{2}*x_a^3$. The cost function of firm b: $C_B=k*x_b^2$. "
   ]
  },
  {
   "cell_type": "code",
   "execution_count": 11,
   "metadata": {},
   "outputs": [],
   "source": [
    "# Defining the elements in the firms choice\n",
    "\n",
    "a = sm.symbols('a')\n",
    "b = sm.symbols('b')\n",
    "qa, qb = sm.symbols('q_a q_b') \n",
    "k = sm.symbols('k')"
   ]
  },
  {
   "cell_type": "code",
   "execution_count": 12,
   "metadata": {},
   "outputs": [],
   "source": [
    "# We start by defining the linear demand function:\n",
    "def p_total(qa,qb,a,b):\n",
    "    return (a-b*(qa+qb))\n",
    "\n",
    "#Defining the cost function of firm A:\n",
    "def c_A(qa,k):\n",
    "    return (k*qa**2)\n",
    "\n",
    "#Defining the cost function of firm B:\n",
    "def c_B(qb,k):\n",
    "    return (k*qb**2)\n",
    "\n",
    "#The profitfunction of firm A:\n",
    "def profit_A(qa,qb,a,b,k):\n",
    "    return (p_total(qa,qb,a,b) * qa - c_A(qa,k))\n",
    "    \n",
    "#The profitfunction of firm B:\n",
    "def profit_B(qa,qb,a,b,k):\n",
    "    return (p_total(qa,qb,a,b) * qb - c_B(qb,k))"
   ]
  },
  {
   "cell_type": "code",
   "execution_count": null,
   "metadata": {},
   "outputs": [],
   "source": []
  },
  {
   "cell_type": "code",
   "execution_count": null,
   "metadata": {},
   "outputs": [],
   "source": []
  },
  {
   "cell_type": "code",
   "execution_count": null,
   "metadata": {},
   "outputs": [],
   "source": []
  },
  {
   "cell_type": "code",
   "execution_count": null,
   "metadata": {},
   "outputs": [],
   "source": []
  },
  {
   "cell_type": "code",
   "execution_count": 13,
   "metadata": {},
   "outputs": [
    {
     "data": {
      "image/png": "[encoded data removed]",
      "text/latex": [
       "$\\displaystyle a - b q_{a} - b \\left(q_{a} + q_{b}\\right) - 2 k q_{a}$"
      ],
      "text/plain": [
       "a - b⋅qₐ - b⋅(qₐ + q_b) - 2⋅k⋅qₐ"
      ]
     },
     "metadata": {},
     "output_type": "display_data"
    },
    {
     "data": {
      "image/png": "[encoded data removed]",
      "text/latex": [
       "$\\displaystyle a - b q_{b} - b \\left(q_{a} + q_{b}\\right) - 2 k q_{b}$"
      ],
      "text/plain": [
       "a - b⋅q_b - b⋅(qₐ + q_b) - 2⋅k⋅q_b"
      ]
     },
     "metadata": {},
     "output_type": "display_data"
    }
   ],
   "source": [
    "#We will now find the derivative, for which we will use to find the best response functions\n",
    "\n",
    "foc_a = diff(profit_A(qa,qb,a,b,k),qa)\n",
    "foc_b = diff(profit_B(qa,qb,a,b,k),qb)\n",
    "display(foc_a,foc_b)"
   ]
  },
  {
   "cell_type": "code",
   "execution_count": 14,
   "metadata": {},
   "outputs": [
    {
     "name": "stdout",
     "output_type": "stream",
     "text": [
      "\n",
      " Firm A's best response is given by: q_a = (a - b*q_b)/(2*(b + k)) and firm B's best response is given by: q_b =(a - b*q_a)/(2*(b + k))\n"
     ]
    }
   ],
   "source": [
    "#We find the best responsefunctions by isolating respectively qa and qb in the above found derivatives\n",
    "sola = sm.solve(sm.Eq(foc_a,0),qa)[0]\n",
    "solb = sm.solve(sm.Eq(foc_b,0),qb)[0]\n",
    "#solb\n",
    "print(\"\\n Firm A's best response is given by: q_a = \" + str(sola) + \" and firm B's best response is given by: q_b =\" + str(solb) )"
   ]
  },
  {
   "cell_type": "code",
   "execution_count": 15,
   "metadata": {},
   "outputs": [
    {
     "data": {
      "image/png": "[encoded data removed]",
      "text/latex": [
       "$\\displaystyle \\left[ \\frac{a}{3 b + 2 k}\\right]$"
      ],
      "text/plain": [
       "⎡    a    ⎤\n",
       "⎢─────────⎥\n",
       "⎣3⋅b + 2⋅k⎦"
      ]
     },
     "metadata": {},
     "output_type": "display_data"
    },
    {
     "data": {
      "image/png": "[encoded data removed]",
      "text/latex": [
       "$\\displaystyle \\left[ \\frac{a}{3 b + 2 k}\\right]$"
      ],
      "text/plain": [
       "⎡    a    ⎤\n",
       "⎢─────────⎥\n",
       "⎣3⋅b + 2⋅k⎦"
      ]
     },
     "metadata": {},
     "output_type": "display_data"
    }
   ],
   "source": [
    "#To find the quantity firm A wants to produce we substitute firm B's best response function into firm A's best reponse and then solve for q_a \n",
    "sola_subs = foc_a.subs(qb,solb) #substituting the best response function of firm B into the FOC of firm A\n",
    "sola_subs\n",
    "q_astar = solve(sola_subs,qa) #Solving for q_a\n",
    "solb_subs = foc_b.subs(qa,sola) #substituting the best response function of firm A into the FOC of firm B\n",
    "q_bstar = solve(solb_subs,qb) #Solving for q_b\n",
    "display ( q_astar, q_bstar) #Showing the optimal quantities"
   ]
  },
  {
   "cell_type": "code",
   "execution_count": 16,
   "metadata": {},
   "outputs": [
    {
     "data": {
      "image/png": "[encoded data removed]",
      "text/latex": [
       "$\\displaystyle \\left\\{ q_{a} : \\frac{a}{3 b + 2 k}, \\  q_{b} : \\frac{a}{3 b + 2 k}\\right\\}$"
      ],
      "text/plain": [
       "⎧        a               a    ⎫\n",
       "⎨qₐ: ─────────, q_b: ─────────⎬\n",
       "⎩    3⋅b + 2⋅k       3⋅b + 2⋅k⎭"
      ]
     },
     "execution_count": 16,
     "metadata": {},
     "output_type": "execute_result"
    }
   ],
   "source": [
    "#Here we find the optimal quantities for both firms with another code. The result is identical with the result above. Here we just use that we can solve 2 equation with 2 unknowns.\n",
    "\n",
    "solve([foc_a, foc_b], [qa, qb]) #solving 2 equations with 2 unknowns "
   ]
  },
  {
   "cell_type": "code",
   "execution_count": 17,
   "metadata": {},
   "outputs": [
    {
     "name": "stdout",
     "output_type": "stream",
     "text": [
      "\n",
      " The price of the good: -2*a*b/(3*b + 2*k) + a\n",
      "\n",
      " The profit of A: a**2*(b + k)/(3*b + 2*k)**2\n",
      "\n",
      " The profit of B: a**2*(b + k)/(3*b + 2*k)**2\n"
     ]
    }
   ],
   "source": [
    "#We are now able to find the prices the firms will take for the good and the profit each firm get:\n",
    "\n",
    "#As the above quantities is given as lists we start by defining/converting the list into a float:\n",
    "type(q_astar)\n",
    "qqa=q_astar[0]\n",
    "qqb=q_bstar[0]\n",
    "#We can now find the price of the good:\n",
    "print(\"\\n The price of the good: \" + str(p_total(qqa,qqb,a,b)) ) \n",
    "\n",
    "#We can now find the profit of each firm:\n",
    "print(\"\\n The profit of A: \" + str(simplify(profit_A(qqa,qqb,a,b,k))))\n",
    "print(\"\\n The profit of B: \" + str(simplify(profit_B(qqa,qqb,a,b,k))))"
   ]
  },
  {
   "cell_type": "markdown",
   "metadata": {},
   "source": [
    "## Numerical Solution \n",
    "\n",
    "We will now show the numerical solution for two firms using the functions from modelproject.py. The functions are based on the analytical solution. We will simplyfy the settings by assuming same cost function: cost = k*qi .  "
   ]
  },
  {
   "cell_type": "code",
   "execution_count": 18,
   "metadata": {},
   "outputs": [
    {
     "name": "stdout",
     "output_type": "stream",
     "text": [
      "(a**2 - 2*a*k + k**2)/(b*(n**2 + 2*n + 1))\n"
     ]
    }
   ],
   "source": [
    "#We start by setting the values:\n",
    "k = sm.symbols('k')\n",
    "a = sm.symbols('a')\n",
    "b = sm.symbols('b')\n",
    "N= sm.symbols('n') # Number of firms \n",
    "qi = sm.symbols('q_i') #quantity of the N firm \n",
    "\n",
    "Solution = mpy.solution_cournot(N,qi,a,b,k)\n",
    "print(Solution[4])\n"
   ]
  },
  {
   "cell_type": "code",
   "execution_count": 19,
   "metadata": {},
   "outputs": [
    {
     "name": "stdout",
     "output_type": "stream",
     "text": [
      "\n",
      " The total quantity is: 12.67\n",
      "\n",
      " The price is: 7.33\n",
      "\n",
      " The quantity for firm i is: 6.33\n",
      "\n",
      " The the profit for firm i is: 40.11\n",
      "\n",
      " The quantity for perfect competition: 19\n"
     ]
    },
    {
     "data": {
      "image/png": "[encoded data removed]",
      "text/plain": [
       "<Figure size 640x480 with 1 Axes>"
      ]
     },
     "metadata": {},
     "output_type": "display_data"
    },
    {
     "ename": "NameError",
     "evalue": "name 'solution_cournot' is not defined",
     "output_type": "error",
     "traceback": [
      "\u001b[0;31m---------------------------------------------------------------------------\u001b[0m",
      "\u001b[0;31mNameError\u001b[0m                                 Traceback (most recent call last)",
      "\u001b[0;32m<ipython-input-19-62cffdc6d219>\u001b[0m in \u001b[0;36m<module>\u001b[0;34m\u001b[0m\n\u001b[1;32m     19\u001b[0m \u001b[0mloss\u001b[0m \u001b[0;34m=\u001b[0m \u001b[0mmpy\u001b[0m\u001b[0;34m.\u001b[0m\u001b[0mplot_deadweight_loss\u001b[0m\u001b[0;34m(\u001b[0m\u001b[0mN\u001b[0m\u001b[0;34m,\u001b[0m\u001b[0mqi\u001b[0m\u001b[0;34m,\u001b[0m\u001b[0ma\u001b[0m\u001b[0;34m,\u001b[0m\u001b[0mb\u001b[0m\u001b[0;34m,\u001b[0m\u001b[0mk\u001b[0m\u001b[0;34m)\u001b[0m\u001b[0;34m\u001b[0m\u001b[0;34m\u001b[0m\u001b[0m\n\u001b[1;32m     20\u001b[0m \u001b[0;34m\u001b[0m\u001b[0m\n\u001b[0;32m---> 21\u001b[0;31m widgets.interact(solution_cournot,\n\u001b[0m\u001b[1;32m     22\u001b[0m     \u001b[0mN\u001b[0m \u001b[0;34m=\u001b[0m \u001b[0mwidgets\u001b[0m\u001b[0;34m.\u001b[0m\u001b[0mFloatSlider\u001b[0m\u001b[0;34m(\u001b[0m\u001b[0mdescription\u001b[0m\u001b[0;34m=\u001b[0m\u001b[0;34m\"$Number of firms$\"\u001b[0m\u001b[0;34m,\u001b[0m\u001b[0mmin\u001b[0m\u001b[0;34m=\u001b[0m\u001b[0;36m1\u001b[0m\u001b[0;34m,\u001b[0m\u001b[0mmax\u001b[0m\u001b[0;34m=\u001b[0m\u001b[0;36m5\u001b[0m\u001b[0;34m)\u001b[0m\u001b[0;34m,\u001b[0m\u001b[0;34m\u001b[0m\u001b[0;34m\u001b[0m\u001b[0m\n\u001b[1;32m     23\u001b[0m  )\n",
      "\u001b[0;31mNameError\u001b[0m: name 'solution_cournot' is not defined"
     ]
    }
   ],
   "source": [
    "#We start by setting the values:\n",
    "a = 20\n",
    "b = 1\n",
    "k = 1\n",
    "\n",
    "N = 2 # Number of firms \n",
    "\n",
    "qi = sm.symbols('q_i') #quantity of the i firm \n",
    "\n",
    "\n",
    "Solution = mpy.solution_cournot(N,qi,a,b,k)\n",
    "print('\\n The total quantity is: ' + str(round(Solution[1],2)))\n",
    "print('\\n The price is: ' + str(round(Solution[2],2)))\n",
    "print('\\n The quantity for firm i is: ' + str(round(Solution[3],2)))\n",
    "print('\\n The the profit for firm i is: ' + str(round(Solution[4],2)))  \n",
    "\n",
    "pcquantity = mpy.perfect_com(qi,N,a,b,k)\n",
    "print('\\n The quantity for perfect competition: ' + str(round(pcquantity[0])))\n",
    "loss = mpy.plot_deadweight_loss(N,qi,a,b,k)\n",
    "\n",
    "widgets.interact(solution_cournot,\n",
    "    N = widgets.FloatSlider(description=\"$Number of firms$\",min=1,max=5),\n",
    " )"
   ]
  },
  {
   "cell_type": "code",
   "execution_count": 20,
   "metadata": {},
   "outputs": [],
   "source": [
    "# We define the inverse demand function:\n",
    "\n",
    "def p(q1,q2,a):\n",
    "    return a - q1 - q2\n",
    "\n",
    "# We define the cost function:\n",
    "\n",
    "def cost(q,c):\n",
    "    cost = q * c\n",
    "    return cost\n",
    "\n",
    "# We define the profit function for firm 1:\n",
    "\n",
    "def profit1(q1,q2,a,c):\n",
    "    return p(q1,q2,a) * q1 - cost(q1,c)\n",
    "\n",
    "# We define the profit function for firm 2:\n",
    "\n",
    "def profit2(q1,q2,a,c):\n",
    "    return p(q1,q2,a) * q2 - cost(q2,c)"
   ]
  },
  {
   "cell_type": "code",
   "execution_count": 21,
   "metadata": {},
   "outputs": [],
   "source": [
    "q0 = [1]\n",
    "\n",
    "def best_response1(q2,a,c):\n",
    "    q1opt = optimize.minimize(lambda q0: -profit1(q0,q2,a,c), q0).x[0]\n",
    "    return q1opt\n",
    "\n",
    "def best_response2(q1,a,c):\n",
    "    q2opt = optimize.minimize(lambda q0: -profit2(q1,q0,a,c), q0).x[0]\n",
    "    return q2opt"
   ]
  },
  {
   "cell_type": "code",
   "execution_count": 22,
   "metadata": {},
   "outputs": [],
   "source": [
    "def conditions(q,parameters):\n",
    "    u = q[0] - best_response1(q[1],parameters[0],parameters[1])\n",
    "    y = q[1] - best_response2(q[0],parameters[0],parameters[2])\n",
    "    return [u,y]"
   ]
  },
  {
   "cell_type": "code",
   "execution_count": 23,
   "metadata": {},
   "outputs": [
    {
     "data": {
      "application/vnd.jupyter.widget-view+json": {
       "model_id": "2696be1435e7423bab88457e413590f4",
       "version_major": 2,
       "version_minor": 0
      },
      "text/plain": [
       "interactive(children=(FloatSlider(value=0.0, description='$c_1$', max=5.0), FloatSlider(value=0.0, description…"
      ]
     },
     "metadata": {},
     "output_type": "display_data"
    },
    {
     "data": {
      "text/plain": [
       "<function __main__.f(c1, c2, a)>"
      ]
     },
     "execution_count": 23,
     "metadata": {},
     "output_type": "execute_result"
    }
   ],
   "source": [
    "# Production vector, initial values:\n",
    "\n",
    "q = [2,2]\n",
    "\n",
    "# Here we define the function, f, which contains a solver that solves the Nash equilibrium,\n",
    "# given the parameters that are chosen in the sliders below.\n",
    "\n",
    "def f(c1,c2,a):\n",
    "    parameters = [a,c1,c2]\n",
    "    solver = optimize.fsolve(conditions,q,args=(parameters))\n",
    "    if solver[0] < 0:\n",
    "        solver[0] = 0\n",
    "    if solver[1] < 0:\n",
    "        solver[1] = 0\n",
    "        \n",
    "    print(\"\\n Nash Equilibrium: \\n The Nash equilibrium, firm 1 produces \" + str(round(solver[0],2)) + \" units and firm 2 produces \" + str(round(solver[1],2)) + \" units.\")\n",
    "\n",
    "# Here three sliders are created:\n",
    "    \n",
    "widgets.interact(f,\n",
    "    c1 = widgets.FloatSlider(description=\"$c_1$\",min=0,max=5),\n",
    "    c2 = widgets.FloatSlider(description=\"$c_2$\",min=0,max=5),\n",
    "    a = widgets.FloatSlider(description=\"$a$\", min=5,max=10),\n",
    " )"
   ]
  },
  {
   "cell_type": "code",
   "execution_count": null,
   "metadata": {},
   "outputs": [],
   "source": [
    "def g(a,c):\n",
    "    \n",
    "# Creating empty box:\n",
    "    prod2 = np.arange(0,10,0.1)\n",
    "    prod1 = []\n",
    "\n",
    "    for q2 in prod2:\n",
    "        q1 = round(best_response1(q2,a,c),3)\n",
    "\n",
    "    # Adding the best response production to the empty box:\n",
    "        prod1.append(q1)\n",
    "\n",
    "    plt.title(\"Figure 1: Best response for firm 1 (blue) and production level\\n for firm 2 (orange), given production level for firm 2\")\n",
    "    plt.ylabel(\"q\")\n",
    "    plt.xlabel(\"$q_2$\")\n",
    "    plt.plot(prod2, prod1)\n",
    "    plt.plot(prod2, prod2)\n",
    "\n",
    "widgets.interact(g,\n",
    "    a = widgets.FloatSlider(description=\"$a$\",min=5,max=10),\n",
    "    c = widgets.FloatSlider(description=\"$c$\",min=0,max=5)\n",
    " )"
   ]
  },
  {
   "cell_type": "code",
   "execution_count": null,
   "metadata": {},
   "outputs": [],
   "source": [
    "# Here we define different marginal costs and production for firm 1 and 2:\n",
    "\n",
    "costs = np.arange(0,5,0.1)\n",
    "prod1 = np.arange(0,5,0.1)\n",
    "prod2 = np.arange(0,5,0.1)\n",
    "\n",
    "# Creating empty boxes:\n",
    "\n",
    "x = []\n",
    "y = []\n",
    "\n",
    "for q2 in prod2:\n",
    "    q1 = round(best_response1(q2,10,0),3)\n",
    "    x.append(q1)\n",
    "    \n",
    "for c, q1 in zip(costs,prod1):\n",
    "    q2 = round(best_response2(q1,10,c),3)\n",
    "    y.append(q2)"
   ]
  },
  {
   "cell_type": "code",
   "execution_count": null,
   "metadata": {},
   "outputs": [],
   "source": [
    "plt.title(\"Figure 2: Best response for firms with marginal cost $c = 0$ (blue) and best response for firms\\nwith increasing marginal cost (orange) given produciton level of the other firm\")\n",
    "plt.ylabel(\"q best response\")\n",
    "plt.xlabel(\"q other firm\")\n",
    "plt.plot(costs, x)\n",
    "plt.plot(costs, y)"
   ]
  },
  {
   "cell_type": "code",
   "execution_count": null,
   "metadata": {},
   "outputs": [],
   "source": [
    "\n",
    "prod1 = np.arange(0,5,0.1)\n",
    "prod2 = np.arange(0,5,0.1)\n",
    "\n",
    "def f(c1,c2):\n",
    "#Create empty lists:\n",
    "    x = []\n",
    "    y = []\n",
    "\n",
    "    for q2 in prod2:\n",
    "        q1 = round(best_response1(q2,10,c1),3)\n",
    "        x.append(q1) #Adding data to the x-list\n",
    "\n",
    "    for q1 in prod1:\n",
    "        q2 = round(best_response2(q1,10,c2),3)\n",
    "        y.append(q2) #Adding data to the y-list\n",
    "        \n",
    "    #Creating figure 3:\n",
    "    plt.title(\"Figure 3: Best response for firm 1 with marginal cost $c_1$ (blue) and best response for\\nfirm 2 with marginal cost $c_2$ (orange) given produciton level of the other firm\")\n",
    "    plt.ylabel(\"q best response\")\n",
    "    plt.xlabel(\"q other firm\")\n",
    "    plt.plot(prod2,x)\n",
    "    plt.plot(prod1,y)\n",
    "\n",
    "widgets.interact(f,\n",
    "    c1 = widgets.FloatSlider(description=\"$c_1$\",min=0,max=5),\n",
    "    c2 = widgets.FloatSlider(description=\"$c_2$\",min=0,max=5),\n",
    " )"
   ]
  },
  {
   "cell_type": "markdown",
   "metadata": {},
   "source": [
    "# Further analysis"
   ]
  },
  {
   "cell_type": "markdown",
   "metadata": {},
   "source": [
    "We extend the analysis by looking at firms with assymetric cost functions. We will look at a situation with 2 firms\n",
    "\n"
   ]
  },
  {
   "cell_type": "code",
   "execution_count": null,
   "metadata": {},
   "outputs": [],
   "source": [
    "def p(q1,q2):\n",
    "    return d-a*q1-b*q2\n",
    "\n",
    "# Defining costs function\n",
    "def costs(q,c):\n",
    "    return c*q\n",
    "\n",
    "# Defining profits function\n",
    "def profits(demand_function,cost_function,c,q1,q2):\n",
    "    return demand_function(q1,q2)*q1-costs(q1,c)\n"
   ]
  },
  {
   "cell_type": "code",
   "execution_count": null,
   "metadata": {},
   "outputs": [],
   "source": [
    "# Giving values to the parameters\n",
    "d = 100\n",
    "a = 10\n",
    "b = 2\n",
    "c1=10\n",
    "c2=2\n",
    "\n",
    "# Defining the reaction function\n",
    "def reaction(q2,c1):\n",
    "    q1 = optimize.fminbound(lambda x: -profits(p,costs,c1,x,q2),0,d,full_output=1)\n",
    "    return q1[0]\n",
    "\n",
    "def fixed_point(q,c):\n",
    "    return [q[0]-reaction(q[1],c[0]),q[1]-reaction(q[0],c[1])] #[0] stands for firm 1 and [1] for firm 2\n",
    "initial_guess = [0,0]\n",
    "\n",
    "# General formula to get the optimal quantities\n",
    "optimize.fsolve(lambda q: fixed_point(q,[c1,c2]), initial_guess)\n"
   ]
  },
  {
   "cell_type": "code",
   "execution_count": null,
   "metadata": {},
   "outputs": [],
   "source": [
    "import matplotlib.pyplot as plt\n",
    "get_ipython().run_line_magic('matplotlib', 'inline')\n",
    "\n",
    "range_c = range(0,11,1)\n",
    "range_q = [optimize.fsolve(lambda q: fixed_point(q,[c,0]), [0,0]) for c in range_c]\n",
    "plt.plot(range_c,array(range_q)[:,0], label = 'firm 1')\n",
    "plt.plot(range_c,array(range_q)[:,1], label = 'firm 2')\n",
    "plt.legend()\n",
    "plt.xlabel('c1')\n",
    "plt.ylabel('q')\n"
   ]
  },
  {
   "cell_type": "code",
   "execution_count": null,
   "metadata": {},
   "outputs": [],
   "source": [
    "# We start by defining the linear demand function:\n",
    "def p_total(qa,qb,c):\n",
    "    return (c-(qa+qb))\n",
    "\n",
    "#Defining the cost function of firm A:\n",
    "def c_A(qa,k):\n",
    "    return ((k/2)*qa**2)\n",
    "\n",
    "#Defining the cost function of firm B:\n",
    "def c_B(qb,k):\n",
    "    return (k*qb**2)\n",
    "\n",
    "#The profitfunction of firm A:\n",
    "def profit_A(qa,qb,c,k):\n",
    "    return (p_total(qa,qb,c) * qa - c_A(qa,k))\n",
    "    \n",
    "#The profitfunction of firm B:\n",
    "def profit_B(qa,qb,c,k):\n",
    "    return (p_total(qa,qb,c) * qb - c_B(qb,k))"
   ]
  },
  {
   "cell_type": "code",
   "execution_count": null,
   "metadata": {},
   "outputs": [],
   "source": [
    "#We start by setting the values:\n",
    "c=50\n",
    "k=3\n",
    "\n",
    "#The derivative:\n",
    "foc_a = diff(profit_A(qa,qb,c,k),qa)\n",
    "foc_b = diff(profit_B(qa,qb,c,k),qb)\n",
    "display(foc_a,foc_b)\n",
    "\n",
    "#The best responsefunctions \n",
    "sola= sm.solve(sm.Eq(foc_a,0),qa)[0]\n",
    "solb= sm.solve(sm.Eq(foc_b,0),qb)[0]\n",
    "print(\"\\n Firm A's best response is given by: q_a = \" + str(sola) + \" and firm B's best response is given by: q_b =\" + str(solb) )\n",
    "\n",
    "solve([foc_a, foc_b], [qa, qb])"
   ]
  },
  {
   "cell_type": "markdown",
   "metadata": {},
   "source": [
    "# Conclusion"
   ]
  },
  {
   "cell_type": "code",
   "execution_count": null,
   "metadata": {},
   "outputs": [],
   "source": []
  },
  {
   "cell_type": "code",
   "execution_count": null,
   "metadata": {},
   "outputs": [],
   "source": []
  }
 ],
 "metadata": {
  "kernelspec": {
   "display_name": "Python 3",
   "language": "python",
   "name": "python3"
  },
  "language_info": {
   "codemirror_mode": {
    "name": "ipython",
    "version": 3
   },
   "file_extension": ".py",
   "mimetype": "text/x-python",
   "name": "python",
   "nbconvert_exporter": "python",
   "pygments_lexer": "ipython3",
   "version": "3.7.4"
  }
 },
 "nbformat": 4,
 "nbformat_minor": 2
}
