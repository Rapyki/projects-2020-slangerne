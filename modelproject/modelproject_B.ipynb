{
 "cells": [
  {
   "cell_type": "markdown",
   "metadata": {},
   "source": [
    "# The Cournot Model\n"
   ]
  },
  {
   "cell_type": "markdown",
   "metadata": {},
   "source": [
    "In this project we will analyze the traditionel Cournot model, known from lectures at the Micro 1,2 and 3. In a Cournot the firms competes in quantities thereby choosing the quantites taken into account the best response of the other firms to that quantity. Firstly, we will present the settings of the model followed by a analytic solution. Then we will simplify the settings and analyze a numerical case and examine how the numerical case is affected by the number of firms."
   ]
  },
  {
   "cell_type": "code",
   "execution_count": 1,
   "metadata": {},
   "outputs": [],
   "source": [
    "# autoreload modules when code is run\n",
    "%reload_ext autoreload\n",
    "%autoreload 2\n",
    "\n",
    "# Importing useful packages e\n",
    "import numpy as np\n",
    "import scipy as sp\n",
    "import sympy as sm\n",
    "import matplotlib.pyplot as plt\n",
    "import ipywidgets as widgets\n",
    "import pylab\n",
    "\n",
    "from numpy import array\n",
    "from scipy import linalg\n",
    "from scipy import optimize\n",
    "\n",
    "import modelproject_B as mpy\n",
    "\n",
    "# Sympy package helps writing  \n",
    "\n",
    "sm.init_printing(use_unicode=True)\n",
    "\n",
    "from sympy import *"
   ]
  },
  {
   "cell_type": "markdown",
   "metadata": {},
   "source": [
    "## The setting of the model:\n",
    "\n",
    "We examine a market with $N$ firms, whom produce the same homogenous good. Furthermore we assume that the aggregate demand of the good x is linearly given by:\n",
    "$$p(x)=c-x$$\n",
    "Every firm $i$ has a costfunction given by:\n",
    "$$C(x_i)=k*x_i^2$$ where the aggregate quantity in the market is given as:\n",
    "$$x=\\sum_{j=0}^N(x_j)$$\n",
    "\n",
    "We then have that firm $i$ wish to maximize his profitfunction given by:\n",
    "$$\\underset{x_i}{max}: p(\\sum_{j=0}^Nx_j)x_i)-C(x_i) =p(x)x_i-C(x_i)$$\n",
    "\n",
    "So we have that firm $i$ is going to choose how much to produce given what the other firms in the market produces. It is intuitively that for $N\\rightarrow \\infty$ this modelsetup describes the setting of perfect competition. Futhermore it is intuitive to imagine that for $N\\rightarrow 1$ the setting describes a monopolistic competition situation. These two outer cases will be examized later in the project."
   ]
  },
  {
   "cell_type": "markdown",
   "metadata": {},
   "source": [
    "## Analytical Solution for 2 firms\n",
    "\n",
    "We will now examine the analytical solution for only 2 firms  (A and B) competiting. We assume that firm a has a costfunction given by: $C_A=\\frac{k}{2}*x_a^3$. The costfunction of firm b: $C_B=k*x_b^2$. "
   ]
  },
  {
   "cell_type": "code",
   "execution_count": null,
   "metadata": {},
   "outputs": [],
   "source": [
    "# Defining the elements in the firms choice\n",
    "\n",
    "a = sm.symbols('a')\n",
    "b = sm.symbols('b')\n",
    "qa, qb = sm.symbols('q_a q_b') \n",
    "k = sm.symbols('k')"
   ]
  },
  {
   "cell_type": "code",
   "execution_count": null,
   "metadata": {},
   "outputs": [],
   "source": [
    "# We start by defining the linear demand function:\n",
    "def p_total(qa,qb,a,b):\n",
    "    return (a-b*(qa+qb))\n",
    "\n",
    "#Defining the cost function of firm A:\n",
    "def c_A(qa,k):\n",
    "    return (k*qa**2)\n",
    "\n",
    "#Defining the cost function of firm B:\n",
    "def c_B(qb,k):\n",
    "    return (k*qb**2)\n",
    "\n",
    "#The profitfunction of firm A:\n",
    "def profit_A(qa,qb,a,b,k):\n",
    "    return (p_total(qa,qb,a,b) * qa - c_A(qa,k))\n",
    "    \n",
    "#The profitfunction of firm B:\n",
    "def profit_B(qa,qb,a,b,k):\n",
    "    return (p_total(qa,qb,a,b) * qb - c_B(qb,k))"
   ]
  }
 ],
 "metadata": {
  "language_info": {
   "codemirror_mode": {
    "name": "ipython",
    "version": 3
   },
   "file_extension": ".py",
   "mimetype": "text/x-python",
   "name": "python",
   "nbconvert_exporter": "python",
   "pygments_lexer": "ipython3",
   "version": "3.7.4-final"
  },
  "orig_nbformat": 2,
  "kernelspec": {
   "name": "python3",
   "display_name": "Python 3"
  }
 },
 "nbformat": 4,
 "nbformat_minor": 2
}