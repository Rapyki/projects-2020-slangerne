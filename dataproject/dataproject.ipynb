{
 "nbformat": 4,
 "nbformat_minor": 2,
 "metadata": {
  "language_info": {
   "name": "python",
   "codemirror_mode": {
    "name": "ipython",
    "version": 3
   },
   "version": "3.7.4-final"
  },
  "orig_nbformat": 2,
  "file_extension": ".py",
  "mimetype": "text/x-python",
  "name": "python",
  "npconvert_exporter": "python",
  "pygments_lexer": "ipython3",
  "version": 3,
  "kernelspec": {
   "name": "python3",
   "display_name": "Python 3"
  }
 },
 "cells": [
  {
   "cell_type": "code",
   "execution_count": 1,
   "metadata": {},
   "outputs": [],
   "source": [
    "#Importing needed packages\n",
    "import numpy as np\n",
    "import matplotlib.pyplot as plt\n",
    "plt.style.use('seaborn')\n",
    "import pandas as pd\n",
    "import B_funktioner\n",
    "import pydst as pydst\n",
    "dst = pydst.Dst(lang='en')\n",
    "\n",
    ""
   ]
  },
  {
   "cell_type": "code",
   "execution_count": 11,
   "metadata": {},
   "outputs": [
    {
     "output_type": "execute_result",
     "data": {
      "text/plain": "          id       text  elimination   time                      map  \\\n0     OMRÅDE     region         True  False  denmark_municipality_07   \n1   HERKOMST   ancestry         True  False                      NaN   \n2      ALDER        age         True  False                      NaN   \n3        KØN        sex         True  False                      NaN   \n4  BEREGNING  frequency        False  False                      NaN   \n5        Tid       time        False   True                      NaN   \n\n                                              values  \n0  [{'id': '000', 'text': 'All Denmark'}, {'id': ...  \n1  [{'id': '00', 'text': 'Total'}, {'id': '10', '...  \n2  [{'id': 'TOT', 'text': 'Age, total'}, {'id': '...  \n3  [{'id': 'TOT', 'text': 'Total'}, {'id': 'M', '...  \n4  [{'id': 'BFK', 'text': 'Employment rate'}, {'i...  \n5  [{'id': '2008', 'text': '2008'}, {'id': '2009'...  ",
      "text/html": "<div>\n<style scoped>\n    .dataframe tbody tr th:only-of-type {\n        vertical-align: middle;\n    }\n\n    .dataframe tbody tr th {\n        vertical-align: top;\n    }\n\n    .dataframe thead th {\n        text-align: right;\n    }\n</style>\n<table border=\"1\" class=\"dataframe\">\n  <thead>\n    <tr style=\"text-align: right;\">\n      <th></th>\n      <th>id</th>\n      <th>text</th>\n      <th>elimination</th>\n      <th>time</th>\n      <th>map</th>\n      <th>values</th>\n    </tr>\n  </thead>\n  <tbody>\n    <tr>\n      <td>0</td>\n      <td>OMRÅDE</td>\n      <td>region</td>\n      <td>True</td>\n      <td>False</td>\n      <td>denmark_municipality_07</td>\n      <td>[{'id': '000', 'text': 'All Denmark'}, {'id': ...</td>\n    </tr>\n    <tr>\n      <td>1</td>\n      <td>HERKOMST</td>\n      <td>ancestry</td>\n      <td>True</td>\n      <td>False</td>\n      <td>NaN</td>\n      <td>[{'id': '00', 'text': 'Total'}, {'id': '10', '...</td>\n    </tr>\n    <tr>\n      <td>2</td>\n      <td>ALDER</td>\n      <td>age</td>\n      <td>True</td>\n      <td>False</td>\n      <td>NaN</td>\n      <td>[{'id': 'TOT', 'text': 'Age, total'}, {'id': '...</td>\n    </tr>\n    <tr>\n      <td>3</td>\n      <td>KØN</td>\n      <td>sex</td>\n      <td>True</td>\n      <td>False</td>\n      <td>NaN</td>\n      <td>[{'id': 'TOT', 'text': 'Total'}, {'id': 'M', '...</td>\n    </tr>\n    <tr>\n      <td>4</td>\n      <td>BEREGNING</td>\n      <td>frequency</td>\n      <td>False</td>\n      <td>False</td>\n      <td>NaN</td>\n      <td>[{'id': 'BFK', 'text': 'Employment rate'}, {'i...</td>\n    </tr>\n    <tr>\n      <td>5</td>\n      <td>Tid</td>\n      <td>time</td>\n      <td>False</td>\n      <td>True</td>\n      <td>NaN</td>\n      <td>[{'id': '2008', 'text': '2008'}, {'id': '2009'...</td>\n    </tr>\n  </tbody>\n</table>\n</div>"
     },
     "metadata": {},
     "execution_count": 11
    }
   ],
   "source": [
    "#Collection of datasets and cleaning\n",
    "#This first section collects datasets from DST and cleans in order to get the wanted variables\n",
    "#Tænker at dette skal gøres mere udførligt osv. Det er bare lige for vores eget overbliks skyld\n",
    "#Måske skal vi overveje at have helt i starten noget der undersøger hvilke datasæt vi vil hente ala nedenstående\n",
    "\n",
    "dst.get_subjects()\n",
    "\n",
    "dst.get_tables(subjects=['02']).head(10)\n",
    "dst.get_variables(table_id='FOLK1A')\n",
    "\n",
    "dst.get_tables(subjects=['14']).head(10)\n",
    "dst.get_variables(table_id='RAS200')\n",
    "\n",
    "\n"
   ]
  },
  {
   "cell_type": "code",
   "execution_count": 2,
   "metadata": {},
   "outputs": [
    {
     "output_type": "execute_result",
     "data": {
      "text/plain": "     municipality  year    KØN  ALDER CIVILSTAND  population\n0        Aabenraa  2008  Total  Total      Total       60189\n1        Aabenraa  2009  Total  Total      Total       60392\n2        Aabenraa  2010  Total  Total      Total       59978\n3        Aabenraa  2011  Total  Total      Total       59795\n4        Aabenraa  2012  Total  Total      Total       59600\n...           ...   ...    ...    ...        ...         ...\n1084          Ærø  2014  Total  Total      Total        6393\n1085          Ærø  2015  Total  Total      Total        6276\n1086          Ærø  2016  Total  Total      Total        6290\n1087          Ærø  2017  Total  Total      Total        6177\n1088          Ærø  2018  Total  Total      Total        6178\n\n[1089 rows x 6 columns]",
      "text/html": "<div>\n<style scoped>\n    .dataframe tbody tr th:only-of-type {\n        vertical-align: middle;\n    }\n\n    .dataframe tbody tr th {\n        vertical-align: top;\n    }\n\n    .dataframe thead th {\n        text-align: right;\n    }\n</style>\n<table border=\"1\" class=\"dataframe\">\n  <thead>\n    <tr style=\"text-align: right;\">\n      <th></th>\n      <th>municipality</th>\n      <th>year</th>\n      <th>KØN</th>\n      <th>ALDER</th>\n      <th>CIVILSTAND</th>\n      <th>population</th>\n    </tr>\n  </thead>\n  <tbody>\n    <tr>\n      <td>0</td>\n      <td>Aabenraa</td>\n      <td>2008</td>\n      <td>Total</td>\n      <td>Total</td>\n      <td>Total</td>\n      <td>60189</td>\n    </tr>\n    <tr>\n      <td>1</td>\n      <td>Aabenraa</td>\n      <td>2009</td>\n      <td>Total</td>\n      <td>Total</td>\n      <td>Total</td>\n      <td>60392</td>\n    </tr>\n    <tr>\n      <td>2</td>\n      <td>Aabenraa</td>\n      <td>2010</td>\n      <td>Total</td>\n      <td>Total</td>\n      <td>Total</td>\n      <td>59978</td>\n    </tr>\n    <tr>\n      <td>3</td>\n      <td>Aabenraa</td>\n      <td>2011</td>\n      <td>Total</td>\n      <td>Total</td>\n      <td>Total</td>\n      <td>59795</td>\n    </tr>\n    <tr>\n      <td>4</td>\n      <td>Aabenraa</td>\n      <td>2012</td>\n      <td>Total</td>\n      <td>Total</td>\n      <td>Total</td>\n      <td>59600</td>\n    </tr>\n    <tr>\n      <td>...</td>\n      <td>...</td>\n      <td>...</td>\n      <td>...</td>\n      <td>...</td>\n      <td>...</td>\n      <td>...</td>\n    </tr>\n    <tr>\n      <td>1084</td>\n      <td>Ærø</td>\n      <td>2014</td>\n      <td>Total</td>\n      <td>Total</td>\n      <td>Total</td>\n      <td>6393</td>\n    </tr>\n    <tr>\n      <td>1085</td>\n      <td>Ærø</td>\n      <td>2015</td>\n      <td>Total</td>\n      <td>Total</td>\n      <td>Total</td>\n      <td>6276</td>\n    </tr>\n    <tr>\n      <td>1086</td>\n      <td>Ærø</td>\n      <td>2016</td>\n      <td>Total</td>\n      <td>Total</td>\n      <td>Total</td>\n      <td>6290</td>\n    </tr>\n    <tr>\n      <td>1087</td>\n      <td>Ærø</td>\n      <td>2017</td>\n      <td>Total</td>\n      <td>Total</td>\n      <td>Total</td>\n      <td>6177</td>\n    </tr>\n    <tr>\n      <td>1088</td>\n      <td>Ærø</td>\n      <td>2018</td>\n      <td>Total</td>\n      <td>Total</td>\n      <td>Total</td>\n      <td>6178</td>\n    </tr>\n  </tbody>\n</table>\n<p>1089 rows × 6 columns</p>\n</div>"
     },
     "metadata": {},
     "execution_count": 2
    }
   ],
   "source": [
    "#downloading the population of the danish municipalities\n",
    "dst.get_subjects()\n",
    "dst.get_tables(subjects=['02']).head(10)\n",
    "dst.get_variables(table_id='FOLK1A')\n",
    "\n",
    "variables = {'OMRÅDE':['*'],'Tid':['*']}\n",
    "pop = dst.get_data(table_id = 'FOLK1A', variables=variables)\n",
    "pop.head(10)\n",
    "\n",
    "pop = B_funktioner.initial_rename(pop,'population')\n",
    "pop = B_funktioner.only_keep_municipalities_and_years(pop,0,2008,2018)\n",
    "pop = B_funktioner.sort_reset(pop)\n",
    "\n",
    "pop\n"
   ]
  },
  {
   "cell_type": "code",
   "execution_count": 10,
   "metadata": {},
   "outputs": [
    {
     "output_type": "error",
     "ename": "NameError",
     "evalue": "name 'BEREGNING' is not defined",
     "traceback": [
      "\u001b[0;31m---------------------------------------------------------------------------\u001b[0m",
      "\u001b[0;31mNameError\u001b[0m                                 Traceback (most recent call last)",
      "\u001b[0;32m<ipython-input-10-b5b4c67717fb>\u001b[0m in \u001b[0;36m<module>\u001b[0;34m\u001b[0m\n\u001b[1;32m      6\u001b[0m \u001b[0mempl\u001b[0m \u001b[0;34m=\u001b[0m \u001b[0mB_funktioner\u001b[0m\u001b[0;34m.\u001b[0m\u001b[0minitial_rename\u001b[0m\u001b[0;34m(\u001b[0m\u001b[0mempl\u001b[0m\u001b[0;34m,\u001b[0m\u001b[0;34m'employment rate'\u001b[0m\u001b[0;34m)\u001b[0m\u001b[0;34m\u001b[0m\u001b[0;34m\u001b[0m\u001b[0m\n\u001b[1;32m      7\u001b[0m \u001b[0mempl\u001b[0m \u001b[0;34m=\u001b[0m \u001b[0mB_funktioner\u001b[0m\u001b[0;34m.\u001b[0m\u001b[0monly_keep_municipalities_and_years\u001b[0m\u001b[0;34m(\u001b[0m\u001b[0mempl\u001b[0m\u001b[0;34m,\u001b[0m\u001b[0;36m0\u001b[0m\u001b[0;34m,\u001b[0m\u001b[0;36m2008\u001b[0m\u001b[0;34m,\u001b[0m\u001b[0;36m2018\u001b[0m\u001b[0;34m)\u001b[0m\u001b[0;34m\u001b[0m\u001b[0;34m\u001b[0m\u001b[0m\n\u001b[0;32m----> 8\u001b[0;31m \u001b[0mempl\u001b[0m \u001b[0;34m=\u001b[0m \u001b[0mB_funktioner\u001b[0m\u001b[0;34m.\u001b[0m\u001b[0mrow_chooser\u001b[0m\u001b[0;34m(\u001b[0m\u001b[0mempl\u001b[0m\u001b[0;34m,\u001b[0m\u001b[0mBEREGNING\u001b[0m\u001b[0;34m,\u001b[0m\u001b[0;34m'Employment rate'\u001b[0m\u001b[0;34m)\u001b[0m\u001b[0;34m\u001b[0m\u001b[0;34m\u001b[0m\u001b[0m\n\u001b[0m\u001b[1;32m      9\u001b[0m \"\"\"\n\u001b[1;32m     10\u001b[0m \u001b[0;32mfor\u001b[0m \u001b[0mval\u001b[0m \u001b[0;32min\u001b[0m \u001b[0;34m[\u001b[0m\u001b[0;34m'Economic activity rate'\u001b[0m\u001b[0;34m]\u001b[0m\u001b[0;34m:\u001b[0m\u001b[0;34m\u001b[0m\u001b[0;34m\u001b[0m\u001b[0m\n",
      "\u001b[0;31mNameError\u001b[0m: name 'BEREGNING' is not defined"
     ]
    }
   ],
   "source": [
    "#downloading the employment data of the danish municipalities\n",
    "\n",
    "variables={'OMRÅDE':['*'], 'BEREGNING':['*'], 'TID':['*']}\n",
    "empl = dst.get_data(table_id = 'RAS200', variables=variables)\n",
    "\n",
    "empl = B_funktioner.initial_rename(empl,'employment rate')\n",
    "empl = B_funktioner.only_keep_municipalities_and_years(empl,0,2008,2018)\n",
    "empl = B_funktioner.row_chooser(empl,BEREGNING,'Employment rate')\n",
    "\"\"\"\n",
    "for val in ['Economic activity rate']: \n",
    "    I = empl.BEREGNING.str.contains(val)\n",
    "    empl = empl.loc[I == False] # keep everything else\n",
    "\"\"\"\n",
    "empl= B_funktioner.sort_reset(empl)\n",
    "\n",
    "empl\n",
    ""
   ]
  },
  {
   "cell_type": "code",
   "execution_count": 7,
   "metadata": {},
   "outputs": [
    {
     "output_type": "execute_result",
     "data": {
      "text/plain": "     municipality        BEREGNING  year HERKOMST       ALDER    KØN  \\\n1        Aabenraa  Employment rate  2008    Total  Age, total  Total   \n3        Aabenraa  Employment rate  2009    Total  Age, total  Total   \n5        Aabenraa  Employment rate  2010    Total  Age, total  Total   \n7        Aabenraa  Employment rate  2011    Total  Age, total  Total   \n9        Aabenraa  Employment rate  2012    Total  Age, total  Total   \n...           ...              ...   ...      ...         ...    ...   \n2168          Ærø  Employment rate  2014    Total  Age, total  Total   \n2171          Ærø  Employment rate  2015    Total  Age, total  Total   \n2172          Ærø  Employment rate  2016    Total  Age, total  Total   \n2175          Ærø  Employment rate  2017    Total  Age, total  Total   \n2176          Ærø  Employment rate  2018    Total  Age, total  Total   \n\n      population  \n1           74.6  \n3           71.6  \n5           70.9  \n7           70.2  \n9           69.5  \n...          ...  \n2168        65.1  \n2171        65.8  \n2172        67.0  \n2175        68.1  \n2176        70.1  \n\n[1089 rows x 7 columns]",
      "text/html": "<div>\n<style scoped>\n    .dataframe tbody tr th:only-of-type {\n        vertical-align: middle;\n    }\n\n    .dataframe tbody tr th {\n        vertical-align: top;\n    }\n\n    .dataframe thead th {\n        text-align: right;\n    }\n</style>\n<table border=\"1\" class=\"dataframe\">\n  <thead>\n    <tr style=\"text-align: right;\">\n      <th></th>\n      <th>municipality</th>\n      <th>BEREGNING</th>\n      <th>year</th>\n      <th>HERKOMST</th>\n      <th>ALDER</th>\n      <th>KØN</th>\n      <th>population</th>\n    </tr>\n  </thead>\n  <tbody>\n    <tr>\n      <td>1</td>\n      <td>Aabenraa</td>\n      <td>Employment rate</td>\n      <td>2008</td>\n      <td>Total</td>\n      <td>Age, total</td>\n      <td>Total</td>\n      <td>74.6</td>\n    </tr>\n    <tr>\n      <td>3</td>\n      <td>Aabenraa</td>\n      <td>Employment rate</td>\n      <td>2009</td>\n      <td>Total</td>\n      <td>Age, total</td>\n      <td>Total</td>\n      <td>71.6</td>\n    </tr>\n    <tr>\n      <td>5</td>\n      <td>Aabenraa</td>\n      <td>Employment rate</td>\n      <td>2010</td>\n      <td>Total</td>\n      <td>Age, total</td>\n      <td>Total</td>\n      <td>70.9</td>\n    </tr>\n    <tr>\n      <td>7</td>\n      <td>Aabenraa</td>\n      <td>Employment rate</td>\n      <td>2011</td>\n      <td>Total</td>\n      <td>Age, total</td>\n      <td>Total</td>\n      <td>70.2</td>\n    </tr>\n    <tr>\n      <td>9</td>\n      <td>Aabenraa</td>\n      <td>Employment rate</td>\n      <td>2012</td>\n      <td>Total</td>\n      <td>Age, total</td>\n      <td>Total</td>\n      <td>69.5</td>\n    </tr>\n    <tr>\n      <td>...</td>\n      <td>...</td>\n      <td>...</td>\n      <td>...</td>\n      <td>...</td>\n      <td>...</td>\n      <td>...</td>\n      <td>...</td>\n    </tr>\n    <tr>\n      <td>2168</td>\n      <td>Ærø</td>\n      <td>Employment rate</td>\n      <td>2014</td>\n      <td>Total</td>\n      <td>Age, total</td>\n      <td>Total</td>\n      <td>65.1</td>\n    </tr>\n    <tr>\n      <td>2171</td>\n      <td>Ærø</td>\n      <td>Employment rate</td>\n      <td>2015</td>\n      <td>Total</td>\n      <td>Age, total</td>\n      <td>Total</td>\n      <td>65.8</td>\n    </tr>\n    <tr>\n      <td>2172</td>\n      <td>Ærø</td>\n      <td>Employment rate</td>\n      <td>2016</td>\n      <td>Total</td>\n      <td>Age, total</td>\n      <td>Total</td>\n      <td>67.0</td>\n    </tr>\n    <tr>\n      <td>2175</td>\n      <td>Ærø</td>\n      <td>Employment rate</td>\n      <td>2017</td>\n      <td>Total</td>\n      <td>Age, total</td>\n      <td>Total</td>\n      <td>68.1</td>\n    </tr>\n    <tr>\n      <td>2176</td>\n      <td>Ærø</td>\n      <td>Employment rate</td>\n      <td>2018</td>\n      <td>Total</td>\n      <td>Age, total</td>\n      <td>Total</td>\n      <td>70.1</td>\n    </tr>\n  </tbody>\n</table>\n<p>1089 rows × 7 columns</p>\n</div>"
     },
     "metadata": {},
     "execution_count": 7
    }
   ],
   "source": []
  },
  {
   "cell_type": "code",
   "execution_count": null,
   "metadata": {},
   "outputs": [],
   "source": []
  }
 ]
}