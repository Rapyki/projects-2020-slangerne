{
 "nbformat": 4,
 "nbformat_minor": 2,
 "metadata": {
  "language_info": {
   "name": "python",
   "codemirror_mode": {
    "name": "ipython",
    "version": 3
   },
   "version": "3.7.4-final"
  },
  "orig_nbformat": 2,
  "file_extension": ".py",
  "mimetype": "text/x-python",
  "name": "python",
  "npconvert_exporter": "python",
  "pygments_lexer": "ipython3",
  "version": 3,
  "kernelspec": {
   "name": "python3",
   "display_name": "Python 3"
  }
 },
 "cells": [
  {
   "cell_type": "code",
   "execution_count": 1,
   "metadata": {},
   "outputs": [],
   "source": [
    "#Importing needed packages\n",
    "import numpy as np\n",
    "import matplotlib.pyplot as plt\n",
    "plt.style.use('seaborn')\n",
    "import pandas as pd\n",
    "import B_funktioner\n",
    "import pydst as pydst\n",
    "dst = pydst.Dst(lang='en')\n",
    "\n",
    ""
   ]
  },
  {
   "cell_type": "code",
   "execution_count": 17,
   "metadata": {},
   "outputs": [
    {
     "output_type": "execute_result",
     "data": {
      "text/plain": "       id    text  elimination   time                      map  \\\n0  OMRÅDE  region         True  False  denmark_municipality_07   \n1   ALDER     age         True  False                      NaN   \n2     KØN     sex         True  False                      NaN   \n3     Tid    time        False   True                      NaN   \n\n                                              values  \n0  [{'id': '000', 'text': 'All Denmark'}, {'id': ...  \n1  [{'id': 'TOT', 'text': 'Age, total'}, {'id': '...  \n2  [{'id': 'TOT', 'text': 'Total'}, {'id': '1', '...  \n3  [{'id': '2007', 'text': '2007'}, {'id': '2008'...  ",
      "text/html": "<div>\n<style scoped>\n    .dataframe tbody tr th:only-of-type {\n        vertical-align: middle;\n    }\n\n    .dataframe tbody tr th {\n        vertical-align: top;\n    }\n\n    .dataframe thead th {\n        text-align: right;\n    }\n</style>\n<table border=\"1\" class=\"dataframe\">\n  <thead>\n    <tr style=\"text-align: right;\">\n      <th></th>\n      <th>id</th>\n      <th>text</th>\n      <th>elimination</th>\n      <th>time</th>\n      <th>map</th>\n      <th>values</th>\n    </tr>\n  </thead>\n  <tbody>\n    <tr>\n      <td>0</td>\n      <td>OMRÅDE</td>\n      <td>region</td>\n      <td>True</td>\n      <td>False</td>\n      <td>denmark_municipality_07</td>\n      <td>[{'id': '000', 'text': 'All Denmark'}, {'id': ...</td>\n    </tr>\n    <tr>\n      <td>1</td>\n      <td>ALDER</td>\n      <td>age</td>\n      <td>True</td>\n      <td>False</td>\n      <td>NaN</td>\n      <td>[{'id': 'TOT', 'text': 'Age, total'}, {'id': '...</td>\n    </tr>\n    <tr>\n      <td>2</td>\n      <td>KØN</td>\n      <td>sex</td>\n      <td>True</td>\n      <td>False</td>\n      <td>NaN</td>\n      <td>[{'id': 'TOT', 'text': 'Total'}, {'id': '1', '...</td>\n    </tr>\n    <tr>\n      <td>3</td>\n      <td>Tid</td>\n      <td>time</td>\n      <td>False</td>\n      <td>True</td>\n      <td>NaN</td>\n      <td>[{'id': '2007', 'text': '2007'}, {'id': '2008'...</td>\n    </tr>\n  </tbody>\n</table>\n</div>"
     },
     "metadata": {},
     "execution_count": 17
    }
   ],
   "source": [
    "#Collection of datasets and cleaning\n",
    "#This first section collects datasets from DST and cleans in order to get the wanted variables\n",
    "#Tænker at dette skal gøres mere udførligt osv. Det er bare lige for vores eget overbliks skyld\n",
    "#Måske skal vi overveje at have helt i starten noget der undersøger hvilke datasæt vi vil hente ala nedenstående\n",
    "\n",
    "dst.get_subjects()\n",
    "\n",
    "dst.get_tables(subjects=['02']).head(10)\n",
    "dst.get_variables(table_id = 'FOLK1A')\n",
    "\n",
    "dst.get_tables(subjects=['14']).head(10)\n",
    "dst.get_variables(table_id = 'RAS200')\n",
    "\n",
    "dst.get_tables(subjects=['14']).head(10)\n",
    "dst.get_variables(table_id = 'UHELDK7')\n",
    "\n",
    "dst.get_tables(subjects=['14']).head(10)\n",
    "dst.get_variables(table_id = 'FOLK1E')\n",
    "\n",
    "dst.get_tables(subjects=['14']).head(10)\n",
    "dst.get_variables(table_id = 'STRAF41')\n",
    "\n",
    "dst.get_tables(subjects=['14']).head(10)\n",
    "dst.get_variables(table_id='INDKP107')\n",
    "\n",
    "\n"
   ]
  },
  {
   "cell_type": "code",
   "execution_count": 35,
   "metadata": {},
   "outputs": [
    {
     "output_type": "execute_result",
     "data": {
      "text/plain": "     municipality  year  population\n0        Aabenraa  2008       60189\n1        Aabenraa  2009       60392\n2        Aabenraa  2010       59978\n3        Aabenraa  2011       59795\n4        Aabenraa  2012       59600\n...           ...   ...         ...\n1084          Ærø  2014        6393\n1085          Ærø  2015        6276\n1086          Ærø  2016        6290\n1087          Ærø  2017        6177\n1088          Ærø  2018        6178\n\n[1089 rows x 3 columns]",
      "text/html": "<div>\n<style scoped>\n    .dataframe tbody tr th:only-of-type {\n        vertical-align: middle;\n    }\n\n    .dataframe tbody tr th {\n        vertical-align: top;\n    }\n\n    .dataframe thead th {\n        text-align: right;\n    }\n</style>\n<table border=\"1\" class=\"dataframe\">\n  <thead>\n    <tr style=\"text-align: right;\">\n      <th></th>\n      <th>municipality</th>\n      <th>year</th>\n      <th>population</th>\n    </tr>\n  </thead>\n  <tbody>\n    <tr>\n      <td>0</td>\n      <td>Aabenraa</td>\n      <td>2008</td>\n      <td>60189</td>\n    </tr>\n    <tr>\n      <td>1</td>\n      <td>Aabenraa</td>\n      <td>2009</td>\n      <td>60392</td>\n    </tr>\n    <tr>\n      <td>2</td>\n      <td>Aabenraa</td>\n      <td>2010</td>\n      <td>59978</td>\n    </tr>\n    <tr>\n      <td>3</td>\n      <td>Aabenraa</td>\n      <td>2011</td>\n      <td>59795</td>\n    </tr>\n    <tr>\n      <td>4</td>\n      <td>Aabenraa</td>\n      <td>2012</td>\n      <td>59600</td>\n    </tr>\n    <tr>\n      <td>...</td>\n      <td>...</td>\n      <td>...</td>\n      <td>...</td>\n    </tr>\n    <tr>\n      <td>1084</td>\n      <td>Ærø</td>\n      <td>2014</td>\n      <td>6393</td>\n    </tr>\n    <tr>\n      <td>1085</td>\n      <td>Ærø</td>\n      <td>2015</td>\n      <td>6276</td>\n    </tr>\n    <tr>\n      <td>1086</td>\n      <td>Ærø</td>\n      <td>2016</td>\n      <td>6290</td>\n    </tr>\n    <tr>\n      <td>1087</td>\n      <td>Ærø</td>\n      <td>2017</td>\n      <td>6177</td>\n    </tr>\n    <tr>\n      <td>1088</td>\n      <td>Ærø</td>\n      <td>2018</td>\n      <td>6178</td>\n    </tr>\n  </tbody>\n</table>\n<p>1089 rows × 3 columns</p>\n</div>"
     },
     "metadata": {},
     "execution_count": 35
    }
   ],
   "source": [
    "#downloading the population data of the danish municipalities\n",
    "\n",
    "variables = {'OMRÅDE':['*'],'Tid':['*']}\n",
    "pop = dst.get_data(table_id = 'FOLK1A', variables=variables)\n",
    "\n",
    "pop = B_funktioner.initial_rename(pop,'population')\n",
    "pop = B_funktioner.only_keep_municipalities_and_years(pop,0,2008,2018)\n",
    "pop = B_funktioner.sort_reset(pop)\n",
    "\n",
    "del pop['KØN']\n",
    "del pop['ALDER']\n",
    "del pop['CIVILSTAND']\n",
    "pop\n",
    ""
   ]
  },
  {
   "cell_type": "code",
   "execution_count": 5,
   "metadata": {},
   "outputs": [
    {
     "output_type": "execute_result",
     "data": {
      "text/plain": "     municipality        BEREGNING  year HERKOMST       ALDER    KØN  \\\n0        Aabenraa  Employment rate  2008    Total  Age, total  Total   \n1        Aabenraa  Employment rate  2009    Total  Age, total  Total   \n2        Aabenraa  Employment rate  2010    Total  Age, total  Total   \n3        Aabenraa  Employment rate  2011    Total  Age, total  Total   \n4        Aabenraa  Employment rate  2012    Total  Age, total  Total   \n...           ...              ...   ...      ...         ...    ...   \n1084          Ærø  Employment rate  2014    Total  Age, total  Total   \n1085          Ærø  Employment rate  2015    Total  Age, total  Total   \n1086          Ærø  Employment rate  2016    Total  Age, total  Total   \n1087          Ærø  Employment rate  2017    Total  Age, total  Total   \n1088          Ærø  Employment rate  2018    Total  Age, total  Total   \n\n      employment rate  \n0                74.6  \n1                71.6  \n2                70.9  \n3                70.2  \n4                69.5  \n...               ...  \n1084             65.1  \n1085             65.8  \n1086             67.0  \n1087             68.1  \n1088             70.1  \n\n[1089 rows x 7 columns]",
      "text/html": "<div>\n<style scoped>\n    .dataframe tbody tr th:only-of-type {\n        vertical-align: middle;\n    }\n\n    .dataframe tbody tr th {\n        vertical-align: top;\n    }\n\n    .dataframe thead th {\n        text-align: right;\n    }\n</style>\n<table border=\"1\" class=\"dataframe\">\n  <thead>\n    <tr style=\"text-align: right;\">\n      <th></th>\n      <th>municipality</th>\n      <th>BEREGNING</th>\n      <th>year</th>\n      <th>HERKOMST</th>\n      <th>ALDER</th>\n      <th>KØN</th>\n      <th>employment rate</th>\n    </tr>\n  </thead>\n  <tbody>\n    <tr>\n      <td>0</td>\n      <td>Aabenraa</td>\n      <td>Employment rate</td>\n      <td>2008</td>\n      <td>Total</td>\n      <td>Age, total</td>\n      <td>Total</td>\n      <td>74.6</td>\n    </tr>\n    <tr>\n      <td>1</td>\n      <td>Aabenraa</td>\n      <td>Employment rate</td>\n      <td>2009</td>\n      <td>Total</td>\n      <td>Age, total</td>\n      <td>Total</td>\n      <td>71.6</td>\n    </tr>\n    <tr>\n      <td>2</td>\n      <td>Aabenraa</td>\n      <td>Employment rate</td>\n      <td>2010</td>\n      <td>Total</td>\n      <td>Age, total</td>\n      <td>Total</td>\n      <td>70.9</td>\n    </tr>\n    <tr>\n      <td>3</td>\n      <td>Aabenraa</td>\n      <td>Employment rate</td>\n      <td>2011</td>\n      <td>Total</td>\n      <td>Age, total</td>\n      <td>Total</td>\n      <td>70.2</td>\n    </tr>\n    <tr>\n      <td>4</td>\n      <td>Aabenraa</td>\n      <td>Employment rate</td>\n      <td>2012</td>\n      <td>Total</td>\n      <td>Age, total</td>\n      <td>Total</td>\n      <td>69.5</td>\n    </tr>\n    <tr>\n      <td>...</td>\n      <td>...</td>\n      <td>...</td>\n      <td>...</td>\n      <td>...</td>\n      <td>...</td>\n      <td>...</td>\n      <td>...</td>\n    </tr>\n    <tr>\n      <td>1084</td>\n      <td>Ærø</td>\n      <td>Employment rate</td>\n      <td>2014</td>\n      <td>Total</td>\n      <td>Age, total</td>\n      <td>Total</td>\n      <td>65.1</td>\n    </tr>\n    <tr>\n      <td>1085</td>\n      <td>Ærø</td>\n      <td>Employment rate</td>\n      <td>2015</td>\n      <td>Total</td>\n      <td>Age, total</td>\n      <td>Total</td>\n      <td>65.8</td>\n    </tr>\n    <tr>\n      <td>1086</td>\n      <td>Ærø</td>\n      <td>Employment rate</td>\n      <td>2016</td>\n      <td>Total</td>\n      <td>Age, total</td>\n      <td>Total</td>\n      <td>67.0</td>\n    </tr>\n    <tr>\n      <td>1087</td>\n      <td>Ærø</td>\n      <td>Employment rate</td>\n      <td>2017</td>\n      <td>Total</td>\n      <td>Age, total</td>\n      <td>Total</td>\n      <td>68.1</td>\n    </tr>\n    <tr>\n      <td>1088</td>\n      <td>Ærø</td>\n      <td>Employment rate</td>\n      <td>2018</td>\n      <td>Total</td>\n      <td>Age, total</td>\n      <td>Total</td>\n      <td>70.1</td>\n    </tr>\n  </tbody>\n</table>\n<p>1089 rows × 7 columns</p>\n</div>"
     },
     "metadata": {},
     "execution_count": 5
    }
   ],
   "source": [
    "#downloading the employment data of the danish municipalities\n",
    "\n",
    "variables={'OMRÅDE':['*'], 'BEREGNING':['*'], 'TID':['*']}\n",
    "empl = dst.get_data(table_id = 'RAS200', variables=variables)\n",
    "\n",
    "empl = B_funktioner.initial_rename(empl,'employment rate')\n",
    "empl = B_funktioner.only_keep_municipalities_and_years(empl,0,2008,2018)\n",
    "#empl = B_funktioner.row_chooser(empl,BEREGNING,'Employment rate')\n",
    "\n",
    "for val in ['Employment rate']: \n",
    "    I = empl.BEREGNING.str.contains(val)\n",
    "    empl = empl.loc[I == True] # keep everything else\n",
    "\n",
    "empl= B_funktioner.sort_reset(empl)\n",
    "\n",
    "empl\n",
    ""
   ]
  },
  {
   "cell_type": "code",
   "execution_count": 15,
   "metadata": {},
   "outputs": [
    {
     "output_type": "execute_result",
     "data": {
      "text/plain": "    municipality         UHELDA  year             BYLAND  \\\n0       Aabenraa  All accidents  2008  Inside urban area   \n1       Aabenraa  All accidents  2009  Inside urban area   \n2       Aabenraa  All accidents  2010  Inside urban area   \n3       Aabenraa  All accidents  2011  Inside urban area   \n4       Aabenraa  All accidents  2012  Inside urban area   \n..           ...            ...   ...                ...   \n792          Ærø  All accidents  2009  Inside urban area   \n793          Ærø  All accidents  2011  Inside urban area   \n794          Ærø  All accidents  2015  Inside urban area   \n795          Ærø  All accidents  2016  Inside urban area   \n796          Ærø  All accidents  2017  Inside urban area   \n\n                  UHELDSIT  Number of accidents  \n0    One-vehicle accidents                    4  \n1    One-vehicle accidents                    4  \n2    One-vehicle accidents                    1  \n3    One-vehicle accidents                    4  \n4    One-vehicle accidents                    4  \n..                     ...                  ...  \n792  One-vehicle accidents                    2  \n793  One-vehicle accidents                    2  \n794  One-vehicle accidents                    2  \n795  One-vehicle accidents                    2  \n796  One-vehicle accidents                    1  \n\n[797 rows x 6 columns]",
      "text/html": "<div>\n<style scoped>\n    .dataframe tbody tr th:only-of-type {\n        vertical-align: middle;\n    }\n\n    .dataframe tbody tr th {\n        vertical-align: top;\n    }\n\n    .dataframe thead th {\n        text-align: right;\n    }\n</style>\n<table border=\"1\" class=\"dataframe\">\n  <thead>\n    <tr style=\"text-align: right;\">\n      <th></th>\n      <th>municipality</th>\n      <th>UHELDA</th>\n      <th>year</th>\n      <th>BYLAND</th>\n      <th>UHELDSIT</th>\n      <th>Number of accidents</th>\n    </tr>\n  </thead>\n  <tbody>\n    <tr>\n      <td>0</td>\n      <td>Aabenraa</td>\n      <td>All accidents</td>\n      <td>2008</td>\n      <td>Inside urban area</td>\n      <td>One-vehicle accidents</td>\n      <td>4</td>\n    </tr>\n    <tr>\n      <td>1</td>\n      <td>Aabenraa</td>\n      <td>All accidents</td>\n      <td>2009</td>\n      <td>Inside urban area</td>\n      <td>One-vehicle accidents</td>\n      <td>4</td>\n    </tr>\n    <tr>\n      <td>2</td>\n      <td>Aabenraa</td>\n      <td>All accidents</td>\n      <td>2010</td>\n      <td>Inside urban area</td>\n      <td>One-vehicle accidents</td>\n      <td>1</td>\n    </tr>\n    <tr>\n      <td>3</td>\n      <td>Aabenraa</td>\n      <td>All accidents</td>\n      <td>2011</td>\n      <td>Inside urban area</td>\n      <td>One-vehicle accidents</td>\n      <td>4</td>\n    </tr>\n    <tr>\n      <td>4</td>\n      <td>Aabenraa</td>\n      <td>All accidents</td>\n      <td>2012</td>\n      <td>Inside urban area</td>\n      <td>One-vehicle accidents</td>\n      <td>4</td>\n    </tr>\n    <tr>\n      <td>...</td>\n      <td>...</td>\n      <td>...</td>\n      <td>...</td>\n      <td>...</td>\n      <td>...</td>\n      <td>...</td>\n    </tr>\n    <tr>\n      <td>792</td>\n      <td>Ærø</td>\n      <td>All accidents</td>\n      <td>2009</td>\n      <td>Inside urban area</td>\n      <td>One-vehicle accidents</td>\n      <td>2</td>\n    </tr>\n    <tr>\n      <td>793</td>\n      <td>Ærø</td>\n      <td>All accidents</td>\n      <td>2011</td>\n      <td>Inside urban area</td>\n      <td>One-vehicle accidents</td>\n      <td>2</td>\n    </tr>\n    <tr>\n      <td>794</td>\n      <td>Ærø</td>\n      <td>All accidents</td>\n      <td>2015</td>\n      <td>Inside urban area</td>\n      <td>One-vehicle accidents</td>\n      <td>2</td>\n    </tr>\n    <tr>\n      <td>795</td>\n      <td>Ærø</td>\n      <td>All accidents</td>\n      <td>2016</td>\n      <td>Inside urban area</td>\n      <td>One-vehicle accidents</td>\n      <td>2</td>\n    </tr>\n    <tr>\n      <td>796</td>\n      <td>Ærø</td>\n      <td>All accidents</td>\n      <td>2017</td>\n      <td>Inside urban area</td>\n      <td>One-vehicle accidents</td>\n      <td>1</td>\n    </tr>\n  </tbody>\n</table>\n<p>797 rows × 6 columns</p>\n</div>"
     },
     "metadata": {},
     "execution_count": 15
    }
   ],
   "source": [
    "#UHELD - af Henrik Kyndal\n",
    "#Downloading accident data \n",
    "\n",
    "variables={'OMRÅDE':['*'], 'UHELDA':['*'], 'TID':['*']}\n",
    "accidents = dst.get_data(table_id = 'UHELDK7', variables=variables)\n",
    "\n",
    "accidents = B_funktioner.initial_rename(accidents,'Number of accidents')\n",
    "accidents = B_funktioner.only_keep_municipalities_and_years(accidents,0,2008,2018)\n",
    "#accidents = B_funktioner.row_chooser(accidents,UHELDA,'All accidents')\n",
    "\n",
    "I = accidents.UHELDA.str.contains('All accidents')\n",
    "accidents = accidents.loc[I == True]\n",
    "\n",
    "accidents= B_funktioner.sort_reset(accidents)\n",
    "accidents\n",
    "\n"
   ]
  },
  {
   "cell_type": "code",
   "execution_count": 16,
   "metadata": {},
   "outputs": [
    {
     "output_type": "execute_result",
     "data": {
      "text/plain": "     municipality                               HERKOMST  year    KØN  ALDER  \\\n0        Aabenraa  Immigrants from non-western countries  2008  Total  Total   \n1        Aabenraa  Immigrants from non-western countries  2009  Total  Total   \n2        Aabenraa  Immigrants from non-western countries  2010  Total  Total   \n3        Aabenraa  Immigrants from non-western countries  2011  Total  Total   \n4        Aabenraa  Immigrants from non-western countries  2012  Total  Total   \n...           ...                                    ...   ...    ...    ...   \n1084          Ærø  Immigrants from non-western countries  2014  Total  Total   \n1085          Ærø  Immigrants from non-western countries  2015  Total  Total   \n1086          Ærø  Immigrants from non-western countries  2016  Total  Total   \n1087          Ærø  Immigrants from non-western countries  2017  Total  Total   \n1088          Ærø  Immigrants from non-western countries  2018  Total  Total   \n\n      Immigrants  \n0           1787  \n1           1822  \n2           1817  \n3           1887  \n4           1906  \n...          ...  \n1084         104  \n1085         103  \n1086         123  \n1087         145  \n1088         153  \n\n[1089 rows x 6 columns]",
      "text/html": "<div>\n<style scoped>\n    .dataframe tbody tr th:only-of-type {\n        vertical-align: middle;\n    }\n\n    .dataframe tbody tr th {\n        vertical-align: top;\n    }\n\n    .dataframe thead th {\n        text-align: right;\n    }\n</style>\n<table border=\"1\" class=\"dataframe\">\n  <thead>\n    <tr style=\"text-align: right;\">\n      <th></th>\n      <th>municipality</th>\n      <th>HERKOMST</th>\n      <th>year</th>\n      <th>KØN</th>\n      <th>ALDER</th>\n      <th>Immigrants</th>\n    </tr>\n  </thead>\n  <tbody>\n    <tr>\n      <td>0</td>\n      <td>Aabenraa</td>\n      <td>Immigrants from non-western countries</td>\n      <td>2008</td>\n      <td>Total</td>\n      <td>Total</td>\n      <td>1787</td>\n    </tr>\n    <tr>\n      <td>1</td>\n      <td>Aabenraa</td>\n      <td>Immigrants from non-western countries</td>\n      <td>2009</td>\n      <td>Total</td>\n      <td>Total</td>\n      <td>1822</td>\n    </tr>\n    <tr>\n      <td>2</td>\n      <td>Aabenraa</td>\n      <td>Immigrants from non-western countries</td>\n      <td>2010</td>\n      <td>Total</td>\n      <td>Total</td>\n      <td>1817</td>\n    </tr>\n    <tr>\n      <td>3</td>\n      <td>Aabenraa</td>\n      <td>Immigrants from non-western countries</td>\n      <td>2011</td>\n      <td>Total</td>\n      <td>Total</td>\n      <td>1887</td>\n    </tr>\n    <tr>\n      <td>4</td>\n      <td>Aabenraa</td>\n      <td>Immigrants from non-western countries</td>\n      <td>2012</td>\n      <td>Total</td>\n      <td>Total</td>\n      <td>1906</td>\n    </tr>\n    <tr>\n      <td>...</td>\n      <td>...</td>\n      <td>...</td>\n      <td>...</td>\n      <td>...</td>\n      <td>...</td>\n      <td>...</td>\n    </tr>\n    <tr>\n      <td>1084</td>\n      <td>Ærø</td>\n      <td>Immigrants from non-western countries</td>\n      <td>2014</td>\n      <td>Total</td>\n      <td>Total</td>\n      <td>104</td>\n    </tr>\n    <tr>\n      <td>1085</td>\n      <td>Ærø</td>\n      <td>Immigrants from non-western countries</td>\n      <td>2015</td>\n      <td>Total</td>\n      <td>Total</td>\n      <td>103</td>\n    </tr>\n    <tr>\n      <td>1086</td>\n      <td>Ærø</td>\n      <td>Immigrants from non-western countries</td>\n      <td>2016</td>\n      <td>Total</td>\n      <td>Total</td>\n      <td>123</td>\n    </tr>\n    <tr>\n      <td>1087</td>\n      <td>Ærø</td>\n      <td>Immigrants from non-western countries</td>\n      <td>2017</td>\n      <td>Total</td>\n      <td>Total</td>\n      <td>145</td>\n    </tr>\n    <tr>\n      <td>1088</td>\n      <td>Ærø</td>\n      <td>Immigrants from non-western countries</td>\n      <td>2018</td>\n      <td>Total</td>\n      <td>Total</td>\n      <td>153</td>\n    </tr>\n  </tbody>\n</table>\n<p>1089 rows × 6 columns</p>\n</div>"
     },
     "metadata": {},
     "execution_count": 16
    }
   ],
   "source": [
    "#Dowloading data on immigrants from non-western countries in the danish municipalities\n",
    "\n",
    "variables={'OMRÅDE':['*'],'HERKOMST':{'*'}, 'TID':['*']}\n",
    "immigrants = dst.get_data(table_id = 'FOLK1E', variables=variables)\n",
    "\n",
    "immigrants = B_funktioner.initial_rename(immigrants,'Immigrants')\n",
    "immigrants = B_funktioner.only_keep_municipalities_and_years(immigrants,0,2008,2018)\n",
    "#immigrants = B_funktioner.row_chooser(immigrants,HERKOMST,'Immigrants from non-western countries')\n",
    "\n",
    "I = immigrants.HERKOMST.str.contains('Immigrants from non-western countries')\n",
    "immigrants = immigrants.loc[I == True]\n",
    "\n",
    "immigrants = B_funktioner.sort_reset(immigrants)\n",
    "immigrants\n",
    "\n"
   ]
  },
  {
   "cell_type": "code",
   "execution_count": 20,
   "metadata": {},
   "outputs": [
    {
     "output_type": "execute_result",
     "data": {
      "text/plain": "     municipality  year       ALDER    KØN  Number of sentences\n0        Aabenraa  2008  Age, total  Total                49197\n1        Aabenraa  2009  Age, total  Total                49132\n2        Aabenraa  2010  Age, total  Total                49145\n3        Aabenraa  2011  Age, total  Total                49146\n4        Aabenraa  2012  Age, total  Total                48994\n...           ...   ...         ...    ...                  ...\n1084          Ærø  2014  Age, total  Total                 5612\n1085          Ærø  2015  Age, total  Total                 5561\n1086          Ærø  2016  Age, total  Total                 5553\n1087          Ærø  2017  Age, total  Total                 5489\n1088          Ærø  2018  Age, total  Total                 5434\n\n[1089 rows x 5 columns]",
      "text/html": "<div>\n<style scoped>\n    .dataframe tbody tr th:only-of-type {\n        vertical-align: middle;\n    }\n\n    .dataframe tbody tr th {\n        vertical-align: top;\n    }\n\n    .dataframe thead th {\n        text-align: right;\n    }\n</style>\n<table border=\"1\" class=\"dataframe\">\n  <thead>\n    <tr style=\"text-align: right;\">\n      <th></th>\n      <th>municipality</th>\n      <th>year</th>\n      <th>ALDER</th>\n      <th>KØN</th>\n      <th>Number of sentences</th>\n    </tr>\n  </thead>\n  <tbody>\n    <tr>\n      <td>0</td>\n      <td>Aabenraa</td>\n      <td>2008</td>\n      <td>Age, total</td>\n      <td>Total</td>\n      <td>49197</td>\n    </tr>\n    <tr>\n      <td>1</td>\n      <td>Aabenraa</td>\n      <td>2009</td>\n      <td>Age, total</td>\n      <td>Total</td>\n      <td>49132</td>\n    </tr>\n    <tr>\n      <td>2</td>\n      <td>Aabenraa</td>\n      <td>2010</td>\n      <td>Age, total</td>\n      <td>Total</td>\n      <td>49145</td>\n    </tr>\n    <tr>\n      <td>3</td>\n      <td>Aabenraa</td>\n      <td>2011</td>\n      <td>Age, total</td>\n      <td>Total</td>\n      <td>49146</td>\n    </tr>\n    <tr>\n      <td>4</td>\n      <td>Aabenraa</td>\n      <td>2012</td>\n      <td>Age, total</td>\n      <td>Total</td>\n      <td>48994</td>\n    </tr>\n    <tr>\n      <td>...</td>\n      <td>...</td>\n      <td>...</td>\n      <td>...</td>\n      <td>...</td>\n      <td>...</td>\n    </tr>\n    <tr>\n      <td>1084</td>\n      <td>Ærø</td>\n      <td>2014</td>\n      <td>Age, total</td>\n      <td>Total</td>\n      <td>5612</td>\n    </tr>\n    <tr>\n      <td>1085</td>\n      <td>Ærø</td>\n      <td>2015</td>\n      <td>Age, total</td>\n      <td>Total</td>\n      <td>5561</td>\n    </tr>\n    <tr>\n      <td>1086</td>\n      <td>Ærø</td>\n      <td>2016</td>\n      <td>Age, total</td>\n      <td>Total</td>\n      <td>5553</td>\n    </tr>\n    <tr>\n      <td>1087</td>\n      <td>Ærø</td>\n      <td>2017</td>\n      <td>Age, total</td>\n      <td>Total</td>\n      <td>5489</td>\n    </tr>\n    <tr>\n      <td>1088</td>\n      <td>Ærø</td>\n      <td>2018</td>\n      <td>Age, total</td>\n      <td>Total</td>\n      <td>5434</td>\n    </tr>\n  </tbody>\n</table>\n<p>1089 rows × 5 columns</p>\n</div>"
     },
     "metadata": {},
     "execution_count": 20
    }
   ],
   "source": [
    "#Dowloading data on sentences of the danish municipalities\n",
    "\n",
    "variables={'OMRÅDE':['*'], 'TID':['*']}\n",
    "sentences = dst.get_data(table_id = 'STRAF41', variables=variables)\n",
    "\n",
    "sentences = B_funktioner.initial_rename(sentences,'Number of sentences')\n",
    "sentences = B_funktioner.only_keep_municipalities_and_years(sentences,0,2008,2018)\n",
    "sentences = B_funktioner.sort_reset(sentences)\n",
    "\n",
    "sentences\n"
   ]
  },
  {
   "cell_type": "code",
   "execution_count": 29,
   "metadata": {},
   "outputs": [
    {
     "output_type": "execute_result",
     "data": {
      "text/plain": "     municipality  year                                ENHED  \\\n0        Aabenraa  2008  Average income for all people (DKK)   \n1        Aabenraa  2009  Average income for all people (DKK)   \n2        Aabenraa  2010  Average income for all people (DKK)   \n3        Aabenraa  2011  Average income for all people (DKK)   \n4        Aabenraa  2012  Average income for all people (DKK)   \n...           ...   ...                                  ...   \n1064          Ærø  2014  Average income for all people (DKK)   \n1065          Ærø  2015  Average income for all people (DKK)   \n1066          Ærø  2016  Average income for all people (DKK)   \n1067          Ærø  2017  Average income for all people (DKK)   \n1068          Ærø  2018  Average income for all people (DKK)   \n\n                      KOEN                      UDDNIV  \\\n0     Men and women, total  10 BASIC SCHOOL 8-10 grade   \n1     Men and women, total  10 BASIC SCHOOL 8-10 grade   \n2     Men and women, total  10 BASIC SCHOOL 8-10 grade   \n3     Men and women, total  10 BASIC SCHOOL 8-10 grade   \n4     Men and women, total  10 BASIC SCHOOL 8-10 grade   \n...                    ...                         ...   \n1064  Men and women, total  10 BASIC SCHOOL 8-10 grade   \n1065  Men and women, total  10 BASIC SCHOOL 8-10 grade   \n1066  Men and women, total  10 BASIC SCHOOL 8-10 grade   \n1067  Men and women, total  10 BASIC SCHOOL 8-10 grade   \n1068  Men and women, total  10 BASIC SCHOOL 8-10 grade   \n\n                             INDKOMSTTYPE  Avg disp income  \n0     1 Disposable income (2+30-31-32-35)           125064  \n1     1 Disposable income (2+30-31-32-35)           123277  \n2     1 Disposable income (2+30-31-32-35)           130019  \n3     1 Disposable income (2+30-31-32-35)           132330  \n4     1 Disposable income (2+30-31-32-35)           133960  \n...                                   ...              ...  \n1064  1 Disposable income (2+30-31-32-35)           132795  \n1065  1 Disposable income (2+30-31-32-35)           129903  \n1066  1 Disposable income (2+30-31-32-35)           136753  \n1067  1 Disposable income (2+30-31-32-35)           142416  \n1068  1 Disposable income (2+30-31-32-35)           146661  \n\n[1069 rows x 7 columns]",
      "text/html": "<div>\n<style scoped>\n    .dataframe tbody tr th:only-of-type {\n        vertical-align: middle;\n    }\n\n    .dataframe tbody tr th {\n        vertical-align: top;\n    }\n\n    .dataframe thead th {\n        text-align: right;\n    }\n</style>\n<table border=\"1\" class=\"dataframe\">\n  <thead>\n    <tr style=\"text-align: right;\">\n      <th></th>\n      <th>municipality</th>\n      <th>year</th>\n      <th>ENHED</th>\n      <th>KOEN</th>\n      <th>UDDNIV</th>\n      <th>INDKOMSTTYPE</th>\n      <th>Avg disp income</th>\n    </tr>\n  </thead>\n  <tbody>\n    <tr>\n      <td>0</td>\n      <td>Aabenraa</td>\n      <td>2008</td>\n      <td>Average income for all people (DKK)</td>\n      <td>Men and women, total</td>\n      <td>10 BASIC SCHOOL 8-10 grade</td>\n      <td>1 Disposable income (2+30-31-32-35)</td>\n      <td>125064</td>\n    </tr>\n    <tr>\n      <td>1</td>\n      <td>Aabenraa</td>\n      <td>2009</td>\n      <td>Average income for all people (DKK)</td>\n      <td>Men and women, total</td>\n      <td>10 BASIC SCHOOL 8-10 grade</td>\n      <td>1 Disposable income (2+30-31-32-35)</td>\n      <td>123277</td>\n    </tr>\n    <tr>\n      <td>2</td>\n      <td>Aabenraa</td>\n      <td>2010</td>\n      <td>Average income for all people (DKK)</td>\n      <td>Men and women, total</td>\n      <td>10 BASIC SCHOOL 8-10 grade</td>\n      <td>1 Disposable income (2+30-31-32-35)</td>\n      <td>130019</td>\n    </tr>\n    <tr>\n      <td>3</td>\n      <td>Aabenraa</td>\n      <td>2011</td>\n      <td>Average income for all people (DKK)</td>\n      <td>Men and women, total</td>\n      <td>10 BASIC SCHOOL 8-10 grade</td>\n      <td>1 Disposable income (2+30-31-32-35)</td>\n      <td>132330</td>\n    </tr>\n    <tr>\n      <td>4</td>\n      <td>Aabenraa</td>\n      <td>2012</td>\n      <td>Average income for all people (DKK)</td>\n      <td>Men and women, total</td>\n      <td>10 BASIC SCHOOL 8-10 grade</td>\n      <td>1 Disposable income (2+30-31-32-35)</td>\n      <td>133960</td>\n    </tr>\n    <tr>\n      <td>...</td>\n      <td>...</td>\n      <td>...</td>\n      <td>...</td>\n      <td>...</td>\n      <td>...</td>\n      <td>...</td>\n      <td>...</td>\n    </tr>\n    <tr>\n      <td>1064</td>\n      <td>Ærø</td>\n      <td>2014</td>\n      <td>Average income for all people (DKK)</td>\n      <td>Men and women, total</td>\n      <td>10 BASIC SCHOOL 8-10 grade</td>\n      <td>1 Disposable income (2+30-31-32-35)</td>\n      <td>132795</td>\n    </tr>\n    <tr>\n      <td>1065</td>\n      <td>Ærø</td>\n      <td>2015</td>\n      <td>Average income for all people (DKK)</td>\n      <td>Men and women, total</td>\n      <td>10 BASIC SCHOOL 8-10 grade</td>\n      <td>1 Disposable income (2+30-31-32-35)</td>\n      <td>129903</td>\n    </tr>\n    <tr>\n      <td>1066</td>\n      <td>Ærø</td>\n      <td>2016</td>\n      <td>Average income for all people (DKK)</td>\n      <td>Men and women, total</td>\n      <td>10 BASIC SCHOOL 8-10 grade</td>\n      <td>1 Disposable income (2+30-31-32-35)</td>\n      <td>136753</td>\n    </tr>\n    <tr>\n      <td>1067</td>\n      <td>Ærø</td>\n      <td>2017</td>\n      <td>Average income for all people (DKK)</td>\n      <td>Men and women, total</td>\n      <td>10 BASIC SCHOOL 8-10 grade</td>\n      <td>1 Disposable income (2+30-31-32-35)</td>\n      <td>142416</td>\n    </tr>\n    <tr>\n      <td>1068</td>\n      <td>Ærø</td>\n      <td>2018</td>\n      <td>Average income for all people (DKK)</td>\n      <td>Men and women, total</td>\n      <td>10 BASIC SCHOOL 8-10 grade</td>\n      <td>1 Disposable income (2+30-31-32-35)</td>\n      <td>146661</td>\n    </tr>\n  </tbody>\n</table>\n<p>1069 rows × 7 columns</p>\n</div>"
     },
     "metadata": {},
     "execution_count": 29
    }
   ],
   "source": [
    "#Dowloading data on average disposable income of the danish municipalities\n",
    "\n",
    "variables={'OMRÅDE':['*'], 'TID':['*'], 'ENHED':['*']}\n",
    "avginc = dst.get_data(table_id = 'INDKP107', variables=variables)\n",
    "\n",
    "avginc = B_funktioner.initial_rename(avginc,'Avg disp income')\n",
    "avginc = B_funktioner.only_keep_municipalities_and_years(avginc,0,2008,2018)\n",
    "\n",
    "I = avginc.ENHED.str.contains('all people')\n",
    "avginc = avginc.loc[I == True]\n",
    "\n",
    "avginc = B_funktioner.sort_reset(avginc)\n",
    "\n",
    "avginc\n"
   ]
  },
  {
   "cell_type": "code",
   "execution_count": 36,
   "metadata": {},
   "outputs": [
    {
     "output_type": "execute_result",
     "data": {
      "text/plain": "     municipality  year  population  employment rate  Number of accidents  \\\n0        Aabenraa  2008       60189             74.6                  4.0   \n1        Aabenraa  2009       60392             71.6                  4.0   \n2        Aabenraa  2010       59978             70.9                  1.0   \n3        Aabenraa  2011       59795             70.2                  4.0   \n4        Aabenraa  2012       59600             69.5                  4.0   \n...           ...   ...         ...              ...                  ...   \n1084          Ærø  2014        6393             65.1                  NaN   \n1085          Ærø  2015        6276             65.8                  NaN   \n1086          Ærø  2016        6290             67.0                  NaN   \n1087          Ærø  2017        6177             68.1                  NaN   \n1088          Ærø  2018        6178             70.1                  NaN   \n\n      Immigrants  Number of sentences  Avg disp income  \n0           1787                49197         125064.0  \n1           1822                49132         123277.0  \n2           1817                49145         130019.0  \n3           1887                49146         132330.0  \n4           1906                48994         133960.0  \n...          ...                  ...              ...  \n1084         104                 5612              NaN  \n1085         103                 5561              NaN  \n1086         123                 5553              NaN  \n1087         145                 5489              NaN  \n1088         153                 5434              NaN  \n\n[1089 rows x 8 columns]",
      "text/html": "<div>\n<style scoped>\n    .dataframe tbody tr th:only-of-type {\n        vertical-align: middle;\n    }\n\n    .dataframe tbody tr th {\n        vertical-align: top;\n    }\n\n    .dataframe thead th {\n        text-align: right;\n    }\n</style>\n<table border=\"1\" class=\"dataframe\">\n  <thead>\n    <tr style=\"text-align: right;\">\n      <th></th>\n      <th>municipality</th>\n      <th>year</th>\n      <th>population</th>\n      <th>employment rate</th>\n      <th>Number of accidents</th>\n      <th>Immigrants</th>\n      <th>Number of sentences</th>\n      <th>Avg disp income</th>\n    </tr>\n  </thead>\n  <tbody>\n    <tr>\n      <td>0</td>\n      <td>Aabenraa</td>\n      <td>2008</td>\n      <td>60189</td>\n      <td>74.6</td>\n      <td>4.0</td>\n      <td>1787</td>\n      <td>49197</td>\n      <td>125064.0</td>\n    </tr>\n    <tr>\n      <td>1</td>\n      <td>Aabenraa</td>\n      <td>2009</td>\n      <td>60392</td>\n      <td>71.6</td>\n      <td>4.0</td>\n      <td>1822</td>\n      <td>49132</td>\n      <td>123277.0</td>\n    </tr>\n    <tr>\n      <td>2</td>\n      <td>Aabenraa</td>\n      <td>2010</td>\n      <td>59978</td>\n      <td>70.9</td>\n      <td>1.0</td>\n      <td>1817</td>\n      <td>49145</td>\n      <td>130019.0</td>\n    </tr>\n    <tr>\n      <td>3</td>\n      <td>Aabenraa</td>\n      <td>2011</td>\n      <td>59795</td>\n      <td>70.2</td>\n      <td>4.0</td>\n      <td>1887</td>\n      <td>49146</td>\n      <td>132330.0</td>\n    </tr>\n    <tr>\n      <td>4</td>\n      <td>Aabenraa</td>\n      <td>2012</td>\n      <td>59600</td>\n      <td>69.5</td>\n      <td>4.0</td>\n      <td>1906</td>\n      <td>48994</td>\n      <td>133960.0</td>\n    </tr>\n    <tr>\n      <td>...</td>\n      <td>...</td>\n      <td>...</td>\n      <td>...</td>\n      <td>...</td>\n      <td>...</td>\n      <td>...</td>\n      <td>...</td>\n      <td>...</td>\n    </tr>\n    <tr>\n      <td>1084</td>\n      <td>Ærø</td>\n      <td>2014</td>\n      <td>6393</td>\n      <td>65.1</td>\n      <td>NaN</td>\n      <td>104</td>\n      <td>5612</td>\n      <td>NaN</td>\n    </tr>\n    <tr>\n      <td>1085</td>\n      <td>Ærø</td>\n      <td>2015</td>\n      <td>6276</td>\n      <td>65.8</td>\n      <td>NaN</td>\n      <td>103</td>\n      <td>5561</td>\n      <td>NaN</td>\n    </tr>\n    <tr>\n      <td>1086</td>\n      <td>Ærø</td>\n      <td>2016</td>\n      <td>6290</td>\n      <td>67.0</td>\n      <td>NaN</td>\n      <td>123</td>\n      <td>5553</td>\n      <td>NaN</td>\n    </tr>\n    <tr>\n      <td>1087</td>\n      <td>Ærø</td>\n      <td>2017</td>\n      <td>6177</td>\n      <td>68.1</td>\n      <td>NaN</td>\n      <td>145</td>\n      <td>5489</td>\n      <td>NaN</td>\n    </tr>\n    <tr>\n      <td>1088</td>\n      <td>Ærø</td>\n      <td>2018</td>\n      <td>6178</td>\n      <td>70.1</td>\n      <td>NaN</td>\n      <td>153</td>\n      <td>5434</td>\n      <td>NaN</td>\n    </tr>\n  </tbody>\n</table>\n<p>1089 rows × 8 columns</p>\n</div>"
     },
     "metadata": {},
     "execution_count": 36
    }
   ],
   "source": [
    "#Merge of all the downloaded datasets\n",
    "\n",
    "Tabel1 = pop\n",
    "\n",
    "Tabel1 = Tabel1.join([empl['employment rate'],accidents['Number of accidents'],immigrants['Immigrants'],sentences['Number of sentences'],avginc['Avg disp income']])\n",
    "\n",
    "Tabel1\n",
    "\n",
    "\n",
    ""
   ]
  },
  {
   "cell_type": "code",
   "execution_count": null,
   "metadata": {},
   "outputs": [],
   "source": [
    "\n"
   ]
  }
 ]
}