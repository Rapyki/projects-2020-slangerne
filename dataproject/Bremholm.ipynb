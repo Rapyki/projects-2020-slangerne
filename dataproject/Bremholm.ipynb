{
 "nbformat": 4,
 "nbformat_minor": 2,
 "metadata": {
  "language_info": {
   "name": "python",
   "codemirror_mode": {
    "name": "ipython",
    "version": 3
   },
   "version": "3.7.4-final"
  },
  "orig_nbformat": 2,
  "file_extension": ".py",
  "mimetype": "text/x-python",
  "name": "python",
  "npconvert_exporter": "python",
  "pygments_lexer": "ipython3",
  "version": 3,
  "kernelspec": {
   "name": "python3",
   "display_name": "Python 3"
  }
 },
 "cells": [
  {
   "cell_type": "code",
   "execution_count": 83,
   "metadata": {},
   "outputs": [],
   "source": [
    "import numpy as np\n",
    "import matplotlib.pyplot as plt\n",
    "plt.style.use('seaborn')\n",
    "import pandas as pd\n",
    "import B_funktioner\n",
    "import pydst as pydst\n",
    "dst = pydst.Dst(lang='en')\n",
    "\n",
    "\n",
    "#virker det\n",
    ""
   ]
  },
  {
   "cell_type": "code",
   "execution_count": null,
   "metadata": {},
   "outputs": [],
   "source": [
    "\n",
    "dst.get_subjects()\n",
    "dst.get_tables(subjects=['14']).sample(10)\n",
    "empl_vars = dst.get_variables(table_id='RAS200')\n",
    "indk_vars\n",
    "\n",
    "empl_api = dst.get_data(table_id = 'RAS200', variables={'OMRÅDE':['*'], 'BEREGNING':['*'], 'TID':['*']})\n",
    "empl_api\n",
    "\n",
    "del inc_api['ALDER']\n",
    "\n",
    "inc_api\n",
    "\n",
    "del inc_api['HERKOMST']\n",
    "\n",
    "del inc_api['KØN']\n",
    "\n",
    "inc_api.rename(columns = {'OMRÅDE':'municipality'}, inplace=True)\n",
    "inc_api\n",
    "\n",
    "\n",
    "myDict = {}\n",
    "for i in range(2005, 2019): # range goes from 2008 to but not including 2017\n",
    "    myDict[str(i)] = f'e{i}' \n",
    "myDict\n",
    "\n",
    "inc_api.rename(columns = myDict, inplace=True)\n",
    "inc_api.head(10)\n",
    "\n",
    "I  = inc_api.municipality.str.contains('Region')\n",
    "inc_api.loc[I, :]\n",
    "for val in ['Region', 'Province', 'All Denmark']: \n",
    "    I = inc_api.municipality.str.contains(val)\n",
    "    inc_api = inc_api.loc[I == False] # keep everything else\n",
    "    \n",
    "inc_api.rename(columns = {'TID':'year'}, inplace=True)\n",
    "inc_api \n",
    "\n",
    "I  = inc_api.BEREGNING.str.contains('Region')\n",
    "\n",
    "for val in ['Economic activity rate']: \n",
    "    I = inc_api.BEREGNING.str.contains(val)\n",
    "    inc_api = inc_api.loc[I == False] # keep everything else\n",
    "\n",
    "del inc_api['BEREGNING']    \n",
    "    \n",
    "inc_api"
   ]
  },
  {
   "cell_type": "code",
   "execution_count": 20,
   "metadata": {},
   "outputs": [
    {
     "output_type": "execute_result",
     "data": {
      "text/plain": "        OMRÅDE    KØN  ALDER CIVILSTAND     TID  INDHOLD\n0  All Denmark  Total  Total      Total  2008Q1  5475791",
      "text/html": "<div>\n<style scoped>\n    .dataframe tbody tr th:only-of-type {\n        vertical-align: middle;\n    }\n\n    .dataframe tbody tr th {\n        vertical-align: top;\n    }\n\n    .dataframe thead th {\n        text-align: right;\n    }\n</style>\n<table border=\"1\" class=\"dataframe\">\n  <thead>\n    <tr style=\"text-align: right;\">\n      <th></th>\n      <th>OMRÅDE</th>\n      <th>KØN</th>\n      <th>ALDER</th>\n      <th>CIVILSTAND</th>\n      <th>TID</th>\n      <th>INDHOLD</th>\n    </tr>\n  </thead>\n  <tbody>\n    <tr>\n      <td>0</td>\n      <td>All Denmark</td>\n      <td>Total</td>\n      <td>Total</td>\n      <td>Total</td>\n      <td>2008Q1</td>\n      <td>5475791</td>\n    </tr>\n  </tbody>\n</table>\n</div>"
     },
     "metadata": {},
     "execution_count": 20
    }
   ],
   "source": [
    "\n",
    "dst.get_subjects()\n",
    "\n",
    "dst.get_tables(subjects=['02']).head(10)\n",
    "dst.get_data(table_id = 'FOLK1A').head(10)"
   ]
  },
  {
   "cell_type": "code",
   "execution_count": 10,
   "metadata": {},
   "outputs": [
    {
     "output_type": "stream",
     "name": "stdout",
     "text": "id            text  elimination   time                      map  \\\n0      OMRÅDE          region         True  False  denmark_municipality_07   \n1         KØN             sex         True  False                      NaN   \n2       ALDER             age         True  False                      NaN   \n3  CIVILSTAND  marital status         True  False                      NaN   \n4         Tid            time        False   True                      NaN   \n\n                                              values  \n0  [{'id': '000', 'text': 'All Denmark'}, {'id': ...  \n1  [{'id': 'TOT', 'text': 'Total'}, {'id': '1', '...  \n2  [{'id': 'IALT', 'text': 'Total'}, {'id': '0', ...  \n3  [{'id': 'TOT', 'text': 'Total'}, {'id': 'U', '...  \n4  [{'id': '2008K1', 'text': '2008Q1'}, {'id': '2...  \nKØN\n id = TOT, text = Total\n id = 1, text = Men\n id = 2, text = Women\nTid\n id = 2008K1, text = 2008Q1\n id = 2008K2, text = 2008Q2\n id = 2008K3, text = 2008Q3\n id = 2008K4, text = 2008Q4\n id = 2009K1, text = 2009Q1\n id = 2009K2, text = 2009Q2\n id = 2009K3, text = 2009Q3\n id = 2009K4, text = 2009Q4\n id = 2010K1, text = 2010Q1\n id = 2010K2, text = 2010Q2\n id = 2010K3, text = 2010Q3\n id = 2010K4, text = 2010Q4\n id = 2011K1, text = 2011Q1\n id = 2011K2, text = 2011Q2\n id = 2011K3, text = 2011Q3\n id = 2011K4, text = 2011Q4\n id = 2012K1, text = 2012Q1\n id = 2012K2, text = 2012Q2\n id = 2012K3, text = 2012Q3\n id = 2012K4, text = 2012Q4\n id = 2013K1, text = 2013Q1\n id = 2013K2, text = 2013Q2\n id = 2013K3, text = 2013Q3\n id = 2013K4, text = 2013Q4\n id = 2014K1, text = 2014Q1\n id = 2014K2, text = 2014Q2\n id = 2014K3, text = 2014Q3\n id = 2014K4, text = 2014Q4\n id = 2015K1, text = 2015Q1\n id = 2015K2, text = 2015Q2\n id = 2015K3, text = 2015Q3\n id = 2015K4, text = 2015Q4\n id = 2016K1, text = 2016Q1\n id = 2016K2, text = 2016Q2\n id = 2016K3, text = 2016Q3\n id = 2016K4, text = 2016Q4\n id = 2017K1, text = 2017Q1\n id = 2017K2, text = 2017Q2\n id = 2017K3, text = 2017Q3\n id = 2017K4, text = 2017Q4\n id = 2018K1, text = 2018Q1\n id = 2018K2, text = 2018Q2\n id = 2018K3, text = 2018Q3\n id = 2018K4, text = 2018Q4\n id = 2019K1, text = 2019Q1\n id = 2019K2, text = 2019Q2\n id = 2019K3, text = 2019Q3\n id = 2019K4, text = 2019Q4\n id = 2020K1, text = 2020Q1\n"
    }
   ],
   "source": [
    "folk_var = dst.get_variables(table_id='FOLK1A')\n",
    "#folk_var\n",
    "print(folk_var)\n",
    "\n",
    "for id in ['KØN','Tid']:\n",
    "    print(id)\n",
    "    values = folk_var.loc[folk_var.id == id,['values']].values[0,0]\n",
    "    for value in values:      \n",
    "        print(f' id = {value[\"id\"]}, text = {value[\"text\"]}')"
   ]
  },
  {
   "cell_type": "code",
   "execution_count": 18,
   "metadata": {},
   "outputs": [
    {
     "output_type": "execute_result",
     "data": {
      "text/plain": "     municipality    year  population\n163      Aabenraa  2008Q1       60189\n592      Aabenraa  2008Q2       60283\n834      Aabenraa  2008Q3       60427\n1640     Aabenraa  2008Q4       60368\n1712     Aabenraa  2009Q1       60392\n...           ...     ...         ...\n4597          Ærø  2019Q1        6058\n4745          Ærø  2019Q2        6013\n4981          Ærø  2019Q3        6033\n4819          Ærø  2019Q4        5990\n5102          Ærø  2020Q1        5964\n\n[5145 rows x 3 columns]",
      "text/html": "<div>\n<style scoped>\n    .dataframe tbody tr th:only-of-type {\n        vertical-align: middle;\n    }\n\n    .dataframe tbody tr th {\n        vertical-align: top;\n    }\n\n    .dataframe thead th {\n        text-align: right;\n    }\n</style>\n<table border=\"1\" class=\"dataframe\">\n  <thead>\n    <tr style=\"text-align: right;\">\n      <th></th>\n      <th>municipality</th>\n      <th>year</th>\n      <th>population</th>\n    </tr>\n  </thead>\n  <tbody>\n    <tr>\n      <td>163</td>\n      <td>Aabenraa</td>\n      <td>2008Q1</td>\n      <td>60189</td>\n    </tr>\n    <tr>\n      <td>592</td>\n      <td>Aabenraa</td>\n      <td>2008Q2</td>\n      <td>60283</td>\n    </tr>\n    <tr>\n      <td>834</td>\n      <td>Aabenraa</td>\n      <td>2008Q3</td>\n      <td>60427</td>\n    </tr>\n    <tr>\n      <td>1640</td>\n      <td>Aabenraa</td>\n      <td>2008Q4</td>\n      <td>60368</td>\n    </tr>\n    <tr>\n      <td>1712</td>\n      <td>Aabenraa</td>\n      <td>2009Q1</td>\n      <td>60392</td>\n    </tr>\n    <tr>\n      <td>...</td>\n      <td>...</td>\n      <td>...</td>\n      <td>...</td>\n    </tr>\n    <tr>\n      <td>4597</td>\n      <td>Ærø</td>\n      <td>2019Q1</td>\n      <td>6058</td>\n    </tr>\n    <tr>\n      <td>4745</td>\n      <td>Ærø</td>\n      <td>2019Q2</td>\n      <td>6013</td>\n    </tr>\n    <tr>\n      <td>4981</td>\n      <td>Ærø</td>\n      <td>2019Q3</td>\n      <td>6033</td>\n    </tr>\n    <tr>\n      <td>4819</td>\n      <td>Ærø</td>\n      <td>2019Q4</td>\n      <td>5990</td>\n    </tr>\n    <tr>\n      <td>5102</td>\n      <td>Ærø</td>\n      <td>2020Q1</td>\n      <td>5964</td>\n    </tr>\n  </tbody>\n</table>\n<p>5145 rows × 3 columns</p>\n</div>"
     },
     "metadata": {},
     "execution_count": 18
    }
   ],
   "source": [
    "\n",
    "\n",
    "variables = {'OMRÅDE':['*'],'Tid':['*']}\n",
    "folk_api = dst.get_data(table_id = 'FOLK1A', variables=variables)\n",
    "folk_api.head(10)\n",
    "\n",
    "del folk_api['ALDER']\n",
    "del folk_api['CIVILSTAND']\n",
    "del folk_api['KØN']\n",
    "folk_api.rename(columns = {'OMRÅDE':'municipality'}, inplace=True)\n",
    "folk_api.rename(columns = {'INDHOLD':'population'}, inplace=True)\n",
    "#folk_api.rename(columns = {'KØN':'gender'}, inplace=True)\n",
    "folk_api.rename(columns = {'TID':'year'}, inplace=True)\n",
    "folk_api.head(5)\n",
    "\n",
    "folk = folk_api.sort_values(['municipality','year']) # sort by first municipality then year\n",
    "folk"
   ]
  },
  {
   "cell_type": "code",
   "execution_count": 19,
   "metadata": {},
   "outputs": [
    {
     "output_type": "execute_result",
     "data": {
      "text/plain": "     municipality  year  population\n163      Aabenraa  2008       60189\n1712     Aabenraa  2009       60392\n809      Aabenraa  2010       59978\n522      Aabenraa  2011       59795\n42       Aabenraa  2012       59600\n...           ...   ...         ...\n868           Ærø  2014        6393\n3140          Ærø  2015        6276\n318           Ærø  2016        6290\n3869          Ærø  2017        6177\n4141          Ærø  2018        6178\n\n[1089 rows x 3 columns]",
      "text/html": "<div>\n<style scoped>\n    .dataframe tbody tr th:only-of-type {\n        vertical-align: middle;\n    }\n\n    .dataframe tbody tr th {\n        vertical-align: top;\n    }\n\n    .dataframe thead th {\n        text-align: right;\n    }\n</style>\n<table border=\"1\" class=\"dataframe\">\n  <thead>\n    <tr style=\"text-align: right;\">\n      <th></th>\n      <th>municipality</th>\n      <th>year</th>\n      <th>population</th>\n    </tr>\n  </thead>\n  <tbody>\n    <tr>\n      <td>163</td>\n      <td>Aabenraa</td>\n      <td>2008</td>\n      <td>60189</td>\n    </tr>\n    <tr>\n      <td>1712</td>\n      <td>Aabenraa</td>\n      <td>2009</td>\n      <td>60392</td>\n    </tr>\n    <tr>\n      <td>809</td>\n      <td>Aabenraa</td>\n      <td>2010</td>\n      <td>59978</td>\n    </tr>\n    <tr>\n      <td>522</td>\n      <td>Aabenraa</td>\n      <td>2011</td>\n      <td>59795</td>\n    </tr>\n    <tr>\n      <td>42</td>\n      <td>Aabenraa</td>\n      <td>2012</td>\n      <td>59600</td>\n    </tr>\n    <tr>\n      <td>...</td>\n      <td>...</td>\n      <td>...</td>\n      <td>...</td>\n    </tr>\n    <tr>\n      <td>868</td>\n      <td>Ærø</td>\n      <td>2014</td>\n      <td>6393</td>\n    </tr>\n    <tr>\n      <td>3140</td>\n      <td>Ærø</td>\n      <td>2015</td>\n      <td>6276</td>\n    </tr>\n    <tr>\n      <td>318</td>\n      <td>Ærø</td>\n      <td>2016</td>\n      <td>6290</td>\n    </tr>\n    <tr>\n      <td>3869</td>\n      <td>Ærø</td>\n      <td>2017</td>\n      <td>6177</td>\n    </tr>\n    <tr>\n      <td>4141</td>\n      <td>Ærø</td>\n      <td>2018</td>\n      <td>6178</td>\n    </tr>\n  </tbody>\n</table>\n<p>1089 rows × 3 columns</p>\n</div>"
     },
     "metadata": {},
     "execution_count": 19
    }
   ],
   "source": [
    "#I  = folk.municipality.str.contains('Region')\n",
    "#folk.loc[I, :]\n",
    "for val in ['Region', 'Province', 'All Denmark']: \n",
    "    I = folk.municipality.str.contains(val)\n",
    "    folk = folk.loc[I == False] # keep everything else\n",
    "\n",
    "#U  = folk.year.str.contains('Q1')\n",
    "#folk.loc[U, :]\n",
    "for val in ['Q1']: \n",
    "    U = folk.year.str.contains(val)\n",
    "    folk = folk.loc[U == True] # keep only that one\n",
    "    folk.year = folk.year.str[0:4]\n",
    "\n",
    "#U  = folk.year.str.contains('2019','2020')\n",
    "#folk.loc[U, :]\n",
    "for val in ['2019','2020']: \n",
    "    U = folk.year.str.contains(val)\n",
    "    folk = folk.loc[U == False] # keep everything else\n",
    "folk"
   ]
  },
  {
   "cell_type": "code",
   "execution_count": 84,
   "metadata": {},
   "outputs": [
    {
     "output_type": "error",
     "ename": "AttributeError",
     "evalue": "module 'B_funktioner' has no attribute 'initial_rename'",
     "traceback": [
      "\u001b[0;31m---------------------------------------------------------------------------\u001b[0m",
      "\u001b[0;31mAttributeError\u001b[0m                            Traceback (most recent call last)",
      "\u001b[0;32m<ipython-input-84-118819791374>\u001b[0m in \u001b[0;36m<module>\u001b[0;34m\u001b[0m\n\u001b[1;32m      7\u001b[0m \u001b[0mfolkkort\u001b[0m\u001b[0;34m.\u001b[0m\u001b[0mhead\u001b[0m\u001b[0;34m(\u001b[0m\u001b[0;36m10\u001b[0m\u001b[0;34m)\u001b[0m\u001b[0;34m\u001b[0m\u001b[0;34m\u001b[0m\u001b[0m\n\u001b[1;32m      8\u001b[0m \u001b[0;34m\u001b[0m\u001b[0m\n\u001b[0;32m----> 9\u001b[0;31m \u001b[0mfolkkort\u001b[0m \u001b[0;34m=\u001b[0m \u001b[0mB_funktioner\u001b[0m\u001b[0;34m.\u001b[0m\u001b[0minitial_rename\u001b[0m\u001b[0;34m(\u001b[0m\u001b[0mfolkkort\u001b[0m\u001b[0;34m)\u001b[0m\u001b[0;34m\u001b[0m\u001b[0;34m\u001b[0m\u001b[0m\n\u001b[0m\u001b[1;32m     10\u001b[0m \u001b[0mfolkkort\u001b[0m \u001b[0;34m=\u001b[0m \u001b[0mB_funktioner\u001b[0m\u001b[0;34m.\u001b[0m\u001b[0monly_keep_municipalities\u001b[0m\u001b[0;34m(\u001b[0m\u001b[0mfolkkort\u001b[0m\u001b[0;34m)\u001b[0m\u001b[0;34m\u001b[0m\u001b[0;34m\u001b[0m\u001b[0m\n\u001b[1;32m     11\u001b[0m \u001b[0mfolkkort\u001b[0m \u001b[0;34m=\u001b[0m \u001b[0mB_funktioner\u001b[0m\u001b[0;34m.\u001b[0m\u001b[0mquarter_to_year\u001b[0m\u001b[0;34m(\u001b[0m\u001b[0mfolkkort\u001b[0m\u001b[0;34m)\u001b[0m\u001b[0;34m\u001b[0m\u001b[0;34m\u001b[0m\u001b[0m\n",
      "\u001b[0;31mAttributeError\u001b[0m: module 'B_funktioner' has no attribute 'initial_rename'"
     ]
    }
   ],
   "source": [
    "dst.get_subjects()\n",
    "dst.get_tables(subjects=['02']).head(10)\n",
    "dst.get_variables(table_id='FOLK1A')\n",
    "\n",
    "variables = {'OMRÅDE':['*'],'Tid':['*']}\n",
    "folkkort = dst.get_data(table_id = 'FOLK1A', variables=variables)\n",
    "folkkort.head(10)\n",
    "\n",
    "folkkort = B_funktioner.initial_rename(folkkort)\n",
    "folkkort = B_funktioner.only_keep_municipalities(folkkort)\n",
    "folkkort = B_funktioner.quarter_to_year(folkkort)\n",
    "#folkkort = B_funktioner.sort_reset(folkkort)\n",
    "\n",
    "folkkort = folkkort.sort_values(['municipality','year'])\n",
    "folkkort.reset_index(drop=True, inplace=True)\n",
    "folkkort.rename(columns = {'INDHOLD':'population'}, inplace=True)\n",
    "folkkort\n",
    "\n",
    "for val in ['2019','2020']: \n",
    "    U = folk.year.str.contains(val)\n",
    "    folk = folk.loc[U == False] # keep everything else\n",
    "folk"
   ]
  },
  {
   "cell_type": "code",
   "execution_count": null,
   "metadata": {},
   "outputs": [],
   "source": []
  }
 ]
}