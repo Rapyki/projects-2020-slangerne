{
 "nbformat": 4,
 "nbformat_minor": 2,
 "metadata": {
  "language_info": {
   "name": "python",
   "codemirror_mode": {
    "name": "ipython",
    "version": 3
   },
   "version": "3.7.4-final"
  },
  "orig_nbformat": 2,
  "file_extension": ".py",
  "mimetype": "text/x-python",
  "name": "python",
  "npconvert_exporter": "python",
  "pygments_lexer": "ipython3",
  "version": 3,
  "kernelspec": {
   "name": "python3",
   "display_name": "Python 3"
  }
 },
 "cells": [
  {
   "cell_type": "code",
   "execution_count": 9,
   "metadata": {},
   "outputs": [
    {
     "data": {
      "text/html": "<div>\n<style scoped>\n    .dataframe tbody tr th:only-of-type {\n        vertical-align: middle;\n    }\n\n    .dataframe tbody tr th {\n        vertical-align: top;\n    }\n\n    .dataframe thead th {\n        text-align: right;\n    }\n</style>\n<table border=\"1\" class=\"dataframe\">\n  <thead>\n    <tr style=\"text-align: right;\">\n      <th></th>\n      <th>municipality</th>\n      <th>BEREGNING</th>\n      <th>year</th>\n      <th>INDHOLD</th>\n    </tr>\n  </thead>\n  <tbody>\n    <tr>\n      <td>0</td>\n      <td>Køge</td>\n      <td>Employment rate</td>\n      <td>2011</td>\n      <td>73.7</td>\n    </tr>\n    <tr>\n      <td>1</td>\n      <td>Køge</td>\n      <td>Employment rate</td>\n      <td>2012</td>\n      <td>73.3</td>\n    </tr>\n    <tr>\n      <td>2</td>\n      <td>Køge</td>\n      <td>Employment rate</td>\n      <td>2013</td>\n      <td>73.1</td>\n    </tr>\n    <tr>\n      <td>3</td>\n      <td>Køge</td>\n      <td>Employment rate</td>\n      <td>2014</td>\n      <td>74.1</td>\n    </tr>\n    <tr>\n      <td>4</td>\n      <td>Rødovre</td>\n      <td>Employment rate</td>\n      <td>2011</td>\n      <td>73.6</td>\n    </tr>\n    <tr>\n      <td>...</td>\n      <td>...</td>\n      <td>...</td>\n      <td>...</td>\n      <td>...</td>\n    </tr>\n    <tr>\n      <td>2542</td>\n      <td>Viborg</td>\n      <td>Employment rate</td>\n      <td>2018</td>\n      <td>76.0</td>\n    </tr>\n    <tr>\n      <td>2544</td>\n      <td>Randers</td>\n      <td>Employment rate</td>\n      <td>2018</td>\n      <td>73.9</td>\n    </tr>\n    <tr>\n      <td>2546</td>\n      <td>Brønderslev</td>\n      <td>Employment rate</td>\n      <td>2018</td>\n      <td>74.8</td>\n    </tr>\n    <tr>\n      <td>2548</td>\n      <td>Silkeborg</td>\n      <td>Employment rate</td>\n      <td>2018</td>\n      <td>77.8</td>\n    </tr>\n    <tr>\n      <td>2550</td>\n      <td>Frederikshavn</td>\n      <td>Employment rate</td>\n      <td>2018</td>\n      <td>73.1</td>\n    </tr>\n  </tbody>\n</table>\n<p>1089 rows × 4 columns</p>\n</div>",
      "text/plain": "       municipality        BEREGNING  year  INDHOLD\n0              Køge  Employment rate  2011     73.7\n1              Køge  Employment rate  2012     73.3\n2              Køge  Employment rate  2013     73.1\n3              Køge  Employment rate  2014     74.1\n4           Rødovre  Employment rate  2011     73.6\n...             ...              ...   ...      ...\n2542         Viborg  Employment rate  2018     76.0\n2544        Randers  Employment rate  2018     73.9\n2546    Brønderslev  Employment rate  2018     74.8\n2548      Silkeborg  Employment rate  2018     77.8\n2550  Frederikshavn  Employment rate  2018     73.1\n\n[1089 rows x 4 columns]"
     },
     "execution_count": 9,
     "metadata": {},
     "output_type": "execute_result"
    }
   ],
   "source": [
    "import numpy as np\n",
    "import matplotlib.pyplot as plt\n",
    "plt.style.use('seaborn')\n",
    "import pandas as pd\n",
    "import pydst\n",
    "dst = pydst.Dst(lang='en')\n",
    "\n",
    "#virker det\n",
    "\n",
    "dst.get_subjects()\n",
    "dst.get_tables(subjects=['14']).sample(10)\n",
    "dst.get_data(table_id = 'RAS200').head(10)\n",
    "\n",
    "indk_vars = dst.get_variables(table_id='RAS200')\n",
    "indk_vars\n",
    "\n",
    "indk_vars['values'][0][:10]\n",
    "\n",
    "inc_api = dst.get_data(table_id = 'RAS200', variables={'OMRÅDE':['*'], 'BEREGNING':['*'], 'TID':['*']})\n",
    "inc_api\n",
    "\n",
    "del inc_api['ALDER']\n",
    "\n",
    "inc_api\n",
    "\n",
    "del inc_api['HERKOMST']\n",
    "\n",
    "del inc_api['KØN']\n",
    "\n",
    "inc_api.rename(columns = {'OMRÅDE':'municipality'}, inplace=True)\n",
    "inc_api\n",
    "\n",
    "inc_api.rename(columns = {'FREKVENS':'emply'}, inplace=True)\n",
    "inc_api \n",
    "\n",
    "myDict = {}\n",
    "for i in range(2005, 2019): # range goes from 2008 to but not including 2017\n",
    "    myDict[str(i)] = f'e{i}' \n",
    "myDict\n",
    "\n",
    "inc_api.rename(columns = myDict, inplace=True)\n",
    "inc_api.head(10)\n",
    "\n",
    "I  = inc_api.municipality.str.contains('Region')\n",
    "inc_api.loc[I, :]\n",
    "for val in ['Region', 'Province', 'All Denmark']: \n",
    "    I = inc_api.municipality.str.contains(val)\n",
    "    inc_api = inc_api.loc[I == False] # keep everything else\n",
    "    \n",
    "inc_api.rename(columns = {'TID':'year'}, inplace=True)\n",
    "inc_api \n",
    "\n",
    "I  = inc_api.BEREGNING.str.contains('Region')\n",
    "\n",
    "for val in ['Economic activity rate']: \n",
    "    I = inc_api.BEREGNING.str.contains(val)\n",
    "    inc_api = inc_api.loc[I == False] # keep everything else\n",
    "    \n",
    "inc_api  \n",
    "\n"
   ]
  },
  {
   "cell_type": "code",
   "execution_count": 8,
   "metadata": {},
   "outputs": [
    {
     "data": {
      "text/html": "<div>\n<style scoped>\n    .dataframe tbody tr th:only-of-type {\n        vertical-align: middle;\n    }\n\n    .dataframe tbody tr th {\n        vertical-align: top;\n    }\n\n    .dataframe thead th {\n        text-align: right;\n    }\n</style>\n<table border=\"1\" class=\"dataframe\">\n  <thead>\n    <tr style=\"text-align: right;\">\n      <th></th>\n      <th>municipality</th>\n      <th>BEREGNING</th>\n      <th>year</th>\n      <th>INDHOLD</th>\n    </tr>\n  </thead>\n  <tbody>\n    <tr>\n      <td>0</td>\n      <td>Køge</td>\n      <td>Employment rate</td>\n      <td>2011</td>\n      <td>73.7</td>\n    </tr>\n    <tr>\n      <td>1</td>\n      <td>Køge</td>\n      <td>Employment rate</td>\n      <td>2012</td>\n      <td>73.3</td>\n    </tr>\n    <tr>\n      <td>2</td>\n      <td>Køge</td>\n      <td>Employment rate</td>\n      <td>2013</td>\n      <td>73.1</td>\n    </tr>\n    <tr>\n      <td>3</td>\n      <td>Køge</td>\n      <td>Employment rate</td>\n      <td>2014</td>\n      <td>74.1</td>\n    </tr>\n    <tr>\n      <td>4</td>\n      <td>Rødovre</td>\n      <td>Employment rate</td>\n      <td>2011</td>\n      <td>73.6</td>\n    </tr>\n    <tr>\n      <td>5</td>\n      <td>Rødovre</td>\n      <td>Employment rate</td>\n      <td>2012</td>\n      <td>73.0</td>\n    </tr>\n    <tr>\n      <td>6</td>\n      <td>Rødovre</td>\n      <td>Employment rate</td>\n      <td>2013</td>\n      <td>73.2</td>\n    </tr>\n    <tr>\n      <td>7</td>\n      <td>Rødovre</td>\n      <td>Employment rate</td>\n      <td>2014</td>\n      <td>73.5</td>\n    </tr>\n    <tr>\n      <td>8</td>\n      <td>Dragør</td>\n      <td>Employment rate</td>\n      <td>2011</td>\n      <td>78.5</td>\n    </tr>\n    <tr>\n      <td>9</td>\n      <td>Dragør</td>\n      <td>Employment rate</td>\n      <td>2012</td>\n      <td>78.7</td>\n    </tr>\n  </tbody>\n</table>\n</div>",
      "text/plain": "  municipality        BEREGNING  year  INDHOLD\n0         Køge  Employment rate  2011     73.7\n1         Køge  Employment rate  2012     73.3\n2         Køge  Employment rate  2013     73.1\n3         Køge  Employment rate  2014     74.1\n4      Rødovre  Employment rate  2011     73.6\n5      Rødovre  Employment rate  2012     73.0\n6      Rødovre  Employment rate  2013     73.2\n7      Rødovre  Employment rate  2014     73.5\n8       Dragør  Employment rate  2011     78.5\n9       Dragør  Employment rate  2012     78.7"
     },
     "execution_count": 8,
     "metadata": {},
     "output_type": "execute_result"
    }
   ],
   "source": [
    "\n",
    "inc_api.pivot(index='municipality', columns='year', values='INDHOLD')\n",
    "inc_api.head(10)\n",
    "#inc_api.pivot skulle gerne bytte om, så year kommer øverst. Dette virker i jupyter lab - kan ikke se hvorfor det ikke virker her."
   ]
  }
 ]
}