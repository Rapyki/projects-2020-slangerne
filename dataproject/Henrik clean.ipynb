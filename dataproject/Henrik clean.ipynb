{
 "nbformat": 4,
 "nbformat_minor": 2,
 "metadata": {
  "language_info": {
   "name": "python",
   "codemirror_mode": {
    "name": "ipython",
    "version": 3
   },
   "version": "3.7.4-final"
  },
  "orig_nbformat": 2,
  "file_extension": ".py",
  "mimetype": "text/x-python",
  "name": "python",
  "npconvert_exporter": "python",
  "pygments_lexer": "ipython3",
  "version": 3,
  "kernelspec": {
   "name": "python3",
   "display_name": "Python 3"
  }
 },
 "cells": [
  {
   "cell_type": "code",
   "execution_count": 10,
   "metadata": {},
   "outputs": [
    {
     "output_type": "execute_result",
     "data": {
      "text/plain": "       municipality  year  INDHOLD\n0              Køge  2011     73.7\n1              Køge  2012     73.3\n2              Køge  2013     73.1\n3              Køge  2014     74.1\n4           Rødovre  2011     73.6\n...             ...   ...      ...\n2542         Viborg  2018     76.0\n2544        Randers  2018     73.9\n2546    Brønderslev  2018     74.8\n2548      Silkeborg  2018     77.8\n2550  Frederikshavn  2018     73.1\n\n[1089 rows x 3 columns]",
      "text/html": "<div>\n<style scoped>\n    .dataframe tbody tr th:only-of-type {\n        vertical-align: middle;\n    }\n\n    .dataframe tbody tr th {\n        vertical-align: top;\n    }\n\n    .dataframe thead th {\n        text-align: right;\n    }\n</style>\n<table border=\"1\" class=\"dataframe\">\n  <thead>\n    <tr style=\"text-align: right;\">\n      <th></th>\n      <th>municipality</th>\n      <th>year</th>\n      <th>INDHOLD</th>\n    </tr>\n  </thead>\n  <tbody>\n    <tr>\n      <td>0</td>\n      <td>Køge</td>\n      <td>2011</td>\n      <td>73.7</td>\n    </tr>\n    <tr>\n      <td>1</td>\n      <td>Køge</td>\n      <td>2012</td>\n      <td>73.3</td>\n    </tr>\n    <tr>\n      <td>2</td>\n      <td>Køge</td>\n      <td>2013</td>\n      <td>73.1</td>\n    </tr>\n    <tr>\n      <td>3</td>\n      <td>Køge</td>\n      <td>2014</td>\n      <td>74.1</td>\n    </tr>\n    <tr>\n      <td>4</td>\n      <td>Rødovre</td>\n      <td>2011</td>\n      <td>73.6</td>\n    </tr>\n    <tr>\n      <td>...</td>\n      <td>...</td>\n      <td>...</td>\n      <td>...</td>\n    </tr>\n    <tr>\n      <td>2542</td>\n      <td>Viborg</td>\n      <td>2018</td>\n      <td>76.0</td>\n    </tr>\n    <tr>\n      <td>2544</td>\n      <td>Randers</td>\n      <td>2018</td>\n      <td>73.9</td>\n    </tr>\n    <tr>\n      <td>2546</td>\n      <td>Brønderslev</td>\n      <td>2018</td>\n      <td>74.8</td>\n    </tr>\n    <tr>\n      <td>2548</td>\n      <td>Silkeborg</td>\n      <td>2018</td>\n      <td>77.8</td>\n    </tr>\n    <tr>\n      <td>2550</td>\n      <td>Frederikshavn</td>\n      <td>2018</td>\n      <td>73.1</td>\n    </tr>\n  </tbody>\n</table>\n<p>1089 rows × 3 columns</p>\n</div>"
     },
     "metadata": {},
     "execution_count": 10
    }
   ],
   "source": [
    "import numpy as np\n",
    "import matplotlib.pyplot as plt\n",
    "plt.style.use('seaborn')\n",
    "import pandas as pd\n",
    "import pydst\n",
    "dst = pydst.Dst(lang='en')\n",
    "\n",
    "#virker det\n",
    "\n",
    "dst.get_subjects()\n",
    "dst.get_tables(subjects=['14']).sample(10)\n",
    "dst.get_data(table_id = 'RAS200').head(10)\n",
    "\n",
    "indk_vars = dst.get_variables(table_id='RAS200')\n",
    "indk_vars\n",
    "\n",
    "indk_vars['values'][0][:10]\n",
    "\n",
    "inc_api = dst.get_data(table_id = 'RAS200', variables={'OMRÅDE':['*'], 'BEREGNING':['*'], 'TID':['*']})\n",
    "inc_api\n",
    "\n",
    "del inc_api['ALDER']\n",
    "\n",
    "inc_api\n",
    "\n",
    "del inc_api['HERKOMST']\n",
    "\n",
    "del inc_api['KØN']\n",
    "\n",
    "inc_api.rename(columns = {'OMRÅDE':'municipality'}, inplace=True)\n",
    "inc_api\n",
    "\n",
    "\n",
    "myDict = {}\n",
    "for i in range(2005, 2019): # range goes from 2008 to but not including 2017\n",
    "    myDict[str(i)] = f'e{i}' \n",
    "myDict\n",
    "\n",
    "inc_api.rename(columns = myDict, inplace=True)\n",
    "inc_api.head(10)\n",
    "\n",
    "I  = inc_api.municipality.str.contains('Region')\n",
    "inc_api.loc[I, :]\n",
    "for val in ['Region', 'Province', 'All Denmark']: \n",
    "    I = inc_api.municipality.str.contains(val)\n",
    "    inc_api = inc_api.loc[I == False] # keep everything else\n",
    "    \n",
    "inc_api.rename(columns = {'TID':'year'}, inplace=True)\n",
    "inc_api \n",
    "\n",
    "I  = inc_api.BEREGNING.str.contains('Region')\n",
    "\n",
    "for val in ['Economic activity rate']: \n",
    "    I = inc_api.BEREGNING.str.contains(val)\n",
    "    inc_api = inc_api.loc[I == False] # keep everything else\n",
    "\n",
    "del inc_api['BEREGNING']    \n",
    "    \n",
    "inc_api  \n",
    "\n",
    ""
   ]
  },
  {
   "cell_type": "code",
   "execution_count": 8,
   "metadata": {},
   "outputs": [
    {
     "output_type": "execute_result",
     "data": {
      "text/plain": "  municipality        BEREGNING  year  INDHOLD\n0         Køge  Employment rate  2011     73.7\n1         Køge  Employment rate  2012     73.3\n2         Køge  Employment rate  2013     73.1\n3         Køge  Employment rate  2014     74.1\n4      Rødovre  Employment rate  2011     73.6\n5      Rødovre  Employment rate  2012     73.0\n6      Rødovre  Employment rate  2013     73.2\n7      Rødovre  Employment rate  2014     73.5\n8       Dragør  Employment rate  2011     78.5\n9       Dragør  Employment rate  2012     78.7",
      "text/html": "<div>\n<style scoped>\n    .dataframe tbody tr th:only-of-type {\n        vertical-align: middle;\n    }\n\n    .dataframe tbody tr th {\n        vertical-align: top;\n    }\n\n    .dataframe thead th {\n        text-align: right;\n    }\n</style>\n<table border=\"1\" class=\"dataframe\">\n  <thead>\n    <tr style=\"text-align: right;\">\n      <th></th>\n      <th>municipality</th>\n      <th>BEREGNING</th>\n      <th>year</th>\n      <th>INDHOLD</th>\n    </tr>\n  </thead>\n  <tbody>\n    <tr>\n      <td>0</td>\n      <td>Køge</td>\n      <td>Employment rate</td>\n      <td>2011</td>\n      <td>73.7</td>\n    </tr>\n    <tr>\n      <td>1</td>\n      <td>Køge</td>\n      <td>Employment rate</td>\n      <td>2012</td>\n      <td>73.3</td>\n    </tr>\n    <tr>\n      <td>2</td>\n      <td>Køge</td>\n      <td>Employment rate</td>\n      <td>2013</td>\n      <td>73.1</td>\n    </tr>\n    <tr>\n      <td>3</td>\n      <td>Køge</td>\n      <td>Employment rate</td>\n      <td>2014</td>\n      <td>74.1</td>\n    </tr>\n    <tr>\n      <td>4</td>\n      <td>Rødovre</td>\n      <td>Employment rate</td>\n      <td>2011</td>\n      <td>73.6</td>\n    </tr>\n    <tr>\n      <td>5</td>\n      <td>Rødovre</td>\n      <td>Employment rate</td>\n      <td>2012</td>\n      <td>73.0</td>\n    </tr>\n    <tr>\n      <td>6</td>\n      <td>Rødovre</td>\n      <td>Employment rate</td>\n      <td>2013</td>\n      <td>73.2</td>\n    </tr>\n    <tr>\n      <td>7</td>\n      <td>Rødovre</td>\n      <td>Employment rate</td>\n      <td>2014</td>\n      <td>73.5</td>\n    </tr>\n    <tr>\n      <td>8</td>\n      <td>Dragør</td>\n      <td>Employment rate</td>\n      <td>2011</td>\n      <td>78.5</td>\n    </tr>\n    <tr>\n      <td>9</td>\n      <td>Dragør</td>\n      <td>Employment rate</td>\n      <td>2012</td>\n      <td>78.7</td>\n    </tr>\n  </tbody>\n</table>\n</div>"
     },
     "metadata": {},
     "execution_count": 8
    }
   ],
   "source": [
    "\n",
    "inc_api.pivot(index='municipality', columns='year', values='INDHOLD')\n",
    "inc_api.head(10)\n",
    "#inc_api.pivot skulle gerne bytte om, så year kommer øverst. Dette virker i jupyter lab - kan ikke se hvorfor det ikke virker her."
   ]
  },
  {
   "cell_type": "code",
   "execution_count": 15,
   "metadata": {},
   "outputs": [
    {
     "output_type": "execute_result",
     "data": {
      "text/plain": "         id                text  elimination   time  \\\n0    UHELDA    type of accident         True  False   \n1    OMRÅDE              region         True  False   \n2    BYLAND          urban area         True  False   \n3  UHELDSIT  accident situation         True  False   \n4       Tid                time        False   True   \n\n                                              values                      map  \n0  [{'id': '0000', 'text': 'All accidents'}, {'id...                      NaN  \n1  [{'id': '000', 'text': 'All Denmark'}, {'id': ...  denmark_municipality_07  \n2  [{'id': '001', 'text': 'Inside urban area'}, {...                      NaN  \n3  [{'id': '000', 'text': 'One-vehicle accidents'...                      NaN  \n4  [{'id': '1998', 'text': '1998'}, {'id': '1999'...                      NaN  ",
      "text/html": "<div>\n<style scoped>\n    .dataframe tbody tr th:only-of-type {\n        vertical-align: middle;\n    }\n\n    .dataframe tbody tr th {\n        vertical-align: top;\n    }\n\n    .dataframe thead th {\n        text-align: right;\n    }\n</style>\n<table border=\"1\" class=\"dataframe\">\n  <thead>\n    <tr style=\"text-align: right;\">\n      <th></th>\n      <th>id</th>\n      <th>text</th>\n      <th>elimination</th>\n      <th>time</th>\n      <th>values</th>\n      <th>map</th>\n    </tr>\n  </thead>\n  <tbody>\n    <tr>\n      <td>0</td>\n      <td>UHELDA</td>\n      <td>type of accident</td>\n      <td>True</td>\n      <td>False</td>\n      <td>[{'id': '0000', 'text': 'All accidents'}, {'id...</td>\n      <td>NaN</td>\n    </tr>\n    <tr>\n      <td>1</td>\n      <td>OMRÅDE</td>\n      <td>region</td>\n      <td>True</td>\n      <td>False</td>\n      <td>[{'id': '000', 'text': 'All Denmark'}, {'id': ...</td>\n      <td>denmark_municipality_07</td>\n    </tr>\n    <tr>\n      <td>2</td>\n      <td>BYLAND</td>\n      <td>urban area</td>\n      <td>True</td>\n      <td>False</td>\n      <td>[{'id': '001', 'text': 'Inside urban area'}, {...</td>\n      <td>NaN</td>\n    </tr>\n    <tr>\n      <td>3</td>\n      <td>UHELDSIT</td>\n      <td>accident situation</td>\n      <td>True</td>\n      <td>False</td>\n      <td>[{'id': '000', 'text': 'One-vehicle accidents'...</td>\n      <td>NaN</td>\n    </tr>\n    <tr>\n      <td>4</td>\n      <td>Tid</td>\n      <td>time</td>\n      <td>False</td>\n      <td>True</td>\n      <td>[{'id': '1998', 'text': '1998'}, {'id': '1999'...</td>\n      <td>NaN</td>\n    </tr>\n  </tbody>\n</table>\n</div>"
     },
     "metadata": {},
     "execution_count": 15
    }
   ],
   "source": [
    "dst.get_subjects()\n",
    "dst.get_tables(subjects=['14']).sample(10)\n",
    "dst.get_data(table_id = 'UHELDK7').head(10)\n",
    "\n",
    "uheld_vars = dst.get_variables(table_id='UHELDK7')\n",
    "uheld_vars\n",
    "\n",
    ""
   ]
  },
  {
   "cell_type": "code",
   "execution_count": 17,
   "metadata": {},
   "outputs": [
    {
     "output_type": "execute_result",
     "data": {
      "text/plain": "[{'id': '0000', 'text': 'All accidents'},\n {'id': '1000', 'text': 'Accidents involving persons influenced by alcohol'},\n {'id': '2000', 'text': 'Others accidents'}]"
     },
     "metadata": {},
     "execution_count": 17
    }
   ],
   "source": [
    "uheld_vars['values'][0][:10]\n",
    "\n",
    ""
   ]
  },
  {
   "cell_type": "code",
   "execution_count": 18,
   "metadata": {},
   "outputs": [
    {
     "output_type": "execute_result",
     "data": {
      "text/plain": "                  OMRÅDE            UHELDA   TID             BYLAND  \\\n0            All Denmark     All accidents  2013  Inside urban area   \n1     Region Nordjylland     All accidents  2013  Inside urban area   \n2     Region Midtjylland     All accidents  2013  Inside urban area   \n3      Region Syddanmark     All accidents  2013  Inside urban area   \n4     Region Hovedstaden     All accidents  2013  Inside urban area   \n...                  ...               ...   ...                ...   \n4785     Vesthimmerlands  Others accidents  2018  Inside urban area   \n4786       Mariagerfjord  Others accidents  2018  Inside urban area   \n4787          Jammerbugt  Others accidents  2018  Inside urban area   \n4788             Aalborg  Others accidents  2018  Inside urban area   \n4789            Hjørring  Others accidents  2018  Inside urban area   \n\n                   UHELDSIT  INDHOLD  \n0     One-vehicle accidents      205  \n1     One-vehicle accidents       30  \n2     One-vehicle accidents       46  \n3     One-vehicle accidents       56  \n4     One-vehicle accidents       46  \n...                     ...      ...  \n4785  One-vehicle accidents        1  \n4786  One-vehicle accidents        1  \n4787  One-vehicle accidents        2  \n4788  One-vehicle accidents        6  \n4789  One-vehicle accidents        5  \n\n[4790 rows x 6 columns]",
      "text/html": "<div>\n<style scoped>\n    .dataframe tbody tr th:only-of-type {\n        vertical-align: middle;\n    }\n\n    .dataframe tbody tr th {\n        vertical-align: top;\n    }\n\n    .dataframe thead th {\n        text-align: right;\n    }\n</style>\n<table border=\"1\" class=\"dataframe\">\n  <thead>\n    <tr style=\"text-align: right;\">\n      <th></th>\n      <th>OMRÅDE</th>\n      <th>UHELDA</th>\n      <th>TID</th>\n      <th>BYLAND</th>\n      <th>UHELDSIT</th>\n      <th>INDHOLD</th>\n    </tr>\n  </thead>\n  <tbody>\n    <tr>\n      <td>0</td>\n      <td>All Denmark</td>\n      <td>All accidents</td>\n      <td>2013</td>\n      <td>Inside urban area</td>\n      <td>One-vehicle accidents</td>\n      <td>205</td>\n    </tr>\n    <tr>\n      <td>1</td>\n      <td>Region Nordjylland</td>\n      <td>All accidents</td>\n      <td>2013</td>\n      <td>Inside urban area</td>\n      <td>One-vehicle accidents</td>\n      <td>30</td>\n    </tr>\n    <tr>\n      <td>2</td>\n      <td>Region Midtjylland</td>\n      <td>All accidents</td>\n      <td>2013</td>\n      <td>Inside urban area</td>\n      <td>One-vehicle accidents</td>\n      <td>46</td>\n    </tr>\n    <tr>\n      <td>3</td>\n      <td>Region Syddanmark</td>\n      <td>All accidents</td>\n      <td>2013</td>\n      <td>Inside urban area</td>\n      <td>One-vehicle accidents</td>\n      <td>56</td>\n    </tr>\n    <tr>\n      <td>4</td>\n      <td>Region Hovedstaden</td>\n      <td>All accidents</td>\n      <td>2013</td>\n      <td>Inside urban area</td>\n      <td>One-vehicle accidents</td>\n      <td>46</td>\n    </tr>\n    <tr>\n      <td>...</td>\n      <td>...</td>\n      <td>...</td>\n      <td>...</td>\n      <td>...</td>\n      <td>...</td>\n      <td>...</td>\n    </tr>\n    <tr>\n      <td>4785</td>\n      <td>Vesthimmerlands</td>\n      <td>Others accidents</td>\n      <td>2018</td>\n      <td>Inside urban area</td>\n      <td>One-vehicle accidents</td>\n      <td>1</td>\n    </tr>\n    <tr>\n      <td>4786</td>\n      <td>Mariagerfjord</td>\n      <td>Others accidents</td>\n      <td>2018</td>\n      <td>Inside urban area</td>\n      <td>One-vehicle accidents</td>\n      <td>1</td>\n    </tr>\n    <tr>\n      <td>4787</td>\n      <td>Jammerbugt</td>\n      <td>Others accidents</td>\n      <td>2018</td>\n      <td>Inside urban area</td>\n      <td>One-vehicle accidents</td>\n      <td>2</td>\n    </tr>\n    <tr>\n      <td>4788</td>\n      <td>Aalborg</td>\n      <td>Others accidents</td>\n      <td>2018</td>\n      <td>Inside urban area</td>\n      <td>One-vehicle accidents</td>\n      <td>6</td>\n    </tr>\n    <tr>\n      <td>4789</td>\n      <td>Hjørring</td>\n      <td>Others accidents</td>\n      <td>2018</td>\n      <td>Inside urban area</td>\n      <td>One-vehicle accidents</td>\n      <td>5</td>\n    </tr>\n  </tbody>\n</table>\n<p>4790 rows × 6 columns</p>\n</div>"
     },
     "metadata": {},
     "execution_count": 18
    }
   ],
   "source": [
    "uheld_1 = dst.get_data(table_id = 'UHELDK7', variables={'OMRÅDE':['*'], 'UHELDA':['*'], 'TID':['*']})\n",
    "uheld_1"
   ]
  },
  {
   "cell_type": "code",
   "execution_count": 19,
   "metadata": {},
   "outputs": [
    {
     "output_type": "execute_result",
     "data": {
      "text/plain": "            municipality            UHELDA  year  INDHOLD\n0            All Denmark     All accidents  2013      205\n1     Region Nordjylland     All accidents  2013       30\n2     Region Midtjylland     All accidents  2013       46\n3      Region Syddanmark     All accidents  2013       56\n4     Region Hovedstaden     All accidents  2013       46\n...                  ...               ...   ...      ...\n4785     Vesthimmerlands  Others accidents  2018        1\n4786       Mariagerfjord  Others accidents  2018        1\n4787          Jammerbugt  Others accidents  2018        2\n4788             Aalborg  Others accidents  2018        6\n4789            Hjørring  Others accidents  2018        5\n\n[4790 rows x 4 columns]",
      "text/html": "<div>\n<style scoped>\n    .dataframe tbody tr th:only-of-type {\n        vertical-align: middle;\n    }\n\n    .dataframe tbody tr th {\n        vertical-align: top;\n    }\n\n    .dataframe thead th {\n        text-align: right;\n    }\n</style>\n<table border=\"1\" class=\"dataframe\">\n  <thead>\n    <tr style=\"text-align: right;\">\n      <th></th>\n      <th>municipality</th>\n      <th>UHELDA</th>\n      <th>year</th>\n      <th>INDHOLD</th>\n    </tr>\n  </thead>\n  <tbody>\n    <tr>\n      <td>0</td>\n      <td>All Denmark</td>\n      <td>All accidents</td>\n      <td>2013</td>\n      <td>205</td>\n    </tr>\n    <tr>\n      <td>1</td>\n      <td>Region Nordjylland</td>\n      <td>All accidents</td>\n      <td>2013</td>\n      <td>30</td>\n    </tr>\n    <tr>\n      <td>2</td>\n      <td>Region Midtjylland</td>\n      <td>All accidents</td>\n      <td>2013</td>\n      <td>46</td>\n    </tr>\n    <tr>\n      <td>3</td>\n      <td>Region Syddanmark</td>\n      <td>All accidents</td>\n      <td>2013</td>\n      <td>56</td>\n    </tr>\n    <tr>\n      <td>4</td>\n      <td>Region Hovedstaden</td>\n      <td>All accidents</td>\n      <td>2013</td>\n      <td>46</td>\n    </tr>\n    <tr>\n      <td>...</td>\n      <td>...</td>\n      <td>...</td>\n      <td>...</td>\n      <td>...</td>\n    </tr>\n    <tr>\n      <td>4785</td>\n      <td>Vesthimmerlands</td>\n      <td>Others accidents</td>\n      <td>2018</td>\n      <td>1</td>\n    </tr>\n    <tr>\n      <td>4786</td>\n      <td>Mariagerfjord</td>\n      <td>Others accidents</td>\n      <td>2018</td>\n      <td>1</td>\n    </tr>\n    <tr>\n      <td>4787</td>\n      <td>Jammerbugt</td>\n      <td>Others accidents</td>\n      <td>2018</td>\n      <td>2</td>\n    </tr>\n    <tr>\n      <td>4788</td>\n      <td>Aalborg</td>\n      <td>Others accidents</td>\n      <td>2018</td>\n      <td>6</td>\n    </tr>\n    <tr>\n      <td>4789</td>\n      <td>Hjørring</td>\n      <td>Others accidents</td>\n      <td>2018</td>\n      <td>5</td>\n    </tr>\n  </tbody>\n</table>\n<p>4790 rows × 4 columns</p>\n</div>"
     },
     "metadata": {},
     "execution_count": 19
    }
   ],
   "source": [
    "del uheld_1['BYLAND']\n",
    "\n",
    "del uheld_1['UHELDSIT']\n",
    "\n",
    "uheld_1.rename(columns = {'OMRÅDE':'municipality', 'TID': 'year'}, inplace=True)\n",
    "uheld_1"
   ]
  },
  {
   "cell_type": "code",
   "execution_count": 21,
   "metadata": {},
   "outputs": [
    {
     "output_type": "execute_result",
     "data": {
      "text/plain": "         municipality            UHELDA  year  INDHOLD\n6          Copenhagen     All accidents  2013       17\n7            Ballerup     All accidents  2013        2\n8             Brøndby     All accidents  2013        1\n9              Dragør     All accidents  2013        1\n10           Glostrup     All accidents  2013        1\n...               ...               ...   ...      ...\n4785  Vesthimmerlands  Others accidents  2018        1\n4786    Mariagerfjord  Others accidents  2018        1\n4787       Jammerbugt  Others accidents  2018        2\n4788          Aalborg  Others accidents  2018        6\n4789         Hjørring  Others accidents  2018        5\n\n[4412 rows x 4 columns]",
      "text/html": "<div>\n<style scoped>\n    .dataframe tbody tr th:only-of-type {\n        vertical-align: middle;\n    }\n\n    .dataframe tbody tr th {\n        vertical-align: top;\n    }\n\n    .dataframe thead th {\n        text-align: right;\n    }\n</style>\n<table border=\"1\" class=\"dataframe\">\n  <thead>\n    <tr style=\"text-align: right;\">\n      <th></th>\n      <th>municipality</th>\n      <th>UHELDA</th>\n      <th>year</th>\n      <th>INDHOLD</th>\n    </tr>\n  </thead>\n  <tbody>\n    <tr>\n      <td>6</td>\n      <td>Copenhagen</td>\n      <td>All accidents</td>\n      <td>2013</td>\n      <td>17</td>\n    </tr>\n    <tr>\n      <td>7</td>\n      <td>Ballerup</td>\n      <td>All accidents</td>\n      <td>2013</td>\n      <td>2</td>\n    </tr>\n    <tr>\n      <td>8</td>\n      <td>Brøndby</td>\n      <td>All accidents</td>\n      <td>2013</td>\n      <td>1</td>\n    </tr>\n    <tr>\n      <td>9</td>\n      <td>Dragør</td>\n      <td>All accidents</td>\n      <td>2013</td>\n      <td>1</td>\n    </tr>\n    <tr>\n      <td>10</td>\n      <td>Glostrup</td>\n      <td>All accidents</td>\n      <td>2013</td>\n      <td>1</td>\n    </tr>\n    <tr>\n      <td>...</td>\n      <td>...</td>\n      <td>...</td>\n      <td>...</td>\n      <td>...</td>\n    </tr>\n    <tr>\n      <td>4785</td>\n      <td>Vesthimmerlands</td>\n      <td>Others accidents</td>\n      <td>2018</td>\n      <td>1</td>\n    </tr>\n    <tr>\n      <td>4786</td>\n      <td>Mariagerfjord</td>\n      <td>Others accidents</td>\n      <td>2018</td>\n      <td>1</td>\n    </tr>\n    <tr>\n      <td>4787</td>\n      <td>Jammerbugt</td>\n      <td>Others accidents</td>\n      <td>2018</td>\n      <td>2</td>\n    </tr>\n    <tr>\n      <td>4788</td>\n      <td>Aalborg</td>\n      <td>Others accidents</td>\n      <td>2018</td>\n      <td>6</td>\n    </tr>\n    <tr>\n      <td>4789</td>\n      <td>Hjørring</td>\n      <td>Others accidents</td>\n      <td>2018</td>\n      <td>5</td>\n    </tr>\n  </tbody>\n</table>\n<p>4412 rows × 4 columns</p>\n</div>"
     },
     "metadata": {},
     "execution_count": 21
    }
   ],
   "source": [
    "I  = uheld_1.municipality.str.contains('Region')\n",
    "uheld_1.loc[I, :]\n",
    "for val in ['Region', 'Province', 'All Denmark']: \n",
    "    I = uheld_1.municipality.str.contains(val)\n",
    "    uheld_1 = uheld_1.loc[I == False] # keep everything else\n",
    "\n",
    "uheld_1\n",
    ""
   ]
  },
  {
   "cell_type": "code",
   "execution_count": 27,
   "metadata": {},
   "outputs": [
    {
     "output_type": "execute_result",
     "data": {
      "text/plain": "         municipality         UHELDA  year  INDHOLD\n6          Copenhagen  All accidents  2013       17\n7            Ballerup  All accidents  2013        2\n8             Brøndby  All accidents  2013        1\n9              Dragør  All accidents  2013        1\n10           Glostrup  All accidents  2013        1\n...               ...            ...   ...      ...\n4684  Vesthimmerlands  All accidents  2018        1\n4685    Mariagerfjord  All accidents  2018        2\n4686       Jammerbugt  All accidents  2018        2\n4687          Aalborg  All accidents  2018       13\n4688         Hjørring  All accidents  2018        6\n\n[1692 rows x 4 columns]",
      "text/html": "<div>\n<style scoped>\n    .dataframe tbody tr th:only-of-type {\n        vertical-align: middle;\n    }\n\n    .dataframe tbody tr th {\n        vertical-align: top;\n    }\n\n    .dataframe thead th {\n        text-align: right;\n    }\n</style>\n<table border=\"1\" class=\"dataframe\">\n  <thead>\n    <tr style=\"text-align: right;\">\n      <th></th>\n      <th>municipality</th>\n      <th>UHELDA</th>\n      <th>year</th>\n      <th>INDHOLD</th>\n    </tr>\n  </thead>\n  <tbody>\n    <tr>\n      <td>6</td>\n      <td>Copenhagen</td>\n      <td>All accidents</td>\n      <td>2013</td>\n      <td>17</td>\n    </tr>\n    <tr>\n      <td>7</td>\n      <td>Ballerup</td>\n      <td>All accidents</td>\n      <td>2013</td>\n      <td>2</td>\n    </tr>\n    <tr>\n      <td>8</td>\n      <td>Brøndby</td>\n      <td>All accidents</td>\n      <td>2013</td>\n      <td>1</td>\n    </tr>\n    <tr>\n      <td>9</td>\n      <td>Dragør</td>\n      <td>All accidents</td>\n      <td>2013</td>\n      <td>1</td>\n    </tr>\n    <tr>\n      <td>10</td>\n      <td>Glostrup</td>\n      <td>All accidents</td>\n      <td>2013</td>\n      <td>1</td>\n    </tr>\n    <tr>\n      <td>...</td>\n      <td>...</td>\n      <td>...</td>\n      <td>...</td>\n      <td>...</td>\n    </tr>\n    <tr>\n      <td>4684</td>\n      <td>Vesthimmerlands</td>\n      <td>All accidents</td>\n      <td>2018</td>\n      <td>1</td>\n    </tr>\n    <tr>\n      <td>4685</td>\n      <td>Mariagerfjord</td>\n      <td>All accidents</td>\n      <td>2018</td>\n      <td>2</td>\n    </tr>\n    <tr>\n      <td>4686</td>\n      <td>Jammerbugt</td>\n      <td>All accidents</td>\n      <td>2018</td>\n      <td>2</td>\n    </tr>\n    <tr>\n      <td>4687</td>\n      <td>Aalborg</td>\n      <td>All accidents</td>\n      <td>2018</td>\n      <td>13</td>\n    </tr>\n    <tr>\n      <td>4688</td>\n      <td>Hjørring</td>\n      <td>All accidents</td>\n      <td>2018</td>\n      <td>6</td>\n    </tr>\n  </tbody>\n</table>\n<p>1692 rows × 4 columns</p>\n</div>"
     },
     "metadata": {},
     "execution_count": 27
    }
   ],
   "source": [
    "I  = uheld_1.UHELDA.str.contains('All accidents')\n",
    "for val in ['Other', 'involving']: \n",
    "    I = uheld_1.UHELDA.str.contains(val)\n",
    "    uheld_1 = uheld_1.loc[I == False] # keep everything else\n",
    "\n",
    "uheld_1"
   ]
  },
  {
   "cell_type": "code",
   "execution_count": 28,
   "metadata": {},
   "outputs": [
    {
     "output_type": "error",
     "ename": "NameError",
     "evalue": "name 'Aalborg' is not defined",
     "traceback": [
      "\u001b[1;31m---------------------------------------------------------------------------\u001b[0m",
      "\u001b[1;31mNameError\u001b[0m                                 Traceback (most recent call last)",
      "\u001b[1;32m<ipython-input-28-4f4617d30286>\u001b[0m in \u001b[0;36m<module>\u001b[1;34m\u001b[0m\n\u001b[1;32m----> 1\u001b[1;33m \u001b[0mAalborg\u001b[0m\u001b[1;33m\u001b[0m\u001b[1;33m\u001b[0m\u001b[0m\n\u001b[0m",
      "\u001b[1;31mNameError\u001b[0m: name 'Aalborg' is not defined"
     ]
    }
   ],
   "source": []
  },
  {
   "cell_type": "code",
   "execution_count": null,
   "metadata": {},
   "outputs": [],
   "source": []
  }
 ]
}