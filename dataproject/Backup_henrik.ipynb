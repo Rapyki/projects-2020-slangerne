{
 "nbformat": 4,
 "nbformat_minor": 2,
 "metadata": {
  "language_info": {
   "name": "python",
   "codemirror_mode": {
    "name": "ipython",
    "version": 3
   },
   "version": "3.7.4-final"
  },
  "orig_nbformat": 2,
  "file_extension": ".py",
  "mimetype": "text/x-python",
  "name": "python",
  "npconvert_exporter": "python",
  "pygments_lexer": "ipython3",
  "version": 3,
  "kernelspec": {
   "name": "python3",
   "display_name": "Python 3"
  }
 },
 "cells": [
  {
   "cell_type": "code",
   "execution_count": 1,
   "metadata": {},
   "outputs": [
    {
     "output_type": "execute_result",
     "data": {
      "text/plain": "       municipality  year  INDHOLD\n0              Køge  2011     73.7\n1              Køge  2012     73.3\n2              Køge  2013     73.1\n3              Køge  2014     74.1\n4           Rødovre  2011     73.6\n...             ...   ...      ...\n2542         Viborg  2018     76.0\n2544        Randers  2018     73.9\n2546    Brønderslev  2018     74.8\n2548      Silkeborg  2018     77.8\n2550  Frederikshavn  2018     73.1\n\n[1089 rows x 3 columns]",
      "text/html": "<div>\n<style scoped>\n    .dataframe tbody tr th:only-of-type {\n        vertical-align: middle;\n    }\n\n    .dataframe tbody tr th {\n        vertical-align: top;\n    }\n\n    .dataframe thead th {\n        text-align: right;\n    }\n</style>\n<table border=\"1\" class=\"dataframe\">\n  <thead>\n    <tr style=\"text-align: right;\">\n      <th></th>\n      <th>municipality</th>\n      <th>year</th>\n      <th>INDHOLD</th>\n    </tr>\n  </thead>\n  <tbody>\n    <tr>\n      <td>0</td>\n      <td>Køge</td>\n      <td>2011</td>\n      <td>73.7</td>\n    </tr>\n    <tr>\n      <td>1</td>\n      <td>Køge</td>\n      <td>2012</td>\n      <td>73.3</td>\n    </tr>\n    <tr>\n      <td>2</td>\n      <td>Køge</td>\n      <td>2013</td>\n      <td>73.1</td>\n    </tr>\n    <tr>\n      <td>3</td>\n      <td>Køge</td>\n      <td>2014</td>\n      <td>74.1</td>\n    </tr>\n    <tr>\n      <td>4</td>\n      <td>Rødovre</td>\n      <td>2011</td>\n      <td>73.6</td>\n    </tr>\n    <tr>\n      <td>...</td>\n      <td>...</td>\n      <td>...</td>\n      <td>...</td>\n    </tr>\n    <tr>\n      <td>2542</td>\n      <td>Viborg</td>\n      <td>2018</td>\n      <td>76.0</td>\n    </tr>\n    <tr>\n      <td>2544</td>\n      <td>Randers</td>\n      <td>2018</td>\n      <td>73.9</td>\n    </tr>\n    <tr>\n      <td>2546</td>\n      <td>Brønderslev</td>\n      <td>2018</td>\n      <td>74.8</td>\n    </tr>\n    <tr>\n      <td>2548</td>\n      <td>Silkeborg</td>\n      <td>2018</td>\n      <td>77.8</td>\n    </tr>\n    <tr>\n      <td>2550</td>\n      <td>Frederikshavn</td>\n      <td>2018</td>\n      <td>73.1</td>\n    </tr>\n  </tbody>\n</table>\n<p>1089 rows × 3 columns</p>\n</div>"
     },
     "metadata": {},
     "execution_count": 1
    }
   ],
   "source": [
    "import numpy as np\n",
    "import matplotlib.pyplot as plt\n",
    "plt.style.use('seaborn')\n",
    "import pandas as pd\n",
    "import pydst\n",
    "dst = pydst.Dst(lang='en')\n",
    "\n",
    "#In this dataproject we will look analyse the employment rate in the danish \n",
    "\n",
    "In our dataproject we look at GDP per capita and population in the major regions of the world in the period 1970-2015. We look at the growth rates that the regions have experinced in the period, and do our best to explain why we see the patterns that exist. We start out showing the development of GDP per capita and population in levels, then move on to show the relative development and finally we show 5-year growth rates.\n",
    "\n",
    "dst.get_subjects()\n",
    "dst.get_tables(subjects=['14']).sample(10)\n",
    "dst.get_data(table_id = 'RAS200').head(10)\n",
    "\n",
    "indk_vars = dst.get_variables(table_id='RAS200')\n",
    "indk_vars\n",
    "\n",
    "indk_vars['values'][0][:10]\n",
    "\n",
    "inc_api = dst.get_data(table_id = 'RAS200', variables={'OMRÅDE':['*'], 'BEREGNING':['*'], 'TID':['*']})\n",
    "inc_api\n",
    "\n",
    "del inc_api['ALDER']\n",
    "\n",
    "inc_api\n",
    "\n",
    "del inc_api['HERKOMST']\n",
    "\n",
    "del inc_api['KØN']\n",
    "\n",
    "inc_api.rename(columns = {'OMRÅDE':'municipality'}, inplace=True)\n",
    "inc_api\n",
    "\n",
    "\n",
    "myDict = {}\n",
    "for i in range(2005, 2019): # range goes from 2008 to but not including 2017\n",
    "    myDict[str(i)] = f'e{i}' \n",
    "myDict\n",
    "\n",
    "inc_api.rename(columns = myDict, inplace=True)\n",
    "inc_api.head(10)\n",
    "\n",
    "I  = inc_api.municipality.str.contains('Region')\n",
    "inc_api.loc[I, :]\n",
    "for val in ['Region', 'Province', 'All Denmark']: \n",
    "    I = inc_api.municipality.str.contains(val)\n",
    "    inc_api = inc_api.loc[I == False] # keep everything else\n",
    "    \n",
    "inc_api.rename(columns = {'TID':'year'}, inplace=True)\n",
    "inc_api \n",
    "\n",
    "I  = inc_api.BEREGNING.str.contains('Region')\n",
    "\n",
    "for val in ['Economic activity rate']: \n",
    "    I = inc_api.BEREGNING.str.contains(val)\n",
    "    inc_api = inc_api.loc[I == False] # keep everything else\n",
    "\n",
    "del inc_api['BEREGNING']    \n",
    "    \n",
    "inc_api"
   ]
  },
  {
   "cell_type": "code",
   "execution_count": 2,
   "metadata": {},
   "outputs": [
    {
     "output_type": "execute_result",
     "data": {
      "text/plain": "  municipality  year  INDHOLD\n0         Køge  2011     73.7\n1         Køge  2012     73.3\n2         Køge  2013     73.1\n3         Køge  2014     74.1\n4      Rødovre  2011     73.6\n5      Rødovre  2012     73.0\n6      Rødovre  2013     73.2\n7      Rødovre  2014     73.5\n8       Dragør  2011     78.5\n9       Dragør  2012     78.7",
      "text/html": "<div>\n<style scoped>\n    .dataframe tbody tr th:only-of-type {\n        vertical-align: middle;\n    }\n\n    .dataframe tbody tr th {\n        vertical-align: top;\n    }\n\n    .dataframe thead th {\n        text-align: right;\n    }\n</style>\n<table border=\"1\" class=\"dataframe\">\n  <thead>\n    <tr style=\"text-align: right;\">\n      <th></th>\n      <th>municipality</th>\n      <th>year</th>\n      <th>INDHOLD</th>\n    </tr>\n  </thead>\n  <tbody>\n    <tr>\n      <td>0</td>\n      <td>Køge</td>\n      <td>2011</td>\n      <td>73.7</td>\n    </tr>\n    <tr>\n      <td>1</td>\n      <td>Køge</td>\n      <td>2012</td>\n      <td>73.3</td>\n    </tr>\n    <tr>\n      <td>2</td>\n      <td>Køge</td>\n      <td>2013</td>\n      <td>73.1</td>\n    </tr>\n    <tr>\n      <td>3</td>\n      <td>Køge</td>\n      <td>2014</td>\n      <td>74.1</td>\n    </tr>\n    <tr>\n      <td>4</td>\n      <td>Rødovre</td>\n      <td>2011</td>\n      <td>73.6</td>\n    </tr>\n    <tr>\n      <td>5</td>\n      <td>Rødovre</td>\n      <td>2012</td>\n      <td>73.0</td>\n    </tr>\n    <tr>\n      <td>6</td>\n      <td>Rødovre</td>\n      <td>2013</td>\n      <td>73.2</td>\n    </tr>\n    <tr>\n      <td>7</td>\n      <td>Rødovre</td>\n      <td>2014</td>\n      <td>73.5</td>\n    </tr>\n    <tr>\n      <td>8</td>\n      <td>Dragør</td>\n      <td>2011</td>\n      <td>78.5</td>\n    </tr>\n    <tr>\n      <td>9</td>\n      <td>Dragør</td>\n      <td>2012</td>\n      <td>78.7</td>\n    </tr>\n  </tbody>\n</table>\n</div>"
     },
     "metadata": {},
     "execution_count": 2
    }
   ],
   "source": [
    "inc_api.pivot(index='municipality', columns='year', values='INDHOLD')\n",
    "inc_api.head(10)\n",
    "#inc_api.pivot skulle gerne bytte om, så year kommer øverst. Dette virker i jupyter lab - kan ikke se hvorfor det ikke virker her."
   ]
  },
  {
   "cell_type": "code",
   "execution_count": 3,
   "metadata": {},
   "outputs": [
    {
     "output_type": "execute_result",
     "data": {
      "text/plain": "     municipality  year  INDHOLD\n1351     Aabenraa  2008     74.6\n1352     Aabenraa  2009     71.6\n1353     Aabenraa  2010     70.9\n570      Aabenraa  2011     70.2\n571      Aabenraa  2012     69.5\n...           ...   ...      ...\n222           Ærø  2014     65.1\n1811          Ærø  2015     65.8\n1894          Ærø  2016     67.0\n2294          Ærø  2017     68.1\n2408          Ærø  2018     70.1\n\n[1089 rows x 3 columns]",
      "text/html": "<div>\n<style scoped>\n    .dataframe tbody tr th:only-of-type {\n        vertical-align: middle;\n    }\n\n    .dataframe tbody tr th {\n        vertical-align: top;\n    }\n\n    .dataframe thead th {\n        text-align: right;\n    }\n</style>\n<table border=\"1\" class=\"dataframe\">\n  <thead>\n    <tr style=\"text-align: right;\">\n      <th></th>\n      <th>municipality</th>\n      <th>year</th>\n      <th>INDHOLD</th>\n    </tr>\n  </thead>\n  <tbody>\n    <tr>\n      <td>1351</td>\n      <td>Aabenraa</td>\n      <td>2008</td>\n      <td>74.6</td>\n    </tr>\n    <tr>\n      <td>1352</td>\n      <td>Aabenraa</td>\n      <td>2009</td>\n      <td>71.6</td>\n    </tr>\n    <tr>\n      <td>1353</td>\n      <td>Aabenraa</td>\n      <td>2010</td>\n      <td>70.9</td>\n    </tr>\n    <tr>\n      <td>570</td>\n      <td>Aabenraa</td>\n      <td>2011</td>\n      <td>70.2</td>\n    </tr>\n    <tr>\n      <td>571</td>\n      <td>Aabenraa</td>\n      <td>2012</td>\n      <td>69.5</td>\n    </tr>\n    <tr>\n      <td>...</td>\n      <td>...</td>\n      <td>...</td>\n      <td>...</td>\n    </tr>\n    <tr>\n      <td>222</td>\n      <td>Ærø</td>\n      <td>2014</td>\n      <td>65.1</td>\n    </tr>\n    <tr>\n      <td>1811</td>\n      <td>Ærø</td>\n      <td>2015</td>\n      <td>65.8</td>\n    </tr>\n    <tr>\n      <td>1894</td>\n      <td>Ærø</td>\n      <td>2016</td>\n      <td>67.0</td>\n    </tr>\n    <tr>\n      <td>2294</td>\n      <td>Ærø</td>\n      <td>2017</td>\n      <td>68.1</td>\n    </tr>\n    <tr>\n      <td>2408</td>\n      <td>Ærø</td>\n      <td>2018</td>\n      <td>70.1</td>\n    </tr>\n  </tbody>\n</table>\n<p>1089 rows × 3 columns</p>\n</div>"
     },
     "metadata": {},
     "execution_count": 3
    }
   ],
   "source": [
    "inc_api_1 = inc_api.sort_values(['municipality','year']) # sort by first municipality then year\n",
    "inc_api_1"
   ]
  },
  {
   "cell_type": "code",
   "execution_count": 4,
   "metadata": {},
   "outputs": [
    {
     "output_type": "execute_result",
     "data": {
      "text/plain": "     municipality  year  Employment rate\n1351     Aabenraa  2008             74.6\n1352     Aabenraa  2009             71.6\n1353     Aabenraa  2010             70.9\n570      Aabenraa  2011             70.2\n571      Aabenraa  2012             69.5\n...           ...   ...              ...\n222           Ærø  2014             65.1\n1811          Ærø  2015             65.8\n1894          Ærø  2016             67.0\n2294          Ærø  2017             68.1\n2408          Ærø  2018             70.1\n\n[1089 rows x 3 columns]",
      "text/html": "<div>\n<style scoped>\n    .dataframe tbody tr th:only-of-type {\n        vertical-align: middle;\n    }\n\n    .dataframe tbody tr th {\n        vertical-align: top;\n    }\n\n    .dataframe thead th {\n        text-align: right;\n    }\n</style>\n<table border=\"1\" class=\"dataframe\">\n  <thead>\n    <tr style=\"text-align: right;\">\n      <th></th>\n      <th>municipality</th>\n      <th>year</th>\n      <th>Employment rate</th>\n    </tr>\n  </thead>\n  <tbody>\n    <tr>\n      <td>1351</td>\n      <td>Aabenraa</td>\n      <td>2008</td>\n      <td>74.6</td>\n    </tr>\n    <tr>\n      <td>1352</td>\n      <td>Aabenraa</td>\n      <td>2009</td>\n      <td>71.6</td>\n    </tr>\n    <tr>\n      <td>1353</td>\n      <td>Aabenraa</td>\n      <td>2010</td>\n      <td>70.9</td>\n    </tr>\n    <tr>\n      <td>570</td>\n      <td>Aabenraa</td>\n      <td>2011</td>\n      <td>70.2</td>\n    </tr>\n    <tr>\n      <td>571</td>\n      <td>Aabenraa</td>\n      <td>2012</td>\n      <td>69.5</td>\n    </tr>\n    <tr>\n      <td>...</td>\n      <td>...</td>\n      <td>...</td>\n      <td>...</td>\n    </tr>\n    <tr>\n      <td>222</td>\n      <td>Ærø</td>\n      <td>2014</td>\n      <td>65.1</td>\n    </tr>\n    <tr>\n      <td>1811</td>\n      <td>Ærø</td>\n      <td>2015</td>\n      <td>65.8</td>\n    </tr>\n    <tr>\n      <td>1894</td>\n      <td>Ærø</td>\n      <td>2016</td>\n      <td>67.0</td>\n    </tr>\n    <tr>\n      <td>2294</td>\n      <td>Ærø</td>\n      <td>2017</td>\n      <td>68.1</td>\n    </tr>\n    <tr>\n      <td>2408</td>\n      <td>Ærø</td>\n      <td>2018</td>\n      <td>70.1</td>\n    </tr>\n  </tbody>\n</table>\n<p>1089 rows × 3 columns</p>\n</div>"
     },
     "metadata": {},
     "execution_count": 4
    }
   ],
   "source": [
    "inc_api_1.rename(columns = {'INDHOLD':'Employment rate'}, inplace=True)\n",
    "inc_api_1"
   ]
  },
  {
   "cell_type": "code",
   "execution_count": 5,
   "metadata": {},
   "outputs": [
    {
     "output_type": "execute_result",
     "data": {
      "text/plain": "         id                text  elimination   time  \\\n0    UHELDA    type of accident         True  False   \n1    OMRÅDE              region         True  False   \n2    BYLAND          urban area         True  False   \n3  UHELDSIT  accident situation         True  False   \n4       Tid                time        False   True   \n\n                                              values                      map  \n0  [{'id': '0000', 'text': 'All accidents'}, {'id...                      NaN  \n1  [{'id': '000', 'text': 'All Denmark'}, {'id': ...  denmark_municipality_07  \n2  [{'id': '001', 'text': 'Inside urban area'}, {...                      NaN  \n3  [{'id': '000', 'text': 'One-vehicle accidents'...                      NaN  \n4  [{'id': '1998', 'text': '1998'}, {'id': '1999'...                      NaN  ",
      "text/html": "<div>\n<style scoped>\n    .dataframe tbody tr th:only-of-type {\n        vertical-align: middle;\n    }\n\n    .dataframe tbody tr th {\n        vertical-align: top;\n    }\n\n    .dataframe thead th {\n        text-align: right;\n    }\n</style>\n<table border=\"1\" class=\"dataframe\">\n  <thead>\n    <tr style=\"text-align: right;\">\n      <th></th>\n      <th>id</th>\n      <th>text</th>\n      <th>elimination</th>\n      <th>time</th>\n      <th>values</th>\n      <th>map</th>\n    </tr>\n  </thead>\n  <tbody>\n    <tr>\n      <td>0</td>\n      <td>UHELDA</td>\n      <td>type of accident</td>\n      <td>True</td>\n      <td>False</td>\n      <td>[{'id': '0000', 'text': 'All accidents'}, {'id...</td>\n      <td>NaN</td>\n    </tr>\n    <tr>\n      <td>1</td>\n      <td>OMRÅDE</td>\n      <td>region</td>\n      <td>True</td>\n      <td>False</td>\n      <td>[{'id': '000', 'text': 'All Denmark'}, {'id': ...</td>\n      <td>denmark_municipality_07</td>\n    </tr>\n    <tr>\n      <td>2</td>\n      <td>BYLAND</td>\n      <td>urban area</td>\n      <td>True</td>\n      <td>False</td>\n      <td>[{'id': '001', 'text': 'Inside urban area'}, {...</td>\n      <td>NaN</td>\n    </tr>\n    <tr>\n      <td>3</td>\n      <td>UHELDSIT</td>\n      <td>accident situation</td>\n      <td>True</td>\n      <td>False</td>\n      <td>[{'id': '000', 'text': 'One-vehicle accidents'...</td>\n      <td>NaN</td>\n    </tr>\n    <tr>\n      <td>4</td>\n      <td>Tid</td>\n      <td>time</td>\n      <td>False</td>\n      <td>True</td>\n      <td>[{'id': '1998', 'text': '1998'}, {'id': '1999'...</td>\n      <td>NaN</td>\n    </tr>\n  </tbody>\n</table>\n</div>"
     },
     "metadata": {},
     "execution_count": 5
    }
   ],
   "source": [
    "\n",
    "dst.get_subjects()\n",
    "dst.get_tables(subjects=['14']).sample(10)\n",
    "dst.get_data(table_id = 'UHELDK7').head(10)\n",
    "\n",
    "uheld_vars = dst.get_variables(table_id='UHELDK7')\n",
    "uheld_vars"
   ]
  },
  {
   "cell_type": "code",
   "execution_count": 6,
   "metadata": {},
   "outputs": [
    {
     "output_type": "execute_result",
     "data": {
      "text/plain": "[{'id': '0000', 'text': 'All accidents'},\n {'id': '1000', 'text': 'Accidents involving persons influenced by alcohol'},\n {'id': '2000', 'text': 'Others accidents'}]"
     },
     "metadata": {},
     "execution_count": 6
    }
   ],
   "source": [
    "uheld_vars['values'][0][:10]"
   ]
  },
  {
   "cell_type": "code",
   "execution_count": 7,
   "metadata": {},
   "outputs": [
    {
     "output_type": "execute_result",
     "data": {
      "text/plain": "                  OMRÅDE            UHELDA   TID             BYLAND  \\\n0            All Denmark     All accidents  2013  Inside urban area   \n1     Region Nordjylland     All accidents  2013  Inside urban area   \n2     Region Midtjylland     All accidents  2013  Inside urban area   \n3      Region Syddanmark     All accidents  2013  Inside urban area   \n4     Region Hovedstaden     All accidents  2013  Inside urban area   \n...                  ...               ...   ...                ...   \n4785     Vesthimmerlands  Others accidents  2018  Inside urban area   \n4786       Mariagerfjord  Others accidents  2018  Inside urban area   \n4787          Jammerbugt  Others accidents  2018  Inside urban area   \n4788             Aalborg  Others accidents  2018  Inside urban area   \n4789            Hjørring  Others accidents  2018  Inside urban area   \n\n                   UHELDSIT  INDHOLD  \n0     One-vehicle accidents      205  \n1     One-vehicle accidents       30  \n2     One-vehicle accidents       46  \n3     One-vehicle accidents       56  \n4     One-vehicle accidents       46  \n...                     ...      ...  \n4785  One-vehicle accidents        1  \n4786  One-vehicle accidents        1  \n4787  One-vehicle accidents        2  \n4788  One-vehicle accidents        6  \n4789  One-vehicle accidents        5  \n\n[4790 rows x 6 columns]",
      "text/html": "<div>\n<style scoped>\n    .dataframe tbody tr th:only-of-type {\n        vertical-align: middle;\n    }\n\n    .dataframe tbody tr th {\n        vertical-align: top;\n    }\n\n    .dataframe thead th {\n        text-align: right;\n    }\n</style>\n<table border=\"1\" class=\"dataframe\">\n  <thead>\n    <tr style=\"text-align: right;\">\n      <th></th>\n      <th>OMRÅDE</th>\n      <th>UHELDA</th>\n      <th>TID</th>\n      <th>BYLAND</th>\n      <th>UHELDSIT</th>\n      <th>INDHOLD</th>\n    </tr>\n  </thead>\n  <tbody>\n    <tr>\n      <td>0</td>\n      <td>All Denmark</td>\n      <td>All accidents</td>\n      <td>2013</td>\n      <td>Inside urban area</td>\n      <td>One-vehicle accidents</td>\n      <td>205</td>\n    </tr>\n    <tr>\n      <td>1</td>\n      <td>Region Nordjylland</td>\n      <td>All accidents</td>\n      <td>2013</td>\n      <td>Inside urban area</td>\n      <td>One-vehicle accidents</td>\n      <td>30</td>\n    </tr>\n    <tr>\n      <td>2</td>\n      <td>Region Midtjylland</td>\n      <td>All accidents</td>\n      <td>2013</td>\n      <td>Inside urban area</td>\n      <td>One-vehicle accidents</td>\n      <td>46</td>\n    </tr>\n    <tr>\n      <td>3</td>\n      <td>Region Syddanmark</td>\n      <td>All accidents</td>\n      <td>2013</td>\n      <td>Inside urban area</td>\n      <td>One-vehicle accidents</td>\n      <td>56</td>\n    </tr>\n    <tr>\n      <td>4</td>\n      <td>Region Hovedstaden</td>\n      <td>All accidents</td>\n      <td>2013</td>\n      <td>Inside urban area</td>\n      <td>One-vehicle accidents</td>\n      <td>46</td>\n    </tr>\n    <tr>\n      <td>...</td>\n      <td>...</td>\n      <td>...</td>\n      <td>...</td>\n      <td>...</td>\n      <td>...</td>\n      <td>...</td>\n    </tr>\n    <tr>\n      <td>4785</td>\n      <td>Vesthimmerlands</td>\n      <td>Others accidents</td>\n      <td>2018</td>\n      <td>Inside urban area</td>\n      <td>One-vehicle accidents</td>\n      <td>1</td>\n    </tr>\n    <tr>\n      <td>4786</td>\n      <td>Mariagerfjord</td>\n      <td>Others accidents</td>\n      <td>2018</td>\n      <td>Inside urban area</td>\n      <td>One-vehicle accidents</td>\n      <td>1</td>\n    </tr>\n    <tr>\n      <td>4787</td>\n      <td>Jammerbugt</td>\n      <td>Others accidents</td>\n      <td>2018</td>\n      <td>Inside urban area</td>\n      <td>One-vehicle accidents</td>\n      <td>2</td>\n    </tr>\n    <tr>\n      <td>4788</td>\n      <td>Aalborg</td>\n      <td>Others accidents</td>\n      <td>2018</td>\n      <td>Inside urban area</td>\n      <td>One-vehicle accidents</td>\n      <td>6</td>\n    </tr>\n    <tr>\n      <td>4789</td>\n      <td>Hjørring</td>\n      <td>Others accidents</td>\n      <td>2018</td>\n      <td>Inside urban area</td>\n      <td>One-vehicle accidents</td>\n      <td>5</td>\n    </tr>\n  </tbody>\n</table>\n<p>4790 rows × 6 columns</p>\n</div>"
     },
     "metadata": {},
     "execution_count": 7
    }
   ],
   "source": [
    "uheld_1 = dst.get_data(table_id = 'UHELDK7', variables={'OMRÅDE':['*'], 'UHELDA':['*'], 'TID':['*']})\n",
    "uheld_1"
   ]
  },
  {
   "cell_type": "code",
   "execution_count": 8,
   "metadata": {},
   "outputs": [
    {
     "output_type": "execute_result",
     "data": {
      "text/plain": "            municipality            UHELDA  year  INDHOLD\n0            All Denmark     All accidents  2013      205\n1     Region Nordjylland     All accidents  2013       30\n2     Region Midtjylland     All accidents  2013       46\n3      Region Syddanmark     All accidents  2013       56\n4     Region Hovedstaden     All accidents  2013       46\n...                  ...               ...   ...      ...\n4785     Vesthimmerlands  Others accidents  2018        1\n4786       Mariagerfjord  Others accidents  2018        1\n4787          Jammerbugt  Others accidents  2018        2\n4788             Aalborg  Others accidents  2018        6\n4789            Hjørring  Others accidents  2018        5\n\n[4790 rows x 4 columns]",
      "text/html": "<div>\n<style scoped>\n    .dataframe tbody tr th:only-of-type {\n        vertical-align: middle;\n    }\n\n    .dataframe tbody tr th {\n        vertical-align: top;\n    }\n\n    .dataframe thead th {\n        text-align: right;\n    }\n</style>\n<table border=\"1\" class=\"dataframe\">\n  <thead>\n    <tr style=\"text-align: right;\">\n      <th></th>\n      <th>municipality</th>\n      <th>UHELDA</th>\n      <th>year</th>\n      <th>INDHOLD</th>\n    </tr>\n  </thead>\n  <tbody>\n    <tr>\n      <td>0</td>\n      <td>All Denmark</td>\n      <td>All accidents</td>\n      <td>2013</td>\n      <td>205</td>\n    </tr>\n    <tr>\n      <td>1</td>\n      <td>Region Nordjylland</td>\n      <td>All accidents</td>\n      <td>2013</td>\n      <td>30</td>\n    </tr>\n    <tr>\n      <td>2</td>\n      <td>Region Midtjylland</td>\n      <td>All accidents</td>\n      <td>2013</td>\n      <td>46</td>\n    </tr>\n    <tr>\n      <td>3</td>\n      <td>Region Syddanmark</td>\n      <td>All accidents</td>\n      <td>2013</td>\n      <td>56</td>\n    </tr>\n    <tr>\n      <td>4</td>\n      <td>Region Hovedstaden</td>\n      <td>All accidents</td>\n      <td>2013</td>\n      <td>46</td>\n    </tr>\n    <tr>\n      <td>...</td>\n      <td>...</td>\n      <td>...</td>\n      <td>...</td>\n      <td>...</td>\n    </tr>\n    <tr>\n      <td>4785</td>\n      <td>Vesthimmerlands</td>\n      <td>Others accidents</td>\n      <td>2018</td>\n      <td>1</td>\n    </tr>\n    <tr>\n      <td>4786</td>\n      <td>Mariagerfjord</td>\n      <td>Others accidents</td>\n      <td>2018</td>\n      <td>1</td>\n    </tr>\n    <tr>\n      <td>4787</td>\n      <td>Jammerbugt</td>\n      <td>Others accidents</td>\n      <td>2018</td>\n      <td>2</td>\n    </tr>\n    <tr>\n      <td>4788</td>\n      <td>Aalborg</td>\n      <td>Others accidents</td>\n      <td>2018</td>\n      <td>6</td>\n    </tr>\n    <tr>\n      <td>4789</td>\n      <td>Hjørring</td>\n      <td>Others accidents</td>\n      <td>2018</td>\n      <td>5</td>\n    </tr>\n  </tbody>\n</table>\n<p>4790 rows × 4 columns</p>\n</div>"
     },
     "metadata": {},
     "execution_count": 8
    }
   ],
   "source": [
    "del uheld_1['BYLAND']\n",
    "\n",
    "del uheld_1['UHELDSIT']\n",
    "\n",
    "uheld_1.rename(columns = {'OMRÅDE':'municipality', 'TID': 'year'}, inplace=True)\n",
    "uheld_1"
   ]
  },
  {
   "cell_type": "code",
   "execution_count": 9,
   "metadata": {},
   "outputs": [
    {
     "output_type": "execute_result",
     "data": {
      "text/plain": "         municipality            UHELDA  year  INDHOLD\n6          Copenhagen     All accidents  2013       17\n7            Ballerup     All accidents  2013        2\n8             Brøndby     All accidents  2013        1\n9              Dragør     All accidents  2013        1\n10           Glostrup     All accidents  2013        1\n...               ...               ...   ...      ...\n4785  Vesthimmerlands  Others accidents  2018        1\n4786    Mariagerfjord  Others accidents  2018        1\n4787       Jammerbugt  Others accidents  2018        2\n4788          Aalborg  Others accidents  2018        6\n4789         Hjørring  Others accidents  2018        5\n\n[4412 rows x 4 columns]",
      "text/html": "<div>\n<style scoped>\n    .dataframe tbody tr th:only-of-type {\n        vertical-align: middle;\n    }\n\n    .dataframe tbody tr th {\n        vertical-align: top;\n    }\n\n    .dataframe thead th {\n        text-align: right;\n    }\n</style>\n<table border=\"1\" class=\"dataframe\">\n  <thead>\n    <tr style=\"text-align: right;\">\n      <th></th>\n      <th>municipality</th>\n      <th>UHELDA</th>\n      <th>year</th>\n      <th>INDHOLD</th>\n    </tr>\n  </thead>\n  <tbody>\n    <tr>\n      <td>6</td>\n      <td>Copenhagen</td>\n      <td>All accidents</td>\n      <td>2013</td>\n      <td>17</td>\n    </tr>\n    <tr>\n      <td>7</td>\n      <td>Ballerup</td>\n      <td>All accidents</td>\n      <td>2013</td>\n      <td>2</td>\n    </tr>\n    <tr>\n      <td>8</td>\n      <td>Brøndby</td>\n      <td>All accidents</td>\n      <td>2013</td>\n      <td>1</td>\n    </tr>\n    <tr>\n      <td>9</td>\n      <td>Dragør</td>\n      <td>All accidents</td>\n      <td>2013</td>\n      <td>1</td>\n    </tr>\n    <tr>\n      <td>10</td>\n      <td>Glostrup</td>\n      <td>All accidents</td>\n      <td>2013</td>\n      <td>1</td>\n    </tr>\n    <tr>\n      <td>...</td>\n      <td>...</td>\n      <td>...</td>\n      <td>...</td>\n      <td>...</td>\n    </tr>\n    <tr>\n      <td>4785</td>\n      <td>Vesthimmerlands</td>\n      <td>Others accidents</td>\n      <td>2018</td>\n      <td>1</td>\n    </tr>\n    <tr>\n      <td>4786</td>\n      <td>Mariagerfjord</td>\n      <td>Others accidents</td>\n      <td>2018</td>\n      <td>1</td>\n    </tr>\n    <tr>\n      <td>4787</td>\n      <td>Jammerbugt</td>\n      <td>Others accidents</td>\n      <td>2018</td>\n      <td>2</td>\n    </tr>\n    <tr>\n      <td>4788</td>\n      <td>Aalborg</td>\n      <td>Others accidents</td>\n      <td>2018</td>\n      <td>6</td>\n    </tr>\n    <tr>\n      <td>4789</td>\n      <td>Hjørring</td>\n      <td>Others accidents</td>\n      <td>2018</td>\n      <td>5</td>\n    </tr>\n  </tbody>\n</table>\n<p>4412 rows × 4 columns</p>\n</div>"
     },
     "metadata": {},
     "execution_count": 9
    }
   ],
   "source": [
    "I  = uheld_1.municipality.str.contains('Region')\n",
    "uheld_1.loc[I, :]\n",
    "for val in ['Region', 'Province', 'All Denmark']: \n",
    "    I = uheld_1.municipality.str.contains(val)\n",
    "    uheld_1 = uheld_1.loc[I == False] # keep everything else\n",
    "\n",
    "uheld_1"
   ]
  },
  {
   "cell_type": "code",
   "execution_count": 10,
   "metadata": {},
   "outputs": [
    {
     "output_type": "execute_result",
     "data": {
      "text/plain": "         municipality         UHELDA  year  INDHOLD\n6          Copenhagen  All accidents  2013       17\n7            Ballerup  All accidents  2013        2\n8             Brøndby  All accidents  2013        1\n9              Dragør  All accidents  2013        1\n10           Glostrup  All accidents  2013        1\n...               ...            ...   ...      ...\n4684  Vesthimmerlands  All accidents  2018        1\n4685    Mariagerfjord  All accidents  2018        2\n4686       Jammerbugt  All accidents  2018        2\n4687          Aalborg  All accidents  2018       13\n4688         Hjørring  All accidents  2018        6\n\n[1692 rows x 4 columns]",
      "text/html": "<div>\n<style scoped>\n    .dataframe tbody tr th:only-of-type {\n        vertical-align: middle;\n    }\n\n    .dataframe tbody tr th {\n        vertical-align: top;\n    }\n\n    .dataframe thead th {\n        text-align: right;\n    }\n</style>\n<table border=\"1\" class=\"dataframe\">\n  <thead>\n    <tr style=\"text-align: right;\">\n      <th></th>\n      <th>municipality</th>\n      <th>UHELDA</th>\n      <th>year</th>\n      <th>INDHOLD</th>\n    </tr>\n  </thead>\n  <tbody>\n    <tr>\n      <td>6</td>\n      <td>Copenhagen</td>\n      <td>All accidents</td>\n      <td>2013</td>\n      <td>17</td>\n    </tr>\n    <tr>\n      <td>7</td>\n      <td>Ballerup</td>\n      <td>All accidents</td>\n      <td>2013</td>\n      <td>2</td>\n    </tr>\n    <tr>\n      <td>8</td>\n      <td>Brøndby</td>\n      <td>All accidents</td>\n      <td>2013</td>\n      <td>1</td>\n    </tr>\n    <tr>\n      <td>9</td>\n      <td>Dragør</td>\n      <td>All accidents</td>\n      <td>2013</td>\n      <td>1</td>\n    </tr>\n    <tr>\n      <td>10</td>\n      <td>Glostrup</td>\n      <td>All accidents</td>\n      <td>2013</td>\n      <td>1</td>\n    </tr>\n    <tr>\n      <td>...</td>\n      <td>...</td>\n      <td>...</td>\n      <td>...</td>\n      <td>...</td>\n    </tr>\n    <tr>\n      <td>4684</td>\n      <td>Vesthimmerlands</td>\n      <td>All accidents</td>\n      <td>2018</td>\n      <td>1</td>\n    </tr>\n    <tr>\n      <td>4685</td>\n      <td>Mariagerfjord</td>\n      <td>All accidents</td>\n      <td>2018</td>\n      <td>2</td>\n    </tr>\n    <tr>\n      <td>4686</td>\n      <td>Jammerbugt</td>\n      <td>All accidents</td>\n      <td>2018</td>\n      <td>2</td>\n    </tr>\n    <tr>\n      <td>4687</td>\n      <td>Aalborg</td>\n      <td>All accidents</td>\n      <td>2018</td>\n      <td>13</td>\n    </tr>\n    <tr>\n      <td>4688</td>\n      <td>Hjørring</td>\n      <td>All accidents</td>\n      <td>2018</td>\n      <td>6</td>\n    </tr>\n  </tbody>\n</table>\n<p>1692 rows × 4 columns</p>\n</div>"
     },
     "metadata": {},
     "execution_count": 10
    }
   ],
   "source": [
    "I  = uheld_1.UHELDA.str.contains('All accidents')\n",
    "for val in ['Other', 'involving']: \n",
    "    I = uheld_1.UHELDA.str.contains(val)\n",
    "    uheld_1 = uheld_1.loc[I == False] # keep everything else\n",
    "\n",
    "uheld_1"
   ]
  },
  {
   "cell_type": "code",
   "execution_count": 11,
   "metadata": {},
   "outputs": [
    {
     "output_type": "execute_result",
     "data": {
      "text/plain": "     municipality         UHELDA  year  INDHOLD\n2704     Aabenraa  All accidents  1998        9\n2454     Aabenraa  All accidents  1999        8\n2120     Aabenraa  All accidents  2000        9\n1780     Aabenraa  All accidents  2001        7\n1704     Aabenraa  All accidents  2002        7\n...           ...            ...   ...      ...\n3197          Ærø  All accidents  2009        2\n3515          Ærø  All accidents  2011        2\n4101          Ærø  All accidents  2015        2\n4338          Ærø  All accidents  2016        2\n4601          Ærø  All accidents  2017        1\n\n[1692 rows x 4 columns]",
      "text/html": "<div>\n<style scoped>\n    .dataframe tbody tr th:only-of-type {\n        vertical-align: middle;\n    }\n\n    .dataframe tbody tr th {\n        vertical-align: top;\n    }\n\n    .dataframe thead th {\n        text-align: right;\n    }\n</style>\n<table border=\"1\" class=\"dataframe\">\n  <thead>\n    <tr style=\"text-align: right;\">\n      <th></th>\n      <th>municipality</th>\n      <th>UHELDA</th>\n      <th>year</th>\n      <th>INDHOLD</th>\n    </tr>\n  </thead>\n  <tbody>\n    <tr>\n      <td>2704</td>\n      <td>Aabenraa</td>\n      <td>All accidents</td>\n      <td>1998</td>\n      <td>9</td>\n    </tr>\n    <tr>\n      <td>2454</td>\n      <td>Aabenraa</td>\n      <td>All accidents</td>\n      <td>1999</td>\n      <td>8</td>\n    </tr>\n    <tr>\n      <td>2120</td>\n      <td>Aabenraa</td>\n      <td>All accidents</td>\n      <td>2000</td>\n      <td>9</td>\n    </tr>\n    <tr>\n      <td>1780</td>\n      <td>Aabenraa</td>\n      <td>All accidents</td>\n      <td>2001</td>\n      <td>7</td>\n    </tr>\n    <tr>\n      <td>1704</td>\n      <td>Aabenraa</td>\n      <td>All accidents</td>\n      <td>2002</td>\n      <td>7</td>\n    </tr>\n    <tr>\n      <td>...</td>\n      <td>...</td>\n      <td>...</td>\n      <td>...</td>\n      <td>...</td>\n    </tr>\n    <tr>\n      <td>3197</td>\n      <td>Ærø</td>\n      <td>All accidents</td>\n      <td>2009</td>\n      <td>2</td>\n    </tr>\n    <tr>\n      <td>3515</td>\n      <td>Ærø</td>\n      <td>All accidents</td>\n      <td>2011</td>\n      <td>2</td>\n    </tr>\n    <tr>\n      <td>4101</td>\n      <td>Ærø</td>\n      <td>All accidents</td>\n      <td>2015</td>\n      <td>2</td>\n    </tr>\n    <tr>\n      <td>4338</td>\n      <td>Ærø</td>\n      <td>All accidents</td>\n      <td>2016</td>\n      <td>2</td>\n    </tr>\n    <tr>\n      <td>4601</td>\n      <td>Ærø</td>\n      <td>All accidents</td>\n      <td>2017</td>\n      <td>1</td>\n    </tr>\n  </tbody>\n</table>\n<p>1692 rows × 4 columns</p>\n</div>"
     },
     "metadata": {},
     "execution_count": 11
    }
   ],
   "source": [
    "uheld_2 = uheld_1.sort_values(['municipality','year']) # sort by first municipality then year\n",
    "uheld_2"
   ]
  },
  {
   "cell_type": "code",
   "execution_count": 12,
   "metadata": {},
   "outputs": [
    {
     "output_type": "execute_result",
     "data": {
      "text/plain": "     municipality         UHELDA  year  Number of accidents\n2704     Aabenraa  All accidents  1998                    9\n2454     Aabenraa  All accidents  1999                    8\n2120     Aabenraa  All accidents  2000                    9\n1780     Aabenraa  All accidents  2001                    7\n1704     Aabenraa  All accidents  2002                    7\n...           ...            ...   ...                  ...\n3197          Ærø  All accidents  2009                    2\n3515          Ærø  All accidents  2011                    2\n4101          Ærø  All accidents  2015                    2\n4338          Ærø  All accidents  2016                    2\n4601          Ærø  All accidents  2017                    1\n\n[1692 rows x 4 columns]",
      "text/html": "<div>\n<style scoped>\n    .dataframe tbody tr th:only-of-type {\n        vertical-align: middle;\n    }\n\n    .dataframe tbody tr th {\n        vertical-align: top;\n    }\n\n    .dataframe thead th {\n        text-align: right;\n    }\n</style>\n<table border=\"1\" class=\"dataframe\">\n  <thead>\n    <tr style=\"text-align: right;\">\n      <th></th>\n      <th>municipality</th>\n      <th>UHELDA</th>\n      <th>year</th>\n      <th>Number of accidents</th>\n    </tr>\n  </thead>\n  <tbody>\n    <tr>\n      <td>2704</td>\n      <td>Aabenraa</td>\n      <td>All accidents</td>\n      <td>1998</td>\n      <td>9</td>\n    </tr>\n    <tr>\n      <td>2454</td>\n      <td>Aabenraa</td>\n      <td>All accidents</td>\n      <td>1999</td>\n      <td>8</td>\n    </tr>\n    <tr>\n      <td>2120</td>\n      <td>Aabenraa</td>\n      <td>All accidents</td>\n      <td>2000</td>\n      <td>9</td>\n    </tr>\n    <tr>\n      <td>1780</td>\n      <td>Aabenraa</td>\n      <td>All accidents</td>\n      <td>2001</td>\n      <td>7</td>\n    </tr>\n    <tr>\n      <td>1704</td>\n      <td>Aabenraa</td>\n      <td>All accidents</td>\n      <td>2002</td>\n      <td>7</td>\n    </tr>\n    <tr>\n      <td>...</td>\n      <td>...</td>\n      <td>...</td>\n      <td>...</td>\n      <td>...</td>\n    </tr>\n    <tr>\n      <td>3197</td>\n      <td>Ærø</td>\n      <td>All accidents</td>\n      <td>2009</td>\n      <td>2</td>\n    </tr>\n    <tr>\n      <td>3515</td>\n      <td>Ærø</td>\n      <td>All accidents</td>\n      <td>2011</td>\n      <td>2</td>\n    </tr>\n    <tr>\n      <td>4101</td>\n      <td>Ærø</td>\n      <td>All accidents</td>\n      <td>2015</td>\n      <td>2</td>\n    </tr>\n    <tr>\n      <td>4338</td>\n      <td>Ærø</td>\n      <td>All accidents</td>\n      <td>2016</td>\n      <td>2</td>\n    </tr>\n    <tr>\n      <td>4601</td>\n      <td>Ærø</td>\n      <td>All accidents</td>\n      <td>2017</td>\n      <td>1</td>\n    </tr>\n  </tbody>\n</table>\n<p>1692 rows × 4 columns</p>\n</div>"
     },
     "metadata": {},
     "execution_count": 12
    }
   ],
   "source": [
    "uheld_2.rename(columns = {'INDHOLD':'Number of accidents'}, inplace=True)\n",
    "uheld_2"
   ]
  },
  {
   "cell_type": "code",
   "execution_count": 13,
   "metadata": {},
   "outputs": [
    {
     "output_type": "execute_result",
     "data": {
      "text/plain": "     municipality  year  Number of accidents\n2704     Aabenraa  1998                    9\n2454     Aabenraa  1999                    8\n2120     Aabenraa  2000                    9\n1780     Aabenraa  2001                    7\n1704     Aabenraa  2002                    7\n...           ...   ...                  ...\n3197          Ærø  2009                    2\n3515          Ærø  2011                    2\n4101          Ærø  2015                    2\n4338          Ærø  2016                    2\n4601          Ærø  2017                    1\n\n[1692 rows x 3 columns]",
      "text/html": "<div>\n<style scoped>\n    .dataframe tbody tr th:only-of-type {\n        vertical-align: middle;\n    }\n\n    .dataframe tbody tr th {\n        vertical-align: top;\n    }\n\n    .dataframe thead th {\n        text-align: right;\n    }\n</style>\n<table border=\"1\" class=\"dataframe\">\n  <thead>\n    <tr style=\"text-align: right;\">\n      <th></th>\n      <th>municipality</th>\n      <th>year</th>\n      <th>Number of accidents</th>\n    </tr>\n  </thead>\n  <tbody>\n    <tr>\n      <td>2704</td>\n      <td>Aabenraa</td>\n      <td>1998</td>\n      <td>9</td>\n    </tr>\n    <tr>\n      <td>2454</td>\n      <td>Aabenraa</td>\n      <td>1999</td>\n      <td>8</td>\n    </tr>\n    <tr>\n      <td>2120</td>\n      <td>Aabenraa</td>\n      <td>2000</td>\n      <td>9</td>\n    </tr>\n    <tr>\n      <td>1780</td>\n      <td>Aabenraa</td>\n      <td>2001</td>\n      <td>7</td>\n    </tr>\n    <tr>\n      <td>1704</td>\n      <td>Aabenraa</td>\n      <td>2002</td>\n      <td>7</td>\n    </tr>\n    <tr>\n      <td>...</td>\n      <td>...</td>\n      <td>...</td>\n      <td>...</td>\n    </tr>\n    <tr>\n      <td>3197</td>\n      <td>Ærø</td>\n      <td>2009</td>\n      <td>2</td>\n    </tr>\n    <tr>\n      <td>3515</td>\n      <td>Ærø</td>\n      <td>2011</td>\n      <td>2</td>\n    </tr>\n    <tr>\n      <td>4101</td>\n      <td>Ærø</td>\n      <td>2015</td>\n      <td>2</td>\n    </tr>\n    <tr>\n      <td>4338</td>\n      <td>Ærø</td>\n      <td>2016</td>\n      <td>2</td>\n    </tr>\n    <tr>\n      <td>4601</td>\n      <td>Ærø</td>\n      <td>2017</td>\n      <td>1</td>\n    </tr>\n  </tbody>\n</table>\n<p>1692 rows × 3 columns</p>\n</div>"
     },
     "metadata": {},
     "execution_count": 13
    }
   ],
   "source": [
    "del uheld_2['UHELDA']\n",
    "\n",
    "uheld_2"
   ]
  },
  {
   "cell_type": "code",
   "execution_count": null,
   "metadata": {},
   "outputs": [],
   "source": []
  },
  {
   "cell_type": "code",
   "execution_count": null,
   "metadata": {},
   "outputs": [],
   "source": []
  }
 ]
}