{
 "nbformat": 4,
 "nbformat_minor": 2,
 "metadata": {
  "language_info": {
   "name": "python",
   "codemirror_mode": {
    "name": "ipython",
    "version": 3
   },
   "version": "3.7.4-final"
  },
  "orig_nbformat": 2,
  "file_extension": ".py",
  "mimetype": "text/x-python",
  "name": "python",
  "npconvert_exporter": "python",
  "pygments_lexer": "ipython3",
  "version": 3,
  "kernelspec": {
   "name": "python3",
   "display_name": "Python 3"
  }
 },
 "cells": [
  {
   "cell_type": "code",
   "execution_count": 2,
   "metadata": {},
   "outputs": [],
   "source": [
    "import numpy as np\n",
    "import matplotlib.pyplot as plt\n",
    "plt.style.use('seaborn')\n",
    "import pandas as pd\n",
    "import pydst\n",
    "dst = pydst.Dst(lang='en')\n",
    "\n",
    "import ipywidgets as widgets\n",
    "from matplotlib_venn import venn2 # install with pip install matplotlib-venn\n",
    "\n",
    "#virker det\n",
    "\n"
   ]
  },
  {
   "cell_type": "code",
   "execution_count": 3,
   "metadata": {},
   "outputs": [
    {
     "output_type": "stream",
     "name": "stdout",
     "text": "municipality  year  Employment Rate\n0        Aabenraa  2008             74.6\n1        Aabenraa  2009             71.6\n2        Aabenraa  2010             70.9\n3        Aabenraa  2011             70.2\n4        Aabenraa  2012             69.5\n...           ...   ...              ...\n1084          Ærø  2014             65.1\n1085          Ærø  2015             65.8\n1086          Ærø  2016             67.0\n1087          Ærø  2017             68.1\n1088          Ærø  2018             70.1\n\n[1089 rows x 3 columns]\n"
    }
   ],
   "source": [
    "#Employment Rate - af Henrik Kyndal\n",
    "\n",
    "dst.get_subjects()\n",
    "dst.get_tables(subjects=['14']).sample(10)\n",
    "dst.get_data(table_id = 'RAS200').head(10)\n",
    "\n",
    "indk_vars = dst.get_variables(table_id='RAS200')\n",
    "#print(indk_vars)\n",
    "\n",
    "#print(indk_vars['values'][0][:10])\n",
    "\n",
    "inc_api = dst.get_data(table_id = 'RAS200', variables={'OMRÅDE':['*'], 'BEREGNING':['*'], 'TID':['*']})\n",
    "#print(inc_api)\n",
    "del inc_api['ALDER']\n",
    "\n",
    "del inc_api['HERKOMST']\n",
    "\n",
    "del inc_api['KØN']\n",
    "\n",
    "inc_api.rename(columns = {'OMRÅDE':'municipality'}, inplace=True)\n",
    "\n",
    "\n",
    "inc_api.rename(columns = {'INDHOLD':'Employment Rate'}, inplace=True)\n",
    "\n",
    "myDict = {}\n",
    "for i in range(2005, 2019): # range goes from 2008 to but not including 2017\n",
    "    myDict[str(i)] = f'e{i}' \n",
    "myDict\n",
    "\n",
    "inc_api.rename(columns = myDict, inplace=True)\n",
    "inc_api.head(10)\n",
    "\n",
    "I  = inc_api.municipality.str.contains('Region')\n",
    "inc_api.loc[I, :]\n",
    "for val in ['Region', 'Province', 'All Denmark']: \n",
    "    I = inc_api.municipality.str.contains(val)\n",
    "    inc_api = inc_api.loc[I == False] # keep everything else\n",
    "    \n",
    "inc_api.rename(columns = {'TID':'year'}, inplace=True)\n",
    "\n",
    "I  = inc_api.BEREGNING.str.contains('Region')\n",
    "\n",
    "for val in ['Economic activity rate']: \n",
    "    I = inc_api.BEREGNING.str.contains(val)\n",
    "    inc_api = inc_api.loc[I == False] # keep everything else\n",
    "\n",
    "del inc_api['BEREGNING']\n",
    "\n",
    "inc_api = inc_api.sort_values(['municipality','year']) # sort by first municipality then year\n",
    "inc_api.reset_index(drop=True, inplace=True)\n",
    "print(inc_api) "
   ]
  },
  {
   "cell_type": "code",
   "execution_count": 4,
   "metadata": {},
   "outputs": [
    {
     "output_type": "execute_result",
     "data": {
      "text/plain": "   municipality  year  Employment Rate\n0      Aabenraa  2008             74.6\n1      Aabenraa  2009             71.6\n2      Aabenraa  2010             70.9\n3      Aabenraa  2011             70.2\n4      Aabenraa  2012             69.5\n5      Aabenraa  2013             69.4\n6      Aabenraa  2014             70.1\n7      Aabenraa  2015             70.7\n8      Aabenraa  2016             72.0\n9      Aabenraa  2017             72.9\n10     Aabenraa  2018             74.0",
      "text/html": "<div>\n<style scoped>\n    .dataframe tbody tr th:only-of-type {\n        vertical-align: middle;\n    }\n\n    .dataframe tbody tr th {\n        vertical-align: top;\n    }\n\n    .dataframe thead th {\n        text-align: right;\n    }\n</style>\n<table border=\"1\" class=\"dataframe\">\n  <thead>\n    <tr style=\"text-align: right;\">\n      <th></th>\n      <th>municipality</th>\n      <th>year</th>\n      <th>Employment Rate</th>\n    </tr>\n  </thead>\n  <tbody>\n    <tr>\n      <td>0</td>\n      <td>Aabenraa</td>\n      <td>2008</td>\n      <td>74.6</td>\n    </tr>\n    <tr>\n      <td>1</td>\n      <td>Aabenraa</td>\n      <td>2009</td>\n      <td>71.6</td>\n    </tr>\n    <tr>\n      <td>2</td>\n      <td>Aabenraa</td>\n      <td>2010</td>\n      <td>70.9</td>\n    </tr>\n    <tr>\n      <td>3</td>\n      <td>Aabenraa</td>\n      <td>2011</td>\n      <td>70.2</td>\n    </tr>\n    <tr>\n      <td>4</td>\n      <td>Aabenraa</td>\n      <td>2012</td>\n      <td>69.5</td>\n    </tr>\n    <tr>\n      <td>5</td>\n      <td>Aabenraa</td>\n      <td>2013</td>\n      <td>69.4</td>\n    </tr>\n    <tr>\n      <td>6</td>\n      <td>Aabenraa</td>\n      <td>2014</td>\n      <td>70.1</td>\n    </tr>\n    <tr>\n      <td>7</td>\n      <td>Aabenraa</td>\n      <td>2015</td>\n      <td>70.7</td>\n    </tr>\n    <tr>\n      <td>8</td>\n      <td>Aabenraa</td>\n      <td>2016</td>\n      <td>72.0</td>\n    </tr>\n    <tr>\n      <td>9</td>\n      <td>Aabenraa</td>\n      <td>2017</td>\n      <td>72.9</td>\n    </tr>\n    <tr>\n      <td>10</td>\n      <td>Aabenraa</td>\n      <td>2018</td>\n      <td>74.0</td>\n    </tr>\n  </tbody>\n</table>\n</div>"
     },
     "metadata": {},
     "execution_count": 4
    }
   ],
   "source": [
    "\n",
    "inc_api.pivot(index='municipality', columns='year', values='Employment Rate')\n",
    "inc_api.head(11)\n",
    "#inc_api.pivot skulle gerne bytte om, så year kommer øverst. Dette virker i jupyter lab - kan ikke se hvorfor det ikke virker her."
   ]
  },
  {
   "cell_type": "code",
   "execution_count": 5,
   "metadata": {},
   "outputs": [
    {
     "output_type": "stream",
     "name": "stdout",
     "text": "municipality  year  Number of accidents\n0       Aabenraa  2007                   12\n1       Aabenraa  2008                    4\n2       Aabenraa  2009                    4\n3       Aabenraa  2010                    1\n4       Aabenraa  2011                    4\n..           ...   ...                  ...\n877          Ærø  2009                    2\n878          Ærø  2011                    2\n879          Ærø  2015                    2\n880          Ærø  2016                    2\n881          Ærø  2017                    1\n\n[882 rows x 3 columns]\n"
    }
   ],
   "source": [
    "#UHELD - af Henrik Kyndal\n",
    "\n",
    "dst.get_subjects()\n",
    "dst.get_tables(subjects=['14']).sample(10)\n",
    "dst.get_data(table_id = 'UHELDK7').head(10)\n",
    "\n",
    "uheld_vars = dst.get_variables(table_id='UHELDK7')\n",
    "\n",
    "uheld_1 = dst.get_data(table_id = 'UHELDK7', variables={'OMRÅDE':['*'], 'UHELDA':['*'], 'TID':['*']})\n",
    "\n",
    "\n",
    "\n",
    "\n",
    "del uheld_1['BYLAND']\n",
    "\n",
    "del uheld_1['UHELDSIT']\n",
    "\n",
    "uheld_1.rename(columns = {'OMRÅDE':'municipality', 'TID': 'year'}, inplace=True)\n",
    "\n",
    "I  = uheld_1.municipality.str.contains('Region')\n",
    "uheld_1.loc[I, :]\n",
    "\n",
    "for val in ['Region', 'Province', 'All Denmark']: \n",
    "    I = uheld_1.municipality.str.contains(val)\n",
    "    uheld_1 = uheld_1.loc[I == False] # keep everything else\n",
    "\n",
    "\n",
    "I  = uheld_1.UHELDA.str.contains('All accidents')\n",
    "for val in ['Other', 'involving']: \n",
    "    I = uheld_1.UHELDA.str.contains(val)\n",
    "    uheld_1 = uheld_1.loc[I == False] # keep everything else\n",
    "\n",
    "for val in range(1998,2007):\n",
    "    uheld_1 = uheld_1.loc[uheld_1['year'] != val]\n",
    "\n",
    "\n",
    "\n",
    "uheld_2 = uheld_1.sort_values(['municipality','year']) # sort by first municipality then year\n",
    "\n",
    "uheld_2.rename(columns = {'INDHOLD':'Number of accidents'}, inplace=True)\n",
    "\n",
    "uheld_2.reset_index(drop=True, inplace=True)\n",
    "\n",
    "\n",
    "\n",
    "del uheld_2['UHELDA']\n",
    "\n",
    "print(uheld_2)\n",
    "\n",
    "\n",
    ""
   ]
  },
  {
   "cell_type": "code",
   "execution_count": 6,
   "metadata": {},
   "outputs": [
    {
     "output_type": "stream",
     "name": "stdout",
     "text": "municipality  year  population\n0        Aabenraa  2008       60189\n1        Aabenraa  2009       60392\n2        Aabenraa  2010       59978\n3        Aabenraa  2011       59795\n4        Aabenraa  2012       59600\n...           ...   ...         ...\n1084          Ærø  2014        6393\n1085          Ærø  2015        6276\n1086          Ærø  2016        6290\n1087          Ærø  2017        6177\n1088          Ærø  2018        6178\n\n[1089 rows x 3 columns]\n"
    }
   ],
   "source": [
    "#Population - by Bjørn Bremholm\n",
    "dst.get_subjects()\n",
    "\n",
    "dst.get_tables(subjects=['02']).head(10)\n",
    "dst.get_data(table_id = 'FOLK1A').head(10)\n",
    "\n",
    "variables = {'OMRÅDE':['*'],'Tid':['*']}\n",
    "folk_api = dst.get_data(table_id = 'FOLK1A', variables=variables)\n",
    "folk_api.head(10)\n",
    "\n",
    "del folk_api['ALDER']\n",
    "del folk_api['CIVILSTAND']\n",
    "del folk_api['KØN']\n",
    "folk_api.rename(columns = {'OMRÅDE':'municipality'}, inplace=True)\n",
    "folk_api.rename(columns = {'INDHOLD':'population'}, inplace=True)\n",
    "#folk_api.rename(columns = {'KØN':'gender'}, inplace=True)\n",
    "folk_api.rename(columns = {'TID':'year'}, inplace=True)\n",
    "folk_api.head(5)\n",
    "\n",
    "folk = folk_api.sort_values(['municipality','year']) # sort by first municipality then year\n",
    "\n",
    "#I  = folk.municipality.str.contains('Region')\n",
    "#folk.loc[I, :]\n",
    "for val in ['Region', 'Province', 'All Denmark']: \n",
    "    I = folk.municipality.str.contains(val)\n",
    "    folk = folk.loc[I == False] # keep everything else\n",
    "\n",
    "#U  = folk.year.str.contains('Q1')\n",
    "#folk.loc[U, :]\n",
    "for val in ['Q1']: \n",
    "    U = folk.year.str.contains(val)\n",
    "    folk = folk.loc[U == True] # keep only that one\n",
    "    folk.year = folk.year.str[0:4]\n",
    "\n",
    "#U  = folk.year.str.contains('2019','2020')\n",
    "#folk.loc[U, :]\n",
    "for val in ['2019','2020']: \n",
    "    U = folk.year.str.contains(val)\n",
    "    folk = folk.loc[U == False] # keep everything else\n",
    "\n",
    "folk.reset_index(drop=True, inplace=True)\n",
    "print(folk)"
   ]
  },
  {
   "cell_type": "code",
   "execution_count": 7,
   "metadata": {},
   "outputs": [
    {
     "output_type": "stream",
     "name": "stdout",
     "text": "municipality  year  Immigants\n0        Aabenraa  2008       1787\n1        Aabenraa  2009       1822\n2        Aabenraa  2010       1817\n3        Aabenraa  2011       1887\n4        Aabenraa  2012       1906\n...           ...   ...        ...\n1084          Ærø  2014        104\n1085          Ærø  2015        103\n1086          Ærø  2016        123\n1087          Ærø  2017        145\n1088          Ærø  2018        153\n\n[1089 rows x 3 columns]\n"
    }
   ],
   "source": [
    "#Immigrants\n",
    "\n",
    "dst.get_subjects()\n",
    "dst.get_tables(subjects=['14']).sample(10)\n",
    "dst.get_data(table_id = 'FOLK1E').head(10)\n",
    "\n",
    "indk_vars = dst.get_variables(table_id='FOLK1E')\n",
    "\n",
    "\n",
    "# Value of interest 'id': '25', 'text': 'Immigrants from non-western countries'\n",
    "#print(indk_vars)\n",
    "\n",
    "#print(indk_vars['values'][0][:10]) \n",
    "\n",
    "\n",
    "\n",
    "inv_api = dst.get_data(table_id = 'FOLK1E', variables={'OMRÅDE':['*'],'HERKOMST':{'*'}, 'TID':['*']})\n",
    "\n",
    "del inv_api['ALDER']\n",
    "\n",
    "del inv_api['KØN']\n",
    "\n",
    "for val in ['Immigrants from non-western countries']: \n",
    "    I = inv_api.HERKOMST.str.contains(val)\n",
    "    inv_api = inv_api.loc[I == True] # Delete everything else\n",
    "\n",
    "for val in ['Q1']: \n",
    "    I = inv_api.TID.str.contains(val)\n",
    "    inv_api = inv_api.loc[I == True] # Delete everything else\n",
    "    inv_api.TID = inv_api.TID.str[0:4]\n",
    "\n",
    "for val in ['2020', '2019']:\n",
    "    I = inv_api.TID.str.contains(val)\n",
    "    inv_api = inv_api.loc[I==False]\n",
    "\n",
    "del inv_api['HERKOMST']\n",
    "\n",
    "inv_api.rename(columns = {'OMRÅDE':'municipality'}, inplace=True)\n",
    "inv_api.rename(columns = {'TID':'year'}, inplace=True)\n",
    "inv_api.rename(columns = {'INDHOLD':'Immigants'}, inplace=True)\n",
    "\n",
    "for val in ['Region', 'Province', 'All Denmark']: \n",
    "    I = inv_api.municipality.str.contains(val)\n",
    "    inv_api = inv_api.loc[I == False] # keep everything else\n",
    "\n",
    "inv_api = inv_api.sort_values(['municipality','year']) # sort by first municipality then year\n",
    "\n",
    "inv_api.reset_index(drop=True, inplace=True)\n",
    "\n",
    "print(inv_api)\n",
    "\n",
    "if df.year.str.contains('Q')\n",
    "    code \n",
    "    else\n",
    "    "
   ]
  },
  {
   "cell_type": "code",
   "execution_count": 8,
   "metadata": {},
   "outputs": [
    {
     "output_type": "execute_result",
     "data": {
      "text/plain": "   municipality  year  Immigants\n0      Aabenraa  2008       1787\n1      Aabenraa  2009       1822\n2      Aabenraa  2010       1817\n3      Aabenraa  2011       1887\n4      Aabenraa  2012       1906\n5      Aabenraa  2013       1975\n6      Aabenraa  2014       2059\n7      Aabenraa  2015       2146\n8      Aabenraa  2016       2406\n9      Aabenraa  2017       2582\n10     Aabenraa  2018       2625",
      "text/html": "<div>\n<style scoped>\n    .dataframe tbody tr th:only-of-type {\n        vertical-align: middle;\n    }\n\n    .dataframe tbody tr th {\n        vertical-align: top;\n    }\n\n    .dataframe thead th {\n        text-align: right;\n    }\n</style>\n<table border=\"1\" class=\"dataframe\">\n  <thead>\n    <tr style=\"text-align: right;\">\n      <th></th>\n      <th>municipality</th>\n      <th>year</th>\n      <th>Immigants</th>\n    </tr>\n  </thead>\n  <tbody>\n    <tr>\n      <td>0</td>\n      <td>Aabenraa</td>\n      <td>2008</td>\n      <td>1787</td>\n    </tr>\n    <tr>\n      <td>1</td>\n      <td>Aabenraa</td>\n      <td>2009</td>\n      <td>1822</td>\n    </tr>\n    <tr>\n      <td>2</td>\n      <td>Aabenraa</td>\n      <td>2010</td>\n      <td>1817</td>\n    </tr>\n    <tr>\n      <td>3</td>\n      <td>Aabenraa</td>\n      <td>2011</td>\n      <td>1887</td>\n    </tr>\n    <tr>\n      <td>4</td>\n      <td>Aabenraa</td>\n      <td>2012</td>\n      <td>1906</td>\n    </tr>\n    <tr>\n      <td>5</td>\n      <td>Aabenraa</td>\n      <td>2013</td>\n      <td>1975</td>\n    </tr>\n    <tr>\n      <td>6</td>\n      <td>Aabenraa</td>\n      <td>2014</td>\n      <td>2059</td>\n    </tr>\n    <tr>\n      <td>7</td>\n      <td>Aabenraa</td>\n      <td>2015</td>\n      <td>2146</td>\n    </tr>\n    <tr>\n      <td>8</td>\n      <td>Aabenraa</td>\n      <td>2016</td>\n      <td>2406</td>\n    </tr>\n    <tr>\n      <td>9</td>\n      <td>Aabenraa</td>\n      <td>2017</td>\n      <td>2582</td>\n    </tr>\n    <tr>\n      <td>10</td>\n      <td>Aabenraa</td>\n      <td>2018</td>\n      <td>2625</td>\n    </tr>\n  </tbody>\n</table>\n</div>"
     },
     "metadata": {},
     "execution_count": 8
    }
   ],
   "source": [
    "inv_api.pivot(index='municipality', columns='year', values='Immigants')\n",
    "inv_api.head(11)"
   ]
  },
  {
   "cell_type": "code",
   "execution_count": 44,
   "metadata": {},
   "outputs": [
    {
     "output_type": "stream",
     "name": "stdout",
     "text": "municipality  year  Employment Rate  Immigants  population  \\\n0        Aabenraa  2008             74.6       1787       60189   \n1        Aabenraa  2009             71.6       1822       60392   \n2        Aabenraa  2010             70.9       1817       59978   \n3        Aabenraa  2011             70.2       1887       59795   \n4        Aabenraa  2012             69.5       1906       59600   \n...           ...   ...              ...        ...         ...   \n1084          Ærø  2014             65.1        104        6393   \n1085          Ærø  2015             65.8        103        6276   \n1086          Ærø  2016             67.0        123        6290   \n1087          Ærø  2017             68.1        145        6177   \n1088          Ærø  2018             70.1        153        6178   \n\n      Immigrant Ratio  Number of accidents  \n0                 3.0                    4  \n1                 3.0                    4  \n2                 3.0                    1  \n3                 3.2                    4  \n4                 3.2                    4  \n...               ...                  ...  \n1084              1.6                    0  \n1085              1.6                    2  \n1086              2.0                    2  \n1087              2.3                    1  \n1088              2.5                    0  \n\n[1089 rows x 7 columns]\n"
    }
   ],
   "source": [
    "#MERGE\n",
    "Tabel1 = inc_api\n",
    "\n",
    "Tabel1 = Tabel1.join([inv_api['Immigants'],folk['population']])\n",
    "ImmigantRatio = Tabel1['Immigants']/Tabel1['population']\n",
    "Tabel1['Immigrant Ratio']=ImmigantRatio\n",
    "\n",
    "#Tabel1 = pd.merge(Tabel1,uheld_2,how='inner',on=['municipality','year'],all=True)\n",
    "\n",
    "Tabel1 = Tabel1.merge(uheld_2, left_on=['municipality','year'], right_on=['municipality','year'], how='left')\n",
    "\n",
    "#del Tabel1['year_y']\n",
    "\n",
    "#Tabel1.rename(columns = {'year_x':'year'}, inplace=True)\n",
    "\n",
    "Tabel1 = Tabel1.fillna(0)\n",
    "Tabel1['Number of accidents'] = Tabel1['Number of accidents'].astype(int)\n",
    "Tabel1['Immigrant Ratio'] = Tabel1['Immigrant Ratio'].round(3)*100\n",
    "print(Tabel1)\n",
    "\n",
    "\n",
    "\n",
    ""
   ]
  },
  {
   "cell_type": "code",
   "execution_count": 45,
   "metadata": {},
   "outputs": [
    {
     "output_type": "execute_result",
     "data": {
      "text/plain": "     municipality  year  Employment Rate  Immigants  population  \\\n1078          Ærø  2008             68.4         67        6712   \n1079          Ærø  2009             66.7         74        6698   \n1080          Ærø  2010             66.0         83        6679   \n1081          Ærø  2011             65.4        101        6663   \n1082          Ærø  2012             65.9        110        6636   \n1083          Ærø  2013             64.7        106        6527   \n1084          Ærø  2014             65.1        104        6393   \n1085          Ærø  2015             65.8        103        6276   \n1086          Ærø  2016             67.0        123        6290   \n1087          Ærø  2017             68.1        145        6177   \n1088          Ærø  2018             70.1        153        6178   \n\n      Immigrant Ratio  Number of accidents  \n1078              1.0                    2  \n1079              1.1                    2  \n1080              1.2                    0  \n1081              1.5                    2  \n1082              1.7                    0  \n1083              1.6                    0  \n1084              1.6                    0  \n1085              1.6                    2  \n1086              2.0                    2  \n1087              2.3                    1  \n1088              2.5                    0  ",
      "text/html": "<div>\n<style scoped>\n    .dataframe tbody tr th:only-of-type {\n        vertical-align: middle;\n    }\n\n    .dataframe tbody tr th {\n        vertical-align: top;\n    }\n\n    .dataframe thead th {\n        text-align: right;\n    }\n</style>\n<table border=\"1\" class=\"dataframe\">\n  <thead>\n    <tr style=\"text-align: right;\">\n      <th></th>\n      <th>municipality</th>\n      <th>year</th>\n      <th>Employment Rate</th>\n      <th>Immigants</th>\n      <th>population</th>\n      <th>Immigrant Ratio</th>\n      <th>Number of accidents</th>\n    </tr>\n  </thead>\n  <tbody>\n    <tr>\n      <td>1078</td>\n      <td>Ærø</td>\n      <td>2008</td>\n      <td>68.4</td>\n      <td>67</td>\n      <td>6712</td>\n      <td>1.0</td>\n      <td>2</td>\n    </tr>\n    <tr>\n      <td>1079</td>\n      <td>Ærø</td>\n      <td>2009</td>\n      <td>66.7</td>\n      <td>74</td>\n      <td>6698</td>\n      <td>1.1</td>\n      <td>2</td>\n    </tr>\n    <tr>\n      <td>1080</td>\n      <td>Ærø</td>\n      <td>2010</td>\n      <td>66.0</td>\n      <td>83</td>\n      <td>6679</td>\n      <td>1.2</td>\n      <td>0</td>\n    </tr>\n    <tr>\n      <td>1081</td>\n      <td>Ærø</td>\n      <td>2011</td>\n      <td>65.4</td>\n      <td>101</td>\n      <td>6663</td>\n      <td>1.5</td>\n      <td>2</td>\n    </tr>\n    <tr>\n      <td>1082</td>\n      <td>Ærø</td>\n      <td>2012</td>\n      <td>65.9</td>\n      <td>110</td>\n      <td>6636</td>\n      <td>1.7</td>\n      <td>0</td>\n    </tr>\n    <tr>\n      <td>1083</td>\n      <td>Ærø</td>\n      <td>2013</td>\n      <td>64.7</td>\n      <td>106</td>\n      <td>6527</td>\n      <td>1.6</td>\n      <td>0</td>\n    </tr>\n    <tr>\n      <td>1084</td>\n      <td>Ærø</td>\n      <td>2014</td>\n      <td>65.1</td>\n      <td>104</td>\n      <td>6393</td>\n      <td>1.6</td>\n      <td>0</td>\n    </tr>\n    <tr>\n      <td>1085</td>\n      <td>Ærø</td>\n      <td>2015</td>\n      <td>65.8</td>\n      <td>103</td>\n      <td>6276</td>\n      <td>1.6</td>\n      <td>2</td>\n    </tr>\n    <tr>\n      <td>1086</td>\n      <td>Ærø</td>\n      <td>2016</td>\n      <td>67.0</td>\n      <td>123</td>\n      <td>6290</td>\n      <td>2.0</td>\n      <td>2</td>\n    </tr>\n    <tr>\n      <td>1087</td>\n      <td>Ærø</td>\n      <td>2017</td>\n      <td>68.1</td>\n      <td>145</td>\n      <td>6177</td>\n      <td>2.3</td>\n      <td>1</td>\n    </tr>\n    <tr>\n      <td>1088</td>\n      <td>Ærø</td>\n      <td>2018</td>\n      <td>70.1</td>\n      <td>153</td>\n      <td>6178</td>\n      <td>2.5</td>\n      <td>0</td>\n    </tr>\n  </tbody>\n</table>\n</div>"
     },
     "metadata": {},
     "execution_count": 45
    }
   ],
   "source": [
    "Tabel1.pivot(index='municipality', columns='year', values='Immigants')\n",
    "\n",
    "Munici = 'Ærø'\n",
    "Tabel1.loc[Tabel1['municipality'] == Munici]\n",
    "\n",
    "\n",
    ""
   ]
  },
  {
   "cell_type": "code",
   "execution_count": null,
   "metadata": {},
   "outputs": [],
   "source": [
    "# Widgets \n",
    "\n",
    "w = widgets.IntSlider()\n",
    "display(w)\n"
   ]
  }
 ]
}