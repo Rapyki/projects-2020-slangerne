{
 "nbformat": 4,
 "nbformat_minor": 2,
 "metadata": {
  "language_info": {
   "name": "python",
   "codemirror_mode": {
    "name": "ipython",
    "version": 3
   },
   "version": "3.7.4-final"
  },
  "orig_nbformat": 2,
  "file_extension": ".py",
  "mimetype": "text/x-python",
  "name": "python",
  "npconvert_exporter": "python",
  "pygments_lexer": "ipython3",
  "version": 3,
  "kernelspec": {
   "name": "python3",
   "display_name": "Python 3"
  }
 },
 "cells": [
  {
   "cell_type": "code",
   "execution_count": 6,
   "metadata": {},
   "outputs": [
    {
     "output_type": "stream",
     "name": "stdout",
     "text": "id       text  elimination   time                      map  \\\n0     OMRÅDE     region         True  False  denmark_municipality_07   \n1   HERKOMST   ancestry         True  False                      NaN   \n2      ALDER        age         True  False                      NaN   \n3        KØN        sex         True  False                      NaN   \n4  BEREGNING  frequency        False  False                      NaN   \n5        Tid       time        False   True                      NaN   \n\n                                              values  \n0  [{'id': '000', 'text': 'All Denmark'}, {'id': ...  \n1  [{'id': '00', 'text': 'Total'}, {'id': '10', '...  \n2  [{'id': 'TOT', 'text': 'Age, total'}, {'id': '...  \n3  [{'id': 'TOT', 'text': 'Total'}, {'id': 'M', '...  \n4  [{'id': 'BFK', 'text': 'Employment rate'}, {'i...  \n5  [{'id': '2008', 'text': '2008'}, {'id': '2009'...  \n             OMRÅDE               BEREGNING   TID HERKOMST       ALDER    KØN  \\\n0              Køge         Employment rate  2011    Total  Age, total  Total   \n1              Køge         Employment rate  2012    Total  Age, total  Total   \n2              Køge         Employment rate  2013    Total  Age, total  Total   \n3              Køge         Employment rate  2014    Total  Age, total  Total   \n4           Rødovre         Employment rate  2011    Total  Age, total  Total   \n...             ...                     ...   ...      ...         ...    ...   \n2547    Brønderslev  Economic activity rate  2018    Total  Age, total  Total   \n2548      Silkeborg         Employment rate  2018    Total  Age, total  Total   \n2549      Silkeborg  Economic activity rate  2018    Total  Age, total  Total   \n2550  Frederikshavn         Employment rate  2018    Total  Age, total  Total   \n2551  Frederikshavn  Economic activity rate  2018    Total  Age, total  Total   \n\n      INDHOLD  \n0        73.7  \n1        73.3  \n2        73.1  \n3        74.1  \n4        73.6  \n...       ...  \n2547     77.6  \n2548     77.8  \n2549     80.1  \n2550     73.1  \n2551     76.1  \n\n[2552 rows x 7 columns]\n"
    },
    {
     "output_type": "execute_result",
     "data": {
      "text/plain": "       Municipality  year  Employment Rate\n0              Køge  2011             73.7\n1              Køge  2012             73.3\n2              Køge  2013             73.1\n3              Køge  2014             74.1\n4           Rødovre  2011             73.6\n...             ...   ...              ...\n2542         Viborg  2018             76.0\n2544        Randers  2018             73.9\n2546    Brønderslev  2018             74.8\n2548      Silkeborg  2018             77.8\n2550  Frederikshavn  2018             73.1\n\n[1089 rows x 3 columns]",
      "text/html": "<div>\n<style scoped>\n    .dataframe tbody tr th:only-of-type {\n        vertical-align: middle;\n    }\n\n    .dataframe tbody tr th {\n        vertical-align: top;\n    }\n\n    .dataframe thead th {\n        text-align: right;\n    }\n</style>\n<table border=\"1\" class=\"dataframe\">\n  <thead>\n    <tr style=\"text-align: right;\">\n      <th></th>\n      <th>Municipality</th>\n      <th>year</th>\n      <th>Employment Rate</th>\n    </tr>\n  </thead>\n  <tbody>\n    <tr>\n      <td>0</td>\n      <td>Køge</td>\n      <td>2011</td>\n      <td>73.7</td>\n    </tr>\n    <tr>\n      <td>1</td>\n      <td>Køge</td>\n      <td>2012</td>\n      <td>73.3</td>\n    </tr>\n    <tr>\n      <td>2</td>\n      <td>Køge</td>\n      <td>2013</td>\n      <td>73.1</td>\n    </tr>\n    <tr>\n      <td>3</td>\n      <td>Køge</td>\n      <td>2014</td>\n      <td>74.1</td>\n    </tr>\n    <tr>\n      <td>4</td>\n      <td>Rødovre</td>\n      <td>2011</td>\n      <td>73.6</td>\n    </tr>\n    <tr>\n      <td>...</td>\n      <td>...</td>\n      <td>...</td>\n      <td>...</td>\n    </tr>\n    <tr>\n      <td>2542</td>\n      <td>Viborg</td>\n      <td>2018</td>\n      <td>76.0</td>\n    </tr>\n    <tr>\n      <td>2544</td>\n      <td>Randers</td>\n      <td>2018</td>\n      <td>73.9</td>\n    </tr>\n    <tr>\n      <td>2546</td>\n      <td>Brønderslev</td>\n      <td>2018</td>\n      <td>74.8</td>\n    </tr>\n    <tr>\n      <td>2548</td>\n      <td>Silkeborg</td>\n      <td>2018</td>\n      <td>77.8</td>\n    </tr>\n    <tr>\n      <td>2550</td>\n      <td>Frederikshavn</td>\n      <td>2018</td>\n      <td>73.1</td>\n    </tr>\n  </tbody>\n</table>\n<p>1089 rows × 3 columns</p>\n</div>"
     },
     "metadata": {},
     "execution_count": 6
    }
   ],
   "source": [
    "import numpy as np\n",
    "import matplotlib.pyplot as plt\n",
    "plt.style.use('seaborn')\n",
    "import pandas as pd\n",
    "import pydst\n",
    "dst = pydst.Dst(lang='en')\n",
    "\n",
    "#virker det\n",
    "\n",
    "dst.get_subjects()\n",
    "dst.get_tables(subjects=['14']).sample(10)\n",
    "dst.get_data(table_id = 'RAS200').head(10)\n",
    "\n",
    "indk_vars = dst.get_variables(table_id='RAS200')\n",
    "print(indk_vars)\n",
    "\n",
    "#print(indk_vars['values'][0][:10])\n",
    "\n",
    "inc_api = dst.get_data(table_id = 'RAS200', variables={'OMRÅDE':['*'], 'BEREGNING':['*'], 'TID':['*']})\n",
    "print(inc_api)\n",
    "\n",
    "\n",
    "del inc_api['ALDER']\n",
    "\n",
    "del inc_api['HERKOMST']\n",
    "\n",
    "del inc_api['KØN']\n",
    "\n",
    "inc_api.rename(columns = {'OMRÅDE':'Municipality'}, inplace=True)\n",
    "\n",
    "\n",
    "inc_api.rename(columns = {'INDHOLD':'Employment Rate'}, inplace=True)\n",
    "\n",
    "\n",
    "myDict = {}\n",
    "for i in range(2005, 2019): # range goes from 2008 to but not including 2017\n",
    "    myDict[str(i)] = f'e{i}' \n",
    "myDict\n",
    "\n",
    "inc_api.rename(columns = myDict, inplace=True)\n",
    "inc_api.head(10)\n",
    "\n",
    "I  = inc_api.Municipality.str.contains('Region')\n",
    "inc_api.loc[I, :]\n",
    "for val in ['Region', 'Province', 'All Denmark']: \n",
    "    I = inc_api.Municipality.str.contains(val)\n",
    "    inc_api = inc_api.loc[I == False] # keep everything else\n",
    "    \n",
    "inc_api.rename(columns = {'TID':'year'}, inplace=True)\n",
    "inc_api \n",
    "\n",
    "I  = inc_api.BEREGNING.str.contains('Region')\n",
    "\n",
    "for val in ['Economic activity rate']: \n",
    "    I = inc_api.BEREGNING.str.contains(val)\n",
    "    inc_api = inc_api.loc[I == False] # keep everything else\n",
    "\n",
    "del inc_api['BEREGNING']\n",
    "\n",
    "inc_api  \n",
    ""
   ]
  },
  {
   "cell_type": "code",
   "execution_count": 8,
   "metadata": {},
   "outputs": [
    {
     "output_type": "execute_result",
     "data": {
      "text/plain": "  municipality        BEREGNING  year  INDHOLD\n0         Køge  Employment rate  2011     73.7\n1         Køge  Employment rate  2012     73.3\n2         Køge  Employment rate  2013     73.1\n3         Køge  Employment rate  2014     74.1\n4      Rødovre  Employment rate  2011     73.6\n5      Rødovre  Employment rate  2012     73.0\n6      Rødovre  Employment rate  2013     73.2\n7      Rødovre  Employment rate  2014     73.5\n8       Dragør  Employment rate  2011     78.5\n9       Dragør  Employment rate  2012     78.7",
      "text/html": "<div>\n<style scoped>\n    .dataframe tbody tr th:only-of-type {\n        vertical-align: middle;\n    }\n\n    .dataframe tbody tr th {\n        vertical-align: top;\n    }\n\n    .dataframe thead th {\n        text-align: right;\n    }\n</style>\n<table border=\"1\" class=\"dataframe\">\n  <thead>\n    <tr style=\"text-align: right;\">\n      <th></th>\n      <th>municipality</th>\n      <th>BEREGNING</th>\n      <th>year</th>\n      <th>INDHOLD</th>\n    </tr>\n  </thead>\n  <tbody>\n    <tr>\n      <td>0</td>\n      <td>Køge</td>\n      <td>Employment rate</td>\n      <td>2011</td>\n      <td>73.7</td>\n    </tr>\n    <tr>\n      <td>1</td>\n      <td>Køge</td>\n      <td>Employment rate</td>\n      <td>2012</td>\n      <td>73.3</td>\n    </tr>\n    <tr>\n      <td>2</td>\n      <td>Køge</td>\n      <td>Employment rate</td>\n      <td>2013</td>\n      <td>73.1</td>\n    </tr>\n    <tr>\n      <td>3</td>\n      <td>Køge</td>\n      <td>Employment rate</td>\n      <td>2014</td>\n      <td>74.1</td>\n    </tr>\n    <tr>\n      <td>4</td>\n      <td>Rødovre</td>\n      <td>Employment rate</td>\n      <td>2011</td>\n      <td>73.6</td>\n    </tr>\n    <tr>\n      <td>5</td>\n      <td>Rødovre</td>\n      <td>Employment rate</td>\n      <td>2012</td>\n      <td>73.0</td>\n    </tr>\n    <tr>\n      <td>6</td>\n      <td>Rødovre</td>\n      <td>Employment rate</td>\n      <td>2013</td>\n      <td>73.2</td>\n    </tr>\n    <tr>\n      <td>7</td>\n      <td>Rødovre</td>\n      <td>Employment rate</td>\n      <td>2014</td>\n      <td>73.5</td>\n    </tr>\n    <tr>\n      <td>8</td>\n      <td>Dragør</td>\n      <td>Employment rate</td>\n      <td>2011</td>\n      <td>78.5</td>\n    </tr>\n    <tr>\n      <td>9</td>\n      <td>Dragør</td>\n      <td>Employment rate</td>\n      <td>2012</td>\n      <td>78.7</td>\n    </tr>\n  </tbody>\n</table>\n</div>"
     },
     "metadata": {},
     "execution_count": 8
    }
   ],
   "source": [
    "\n",
    "inc_api.pivot(index='municipality', columns='year', values='INDHOLD')\n",
    "inc_api.head(10)\n",
    "#inc_api.pivot skulle gerne bytte om, så year kommer øverst. Dette virker i jupyter lab - kan ikke se hvorfor det ikke virker her."
   ]
  },
  {
   "cell_type": "code",
   "execution_count": 16,
   "metadata": {},
   "outputs": [
    {
     "output_type": "stream",
     "name": "stdout",
     "text": "id      text  elimination   time                      map  \\\n0    OMRÅDE    region         True  False  denmark_municipality_07   \n1       KØN       sex         True  False                      NaN   \n2     ALDER       age         True  False                      NaN   \n3  HERKOMST  ancestry         True  False                      NaN   \n4       Tid      time        False   True                      NaN   \n\n                                              values  \n0  [{'id': '000', 'text': 'All Denmark'}, {'id': ...  \n1  [{'id': 'TOT', 'text': 'Total'}, {'id': '1', '...  \n2  [{'id': 'IALT', 'text': 'Total'}, {'id': '0', ...  \n3  [{'id': 'TOT', 'text': 'Total'}, {'id': '1', '...  \n4  [{'id': '2008K1', 'text': '2008Q1'}, {'id': '2...  \n[{'id': 'TOT', 'text': 'Total'}, {'id': '1', 'text': 'Persons of Danish origin'}, {'id': '24', 'text': 'Immigrants from western countries'}, {'id': '25', 'text': 'Immigrants from non-western countries'}, {'id': '34', 'text': 'Descendants from western countries'}, {'id': '35', 'text': 'Descendants from non-western countries'}]\n      municipality  year  Immigants\n927       Aabenraa  2008       1787\n2067      Aabenraa  2009       1822\n1995      Aabenraa  2010       1817\n2522      Aabenraa  2011       1887\n2896      Aabenraa  2012       1906\n...            ...   ...        ...\n4159           Ærø  2016        123\n22231          Ærø  2017        145\n25744          Ærø  2018        153\n26014          Ærø  2019        151\n29574          Ærø  2020        152\n\n[1365 rows x 3 columns]\n"
    }
   ],
   "source": [
    "dst.get_subjects()\n",
    "dst.get_tables(subjects=['14']).sample(10)\n",
    "dst.get_data(table_id = 'FOLK1E').head(10)\n",
    "\n",
    "indk_vars = dst.get_variables(table_id='FOLK1E')\n",
    "indk_vars\n",
    "\n",
    "# Value of interest 'id': '25', 'text': 'Immigrants from non-western countries'\n",
    "#print(indk_vars)\n",
    "#print(indk_vars['values'][3][:10]) \n",
    "\n",
    "inv_api = dst.get_data(table_id = 'FOLK1E', variables={'OMRÅDE':['*'],'HERKOMST':{'*'}, 'TID':['*']})\n",
    "\n",
    "del inv_api['ALDER']\n",
    "\n",
    "del inv_api['KØN']\n",
    "\n",
    "for val in ['Immigrants from non-western countries']: \n",
    "    I = inv_api.HERKOMST.str.contains(val)\n",
    "    inv_api = inv_api.loc[I == True] # Delete everything else\n",
    "\n",
    "for val in ['Q1']: \n",
    "    I = inv_api.TID.str.contains(val)\n",
    "    inv_api = inv_api.loc[I == True] # Delete everything else\n",
    "    inv_api.TID = inv_api.TID.str[0:4]\n",
    "\n",
    "\n",
    "del inv_api['HERKOMST']\n",
    "\n",
    "inv_api.rename(columns = {'OMRÅDE':'municipality'}, inplace=True)\n",
    "inv_api.rename(columns = {'TID':'year'}, inplace=True)\n",
    "inv_api.rename(columns = {'INDHOLD':'Immigants'}, inplace=True)\n",
    "\n",
    "inv_api = inv_api.sort_values(['municipality','year']) # sort by first municipality then year\n",
    "print(inv_api)\n"
   ]
  }
 ]
}