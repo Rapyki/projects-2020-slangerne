{
 "nbformat": 4,
 "nbformat_minor": 2,
 "metadata": {
  "language_info": {
   "name": "python",
   "codemirror_mode": {
    "name": "ipython",
    "version": 3
   },
   "version": "3.7.4-final"
  },
  "orig_nbformat": 2,
  "file_extension": ".py",
  "mimetype": "text/x-python",
  "name": "python",
  "npconvert_exporter": "python",
  "pygments_lexer": "ipython3",
  "version": 3,
  "kernelspec": {
   "name": "python3",
   "display_name": "Python 3"
  }
 },
 "cells": [
  {
   "cell_type": "code",
   "execution_count": 15,
   "metadata": {},
   "outputs": [],
   "source": [
    "import numpy as np\n",
    "import matplotlib.pyplot as plt\n",
    "plt.style.use('seaborn')\n",
    "import pandas as pd\n",
    "import pydst\n",
    "dst = pydst.Dst(lang='en')\n",
    "\n",
    "#virker det\n",
    "\n",
    ""
   ]
  },
  {
   "cell_type": "code",
   "execution_count": 16,
   "metadata": {},
   "outputs": [
    {
     "output_type": "stream",
     "name": "stdout",
     "text": "municipality  year  Employment Rate\n0        Aabenraa  2008             74.6\n1        Aabenraa  2009             71.6\n2        Aabenraa  2010             70.9\n3        Aabenraa  2011             70.2\n4        Aabenraa  2012             69.5\n...           ...   ...              ...\n1084          Ærø  2014             65.1\n1085          Ærø  2015             65.8\n1086          Ærø  2016             67.0\n1087          Ærø  2017             68.1\n1088          Ærø  2018             70.1\n\n[1089 rows x 3 columns]\n"
    }
   ],
   "source": [
    "#Employment Rate - af Henrik Kyndal\n",
    "\n",
    "dst.get_subjects()\n",
    "dst.get_tables(subjects=['14']).sample(10)\n",
    "dst.get_data(table_id = 'RAS200').head(10)\n",
    "\n",
    "indk_vars = dst.get_variables(table_id='RAS200')\n",
    "#print(indk_vars)\n",
    "\n",
    "#print(indk_vars['values'][0][:10])\n",
    "\n",
    "inc_api = dst.get_data(table_id = 'RAS200', variables={'OMRÅDE':['*'], 'BEREGNING':['*'], 'TID':['*']})\n",
    "#print(inc_api)\n",
    "del inc_api['ALDER']\n",
    "\n",
    "del inc_api['HERKOMST']\n",
    "\n",
    "del inc_api['KØN']\n",
    "\n",
    "inc_api.rename(columns = {'OMRÅDE':'municipality'}, inplace=True)\n",
    "\n",
    "\n",
    "inc_api.rename(columns = {'INDHOLD':'Employment Rate'}, inplace=True)\n",
    "\n",
    "myDict = {}\n",
    "for i in range(2005, 2019): # range goes from 2008 to but not including 2017\n",
    "    myDict[str(i)] = f'e{i}' \n",
    "myDict\n",
    "\n",
    "inc_api.rename(columns = myDict, inplace=True)\n",
    "inc_api.head(10)\n",
    "\n",
    "I  = inc_api.municipality.str.contains('Region')\n",
    "inc_api.loc[I, :]\n",
    "for val in ['Region', 'Province', 'All Denmark']: \n",
    "    I = inc_api.municipality.str.contains(val)\n",
    "    inc_api = inc_api.loc[I == False] # keep everything else\n",
    "    \n",
    "inc_api.rename(columns = {'TID':'year'}, inplace=True)\n",
    "\n",
    "I  = inc_api.BEREGNING.str.contains('Region')\n",
    "\n",
    "for val in ['Economic activity rate']: \n",
    "    I = inc_api.BEREGNING.str.contains(val)\n",
    "    inc_api = inc_api.loc[I == False] # keep everything else\n",
    "\n",
    "del inc_api['BEREGNING']\n",
    "\n",
    "inc_api = inc_api.sort_values(['municipality','year']) # sort by first municipality then year\n",
    "inc_api.reset_index(drop=True, inplace=True)\n",
    "print(inc_api) "
   ]
  },
  {
   "cell_type": "code",
   "execution_count": 8,
   "metadata": {},
   "outputs": [
    {
     "output_type": "execute_result",
     "data": {
      "text/plain": "   municipality  year  Employment Rate\n0      Aabenraa  2008             74.6\n1      Aabenraa  2009             71.6\n2      Aabenraa  2010             70.9\n3      Aabenraa  2011             70.2\n4      Aabenraa  2012             69.5\n5      Aabenraa  2013             69.4\n6      Aabenraa  2014             70.1\n7      Aabenraa  2015             70.7\n8      Aabenraa  2016             72.0\n9      Aabenraa  2017             72.9\n10     Aabenraa  2018             74.0",
      "text/html": "<div>\n<style scoped>\n    .dataframe tbody tr th:only-of-type {\n        vertical-align: middle;\n    }\n\n    .dataframe tbody tr th {\n        vertical-align: top;\n    }\n\n    .dataframe thead th {\n        text-align: right;\n    }\n</style>\n<table border=\"1\" class=\"dataframe\">\n  <thead>\n    <tr style=\"text-align: right;\">\n      <th></th>\n      <th>municipality</th>\n      <th>year</th>\n      <th>Employment Rate</th>\n    </tr>\n  </thead>\n  <tbody>\n    <tr>\n      <td>0</td>\n      <td>Aabenraa</td>\n      <td>2008</td>\n      <td>74.6</td>\n    </tr>\n    <tr>\n      <td>1</td>\n      <td>Aabenraa</td>\n      <td>2009</td>\n      <td>71.6</td>\n    </tr>\n    <tr>\n      <td>2</td>\n      <td>Aabenraa</td>\n      <td>2010</td>\n      <td>70.9</td>\n    </tr>\n    <tr>\n      <td>3</td>\n      <td>Aabenraa</td>\n      <td>2011</td>\n      <td>70.2</td>\n    </tr>\n    <tr>\n      <td>4</td>\n      <td>Aabenraa</td>\n      <td>2012</td>\n      <td>69.5</td>\n    </tr>\n    <tr>\n      <td>5</td>\n      <td>Aabenraa</td>\n      <td>2013</td>\n      <td>69.4</td>\n    </tr>\n    <tr>\n      <td>6</td>\n      <td>Aabenraa</td>\n      <td>2014</td>\n      <td>70.1</td>\n    </tr>\n    <tr>\n      <td>7</td>\n      <td>Aabenraa</td>\n      <td>2015</td>\n      <td>70.7</td>\n    </tr>\n    <tr>\n      <td>8</td>\n      <td>Aabenraa</td>\n      <td>2016</td>\n      <td>72.0</td>\n    </tr>\n    <tr>\n      <td>9</td>\n      <td>Aabenraa</td>\n      <td>2017</td>\n      <td>72.9</td>\n    </tr>\n    <tr>\n      <td>10</td>\n      <td>Aabenraa</td>\n      <td>2018</td>\n      <td>74.0</td>\n    </tr>\n  </tbody>\n</table>\n</div>"
     },
     "metadata": {},
     "execution_count": 8
    }
   ],
   "source": [
    "\n",
    "inc_api.pivot(index='municipality', columns='year', values='Employment Rate')\n",
    "inc_api.head(11)\n",
    "#inc_api.pivot skulle gerne bytte om, så year kommer øverst. Dette virker i jupyter lab - kan ikke se hvorfor det ikke virker her."
   ]
  },
  {
   "cell_type": "code",
   "execution_count": 31,
   "metadata": {},
   "outputs": [
    {
     "output_type": "error",
     "ename": "AttributeError",
     "evalue": "Can only use .str accessor with string values!",
     "traceback": [
      "\u001b[0;31m---------------------------------------------------------------------------\u001b[0m",
      "\u001b[0;31mAttributeError\u001b[0m                            Traceback (most recent call last)",
      "\u001b[0;32m<ipython-input-31-940fc034ae2a>\u001b[0m in \u001b[0;36m<module>\u001b[0;34m\u001b[0m\n\u001b[1;32m     29\u001b[0m \u001b[0;34m\u001b[0m\u001b[0m\n\u001b[1;32m     30\u001b[0m \u001b[0;32mfor\u001b[0m \u001b[0mval\u001b[0m \u001b[0;32min\u001b[0m \u001b[0;34m[\u001b[0m\u001b[0;34m'2020'\u001b[0m\u001b[0;34m]\u001b[0m\u001b[0;34m:\u001b[0m\u001b[0;34m\u001b[0m\u001b[0;34m\u001b[0m\u001b[0m\n\u001b[0;32m---> 31\u001b[0;31m     \u001b[0mI\u001b[0m \u001b[0;34m=\u001b[0m \u001b[0muheld_1\u001b[0m\u001b[0;34m.\u001b[0m\u001b[0myear\u001b[0m\u001b[0;34m.\u001b[0m\u001b[0mstr\u001b[0m\u001b[0;34m.\u001b[0m\u001b[0mcontains\u001b[0m\u001b[0;34m(\u001b[0m\u001b[0mval\u001b[0m\u001b[0;34m)\u001b[0m\u001b[0;34m\u001b[0m\u001b[0;34m\u001b[0m\u001b[0m\n\u001b[0m\u001b[1;32m     32\u001b[0m     \u001b[0muheld_1\u001b[0m \u001b[0;34m=\u001b[0m \u001b[0muheld_1\u001b[0m\u001b[0;34m.\u001b[0m\u001b[0mloc\u001b[0m\u001b[0;34m[\u001b[0m\u001b[0mI\u001b[0m \u001b[0;34m==\u001b[0m \u001b[0;32mFalse\u001b[0m\u001b[0;34m]\u001b[0m\u001b[0;34m\u001b[0m\u001b[0;34m\u001b[0m\u001b[0m\n\u001b[1;32m     33\u001b[0m \u001b[0;34m\u001b[0m\u001b[0m\n",
      "\u001b[0;32m~/opt/anaconda3/lib/python3.7/site-packages/pandas/core/generic.py\u001b[0m in \u001b[0;36m__getattr__\u001b[0;34m(self, name)\u001b[0m\n\u001b[1;32m   5173\u001b[0m             \u001b[0;32mor\u001b[0m \u001b[0mname\u001b[0m \u001b[0;32min\u001b[0m \u001b[0mself\u001b[0m\u001b[0;34m.\u001b[0m\u001b[0m_accessors\u001b[0m\u001b[0;34m\u001b[0m\u001b[0;34m\u001b[0m\u001b[0m\n\u001b[1;32m   5174\u001b[0m         ):\n\u001b[0;32m-> 5175\u001b[0;31m             \u001b[0;32mreturn\u001b[0m \u001b[0mobject\u001b[0m\u001b[0;34m.\u001b[0m\u001b[0m__getattribute__\u001b[0m\u001b[0;34m(\u001b[0m\u001b[0mself\u001b[0m\u001b[0;34m,\u001b[0m \u001b[0mname\u001b[0m\u001b[0;34m)\u001b[0m\u001b[0;34m\u001b[0m\u001b[0;34m\u001b[0m\u001b[0m\n\u001b[0m\u001b[1;32m   5176\u001b[0m         \u001b[0;32melse\u001b[0m\u001b[0;34m:\u001b[0m\u001b[0;34m\u001b[0m\u001b[0;34m\u001b[0m\u001b[0m\n\u001b[1;32m   5177\u001b[0m             \u001b[0;32mif\u001b[0m \u001b[0mself\u001b[0m\u001b[0;34m.\u001b[0m\u001b[0m_info_axis\u001b[0m\u001b[0;34m.\u001b[0m\u001b[0m_can_hold_identifiers_and_holds_name\u001b[0m\u001b[0;34m(\u001b[0m\u001b[0mname\u001b[0m\u001b[0;34m)\u001b[0m\u001b[0;34m:\u001b[0m\u001b[0;34m\u001b[0m\u001b[0;34m\u001b[0m\u001b[0m\n",
      "\u001b[0;32m~/opt/anaconda3/lib/python3.7/site-packages/pandas/core/accessor.py\u001b[0m in \u001b[0;36m__get__\u001b[0;34m(self, obj, cls)\u001b[0m\n\u001b[1;32m    173\u001b[0m             \u001b[0;31m# we're accessing the attribute of the class, i.e., Dataset.geo\u001b[0m\u001b[0;34m\u001b[0m\u001b[0;34m\u001b[0m\u001b[0;34m\u001b[0m\u001b[0m\n\u001b[1;32m    174\u001b[0m             \u001b[0;32mreturn\u001b[0m \u001b[0mself\u001b[0m\u001b[0;34m.\u001b[0m\u001b[0m_accessor\u001b[0m\u001b[0;34m\u001b[0m\u001b[0;34m\u001b[0m\u001b[0m\n\u001b[0;32m--> 175\u001b[0;31m         \u001b[0maccessor_obj\u001b[0m \u001b[0;34m=\u001b[0m \u001b[0mself\u001b[0m\u001b[0;34m.\u001b[0m\u001b[0m_accessor\u001b[0m\u001b[0;34m(\u001b[0m\u001b[0mobj\u001b[0m\u001b[0;34m)\u001b[0m\u001b[0;34m\u001b[0m\u001b[0;34m\u001b[0m\u001b[0m\n\u001b[0m\u001b[1;32m    176\u001b[0m         \u001b[0;31m# Replace the property with the accessor object. Inspired by:\u001b[0m\u001b[0;34m\u001b[0m\u001b[0;34m\u001b[0m\u001b[0;34m\u001b[0m\u001b[0m\n\u001b[1;32m    177\u001b[0m         \u001b[0;31m# http://www.pydanny.com/cached-property.html\u001b[0m\u001b[0;34m\u001b[0m\u001b[0;34m\u001b[0m\u001b[0;34m\u001b[0m\u001b[0m\n",
      "\u001b[0;32m~/opt/anaconda3/lib/python3.7/site-packages/pandas/core/strings.py\u001b[0m in \u001b[0;36m__init__\u001b[0;34m(self, data)\u001b[0m\n\u001b[1;32m   1915\u001b[0m \u001b[0;34m\u001b[0m\u001b[0m\n\u001b[1;32m   1916\u001b[0m     \u001b[0;32mdef\u001b[0m \u001b[0m__init__\u001b[0m\u001b[0;34m(\u001b[0m\u001b[0mself\u001b[0m\u001b[0;34m,\u001b[0m \u001b[0mdata\u001b[0m\u001b[0;34m)\u001b[0m\u001b[0;34m:\u001b[0m\u001b[0;34m\u001b[0m\u001b[0;34m\u001b[0m\u001b[0m\n\u001b[0;32m-> 1917\u001b[0;31m         \u001b[0mself\u001b[0m\u001b[0;34m.\u001b[0m\u001b[0m_inferred_dtype\u001b[0m \u001b[0;34m=\u001b[0m \u001b[0mself\u001b[0m\u001b[0;34m.\u001b[0m\u001b[0m_validate\u001b[0m\u001b[0;34m(\u001b[0m\u001b[0mdata\u001b[0m\u001b[0;34m)\u001b[0m\u001b[0;34m\u001b[0m\u001b[0;34m\u001b[0m\u001b[0m\n\u001b[0m\u001b[1;32m   1918\u001b[0m         \u001b[0mself\u001b[0m\u001b[0;34m.\u001b[0m\u001b[0m_is_categorical\u001b[0m \u001b[0;34m=\u001b[0m \u001b[0mis_categorical_dtype\u001b[0m\u001b[0;34m(\u001b[0m\u001b[0mdata\u001b[0m\u001b[0;34m)\u001b[0m\u001b[0;34m\u001b[0m\u001b[0;34m\u001b[0m\u001b[0m\n\u001b[1;32m   1919\u001b[0m \u001b[0;34m\u001b[0m\u001b[0m\n",
      "\u001b[0;32m~/opt/anaconda3/lib/python3.7/site-packages/pandas/core/strings.py\u001b[0m in \u001b[0;36m_validate\u001b[0;34m(data)\u001b[0m\n\u001b[1;32m   1965\u001b[0m \u001b[0;34m\u001b[0m\u001b[0m\n\u001b[1;32m   1966\u001b[0m         \u001b[0;32mif\u001b[0m \u001b[0minferred_dtype\u001b[0m \u001b[0;32mnot\u001b[0m \u001b[0;32min\u001b[0m \u001b[0mallowed_types\u001b[0m\u001b[0;34m:\u001b[0m\u001b[0;34m\u001b[0m\u001b[0;34m\u001b[0m\u001b[0m\n\u001b[0;32m-> 1967\u001b[0;31m             \u001b[0;32mraise\u001b[0m \u001b[0mAttributeError\u001b[0m\u001b[0;34m(\u001b[0m\u001b[0;34m\"Can only use .str accessor with string \"\u001b[0m \u001b[0;34m\"values!\"\u001b[0m\u001b[0;34m)\u001b[0m\u001b[0;34m\u001b[0m\u001b[0;34m\u001b[0m\u001b[0m\n\u001b[0m\u001b[1;32m   1968\u001b[0m         \u001b[0;32mreturn\u001b[0m \u001b[0minferred_dtype\u001b[0m\u001b[0;34m\u001b[0m\u001b[0;34m\u001b[0m\u001b[0m\n\u001b[1;32m   1969\u001b[0m \u001b[0;34m\u001b[0m\u001b[0m\n",
      "\u001b[0;31mAttributeError\u001b[0m: Can only use .str accessor with string values!"
     ]
    }
   ],
   "source": [
    "#UHELD - af Henrik Kyndal\n",
    "\n",
    "dst.get_subjects()\n",
    "dst.get_tables(subjects=['14']).sample(10)\n",
    "dst.get_data(table_id = 'UHELDK7').head(10)\n",
    "\n",
    "uheld_vars = dst.get_variables(table_id='UHELDK7')\n",
    "\n",
    "uheld_1 = dst.get_data(table_id = 'UHELDK7', variables={'OMRÅDE':['*'], 'UHELDA':['*'], 'TID':['*']})\n",
    "\n",
    "\n",
    "\n",
    "\n",
    "del uheld_1['BYLAND']\n",
    "\n",
    "del uheld_1['UHELDSIT']\n",
    "\n",
    "uheld_1.rename(columns = {'OMRÅDE':'municipality', 'TID': 'year'}, inplace=True)\n",
    "\n",
    "I  = uheld_1.municipality.str.contains('Region')\n",
    "uheld_1.loc[I, :]\n",
    "\n",
    "for val in ['Region', 'Province', 'All Denmark']: \n",
    "    I = uheld_1.municipality.str.contains(val)\n",
    "    uheld_1 = uheld_1.loc[I == False] # keep everything else\n",
    "\n",
    "\n",
    "I  = uheld_1.UHELDA.str.contains('All accidents')\n",
    "for val in ['Other', 'involving']: \n",
    "    I = uheld_1.UHELDA.str.contains(val)\n",
    "    uheld_1 = uheld_1.loc[I == False] # keep everything else\n",
    "\n",
    "for val in ['2020']:\n",
    "    I = uheld_1.year.str.contains(val)\n",
    "    uheld_1 = uheld_1.loc[I == False]\n",
    "\n",
    "\n",
    "\n",
    "\n",
    "uheld_2 = uheld_1.sort_values(['municipality','year']) # sort by first municipality then year\n",
    "\n",
    "uheld_2.rename(columns = {'INDHOLD':'Number of accidents'}, inplace=True)\n",
    "\n",
    "uheld_2.reset_index(drop=True, inplace=True)\n",
    "\n",
    "\n",
    "\n",
    "del uheld_2['UHELDA']\n",
    "\n",
    "print(uheld_2)\n",
    "\n",
    "\n"
   ]
  },
  {
   "cell_type": "code",
   "execution_count": 32,
   "metadata": {},
   "outputs": [
    {
     "output_type": "stream",
     "name": "stdout",
     "text": "municipality  year  population\n0        Aabenraa  2008       60189\n1        Aabenraa  2009       60392\n2        Aabenraa  2010       59978\n3        Aabenraa  2011       59795\n4        Aabenraa  2012       59600\n...           ...   ...         ...\n1084          Ærø  2014        6393\n1085          Ærø  2015        6276\n1086          Ærø  2016        6290\n1087          Ærø  2017        6177\n1088          Ærø  2018        6178\n\n[1089 rows x 3 columns]\n"
    }
   ],
   "source": [
    "#Population - by Bjørn Bremholm\n",
    "dst.get_subjects()\n",
    "\n",
    "dst.get_tables(subjects=['02']).head(10)\n",
    "dst.get_data(table_id = 'FOLK1A').head(10)\n",
    "\n",
    "variables = {'OMRÅDE':['*'],'Tid':['*']}\n",
    "folk_api = dst.get_data(table_id = 'FOLK1A', variables=variables)\n",
    "folk_api.head(10)\n",
    "\n",
    "del folk_api['ALDER']\n",
    "del folk_api['CIVILSTAND']\n",
    "del folk_api['KØN']\n",
    "folk_api.rename(columns = {'OMRÅDE':'municipality'}, inplace=True)\n",
    "folk_api.rename(columns = {'INDHOLD':'population'}, inplace=True)\n",
    "#folk_api.rename(columns = {'KØN':'gender'}, inplace=True)\n",
    "folk_api.rename(columns = {'TID':'year'}, inplace=True)\n",
    "folk_api.head(5)\n",
    "\n",
    "folk = folk_api.sort_values(['municipality','year']) # sort by first municipality then year\n",
    "\n",
    "#I  = folk.municipality.str.contains('Region')\n",
    "#folk.loc[I, :]\n",
    "for val in ['Region', 'Province', 'All Denmark']: \n",
    "    I = folk.municipality.str.contains(val)\n",
    "    folk = folk.loc[I == False] # keep everything else\n",
    "\n",
    "#U  = folk.year.str.contains('Q1')\n",
    "#folk.loc[U, :]\n",
    "for val in ['Q1']: \n",
    "    U = folk.year.str.contains(val)\n",
    "    folk = folk.loc[U == True] # keep only that one\n",
    "    folk.year = folk.year.str[0:4]\n",
    "\n",
    "#U  = folk.year.str.contains('2019','2020')\n",
    "#folk.loc[U, :]\n",
    "for val in ['2019','2020']: \n",
    "    U = folk.year.str.contains(val)\n",
    "    folk = folk.loc[U == False] # keep everything else\n",
    "\n",
    "folk.reset_index(drop=True, inplace=True)\n",
    "print(folk)"
   ]
  },
  {
   "cell_type": "code",
   "execution_count": 6,
   "metadata": {},
   "outputs": [
    {
     "output_type": "stream",
     "name": "stdout",
     "text": "municipality  year  Immigants\n0        Aabenraa  2008       1787\n1        Aabenraa  2009       1822\n2        Aabenraa  2010       1817\n3        Aabenraa  2011       1887\n4        Aabenraa  2012       1906\n...           ...   ...        ...\n1084          Ærø  2014        104\n1085          Ærø  2015        103\n1086          Ærø  2016        123\n1087          Ærø  2017        145\n1088          Ærø  2018        153\n\n[1089 rows x 3 columns]\n"
    }
   ],
   "source": [
    "#Immigants\n",
    "\n",
    "dst.get_subjects()\n",
    "dst.get_tables(subjects=['14']).sample(10)\n",
    "dst.get_data(table_id = 'FOLK1E').head(10)\n",
    "\n",
    "indk_vars = dst.get_variables(table_id='FOLK1E')\n",
    "\n",
    "\n",
    "# Value of interest 'id': '25', 'text': 'Immigrants from non-western countries'\n",
    "#print(indk_vars)\n",
    "\n",
    "#print(indk_vars['values'][0][:10]) \n",
    "\n",
    "\n",
    "\n",
    "inv_api = dst.get_data(table_id = 'FOLK1E', variables={'OMRÅDE':['*'],'HERKOMST':{'*'}, 'TID':['*']})\n",
    "\n",
    "del inv_api['ALDER']\n",
    "\n",
    "del inv_api['KØN']\n",
    "\n",
    "for val in ['Immigrants from non-western countries']: \n",
    "    I = inv_api.HERKOMST.str.contains(val)\n",
    "    inv_api = inv_api.loc[I == True] # Delete everything else\n",
    "\n",
    "for val in ['Q1']: \n",
    "    I = inv_api.TID.str.contains(val)\n",
    "    inv_api = inv_api.loc[I == True] # Delete everything else\n",
    "    inv_api.TID = inv_api.TID.str[0:4]\n",
    "\n",
    "for val in ['2020', '2019']:\n",
    "    I = inv_api.TID.str.contains(val)\n",
    "    inv_api = inv_api.loc[I==False]\n",
    "\n",
    "del inv_api['HERKOMST']\n",
    "\n",
    "inv_api.rename(columns = {'OMRÅDE':'municipality'}, inplace=True)\n",
    "inv_api.rename(columns = {'TID':'year'}, inplace=True)\n",
    "inv_api.rename(columns = {'INDHOLD':'Immigants'}, inplace=True)\n",
    "\n",
    "for val in ['Region', 'Province', 'All Denmark']: \n",
    "    I = inv_api.municipality.str.contains(val)\n",
    "    inv_api = inv_api.loc[I == False] # keep everything else\n",
    "\n",
    "inv_api = inv_api.sort_values(['municipality','year']) # sort by first municipality then year\n",
    "\n",
    "inv_api.reset_index(drop=True, inplace=True)\n",
    "\n",
    "print(inv_api)\n"
   ]
  },
  {
   "cell_type": "code",
   "execution_count": 9,
   "metadata": {},
   "outputs": [
    {
     "output_type": "execute_result",
     "data": {
      "text/plain": "   municipality  year  Immigants\n0      Aabenraa  2008       1787\n1      Aabenraa  2009       1822\n2      Aabenraa  2010       1817\n3      Aabenraa  2011       1887\n4      Aabenraa  2012       1906\n5      Aabenraa  2013       1975\n6      Aabenraa  2014       2059\n7      Aabenraa  2015       2146\n8      Aabenraa  2016       2406\n9      Aabenraa  2017       2582\n10     Aabenraa  2018       2625",
      "text/html": "<div>\n<style scoped>\n    .dataframe tbody tr th:only-of-type {\n        vertical-align: middle;\n    }\n\n    .dataframe tbody tr th {\n        vertical-align: top;\n    }\n\n    .dataframe thead th {\n        text-align: right;\n    }\n</style>\n<table border=\"1\" class=\"dataframe\">\n  <thead>\n    <tr style=\"text-align: right;\">\n      <th></th>\n      <th>municipality</th>\n      <th>year</th>\n      <th>Immigants</th>\n    </tr>\n  </thead>\n  <tbody>\n    <tr>\n      <td>0</td>\n      <td>Aabenraa</td>\n      <td>2008</td>\n      <td>1787</td>\n    </tr>\n    <tr>\n      <td>1</td>\n      <td>Aabenraa</td>\n      <td>2009</td>\n      <td>1822</td>\n    </tr>\n    <tr>\n      <td>2</td>\n      <td>Aabenraa</td>\n      <td>2010</td>\n      <td>1817</td>\n    </tr>\n    <tr>\n      <td>3</td>\n      <td>Aabenraa</td>\n      <td>2011</td>\n      <td>1887</td>\n    </tr>\n    <tr>\n      <td>4</td>\n      <td>Aabenraa</td>\n      <td>2012</td>\n      <td>1906</td>\n    </tr>\n    <tr>\n      <td>5</td>\n      <td>Aabenraa</td>\n      <td>2013</td>\n      <td>1975</td>\n    </tr>\n    <tr>\n      <td>6</td>\n      <td>Aabenraa</td>\n      <td>2014</td>\n      <td>2059</td>\n    </tr>\n    <tr>\n      <td>7</td>\n      <td>Aabenraa</td>\n      <td>2015</td>\n      <td>2146</td>\n    </tr>\n    <tr>\n      <td>8</td>\n      <td>Aabenraa</td>\n      <td>2016</td>\n      <td>2406</td>\n    </tr>\n    <tr>\n      <td>9</td>\n      <td>Aabenraa</td>\n      <td>2017</td>\n      <td>2582</td>\n    </tr>\n    <tr>\n      <td>10</td>\n      <td>Aabenraa</td>\n      <td>2018</td>\n      <td>2625</td>\n    </tr>\n  </tbody>\n</table>\n</div>"
     },
     "metadata": {},
     "execution_count": 9
    }
   ],
   "source": [
    "inv_api.pivot(index='municipality', columns='year', values='Immigants')\n",
    "inv_api.head(11)"
   ]
  },
  {
   "cell_type": "code",
   "execution_count": 35,
   "metadata": {},
   "outputs": [
    {
     "output_type": "stream",
     "name": "stdout",
     "text": "municipality  year  Employment Rate  Immigants  population  \\\n0        Aabenraa  2008             74.6       1787       60189   \n1        Aabenraa  2009             71.6       1822       60392   \n2        Aabenraa  2010             70.9       1817       59978   \n3        Aabenraa  2011             70.2       1887       59795   \n4        Aabenraa  2012             69.5       1906       59600   \n...           ...   ...              ...        ...         ...   \n1084          Ærø  2014             65.1        104        6393   \n1085          Ærø  2015             65.8        103        6276   \n1086          Ærø  2016             67.0        123        6290   \n1087          Ærø  2017             68.1        145        6177   \n1088          Ærø  2018             70.1        153        6178   \n\n      Immigrant Ratio  \n0            0.029690  \n1            0.030170  \n2            0.030294  \n3            0.031558  \n4            0.031980  \n...               ...  \n1084         0.016268  \n1085         0.016412  \n1086         0.019555  \n1087         0.023474  \n1088         0.024765  \n\n[1089 rows x 6 columns]\n"
    }
   ],
   "source": [
    "#MERGE\n",
    "Tabel1 = inc_api\n",
    "\n",
    "Tabel1 = Tabel1.join([inv_api['Immigants'],folk['population']])\n",
    "ImmigantRatio = Tabel1['Immigants']/Tabel1['population']\n",
    "Tabel1['Immigrant Ratio']=ImmigantRatio\n",
    "\n",
    "Tabel1\n",
    "print(Tabel1)\n",
    "\n",
    "\n",
    "\n"
   ]
  },
  {
   "cell_type": "code",
   "execution_count": 86,
   "metadata": {},
   "outputs": [
    {
     "output_type": "execute_result",
     "data": {
      "text/plain": "   municipality  year  Employment Rate  Immigants  population  Immigrant Ratio\n11      Aalborg  2008             73.2       6893      195145         0.035322\n12      Aalborg  2009             70.1       7009      196292         0.035707\n13      Aalborg  2010             69.7       7229      197426         0.036616\n14      Aalborg  2011             69.2       7419      199188         0.037246\n15      Aalborg  2012             68.6       7592      201142         0.037744\n16      Aalborg  2013             67.9       7766      203448         0.038172\n17      Aalborg  2014             68.0       7944      205809         0.038599\n18      Aalborg  2015             68.5       8203      207805         0.039475\n19      Aalborg  2016             69.5       9084      210316         0.043192\n20      Aalborg  2017             69.9       9755      211937         0.046028\n21      Aalborg  2018             71.0      10326      213558         0.048352",
      "text/html": "<div>\n<style scoped>\n    .dataframe tbody tr th:only-of-type {\n        vertical-align: middle;\n    }\n\n    .dataframe tbody tr th {\n        vertical-align: top;\n    }\n\n    .dataframe thead th {\n        text-align: right;\n    }\n</style>\n<table border=\"1\" class=\"dataframe\">\n  <thead>\n    <tr style=\"text-align: right;\">\n      <th></th>\n      <th>municipality</th>\n      <th>year</th>\n      <th>Employment Rate</th>\n      <th>Immigants</th>\n      <th>population</th>\n      <th>Immigrant Ratio</th>\n    </tr>\n  </thead>\n  <tbody>\n    <tr>\n      <td>11</td>\n      <td>Aalborg</td>\n      <td>2008</td>\n      <td>73.2</td>\n      <td>6893</td>\n      <td>195145</td>\n      <td>0.035322</td>\n    </tr>\n    <tr>\n      <td>12</td>\n      <td>Aalborg</td>\n      <td>2009</td>\n      <td>70.1</td>\n      <td>7009</td>\n      <td>196292</td>\n      <td>0.035707</td>\n    </tr>\n    <tr>\n      <td>13</td>\n      <td>Aalborg</td>\n      <td>2010</td>\n      <td>69.7</td>\n      <td>7229</td>\n      <td>197426</td>\n      <td>0.036616</td>\n    </tr>\n    <tr>\n      <td>14</td>\n      <td>Aalborg</td>\n      <td>2011</td>\n      <td>69.2</td>\n      <td>7419</td>\n      <td>199188</td>\n      <td>0.037246</td>\n    </tr>\n    <tr>\n      <td>15</td>\n      <td>Aalborg</td>\n      <td>2012</td>\n      <td>68.6</td>\n      <td>7592</td>\n      <td>201142</td>\n      <td>0.037744</td>\n    </tr>\n    <tr>\n      <td>16</td>\n      <td>Aalborg</td>\n      <td>2013</td>\n      <td>67.9</td>\n      <td>7766</td>\n      <td>203448</td>\n      <td>0.038172</td>\n    </tr>\n    <tr>\n      <td>17</td>\n      <td>Aalborg</td>\n      <td>2014</td>\n      <td>68.0</td>\n      <td>7944</td>\n      <td>205809</td>\n      <td>0.038599</td>\n    </tr>\n    <tr>\n      <td>18</td>\n      <td>Aalborg</td>\n      <td>2015</td>\n      <td>68.5</td>\n      <td>8203</td>\n      <td>207805</td>\n      <td>0.039475</td>\n    </tr>\n    <tr>\n      <td>19</td>\n      <td>Aalborg</td>\n      <td>2016</td>\n      <td>69.5</td>\n      <td>9084</td>\n      <td>210316</td>\n      <td>0.043192</td>\n    </tr>\n    <tr>\n      <td>20</td>\n      <td>Aalborg</td>\n      <td>2017</td>\n      <td>69.9</td>\n      <td>9755</td>\n      <td>211937</td>\n      <td>0.046028</td>\n    </tr>\n    <tr>\n      <td>21</td>\n      <td>Aalborg</td>\n      <td>2018</td>\n      <td>71.0</td>\n      <td>10326</td>\n      <td>213558</td>\n      <td>0.048352</td>\n    </tr>\n  </tbody>\n</table>\n</div>"
     },
     "metadata": {},
     "execution_count": 86
    }
   ],
   "source": [
    "Tabel1.pivot(index='municipality', columns='year', values='Immigants')\n",
    "\n",
    "Munici = 'Aalborg'\n",
    "Tabel1.loc[Tabel1['municipality'] == Munici]\n",
    ""
   ]
  }
 ]
}