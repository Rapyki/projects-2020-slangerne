{
 "nbformat": 4,
 "nbformat_minor": 2,
 "metadata": {
  "language_info": {
   "name": "python",
   "codemirror_mode": {
    "name": "ipython",
    "version": 3
   },
   "version": "3.7.4-final"
  },
  "orig_nbformat": 2,
  "file_extension": ".py",
  "mimetype": "text/x-python",
  "name": "python",
  "npconvert_exporter": "python",
  "pygments_lexer": "ipython3",
  "version": 3,
  "kernelspec": {
   "name": "python3",
   "display_name": "Python 3"
  }
 },
 "cells": [
  {
   "cell_type": "code",
   "execution_count": 23,
   "metadata": {},
   "outputs": [
    {
     "output_type": "stream",
     "name": "stdout",
     "text": "municipality  year  Employment Rate\n0        Aabenraa  2008             74.6\n1        Aabenraa  2009             71.6\n2        Aabenraa  2010             70.9\n3        Aabenraa  2011             70.2\n4        Aabenraa  2012             69.5\n...           ...   ...              ...\n1084          Ærø  2014             65.1\n1085          Ærø  2015             65.8\n1086          Ærø  2016             67.0\n1087          Ærø  2017             68.1\n1088          Ærø  2018             70.1\n\n[1089 rows x 3 columns]\n"
    }
   ],
   "source": [
    "import numpy as np\n",
    "import matplotlib.pyplot as plt\n",
    "plt.style.use('seaborn')\n",
    "import pandas as pd\n",
    "import pydst\n",
    "dst = pydst.Dst(lang='en')\n",
    "\n",
    "#virker det\n",
    "\n",
    "dst.get_subjects()\n",
    "dst.get_tables(subjects=['14']).sample(10)\n",
    "dst.get_data(table_id = 'RAS200').head(10)\n",
    "\n",
    "indk_vars = dst.get_variables(table_id='RAS200')\n",
    "#print(indk_vars)\n",
    "\n",
    "#print(indk_vars['values'][0][:10])\n",
    "\n",
    "inc_api = dst.get_data(table_id = 'RAS200', variables={'OMRÅDE':['*'], 'BEREGNING':['*'], 'TID':['*']})\n",
    "#print(inc_api)\n",
    "del inc_api['ALDER']\n",
    "\n",
    "del inc_api['HERKOMST']\n",
    "\n",
    "del inc_api['KØN']\n",
    "\n",
    "inc_api.rename(columns = {'OMRÅDE':'municipality'}, inplace=True)\n",
    "\n",
    "\n",
    "inc_api.rename(columns = {'INDHOLD':'Employment Rate'}, inplace=True)\n",
    "\n",
    "myDict = {}\n",
    "for i in range(2005, 2019): # range goes from 2008 to but not including 2017\n",
    "    myDict[str(i)] = f'e{i}' \n",
    "myDict\n",
    "\n",
    "inc_api.rename(columns = myDict, inplace=True)\n",
    "inc_api.head(10)\n",
    "\n",
    "I  = inc_api.municipality.str.contains('Region')\n",
    "inc_api.loc[I, :]\n",
    "for val in ['Region', 'Province', 'All Denmark']: \n",
    "    I = inc_api.municipality.str.contains(val)\n",
    "    inc_api = inc_api.loc[I == False] # keep everything else\n",
    "    \n",
    "inc_api.rename(columns = {'TID':'year'}, inplace=True)\n",
    "\n",
    "I  = inc_api.BEREGNING.str.contains('Region')\n",
    "\n",
    "for val in ['Economic activity rate']: \n",
    "    I = inc_api.BEREGNING.str.contains(val)\n",
    "    inc_api = inc_api.loc[I == False] # keep everything else\n",
    "\n",
    "del inc_api['BEREGNING']\n",
    "\n",
    "inc_api = inc_api.sort_values(['municipality','year']) # sort by first municipality then year\n",
    "inc_api.reset_index(drop=True, inplace=True)\n",
    "print(inc_api) \n",
    ""
   ]
  },
  {
   "cell_type": "code",
   "execution_count": 27,
   "metadata": {},
   "outputs": [
    {
     "output_type": "execute_result",
     "data": {
      "text/plain": "   municipality  year  Employment Rate\n0      Aabenraa  2008             74.6\n1      Aabenraa  2009             71.6\n2      Aabenraa  2010             70.9\n3      Aabenraa  2011             70.2\n4      Aabenraa  2012             69.5\n5      Aabenraa  2013             69.4\n6      Aabenraa  2014             70.1\n7      Aabenraa  2015             70.7\n8      Aabenraa  2016             72.0\n9      Aabenraa  2017             72.9\n10     Aabenraa  2018             74.0\n11      Aalborg  2008             73.2",
      "text/html": "<div>\n<style scoped>\n    .dataframe tbody tr th:only-of-type {\n        vertical-align: middle;\n    }\n\n    .dataframe tbody tr th {\n        vertical-align: top;\n    }\n\n    .dataframe thead th {\n        text-align: right;\n    }\n</style>\n<table border=\"1\" class=\"dataframe\">\n  <thead>\n    <tr style=\"text-align: right;\">\n      <th></th>\n      <th>municipality</th>\n      <th>year</th>\n      <th>Employment Rate</th>\n    </tr>\n  </thead>\n  <tbody>\n    <tr>\n      <td>0</td>\n      <td>Aabenraa</td>\n      <td>2008</td>\n      <td>74.6</td>\n    </tr>\n    <tr>\n      <td>1</td>\n      <td>Aabenraa</td>\n      <td>2009</td>\n      <td>71.6</td>\n    </tr>\n    <tr>\n      <td>2</td>\n      <td>Aabenraa</td>\n      <td>2010</td>\n      <td>70.9</td>\n    </tr>\n    <tr>\n      <td>3</td>\n      <td>Aabenraa</td>\n      <td>2011</td>\n      <td>70.2</td>\n    </tr>\n    <tr>\n      <td>4</td>\n      <td>Aabenraa</td>\n      <td>2012</td>\n      <td>69.5</td>\n    </tr>\n    <tr>\n      <td>5</td>\n      <td>Aabenraa</td>\n      <td>2013</td>\n      <td>69.4</td>\n    </tr>\n    <tr>\n      <td>6</td>\n      <td>Aabenraa</td>\n      <td>2014</td>\n      <td>70.1</td>\n    </tr>\n    <tr>\n      <td>7</td>\n      <td>Aabenraa</td>\n      <td>2015</td>\n      <td>70.7</td>\n    </tr>\n    <tr>\n      <td>8</td>\n      <td>Aabenraa</td>\n      <td>2016</td>\n      <td>72.0</td>\n    </tr>\n    <tr>\n      <td>9</td>\n      <td>Aabenraa</td>\n      <td>2017</td>\n      <td>72.9</td>\n    </tr>\n    <tr>\n      <td>10</td>\n      <td>Aabenraa</td>\n      <td>2018</td>\n      <td>74.0</td>\n    </tr>\n    <tr>\n      <td>11</td>\n      <td>Aalborg</td>\n      <td>2008</td>\n      <td>73.2</td>\n    </tr>\n  </tbody>\n</table>\n</div>"
     },
     "metadata": {},
     "execution_count": 27
    }
   ],
   "source": [
    "\n",
    "inc_api.pivot(index='municipality', columns='year', values='Employment Rate')\n",
    "inc_api.head(12)\n",
    "#inc_api.pivot skulle gerne bytte om, så year kommer øverst. Dette virker i jupyter lab - kan ikke se hvorfor det ikke virker her."
   ]
  },
  {
   "cell_type": "code",
   "execution_count": 30,
   "metadata": {},
   "outputs": [
    {
     "output_type": "stream",
     "name": "stdout",
     "text": "id      text  elimination   time                      map  \\\n0    OMRÅDE    region         True  False  denmark_municipality_07   \n1       KØN       sex         True  False                      NaN   \n2     ALDER       age         True  False                      NaN   \n3  HERKOMST  ancestry         True  False                      NaN   \n4       Tid      time        False   True                      NaN   \n\n                                              values  \n0  [{'id': '000', 'text': 'All Denmark'}, {'id': ...  \n1  [{'id': 'TOT', 'text': 'Total'}, {'id': '1', '...  \n2  [{'id': 'IALT', 'text': 'Total'}, {'id': '0', ...  \n3  [{'id': 'TOT', 'text': 'Total'}, {'id': '1', '...  \n4  [{'id': '2008K1', 'text': '2008Q1'}, {'id': '2...  \n"
    },
    {
     "output_type": "error",
     "ename": "NameError",
     "evalue": "name 'p' is not defined",
     "traceback": [
      "\u001b[0;31m---------------------------------------------------------------------------\u001b[0m",
      "\u001b[0;31mNameError\u001b[0m                                 Traceback (most recent call last)",
      "\u001b[0;32m<ipython-input-30-4875045b281e>\u001b[0m in \u001b[0;36m<module>\u001b[0;34m\u001b[0m\n\u001b[1;32m      9\u001b[0m \u001b[0mprint\u001b[0m\u001b[0;34m(\u001b[0m\u001b[0mindk_vars\u001b[0m\u001b[0;34m)\u001b[0m\u001b[0;34m\u001b[0m\u001b[0;34m\u001b[0m\u001b[0m\n\u001b[1;32m     10\u001b[0m \u001b[0;34m\u001b[0m\u001b[0m\n\u001b[0;32m---> 11\u001b[0;31m \u001b[0mp\u001b[0m\u001b[0;31m#rint(indk_vars['values'][0][:10])\u001b[0m\u001b[0;34m\u001b[0m\u001b[0;34m\u001b[0m\u001b[0m\n\u001b[0m\u001b[1;32m     12\u001b[0m \u001b[0;34m\u001b[0m\u001b[0m\n\u001b[1;32m     13\u001b[0m \u001b[0;34m\u001b[0m\u001b[0m\n",
      "\u001b[0;31mNameError\u001b[0m: name 'p' is not defined"
     ]
    }
   ],
   "source": [
    "dst.get_subjects()\n",
    "dst.get_tables(subjects=['14']).sample(10)\n",
    "dst.get_data(table_id = 'FOLK1E').head(10)\n",
    "\n",
    "indk_vars = dst.get_variables(table_id='FOLK1E')\n",
    "\n",
    "\n",
    "# Value of interest 'id': '25', 'text': 'Immigrants from non-western countries'\n",
    "print(indk_vars)\n",
    "\n",
    "p#rint(indk_vars['values'][0][:10]) \n",
    "\n",
    "\n",
    "\n",
    "inv_api = dst.get_data(table_id = 'FOLK1E', variables={'OMRÅDE':['*'],'HERKOMST':{'*'}, 'TID':['*']})\n",
    "\n",
    "del inv_api['ALDER']\n",
    "\n",
    "del inv_api['KØN']\n",
    "\n",
    "for val in ['Immigrants from non-western countries']: \n",
    "    I = inv_api.HERKOMST.str.contains(val)\n",
    "    inv_api = inv_api.loc[I == True] # Delete everything else\n",
    "\n",
    "for val in ['Q1']: \n",
    "    I = inv_api.TID.str.contains(val)\n",
    "    inv_api = inv_api.loc[I == True] # Delete everything else\n",
    "    inv_api.TID = inv_api.TID.str[0:4]\n",
    "\n",
    "for val in ['2020', '2019']:\n",
    "    I = inv_api.TID.str.contains(val)\n",
    "    inv_api = inv_api.loc[I==False]\n",
    "\n",
    "del inv_api['HERKOMST']\n",
    "\n",
    "inv_api.rename(columns = {'OMRÅDE':'municipality'}, inplace=True)\n",
    "inv_api.rename(columns = {'TID':'year'}, inplace=True)\n",
    "inv_api.rename(columns = {'INDHOLD':'Immigants'}, inplace=True)\n",
    "\n",
    "for val in ['Region', 'Province', 'All Denmark']: \n",
    "    I = inv_api.municipality.str.contains(val)\n",
    "    inv_api = inv_api.loc[I == False] # keep everything else\n",
    "\n",
    "inv_api = inv_api.sort_values(['municipality','year']) # sort by first municipality then year\n",
    "\n",
    "inv_api.reset_index(drop=True, inplace=True)\n",
    "\n",
    "print(inv_api)\n",
    ""
   ]
  },
  {
   "cell_type": "code",
   "execution_count": 45,
   "metadata": {},
   "outputs": [
    {
     "output_type": "execute_result",
     "data": {
      "text/plain": "   municipality  year  Immigants\n0      Aabenraa  2008       1787\n1      Aabenraa  2009       1822\n2      Aabenraa  2010       1817\n3      Aabenraa  2011       1887\n4      Aabenraa  2012       1906\n5      Aabenraa  2013       1975\n6      Aabenraa  2014       2059\n7      Aabenraa  2015       2146\n8      Aabenraa  2016       2406\n9      Aabenraa  2017       2582\n10     Aabenraa  2018       2625\n11     Aabenraa  2019       2684\n12     Aabenraa  2020       2669",
      "text/html": "<div>\n<style scoped>\n    .dataframe tbody tr th:only-of-type {\n        vertical-align: middle;\n    }\n\n    .dataframe tbody tr th {\n        vertical-align: top;\n    }\n\n    .dataframe thead th {\n        text-align: right;\n    }\n</style>\n<table border=\"1\" class=\"dataframe\">\n  <thead>\n    <tr style=\"text-align: right;\">\n      <th></th>\n      <th>municipality</th>\n      <th>year</th>\n      <th>Immigants</th>\n    </tr>\n  </thead>\n  <tbody>\n    <tr>\n      <td>0</td>\n      <td>Aabenraa</td>\n      <td>2008</td>\n      <td>1787</td>\n    </tr>\n    <tr>\n      <td>1</td>\n      <td>Aabenraa</td>\n      <td>2009</td>\n      <td>1822</td>\n    </tr>\n    <tr>\n      <td>2</td>\n      <td>Aabenraa</td>\n      <td>2010</td>\n      <td>1817</td>\n    </tr>\n    <tr>\n      <td>3</td>\n      <td>Aabenraa</td>\n      <td>2011</td>\n      <td>1887</td>\n    </tr>\n    <tr>\n      <td>4</td>\n      <td>Aabenraa</td>\n      <td>2012</td>\n      <td>1906</td>\n    </tr>\n    <tr>\n      <td>5</td>\n      <td>Aabenraa</td>\n      <td>2013</td>\n      <td>1975</td>\n    </tr>\n    <tr>\n      <td>6</td>\n      <td>Aabenraa</td>\n      <td>2014</td>\n      <td>2059</td>\n    </tr>\n    <tr>\n      <td>7</td>\n      <td>Aabenraa</td>\n      <td>2015</td>\n      <td>2146</td>\n    </tr>\n    <tr>\n      <td>8</td>\n      <td>Aabenraa</td>\n      <td>2016</td>\n      <td>2406</td>\n    </tr>\n    <tr>\n      <td>9</td>\n      <td>Aabenraa</td>\n      <td>2017</td>\n      <td>2582</td>\n    </tr>\n    <tr>\n      <td>10</td>\n      <td>Aabenraa</td>\n      <td>2018</td>\n      <td>2625</td>\n    </tr>\n    <tr>\n      <td>11</td>\n      <td>Aabenraa</td>\n      <td>2019</td>\n      <td>2684</td>\n    </tr>\n    <tr>\n      <td>12</td>\n      <td>Aabenraa</td>\n      <td>2020</td>\n      <td>2669</td>\n    </tr>\n  </tbody>\n</table>\n</div>"
     },
     "metadata": {},
     "execution_count": 45
    }
   ],
   "source": [
    "inv_api.pivot(index='municipality', columns='year', values='Immigants')\n",
    "inv_api.head(13)"
   ]
  }
 ]
}